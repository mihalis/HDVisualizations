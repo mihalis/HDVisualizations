{
 "cells": [
  {
   "cell_type": "markdown",
   "metadata": {},
   "source": [
    "# Introduction "
   ]
  },
  {
   "cell_type": "markdown",
   "metadata": {},
   "source": [
    "Data visualization is an indispensable component of data understanding and modeling regardless of dimensions. Numerical summaries cannot convey fully the information contained in a single variable or the relationship between two variables. When the number of dimensions in the data increases, visualizing the data using traditional displays becomes time consuming and even infeasible. For example, if there are two dozen quantitative variables, it is not feasible to construct scatterplots to examine the pairwise relationships of all the variables because there are hundreds of scatterplots to investigate.\n",
    "\n",
    "A global overview can be obtained from the parallel coordinates plot if the number of features can fit in the visual display, and the number of observations are up to a few thousand. When there are even more data, it is useful to project the data on to a two-dimensional plane to obtain an understanding of their global and local structure before applying clustering or other modeling methods. \n",
    "\n",
    "High-dimensional visualization techniques, multidimensional scaling (MDS), and t-distributed stochastic neighbor embedding (t-SNE), have been applied successfully in machine learning and other fields to visualize and segment many types of data inlcuding images, handwritten digits, and genome sequences. \n",
    "\n",
    "It should be noted, however, that visualizing multidimensional data is challenging and cannot be done without making some compromises. In some respects, unsupervised learning techniques, such as MDS aand t-SNE, are more challenging than supervised learning methods such as regression, decision trees, and classification. When predicting a discrete variable using a logit model, there is a clear understanding of how to measure model fit, prediction accuracy, and the quality of the results. In contrast, in high-dimensional visualization techniques, there is no model fit or validation step because there is no response variable Y that represents the truth which to test the visualization against. Furthermore, the resulting two-dimensional arrangement of points cannot be interpreted as scatterplots, but as maps in which proximity between the points is what matters. Knowing the assumptions behind each model and how it performs the projection is imperative for proper application.\n",
    "\n",
    "Projecting multidimensional data on a two-dimensional plane is inherently an ill-posed problem for the same reason that points on a sphere (or the earth) cannot be faithfully projected on a plane. As a result, there may not be a single high-dimensional visualization technique that can be used to reveal all the underlying information in the data. Different techniques reveal different aspects of the data. In particular, linear projection methods, such as  MDS, can uncover the global structure of the data and the presence of outliers. Nonlinear methods, such as the t-SNE, are better at uncovering clusters at different scales, but are harder to interpret because points that are equidistant in the projection may not be equidistant in the multidimensional space.\n"
   ]
  },
  {
   "cell_type": "markdown",
   "metadata": {},
   "source": [
    "Here we present two high dimensinal projection algorithms \n",
    "\n",
    "1. MDS is one of the most widely researched dimensionality reduction techniques with a large number of variations that can make it a linear or a nonlinear projection. This is notebook we use MDS as a linear projection. \n",
    "\n",
    "2. t-SNE is one of the most potent nonlinear high-dimensional visualization techniques for algorithms that do not project the high-dimensional distances between points proportionally. It was introduced in 2008 and has found a large number of applications especially in medicine, biology, and machine learning.\n"
   ]
  },
  {
   "cell_type": "markdown",
   "metadata": {},
   "source": [
    "We start with some imports"
   ]
  },
  {
   "cell_type": "code",
   "execution_count": 1,
   "metadata": {},
   "outputs": [],
   "source": [
    "import pandas as pd\n",
    "import numpy as np\n",
    "import scipy as sp \n",
    "import matplotlib.pyplot as plt\n",
    "\n",
    "from sklearn.manifold import TSNE, MDS\n",
    "from scipy.spatial.distance import pdist\n",
    "\n",
    "import matplotlib as mpl \n",
    " \n",
    "%matplotlib inline \n",
    "\n",
    "import warnings\n",
    "warnings.filterwarnings(\"ignore\")"
   ]
  },
  {
   "cell_type": "code",
   "execution_count": 2,
   "metadata": {},
   "outputs": [],
   "source": [
    "df = pd.read_csv(\"../data/worldcities.csv\")"
   ]
  },
  {
   "cell_type": "code",
   "execution_count": 3,
   "metadata": {},
   "outputs": [
    {
     "data": {
      "text/html": [
       "<div>\n",
       "<style scoped>\n",
       "    .dataframe tbody tr th:only-of-type {\n",
       "        vertical-align: middle;\n",
       "    }\n",
       "\n",
       "    .dataframe tbody tr th {\n",
       "        vertical-align: top;\n",
       "    }\n",
       "\n",
       "    .dataframe thead th {\n",
       "        text-align: right;\n",
       "    }\n",
       "</style>\n",
       "<table border=\"1\" class=\"dataframe\">\n",
       "  <thead>\n",
       "    <tr style=\"text-align: right;\">\n",
       "      <th></th>\n",
       "      <th>city</th>\n",
       "      <th>city_ascii</th>\n",
       "      <th>lat</th>\n",
       "      <th>lng</th>\n",
       "      <th>country</th>\n",
       "      <th>iso2</th>\n",
       "      <th>iso3</th>\n",
       "      <th>admin_name</th>\n",
       "      <th>capital</th>\n",
       "      <th>population</th>\n",
       "      <th>id</th>\n",
       "    </tr>\n",
       "  </thead>\n",
       "  <tbody>\n",
       "    <tr>\n",
       "      <th>0</th>\n",
       "      <td>Malishevë</td>\n",
       "      <td>Malisheve</td>\n",
       "      <td>42.4822</td>\n",
       "      <td>20.7458</td>\n",
       "      <td>Kosovo</td>\n",
       "      <td>XK</td>\n",
       "      <td>XKS</td>\n",
       "      <td>Malishevë</td>\n",
       "      <td>admin</td>\n",
       "      <td>NaN</td>\n",
       "      <td>1901597212</td>\n",
       "    </tr>\n",
       "    <tr>\n",
       "      <th>1</th>\n",
       "      <td>Prizren</td>\n",
       "      <td>Prizren</td>\n",
       "      <td>42.2139</td>\n",
       "      <td>20.7397</td>\n",
       "      <td>Kosovo</td>\n",
       "      <td>XK</td>\n",
       "      <td>XKS</td>\n",
       "      <td>Prizren</td>\n",
       "      <td>admin</td>\n",
       "      <td>NaN</td>\n",
       "      <td>1901360309</td>\n",
       "    </tr>\n",
       "    <tr>\n",
       "      <th>2</th>\n",
       "      <td>Zubin Potok</td>\n",
       "      <td>Zubin Potok</td>\n",
       "      <td>42.9144</td>\n",
       "      <td>20.6897</td>\n",
       "      <td>Kosovo</td>\n",
       "      <td>XK</td>\n",
       "      <td>XKS</td>\n",
       "      <td>Zubin Potok</td>\n",
       "      <td>admin</td>\n",
       "      <td>NaN</td>\n",
       "      <td>1901608808</td>\n",
       "    </tr>\n",
       "    <tr>\n",
       "      <th>3</th>\n",
       "      <td>Kamenicë</td>\n",
       "      <td>Kamenice</td>\n",
       "      <td>42.5781</td>\n",
       "      <td>21.5803</td>\n",
       "      <td>Kosovo</td>\n",
       "      <td>XK</td>\n",
       "      <td>XKS</td>\n",
       "      <td>Kamenicë</td>\n",
       "      <td>admin</td>\n",
       "      <td>NaN</td>\n",
       "      <td>1901851592</td>\n",
       "    </tr>\n",
       "    <tr>\n",
       "      <th>4</th>\n",
       "      <td>Viti</td>\n",
       "      <td>Viti</td>\n",
       "      <td>42.3214</td>\n",
       "      <td>21.3583</td>\n",
       "      <td>Kosovo</td>\n",
       "      <td>XK</td>\n",
       "      <td>XKS</td>\n",
       "      <td>Viti</td>\n",
       "      <td>admin</td>\n",
       "      <td>NaN</td>\n",
       "      <td>1901328795</td>\n",
       "    </tr>\n",
       "  </tbody>\n",
       "</table>\n",
       "</div>"
      ],
      "text/plain": [
       "          city   city_ascii      lat      lng country iso2 iso3   admin_name  \\\n",
       "0    Malishevë    Malisheve  42.4822  20.7458  Kosovo   XK  XKS    Malishevë   \n",
       "1      Prizren      Prizren  42.2139  20.7397  Kosovo   XK  XKS      Prizren   \n",
       "2  Zubin Potok  Zubin Potok  42.9144  20.6897  Kosovo   XK  XKS  Zubin Potok   \n",
       "3     Kamenicë     Kamenice  42.5781  21.5803  Kosovo   XK  XKS     Kamenicë   \n",
       "4         Viti         Viti  42.3214  21.3583  Kosovo   XK  XKS         Viti   \n",
       "\n",
       "  capital  population          id  \n",
       "0   admin         NaN  1901597212  \n",
       "1   admin         NaN  1901360309  \n",
       "2   admin         NaN  1901608808  \n",
       "3   admin         NaN  1901851592  \n",
       "4   admin         NaN  1901328795  "
      ]
     },
     "execution_count": 3,
     "metadata": {},
     "output_type": "execute_result"
    }
   ],
   "source": [
    "df.head()"
   ]
  },
  {
   "cell_type": "code",
   "execution_count": 4,
   "metadata": {},
   "outputs": [],
   "source": [
    "df = (df.dropna()\n",
    "        .sort_values(['country', \"population\"], ascending=[True, False])\n",
    ") "
   ]
  },
  {
   "cell_type": "markdown",
   "metadata": {},
   "source": [
    "Let's select a number of European countries to project on the plane. From each country we select the most five most populus cities. "
   ]
  },
  {
   "cell_type": "code",
   "execution_count": 5,
   "metadata": {},
   "outputs": [],
   "source": [
    "european_countries = ['Greece', 'Italy', \"Spain\", \"France\", \n",
    "                   'United Kingdom', \"Austria\", \"Poland\", \"Norway\", \"Sweden\", \"Romania\"]"
   ]
  },
  {
   "cell_type": "code",
   "execution_count": 6,
   "metadata": {},
   "outputs": [],
   "source": [
    "eu_cities = df[df.country.isin(european_countries)].groupby(['country']).head(5)"
   ]
  },
  {
   "cell_type": "code",
   "execution_count": 7,
   "metadata": {},
   "outputs": [
    {
     "data": {
      "text/html": [
       "<div>\n",
       "<style scoped>\n",
       "    .dataframe tbody tr th:only-of-type {\n",
       "        vertical-align: middle;\n",
       "    }\n",
       "\n",
       "    .dataframe tbody tr th {\n",
       "        vertical-align: top;\n",
       "    }\n",
       "\n",
       "    .dataframe thead th {\n",
       "        text-align: right;\n",
       "    }\n",
       "</style>\n",
       "<table border=\"1\" class=\"dataframe\">\n",
       "  <thead>\n",
       "    <tr style=\"text-align: right;\">\n",
       "      <th></th>\n",
       "      <th>city</th>\n",
       "      <th>city_ascii</th>\n",
       "      <th>lat</th>\n",
       "      <th>lng</th>\n",
       "      <th>country</th>\n",
       "      <th>iso2</th>\n",
       "      <th>iso3</th>\n",
       "      <th>admin_name</th>\n",
       "      <th>capital</th>\n",
       "      <th>population</th>\n",
       "      <th>id</th>\n",
       "    </tr>\n",
       "  </thead>\n",
       "  <tbody>\n",
       "    <tr>\n",
       "      <th>4227</th>\n",
       "      <td>Vienna</td>\n",
       "      <td>Vienna</td>\n",
       "      <td>48.2000</td>\n",
       "      <td>16.3666</td>\n",
       "      <td>Austria</td>\n",
       "      <td>AT</td>\n",
       "      <td>AUT</td>\n",
       "      <td>Wien</td>\n",
       "      <td>primary</td>\n",
       "      <td>2400000.0</td>\n",
       "      <td>1040261752</td>\n",
       "    </tr>\n",
       "    <tr>\n",
       "      <th>4222</th>\n",
       "      <td>Linz</td>\n",
       "      <td>Linz</td>\n",
       "      <td>48.3192</td>\n",
       "      <td>14.2888</td>\n",
       "      <td>Austria</td>\n",
       "      <td>AT</td>\n",
       "      <td>AUT</td>\n",
       "      <td>Oberösterreich</td>\n",
       "      <td>admin</td>\n",
       "      <td>349161.0</td>\n",
       "      <td>1040261171</td>\n",
       "    </tr>\n",
       "    <tr>\n",
       "      <th>4225</th>\n",
       "      <td>Graz</td>\n",
       "      <td>Graz</td>\n",
       "      <td>47.0778</td>\n",
       "      <td>15.4100</td>\n",
       "      <td>Austria</td>\n",
       "      <td>AT</td>\n",
       "      <td>AUT</td>\n",
       "      <td>Steiermark</td>\n",
       "      <td>admin</td>\n",
       "      <td>263234.0</td>\n",
       "      <td>1040184559</td>\n",
       "    </tr>\n",
       "    <tr>\n",
       "      <th>4221</th>\n",
       "      <td>Salzburg</td>\n",
       "      <td>Salzburg</td>\n",
       "      <td>47.8105</td>\n",
       "      <td>13.0400</td>\n",
       "      <td>Austria</td>\n",
       "      <td>AT</td>\n",
       "      <td>AUT</td>\n",
       "      <td>Salzburg</td>\n",
       "      <td>admin</td>\n",
       "      <td>206279.0</td>\n",
       "      <td>1040312147</td>\n",
       "    </tr>\n",
       "    <tr>\n",
       "      <th>4219</th>\n",
       "      <td>Innsbruck</td>\n",
       "      <td>Innsbruck</td>\n",
       "      <td>47.2804</td>\n",
       "      <td>11.4100</td>\n",
       "      <td>Austria</td>\n",
       "      <td>AT</td>\n",
       "      <td>AUT</td>\n",
       "      <td>Tirol</td>\n",
       "      <td>admin</td>\n",
       "      <td>155214.0</td>\n",
       "      <td>1040038924</td>\n",
       "    </tr>\n",
       "    <tr>\n",
       "      <th>6686</th>\n",
       "      <td>Paris</td>\n",
       "      <td>Paris</td>\n",
       "      <td>48.8667</td>\n",
       "      <td>2.3333</td>\n",
       "      <td>France</td>\n",
       "      <td>FR</td>\n",
       "      <td>FRA</td>\n",
       "      <td>Île-de-France</td>\n",
       "      <td>primary</td>\n",
       "      <td>9904000.0</td>\n",
       "      <td>1250015082</td>\n",
       "    </tr>\n",
       "    <tr>\n",
       "      <th>6695</th>\n",
       "      <td>Lyon</td>\n",
       "      <td>Lyon</td>\n",
       "      <td>45.7700</td>\n",
       "      <td>4.8300</td>\n",
       "      <td>France</td>\n",
       "      <td>FR</td>\n",
       "      <td>FRA</td>\n",
       "      <td>Auvergne-Rhône-Alpes</td>\n",
       "      <td>admin</td>\n",
       "      <td>1423000.0</td>\n",
       "      <td>1250196189</td>\n",
       "    </tr>\n",
       "    <tr>\n",
       "      <th>6682</th>\n",
       "      <td>Marseille</td>\n",
       "      <td>Marseille</td>\n",
       "      <td>43.2900</td>\n",
       "      <td>5.3750</td>\n",
       "      <td>France</td>\n",
       "      <td>FR</td>\n",
       "      <td>FRA</td>\n",
       "      <td>Provence-Alpes-Côte d’Azur</td>\n",
       "      <td>admin</td>\n",
       "      <td>1400000.0</td>\n",
       "      <td>1250774071</td>\n",
       "    </tr>\n",
       "    <tr>\n",
       "      <th>6694</th>\n",
       "      <td>Lille</td>\n",
       "      <td>Lille</td>\n",
       "      <td>50.6500</td>\n",
       "      <td>3.0800</td>\n",
       "      <td>France</td>\n",
       "      <td>FR</td>\n",
       "      <td>FRA</td>\n",
       "      <td>Hauts-de-France</td>\n",
       "      <td>admin</td>\n",
       "      <td>1044000.0</td>\n",
       "      <td>1250071961</td>\n",
       "    </tr>\n",
       "    <tr>\n",
       "      <th>6731</th>\n",
       "      <td>Nice</td>\n",
       "      <td>Nice</td>\n",
       "      <td>43.7150</td>\n",
       "      <td>7.2650</td>\n",
       "      <td>France</td>\n",
       "      <td>FR</td>\n",
       "      <td>FRA</td>\n",
       "      <td>Provence-Alpes-Côte d’Azur</td>\n",
       "      <td>minor</td>\n",
       "      <td>927000.0</td>\n",
       "      <td>1250774553</td>\n",
       "    </tr>\n",
       "  </tbody>\n",
       "</table>\n",
       "</div>"
      ],
      "text/plain": [
       "           city city_ascii      lat      lng  country iso2 iso3  \\\n",
       "4227     Vienna     Vienna  48.2000  16.3666  Austria   AT  AUT   \n",
       "4222       Linz       Linz  48.3192  14.2888  Austria   AT  AUT   \n",
       "4225       Graz       Graz  47.0778  15.4100  Austria   AT  AUT   \n",
       "4221   Salzburg   Salzburg  47.8105  13.0400  Austria   AT  AUT   \n",
       "4219  Innsbruck  Innsbruck  47.2804  11.4100  Austria   AT  AUT   \n",
       "6686      Paris      Paris  48.8667   2.3333   France   FR  FRA   \n",
       "6695       Lyon       Lyon  45.7700   4.8300   France   FR  FRA   \n",
       "6682  Marseille  Marseille  43.2900   5.3750   France   FR  FRA   \n",
       "6694      Lille      Lille  50.6500   3.0800   France   FR  FRA   \n",
       "6731       Nice       Nice  43.7150   7.2650   France   FR  FRA   \n",
       "\n",
       "                      admin_name  capital  population          id  \n",
       "4227                        Wien  primary   2400000.0  1040261752  \n",
       "4222              Oberösterreich    admin    349161.0  1040261171  \n",
       "4225                  Steiermark    admin    263234.0  1040184559  \n",
       "4221                    Salzburg    admin    206279.0  1040312147  \n",
       "4219                       Tirol    admin    155214.0  1040038924  \n",
       "6686               Île-de-France  primary   9904000.0  1250015082  \n",
       "6695        Auvergne-Rhône-Alpes    admin   1423000.0  1250196189  \n",
       "6682  Provence-Alpes-Côte d’Azur    admin   1400000.0  1250774071  \n",
       "6694             Hauts-de-France    admin   1044000.0  1250071961  \n",
       "6731  Provence-Alpes-Côte d’Azur    minor    927000.0  1250774553  "
      ]
     },
     "execution_count": 7,
     "metadata": {},
     "output_type": "execute_result"
    }
   ],
   "source": [
    "eu_cities.head(10)"
   ]
  },
  {
   "cell_type": "markdown",
   "metadata": {},
   "source": [
    "The similarity between cities can depent on multiple variables, such as area, population, length of roadway network, income etc. In this example, similarity will be the distance bewtween two cities on the surface of the earth. Other distance metrics such as the roadway distance can also be used. \n",
    "\n",
    " we will rely on latitude and longitude to compute the distance between a pair of cities. We will consider the distance metric as the similarity metric. \n",
    "\n",
    " The latitude and logitude values themselves are not fundamental to the relatophips cities have. They could be recoded using different units or in a different coordinate system. What is important, and what algorithms depend on, is the distance between each point and every other point in the dataTo to compute the pairwise distances between all the cities. \n",
    " \n",
    "What *is* fundamental, in this case, is the *distance* between each point and the other points in the dataset.\n",
    "A common way to represent this is to use a distance matrix: for $N$ points, we construct an $N \\times N$ array such that entry $(i, j)$ contains the distance between point $i$ and point $j$.\n",
    "Let's use Scikit-Learn's efficient ``pairwise_distances`` function to do this for our cities dataset"
   ]
  },
  {
   "cell_type": "code",
   "execution_count": 8,
   "metadata": {},
   "outputs": [
    {
     "data": {
      "text/html": [
       "<div>\n",
       "<style scoped>\n",
       "    .dataframe tbody tr th:only-of-type {\n",
       "        vertical-align: middle;\n",
       "    }\n",
       "\n",
       "    .dataframe tbody tr th {\n",
       "        vertical-align: top;\n",
       "    }\n",
       "\n",
       "    .dataframe thead th {\n",
       "        text-align: right;\n",
       "    }\n",
       "</style>\n",
       "<table border=\"1\" class=\"dataframe\">\n",
       "  <thead>\n",
       "    <tr style=\"text-align: right;\">\n",
       "      <th></th>\n",
       "      <th>city</th>\n",
       "      <th>city_ascii</th>\n",
       "      <th>lat</th>\n",
       "      <th>lng</th>\n",
       "      <th>country</th>\n",
       "      <th>iso2</th>\n",
       "      <th>iso3</th>\n",
       "      <th>admin_name</th>\n",
       "      <th>capital</th>\n",
       "      <th>population</th>\n",
       "      <th>id</th>\n",
       "    </tr>\n",
       "  </thead>\n",
       "  <tbody>\n",
       "    <tr>\n",
       "      <th>4227</th>\n",
       "      <td>Vienna</td>\n",
       "      <td>Vienna</td>\n",
       "      <td>48.2000</td>\n",
       "      <td>16.3666</td>\n",
       "      <td>Austria</td>\n",
       "      <td>AT</td>\n",
       "      <td>AUT</td>\n",
       "      <td>Wien</td>\n",
       "      <td>primary</td>\n",
       "      <td>2400000.0</td>\n",
       "      <td>1040261752</td>\n",
       "    </tr>\n",
       "    <tr>\n",
       "      <th>4222</th>\n",
       "      <td>Linz</td>\n",
       "      <td>Linz</td>\n",
       "      <td>48.3192</td>\n",
       "      <td>14.2888</td>\n",
       "      <td>Austria</td>\n",
       "      <td>AT</td>\n",
       "      <td>AUT</td>\n",
       "      <td>Oberösterreich</td>\n",
       "      <td>admin</td>\n",
       "      <td>349161.0</td>\n",
       "      <td>1040261171</td>\n",
       "    </tr>\n",
       "    <tr>\n",
       "      <th>4225</th>\n",
       "      <td>Graz</td>\n",
       "      <td>Graz</td>\n",
       "      <td>47.0778</td>\n",
       "      <td>15.4100</td>\n",
       "      <td>Austria</td>\n",
       "      <td>AT</td>\n",
       "      <td>AUT</td>\n",
       "      <td>Steiermark</td>\n",
       "      <td>admin</td>\n",
       "      <td>263234.0</td>\n",
       "      <td>1040184559</td>\n",
       "    </tr>\n",
       "    <tr>\n",
       "      <th>4221</th>\n",
       "      <td>Salzburg</td>\n",
       "      <td>Salzburg</td>\n",
       "      <td>47.8105</td>\n",
       "      <td>13.0400</td>\n",
       "      <td>Austria</td>\n",
       "      <td>AT</td>\n",
       "      <td>AUT</td>\n",
       "      <td>Salzburg</td>\n",
       "      <td>admin</td>\n",
       "      <td>206279.0</td>\n",
       "      <td>1040312147</td>\n",
       "    </tr>\n",
       "    <tr>\n",
       "      <th>4219</th>\n",
       "      <td>Innsbruck</td>\n",
       "      <td>Innsbruck</td>\n",
       "      <td>47.2804</td>\n",
       "      <td>11.4100</td>\n",
       "      <td>Austria</td>\n",
       "      <td>AT</td>\n",
       "      <td>AUT</td>\n",
       "      <td>Tirol</td>\n",
       "      <td>admin</td>\n",
       "      <td>155214.0</td>\n",
       "      <td>1040038924</td>\n",
       "    </tr>\n",
       "  </tbody>\n",
       "</table>\n",
       "</div>"
      ],
      "text/plain": [
       "           city city_ascii      lat      lng  country iso2 iso3  \\\n",
       "4227     Vienna     Vienna  48.2000  16.3666  Austria   AT  AUT   \n",
       "4222       Linz       Linz  48.3192  14.2888  Austria   AT  AUT   \n",
       "4225       Graz       Graz  47.0778  15.4100  Austria   AT  AUT   \n",
       "4221   Salzburg   Salzburg  47.8105  13.0400  Austria   AT  AUT   \n",
       "4219  Innsbruck  Innsbruck  47.2804  11.4100  Austria   AT  AUT   \n",
       "\n",
       "          admin_name  capital  population          id  \n",
       "4227            Wien  primary   2400000.0  1040261752  \n",
       "4222  Oberösterreich    admin    349161.0  1040261171  \n",
       "4225      Steiermark    admin    263234.0  1040184559  \n",
       "4221        Salzburg    admin    206279.0  1040312147  \n",
       "4219           Tirol    admin    155214.0  1040038924  "
      ]
     },
     "execution_count": 8,
     "metadata": {},
     "output_type": "execute_result"
    }
   ],
   "source": [
    "eu_cities.head()"
   ]
  },
  {
   "cell_type": "code",
   "execution_count": 9,
   "metadata": {},
   "outputs": [],
   "source": [
    "from math import radians"
   ]
  },
  {
   "cell_type": "code",
   "execution_count": 10,
   "metadata": {},
   "outputs": [],
   "source": [
    "eu_cities['latr'] = eu_cities['lat'].apply(radians)\n",
    "eu_cities['lngr'] = eu_cities['lng'].apply(radians)"
   ]
  },
  {
   "cell_type": "code",
   "execution_count": 11,
   "metadata": {},
   "outputs": [
    {
     "data": {
      "text/plain": [
       "(50, 50)"
      ]
     },
     "execution_count": 11,
     "metadata": {},
     "output_type": "execute_result"
    }
   ],
   "source": [
    "from sklearn.metrics import pairwise_distances\n",
    "#https://scikit-learn.org/stable/modules/generated/sklearn.metrics.pairwise.haversine_distances.html\n",
    "D = pairwise_distances(eu_cities[['latr', 'lngr']], metric=\"haversine\") * 6371000/1000  # multiply by Earth radius to get kilometers\n",
    "D.shape"
   ]
  },
  {
   "cell_type": "markdown",
   "metadata": {},
   "source": [
    "For our *N*=50 cities, we obtain a 50x50 matrix. "
   ]
  },
  {
   "cell_type": "code",
   "execution_count": 12,
   "metadata": {},
   "outputs": [
    {
     "data": {
      "text/plain": [
       "Text(0.5, 1.0, 'Distance Matrix for the 50 Selected European Cities')"
      ]
     },
     "execution_count": 12,
     "metadata": {},
     "output_type": "execute_result"
    },
    {
     "data": {
      "image/png": "[encoded data removed]",
      "text/plain": [
       "<Figure size 432x288 with 2 Axes>"
      ]
     },
     "metadata": {
      "needs_background": "light"
     },
     "output_type": "display_data"
    }
   ],
   "source": [
    "plt.imshow(D, zorder=2, cmap='Blues', interpolation='None')\n",
    "plt.xticks([])\n",
    "plt.yticks([])\n",
    "plt.colorbar()\n",
    "plt.title(\"Distance Matrix for the 50 Selected European Cities\")"
   ]
  },
  {
   "cell_type": "markdown",
   "metadata": {},
   "source": [
    "If we were to put the distance matrix into a dataframe it would look like this: "
   ]
  },
  {
   "cell_type": "code",
   "execution_count": 13,
   "metadata": {},
   "outputs": [],
   "source": [
    "eu_cities_distances = pd.DataFrame(D, index=eu_cities.city, columns=eu_cities.city)"
   ]
  },
  {
   "cell_type": "code",
   "execution_count": 14,
   "metadata": {},
   "outputs": [
    {
     "data": {
      "text/html": [
       "<div>\n",
       "<style scoped>\n",
       "    .dataframe tbody tr th:only-of-type {\n",
       "        vertical-align: middle;\n",
       "    }\n",
       "\n",
       "    .dataframe tbody tr th {\n",
       "        vertical-align: top;\n",
       "    }\n",
       "\n",
       "    .dataframe thead th {\n",
       "        text-align: right;\n",
       "    }\n",
       "</style>\n",
       "<table border=\"1\" class=\"dataframe\">\n",
       "  <thead>\n",
       "    <tr style=\"text-align: right;\">\n",
       "      <th>city</th>\n",
       "      <th>Vienna</th>\n",
       "      <th>Linz</th>\n",
       "      <th>Graz</th>\n",
       "      <th>Salzburg</th>\n",
       "      <th>Innsbruck</th>\n",
       "      <th>Paris</th>\n",
       "      <th>Lyon</th>\n",
       "      <th>Marseille</th>\n",
       "      <th>Lille</th>\n",
       "      <th>Nice</th>\n",
       "      <th>...</th>\n",
       "      <th>Stockholm</th>\n",
       "      <th>Göteborg</th>\n",
       "      <th>Malmö</th>\n",
       "      <th>Västerås</th>\n",
       "      <th>Örebro</th>\n",
       "      <th>Birmingham</th>\n",
       "      <th>Manchester</th>\n",
       "      <th>Leeds</th>\n",
       "      <th>Sheffield</th>\n",
       "      <th>Glasgow</th>\n",
       "    </tr>\n",
       "    <tr>\n",
       "      <th>city</th>\n",
       "      <th></th>\n",
       "      <th></th>\n",
       "      <th></th>\n",
       "      <th></th>\n",
       "      <th></th>\n",
       "      <th></th>\n",
       "      <th></th>\n",
       "      <th></th>\n",
       "      <th></th>\n",
       "      <th></th>\n",
       "      <th></th>\n",
       "      <th></th>\n",
       "      <th></th>\n",
       "      <th></th>\n",
       "      <th></th>\n",
       "      <th></th>\n",
       "      <th></th>\n",
       "      <th></th>\n",
       "      <th></th>\n",
       "      <th></th>\n",
       "      <th></th>\n",
       "    </tr>\n",
       "  </thead>\n",
       "  <tbody>\n",
       "    <tr>\n",
       "      <th>Vienna</th>\n",
       "      <td>0.000000</td>\n",
       "      <td>154.382167</td>\n",
       "      <td>143.898492</td>\n",
       "      <td>251.226899</td>\n",
       "      <td>384.411714</td>\n",
       "      <td>1034.470986</td>\n",
       "      <td>914.850500</td>\n",
       "      <td>1011.216821</td>\n",
       "      <td>997.279369</td>\n",
       "      <td>861.463745</td>\n",
       "      <td>...</td>\n",
       "      <td>1245.008380</td>\n",
       "      <td>1100.849666</td>\n",
       "      <td>852.001225</td>\n",
       "      <td>1271.007625</td>\n",
       "      <td>1234.331205</td>\n",
       "      <td>1377.554658</td>\n",
       "      <td>1428.047406</td>\n",
       "      <td>1397.566436</td>\n",
       "      <td>1376.315829</td>\n",
       "      <td>1638.923950</td>\n",
       "    </tr>\n",
       "    <tr>\n",
       "      <th>Linz</th>\n",
       "      <td>154.382167</td>\n",
       "      <td>0.000000</td>\n",
       "      <td>161.534782</td>\n",
       "      <td>108.677224</td>\n",
       "      <td>244.062413</td>\n",
       "      <td>880.456941</td>\n",
       "      <td>770.073939</td>\n",
       "      <td>887.900843</td>\n",
       "      <td>849.185929</td>\n",
       "      <td>745.258882</td>\n",
       "      <td>...</td>\n",
       "      <td>1251.338247</td>\n",
       "      <td>1059.607326</td>\n",
       "      <td>812.264835</td>\n",
       "      <td>1266.104551</td>\n",
       "      <td>1220.321013</td>\n",
       "      <td>1234.996995</td>\n",
       "      <td>1290.555033</td>\n",
       "      <td>1262.764364</td>\n",
       "      <td>1238.917545</td>\n",
       "      <td>1512.316248</td>\n",
       "    </tr>\n",
       "    <tr>\n",
       "      <th>Graz</th>\n",
       "      <td>143.898492</td>\n",
       "      <td>161.534782</td>\n",
       "      <td>0.000000</td>\n",
       "      <td>195.956354</td>\n",
       "      <td>303.125279</td>\n",
       "      <td>992.269757</td>\n",
       "      <td>823.206859</td>\n",
       "      <td>891.203720</td>\n",
       "      <td>983.961266</td>\n",
       "      <td>737.195320</td>\n",
       "      <td>...</td>\n",
       "      <td>1376.090873</td>\n",
       "      <td>1208.628869</td>\n",
       "      <td>959.925784</td>\n",
       "      <td>1397.702507</td>\n",
       "      <td>1356.913746</td>\n",
       "      <td>1376.911247</td>\n",
       "      <td>1437.912333</td>\n",
       "      <td>1412.522607</td>\n",
       "      <td>1386.494826</td>\n",
       "      <td>1666.970410</td>\n",
       "    </tr>\n",
       "    <tr>\n",
       "      <th>Salzburg</th>\n",
       "      <td>251.226899</td>\n",
       "      <td>108.677224</td>\n",
       "      <td>195.956354</td>\n",
       "      <td>0.000000</td>\n",
       "      <td>135.798577</td>\n",
       "      <td>799.355684</td>\n",
       "      <td>664.547066</td>\n",
       "      <td>779.660937</td>\n",
       "      <td>788.317871</td>\n",
       "      <td>638.462871</td>\n",
       "      <td>...</td>\n",
       "      <td>1324.996526</td>\n",
       "      <td>1107.398836</td>\n",
       "      <td>864.296048</td>\n",
       "      <td>1333.823596</td>\n",
       "      <td>1283.314401</td>\n",
       "      <td>1182.545863</td>\n",
       "      <td>1245.982600</td>\n",
       "      <td>1222.294053</td>\n",
       "      <td>1194.764389</td>\n",
       "      <td>1481.465988</td>\n",
       "    </tr>\n",
       "    <tr>\n",
       "      <th>Innsbruck</th>\n",
       "      <td>384.411714</td>\n",
       "      <td>244.062413</td>\n",
       "      <td>303.125279</td>\n",
       "      <td>135.798577</td>\n",
       "      <td>0.000000</td>\n",
       "      <td>696.588637</td>\n",
       "      <td>530.488350</td>\n",
       "      <td>647.557450</td>\n",
       "      <td>713.635109</td>\n",
       "      <td>511.258432</td>\n",
       "      <td>...</td>\n",
       "      <td>1412.061864</td>\n",
       "      <td>1164.839134</td>\n",
       "      <td>930.004902</td>\n",
       "      <td>1413.555729</td>\n",
       "      <td>1357.598668</td>\n",
       "      <td>1113.702160</td>\n",
       "      <td>1186.708557</td>\n",
       "      <td>1168.511020</td>\n",
       "      <td>1136.516543</td>\n",
       "      <td>1437.775970</td>\n",
       "    </tr>\n",
       "  </tbody>\n",
       "</table>\n",
       "<p>5 rows × 50 columns</p>\n",
       "</div>"
      ],
      "text/plain": [
       "city           Vienna        Linz        Graz    Salzburg   Innsbruck  \\\n",
       "city                                                                    \n",
       "Vienna       0.000000  154.382167  143.898492  251.226899  384.411714   \n",
       "Linz       154.382167    0.000000  161.534782  108.677224  244.062413   \n",
       "Graz       143.898492  161.534782    0.000000  195.956354  303.125279   \n",
       "Salzburg   251.226899  108.677224  195.956354    0.000000  135.798577   \n",
       "Innsbruck  384.411714  244.062413  303.125279  135.798577    0.000000   \n",
       "\n",
       "city             Paris        Lyon    Marseille       Lille        Nice  ...  \\\n",
       "city                                                                     ...   \n",
       "Vienna     1034.470986  914.850500  1011.216821  997.279369  861.463745  ...   \n",
       "Linz        880.456941  770.073939   887.900843  849.185929  745.258882  ...   \n",
       "Graz        992.269757  823.206859   891.203720  983.961266  737.195320  ...   \n",
       "Salzburg    799.355684  664.547066   779.660937  788.317871  638.462871  ...   \n",
       "Innsbruck   696.588637  530.488350   647.557450  713.635109  511.258432  ...   \n",
       "\n",
       "city         Stockholm     Göteborg       Malmö     Västerås       Örebro  \\\n",
       "city                                                                        \n",
       "Vienna     1245.008380  1100.849666  852.001225  1271.007625  1234.331205   \n",
       "Linz       1251.338247  1059.607326  812.264835  1266.104551  1220.321013   \n",
       "Graz       1376.090873  1208.628869  959.925784  1397.702507  1356.913746   \n",
       "Salzburg   1324.996526  1107.398836  864.296048  1333.823596  1283.314401   \n",
       "Innsbruck  1412.061864  1164.839134  930.004902  1413.555729  1357.598668   \n",
       "\n",
       "city        Birmingham   Manchester        Leeds    Sheffield      Glasgow  \n",
       "city                                                                        \n",
       "Vienna     1377.554658  1428.047406  1397.566436  1376.315829  1638.923950  \n",
       "Linz       1234.996995  1290.555033  1262.764364  1238.917545  1512.316248  \n",
       "Graz       1376.911247  1437.912333  1412.522607  1386.494826  1666.970410  \n",
       "Salzburg   1182.545863  1245.982600  1222.294053  1194.764389  1481.465988  \n",
       "Innsbruck  1113.702160  1186.708557  1168.511020  1136.516543  1437.775970  \n",
       "\n",
       "[5 rows x 50 columns]"
      ]
     },
     "execution_count": 14,
     "metadata": {},
     "output_type": "execute_result"
    }
   ],
   "source": [
    "eu_cities_distances.head()"
   ]
  },
  {
   "cell_type": "markdown",
   "metadata": {},
   "source": [
    "Let's create a dataframe that will contain all the 2D maps. The dataframe will have as many rows as the number of cities. Its columns will contain the position of the points on the 2D maps from the different algorithms. "
   ]
  },
  {
   "cell_type": "code",
   "execution_count": 15,
   "metadata": {},
   "outputs": [],
   "source": [
    "eu_results = pd.DataFrame(data=eu_cities.city, columns=['city'])"
   ]
  },
  {
   "cell_type": "markdown",
   "metadata": {},
   "source": [
    "Let's run the MDS algoritm first. It's output is a pair of coordiates $(x,y)$ for each data point or city "
   ]
  },
  {
   "cell_type": "code",
   "execution_count": 16,
   "metadata": {},
   "outputs": [
    {
     "name": "stdout",
     "output_type": "stream",
     "text": [
      "breaking at iteration 57 with stress 4025.9976527231393\n",
      "breaking at iteration 51 with stress 3990.716133109114\n",
      "breaking at iteration 106 with stress 4025.644472925149\n",
      "breaking at iteration 59 with stress 4027.768776233082\n"
     ]
    }
   ],
   "source": [
    "\n",
    "mds_results =  MDS(verbose=1, dissimilarity='precomputed').fit_transform(eu_cities_distances.values)\n",
    "\n",
    "eu_results['mds_x'] = mds_results[:,0]\n",
    "eu_results['mds_y'] = mds_results[:,1]"
   ]
  },
  {
   "cell_type": "code",
   "execution_count": 17,
   "metadata": {},
   "outputs": [
    {
     "data": {
      "text/plain": [
       "Text(0.5, 1.0, 'MDS projection of EU cities. (Linear Projection)')"
      ]
     },
     "execution_count": 17,
     "metadata": {},
     "output_type": "execute_result"
    },
    {
     "data": {
      "image/png": "[encoded data removed]",
      "text/plain": [
       "<Figure size 720x720 with 1 Axes>"
      ]
     },
     "metadata": {
      "needs_background": "light"
     },
     "output_type": "display_data"
    }
   ],
   "source": [
    "fig, ax = plt.subplots(figsize=(10,10))\n",
    "\n",
    "ax.set_aspect(\"equal\")  \n",
    "ax.scatter(eu_results['mds_x'], eu_results['mds_y'])\n",
    "ax.set_facecolor(\"white\")\n",
    "ax.axis('off')\n",
    "\n",
    "for city, x,y in zip(eu_results.city, eu_results.mds_x, eu_results.mds_y):\n",
    "    ax.annotate(city, (x, y))\n",
    "\n",
    "fig.tight_layout()\n",
    "ax.set_title(\"MDS projection of EU cities. (Linear Projection)\")"
   ]
  },
  {
   "cell_type": "markdown",
   "metadata": {},
   "source": [
    "Visualizing the data using plotly can be useful if we want to interactivlty zoom and select points on the map."
   ]
  },
  {
   "cell_type": "code",
   "execution_count": 18,
   "metadata": {},
   "outputs": [],
   "source": [
    "import plotly.express as px\n",
    "import plotly.graph_objects as go"
   ]
  },
  {
   "cell_type": "code",
   "execution_count": 19,
   "metadata": {},
   "outputs": [
    {
     "data": {
      "application/vnd.plotly.v1+json": {
       "config": {
        "plotlyServerURL": "https://plot.ly"
       },
       "data": [
        {
         "hovertemplate": "mds_x=%{x}<br>mds_y=%{y}<br>city=%{text}<extra></extra>",
         "legendgroup": "",
         "marker": {
          "color": "#636efa",
          "symbol": "circle"
         },
         "mode": "markers+text",
         "name": "",
         "orientation": "v",
         "showlegend": false,
         "text": [
          "Vienna",
          "Linz",
          "Graz",
          "Salzburg",
          "Innsbruck",
          "Paris",
          "Lyon",
          "Marseille",
          "Lille",
          "Nice",
          "Athens",
          "Thessaloniki",
          "Piraeus",
          "Patra",
          "Iraklio",
          "Rome",
          "Milan",
          "Naples",
          "Turin",
          "Florence",
          "Oslo",
          "Bergen",
          "Stavanger",
          "Drammen",
          "Skien",
          "Katowice",
          "Warsaw",
          "Łódź",
          "Kraków",
          "Gdańsk",
          "Bucharest",
          "Iași",
          "Cluj-Napoca",
          "Timișoara",
          "Galați",
          "Madrid",
          "Barcelona",
          "Seville",
          "Bilbao",
          "Valencia",
          "Stockholm",
          "Göteborg",
          "Malmö",
          "Västerås",
          "Örebro",
          "Birmingham",
          "Manchester",
          "Leeds",
          "Sheffield",
          "Glasgow"
         ],
         "type": "scatter",
         "x": [
          273.14023847072554,
          135.5077135309641,
          160.246569413124,
          27.782441209541695,
          -108.09168388594725,
          -616.8017008491233,
          -631.8291482127877,
          -730.1294080397535,
          -467.128669379654,
          -573.9005838803113,
          469.0934406132754,
          487.98555578141276,
          466.01954604208294,
          309.7061919865218,
          501.7070149906794,
          -280.46649734241817,
          -348.09515899383695,
          -192.55409948232364,
          -475.1840067738171,
          -284.45007966831093,
          451.56861628134976,
          208.96599956324616,
          147.83433818120974,
          415.62028617370277,
          358.2634290142264,
          533.4008586548479,
          733.6432791470655,
          616.7398878511837,
          589.4788501609014,
          658.9901206823623,
          855.0698596164895,
          1038.834578527808,
          737.0349352488121,
          529.0789621373248,
          1030.7223929365439,
          -1533.2241244488644,
          -1063.0495233666563,
          -1889.683354890604,
          -1299.0989341836244,
          -1360.0478556978487,
          810.2619856645,
          415.579733515045,
          375.4658875981796,
          738.1419456635331,
          654.4271678112219,
          -643.2635836062062,
          -594.463686057604,
          -537.2747889521473,
          -562.7998305242522,
          -538.7751082317891
         ],
         "xaxis": "x",
         "y": [
          205.43662960741426,
          135.43886855543855,
          295.0238495496549,
          150.67233014722103,
          153.80637823909944,
          -322.46050116947106,
          70.2992717599063,
          332.0161275335074,
          -463.28909389019617,
          364.0657004230234,
          1471.2055051511445,
          1161.3933484113293,
          1473.721372663569,
          1393.517523308383,
          1790.3519713664957,
          733.2713243364357,
          261.2920739638985,
          899.5578224604451,
          245.78624792752942,
          501.0970325038498,
          -1134.0726841649262,
          -1320.6638258315975,
          -1174.150285303061,
          -1131.7950103990918,
          -1091.1874075054873,
          57.09258270837812,
          -109.42251491881751,
          -92.38670851794808,
          99.83046081605079,
          -381.9988991150668,
          831.2699984871615,
          561.5247156301318,
          527.1736504940397,
          584.0600191170058,
          756.0322072055928,
          196.8381433636351,
          381.2210569707939,
          347.10051007641107,
          -26.694396193606593,
          441.5696258733998,
          -916.5472027637858,
          -885.7326349409071,
          -640.1886919959304,
          -976.3489503206428,
          -967.6581304984193,
          -822.5037504762116,
          -928.0695467410737,
          -932.5029745557997,
          -887.3442469027509,
          -1216.6488924461557
         ],
         "yaxis": "y"
        }
       ],
       "layout": {
        "height": 800,
        "legend": {
         "tracegroupgap": 0
        },
        "template": {
         "data": {
          "bar": [
           {
            "error_x": {
             "color": "#2a3f5f"
            },
            "error_y": {
             "color": "#2a3f5f"
            },
            "marker": {
             "line": {
              "color": "#E5ECF6",
              "width": 0.5
             },
             "pattern": {
              "fillmode": "overlay",
              "size": 10,
              "solidity": 0.2
             }
            },
            "type": "bar"
           }
          ],
          "barpolar": [
           {
            "marker": {
             "line": {
              "color": "#E5ECF6",
              "width": 0.5
             },
             "pattern": {
              "fillmode": "overlay",
              "size": 10,
              "solidity": 0.2
             }
            },
            "type": "barpolar"
           }
          ],
          "carpet": [
           {
            "aaxis": {
             "endlinecolor": "#2a3f5f",
             "gridcolor": "white",
             "linecolor": "white",
             "minorgridcolor": "white",
             "startlinecolor": "#2a3f5f"
            },
            "baxis": {
             "endlinecolor": "#2a3f5f",
             "gridcolor": "white",
             "linecolor": "white",
             "minorgridcolor": "white",
             "startlinecolor": "#2a3f5f"
            },
            "type": "carpet"
           }
          ],
          "choropleth": [
           {
            "colorbar": {
             "outlinewidth": 0,
             "ticks": ""
            },
            "type": "choropleth"
           }
          ],
          "contour": [
           {
            "colorbar": {
             "outlinewidth": 0,
             "ticks": ""
            },
            "colorscale": [
             [
              0,
              "#0d0887"
             ],
             [
              0.1111111111111111,
              "#46039f"
             ],
             [
              0.2222222222222222,
              "#7201a8"
             ],
             [
              0.3333333333333333,
              "#9c179e"
             ],
             [
              0.4444444444444444,
              "#bd3786"
             ],
             [
              0.5555555555555556,
              "#d8576b"
             ],
             [
              0.6666666666666666,
              "#ed7953"
             ],
             [
              0.7777777777777778,
              "#fb9f3a"
             ],
             [
              0.8888888888888888,
              "#fdca26"
             ],
             [
              1,
              "#f0f921"
             ]
            ],
            "type": "contour"
           }
          ],
          "contourcarpet": [
           {
            "colorbar": {
             "outlinewidth": 0,
             "ticks": ""
            },
            "type": "contourcarpet"
           }
          ],
          "heatmap": [
           {
            "colorbar": {
             "outlinewidth": 0,
             "ticks": ""
            },
            "colorscale": [
             [
              0,
              "#0d0887"
             ],
             [
              0.1111111111111111,
              "#46039f"
             ],
             [
              0.2222222222222222,
              "#7201a8"
             ],
             [
              0.3333333333333333,
              "#9c179e"
             ],
             [
              0.4444444444444444,
              "#bd3786"
             ],
             [
              0.5555555555555556,
              "#d8576b"
             ],
             [
              0.6666666666666666,
              "#ed7953"
             ],
             [
              0.7777777777777778,
              "#fb9f3a"
             ],
             [
              0.8888888888888888,
              "#fdca26"
             ],
             [
              1,
              "#f0f921"
             ]
            ],
            "type": "heatmap"
           }
          ],
          "heatmapgl": [
           {
            "colorbar": {
             "outlinewidth": 0,
             "ticks": ""
            },
            "colorscale": [
             [
              0,
              "#0d0887"
             ],
             [
              0.1111111111111111,
              "#46039f"
             ],
             [
              0.2222222222222222,
              "#7201a8"
             ],
             [
              0.3333333333333333,
              "#9c179e"
             ],
             [
              0.4444444444444444,
              "#bd3786"
             ],
             [
              0.5555555555555556,
              "#d8576b"
             ],
             [
              0.6666666666666666,
              "#ed7953"
             ],
             [
              0.7777777777777778,
              "#fb9f3a"
             ],
             [
              0.8888888888888888,
              "#fdca26"
             ],
             [
              1,
              "#f0f921"
             ]
            ],
            "type": "heatmapgl"
           }
          ],
          "histogram": [
           {
            "marker": {
             "pattern": {
              "fillmode": "overlay",
              "size": 10,
              "solidity": 0.2
             }
            },
            "type": "histogram"
           }
          ],
          "histogram2d": [
           {
            "colorbar": {
             "outlinewidth": 0,
             "ticks": ""
            },
            "colorscale": [
             [
              0,
              "#0d0887"
             ],
             [
              0.1111111111111111,
              "#46039f"
             ],
             [
              0.2222222222222222,
              "#7201a8"
             ],
             [
              0.3333333333333333,
              "#9c179e"
             ],
             [
              0.4444444444444444,
              "#bd3786"
             ],
             [
              0.5555555555555556,
              "#d8576b"
             ],
             [
              0.6666666666666666,
              "#ed7953"
             ],
             [
              0.7777777777777778,
              "#fb9f3a"
             ],
             [
              0.8888888888888888,
              "#fdca26"
             ],
             [
              1,
              "#f0f921"
             ]
            ],
            "type": "histogram2d"
           }
          ],
          "histogram2dcontour": [
           {
            "colorbar": {
             "outlinewidth": 0,
             "ticks": ""
            },
            "colorscale": [
             [
              0,
              "#0d0887"
             ],
             [
              0.1111111111111111,
              "#46039f"
             ],
             [
              0.2222222222222222,
              "#7201a8"
             ],
             [
              0.3333333333333333,
              "#9c179e"
             ],
             [
              0.4444444444444444,
              "#bd3786"
             ],
             [
              0.5555555555555556,
              "#d8576b"
             ],
             [
              0.6666666666666666,
              "#ed7953"
             ],
             [
              0.7777777777777778,
              "#fb9f3a"
             ],
             [
              0.8888888888888888,
              "#fdca26"
             ],
             [
              1,
              "#f0f921"
             ]
            ],
            "type": "histogram2dcontour"
           }
          ],
          "mesh3d": [
           {
            "colorbar": {
             "outlinewidth": 0,
             "ticks": ""
            },
            "type": "mesh3d"
           }
          ],
          "parcoords": [
           {
            "line": {
             "colorbar": {
              "outlinewidth": 0,
              "ticks": ""
             }
            },
            "type": "parcoords"
           }
          ],
          "pie": [
           {
            "automargin": true,
            "type": "pie"
           }
          ],
          "scatter": [
           {
            "marker": {
             "colorbar": {
              "outlinewidth": 0,
              "ticks": ""
             }
            },
            "type": "scatter"
           }
          ],
          "scatter3d": [
           {
            "line": {
             "colorbar": {
              "outlinewidth": 0,
              "ticks": ""
             }
            },
            "marker": {
             "colorbar": {
              "outlinewidth": 0,
              "ticks": ""
             }
            },
            "type": "scatter3d"
           }
          ],
          "scattercarpet": [
           {
            "marker": {
             "colorbar": {
              "outlinewidth": 0,
              "ticks": ""
             }
            },
            "type": "scattercarpet"
           }
          ],
          "scattergeo": [
           {
            "marker": {
             "colorbar": {
              "outlinewidth": 0,
              "ticks": ""
             }
            },
            "type": "scattergeo"
           }
          ],
          "scattergl": [
           {
            "marker": {
             "colorbar": {
              "outlinewidth": 0,
              "ticks": ""
             }
            },
            "type": "scattergl"
           }
          ],
          "scattermapbox": [
           {
            "marker": {
             "colorbar": {
              "outlinewidth": 0,
              "ticks": ""
             }
            },
            "type": "scattermapbox"
           }
          ],
          "scatterpolar": [
           {
            "marker": {
             "colorbar": {
              "outlinewidth": 0,
              "ticks": ""
             }
            },
            "type": "scatterpolar"
           }
          ],
          "scatterpolargl": [
           {
            "marker": {
             "colorbar": {
              "outlinewidth": 0,
              "ticks": ""
             }
            },
            "type": "scatterpolargl"
           }
          ],
          "scatterternary": [
           {
            "marker": {
             "colorbar": {
              "outlinewidth": 0,
              "ticks": ""
             }
            },
            "type": "scatterternary"
           }
          ],
          "surface": [
           {
            "colorbar": {
             "outlinewidth": 0,
             "ticks": ""
            },
            "colorscale": [
             [
              0,
              "#0d0887"
             ],
             [
              0.1111111111111111,
              "#46039f"
             ],
             [
              0.2222222222222222,
              "#7201a8"
             ],
             [
              0.3333333333333333,
              "#9c179e"
             ],
             [
              0.4444444444444444,
              "#bd3786"
             ],
             [
              0.5555555555555556,
              "#d8576b"
             ],
             [
              0.6666666666666666,
              "#ed7953"
             ],
             [
              0.7777777777777778,
              "#fb9f3a"
             ],
             [
              0.8888888888888888,
              "#fdca26"
             ],
             [
              1,
              "#f0f921"
             ]
            ],
            "type": "surface"
           }
          ],
          "table": [
           {
            "cells": {
             "fill": {
              "color": "#EBF0F8"
             },
             "line": {
              "color": "white"
             }
            },
            "header": {
             "fill": {
              "color": "#C8D4E3"
             },
             "line": {
              "color": "white"
             }
            },
            "type": "table"
           }
          ]
         },
         "layout": {
          "annotationdefaults": {
           "arrowcolor": "#2a3f5f",
           "arrowhead": 0,
           "arrowwidth": 1
          },
          "autotypenumbers": "strict",
          "coloraxis": {
           "colorbar": {
            "outlinewidth": 0,
            "ticks": ""
           }
          },
          "colorscale": {
           "diverging": [
            [
             0,
             "#8e0152"
            ],
            [
             0.1,
             "#c51b7d"
            ],
            [
             0.2,
             "#de77ae"
            ],
            [
             0.3,
             "#f1b6da"
            ],
            [
             0.4,
             "#fde0ef"
            ],
            [
             0.5,
             "#f7f7f7"
            ],
            [
             0.6,
             "#e6f5d0"
            ],
            [
             0.7,
             "#b8e186"
            ],
            [
             0.8,
             "#7fbc41"
            ],
            [
             0.9,
             "#4d9221"
            ],
            [
             1,
             "#276419"
            ]
           ],
           "sequential": [
            [
             0,
             "#0d0887"
            ],
            [
             0.1111111111111111,
             "#46039f"
            ],
            [
             0.2222222222222222,
             "#7201a8"
            ],
            [
             0.3333333333333333,
             "#9c179e"
            ],
            [
             0.4444444444444444,
             "#bd3786"
            ],
            [
             0.5555555555555556,
             "#d8576b"
            ],
            [
             0.6666666666666666,
             "#ed7953"
            ],
            [
             0.7777777777777778,
             "#fb9f3a"
            ],
            [
             0.8888888888888888,
             "#fdca26"
            ],
            [
             1,
             "#f0f921"
            ]
           ],
           "sequentialminus": [
            [
             0,
             "#0d0887"
            ],
            [
             0.1111111111111111,
             "#46039f"
            ],
            [
             0.2222222222222222,
             "#7201a8"
            ],
            [
             0.3333333333333333,
             "#9c179e"
            ],
            [
             0.4444444444444444,
             "#bd3786"
            ],
            [
             0.5555555555555556,
             "#d8576b"
            ],
            [
             0.6666666666666666,
             "#ed7953"
            ],
            [
             0.7777777777777778,
             "#fb9f3a"
            ],
            [
             0.8888888888888888,
             "#fdca26"
            ],
            [
             1,
             "#f0f921"
            ]
           ]
          },
          "colorway": [
           "#636efa",
           "#EF553B",
           "#00cc96",
           "#ab63fa",
           "#FFA15A",
           "#19d3f3",
           "#FF6692",
           "#B6E880",
           "#FF97FF",
           "#FECB52"
          ],
          "font": {
           "color": "#2a3f5f"
          },
          "geo": {
           "bgcolor": "white",
           "lakecolor": "white",
           "landcolor": "#E5ECF6",
           "showlakes": true,
           "showland": true,
           "subunitcolor": "white"
          },
          "hoverlabel": {
           "align": "left"
          },
          "hovermode": "closest",
          "mapbox": {
           "style": "light"
          },
          "paper_bgcolor": "white",
          "plot_bgcolor": "#E5ECF6",
          "polar": {
           "angularaxis": {
            "gridcolor": "white",
            "linecolor": "white",
            "ticks": ""
           },
           "bgcolor": "#E5ECF6",
           "radialaxis": {
            "gridcolor": "white",
            "linecolor": "white",
            "ticks": ""
           }
          },
          "scene": {
           "xaxis": {
            "backgroundcolor": "#E5ECF6",
            "gridcolor": "white",
            "gridwidth": 2,
            "linecolor": "white",
            "showbackground": true,
            "ticks": "",
            "zerolinecolor": "white"
           },
           "yaxis": {
            "backgroundcolor": "#E5ECF6",
            "gridcolor": "white",
            "gridwidth": 2,
            "linecolor": "white",
            "showbackground": true,
            "ticks": "",
            "zerolinecolor": "white"
           },
           "zaxis": {
            "backgroundcolor": "#E5ECF6",
            "gridcolor": "white",
            "gridwidth": 2,
            "linecolor": "white",
            "showbackground": true,
            "ticks": "",
            "zerolinecolor": "white"
           }
          },
          "shapedefaults": {
           "line": {
            "color": "#2a3f5f"
           }
          },
          "ternary": {
           "aaxis": {
            "gridcolor": "white",
            "linecolor": "white",
            "ticks": ""
           },
           "baxis": {
            "gridcolor": "white",
            "linecolor": "white",
            "ticks": ""
           },
           "bgcolor": "#E5ECF6",
           "caxis": {
            "gridcolor": "white",
            "linecolor": "white",
            "ticks": ""
           }
          },
          "title": {
           "x": 0.05
          },
          "xaxis": {
           "automargin": true,
           "gridcolor": "white",
           "linecolor": "white",
           "ticks": "",
           "title": {
            "standoff": 15
           },
           "zerolinecolor": "white",
           "zerolinewidth": 2
          },
          "yaxis": {
           "automargin": true,
           "gridcolor": "white",
           "linecolor": "white",
           "ticks": "",
           "title": {
            "standoff": 15
           },
           "zerolinecolor": "white",
           "zerolinewidth": 2
          }
         }
        },
        "title": {
         "text": "MDS Projection of European Cities (Linear Projection)"
        },
        "width": 800,
        "xaxis": {
         "anchor": "y",
         "domain": [
          0,
          1
         ],
         "showticklabels": false,
         "title": {
          "text": "mds_x"
         }
        },
        "yaxis": {
         "anchor": "x",
         "domain": [
          0,
          1
         ],
         "showticklabels": false,
         "title": {
          "text": "mds_y"
         }
        }
       }
      }
     },
     "metadata": {},
     "output_type": "display_data"
    }
   ],
   "source": [
    "fig = px.scatter(eu_results, x=\"mds_x\", y=\"mds_y\",\n",
    "                text=\"city\", width=800, height=800, title=\"MDS Projection of European Cities (Linear Projection)\")\n",
    "\n",
    "\n",
    "fig.update_xaxes(\n",
    "    showticklabels=False\n",
    ")\n",
    "fig.update_yaxes(\n",
    "    showticklabels=False\n",
    ")\n",
    "\n",
    "fig"
   ]
  },
  {
   "cell_type": "markdown",
   "metadata": {},
   "source": [
    "Things to note\n",
    "\n",
    "1. The map gives us an understanding of the distrbution of the data/points. \n",
    "2. **Data points that are closer together on the map are closer together on the surface of the earth (or the HD space)**. MDS is a liner projection. \n",
    "3. The **relative position** of the point matters and not the absolute. If we re-run the projection the map may be oriented differently, may be the mirror image of what we have now or it may be rotated left or right. \n",
    "\n",
    "4. MDS places higher value in reflecting the disimilarity of faraway points. It is not very good at showing local structure (and clusters)\n"
   ]
  },
  {
   "cell_type": "markdown",
   "metadata": {},
   "source": [
    "To see how succesful the MDS projection has been in projecting distances on the surface of the earth on the 2D map we can create the follwoing scatterplot. Each point in the scatterplot is a pair of cities. On the X axis is the distance on the surface of the earth. On the Y axis is the distance on the 2D map. A succesful MDS projection will place cities on the 2D map in a way that the distance on the map is proportional to the distance on the surface of the earth. "
   ]
  },
  {
   "cell_type": "code",
   "execution_count": 20,
   "metadata": {},
   "outputs": [],
   "source": [
    "from scipy.spatial.distance import pdist, squareform"
   ]
  },
  {
   "cell_type": "code",
   "execution_count": 21,
   "metadata": {},
   "outputs": [],
   "source": [
    "map_distances_eu = pdist(eu_results[['mds_x', 'mds_y']].values)\n",
    "HD_distances_eu = squareform(eu_cities_distances.values)"
   ]
  },
  {
   "cell_type": "code",
   "execution_count": 22,
   "metadata": {},
   "outputs": [
    {
     "data": {
      "text/plain": [
       "Text(0.5, 1.0, 'Shepard Diagram for MDS')"
      ]
     },
     "execution_count": 22,
     "metadata": {},
     "output_type": "execute_result"
    },
    {
     "data": {
      "image/png": "[encoded data removed]",
      "text/plain": [
       "<Figure size 360x360 with 1 Axes>"
      ]
     },
     "metadata": {
      "needs_background": "light"
     },
     "output_type": "display_data"
    }
   ],
   "source": [
    "fig, ax = plt.subplots(figsize=(5,5))\n",
    "\n",
    "ax.scatter(HD_distances_eu, map_distances_eu, s=1, alpha=0.3)\n",
    "\n",
    "ax.set_aspect(\"equal\")\n",
    "ax.set_xlabel(\"Distance on the surface of the earth\")\n",
    "ax.set_ylabel(\"Projected 2D distance\")\n",
    "#ax.plot([0,3000], [0, 3000], color='grey', ls=\"--\")\n",
    "ax.set_title(\"Shepard Diagram for MDS\")"
   ]
  },
  {
   "cell_type": "markdown",
   "metadata": {},
   "source": [
    "Let's try now to visualize cities from different continents. This is a harder problem of course because it is well known that the surface of a sphere cannot be projected on a plane faithfuly. This is also the reason why there are so many geodetic projections. Some maintain area, others angle between lines, etc. "
   ]
  },
  {
   "cell_type": "code",
   "execution_count": 23,
   "metadata": {},
   "outputs": [],
   "source": [
    "world_countries = ['Australia', 'United Kingdom', \"Greece\", \"Italy\", \"France\", \"Germany\", \"Spain\",  \n",
    "                     'South Africa', \"India\", \"China\", \"Brazil\", 'United States']"
   ]
  },
  {
   "cell_type": "code",
   "execution_count": 24,
   "metadata": {},
   "outputs": [],
   "source": [
    "world_cities = df[df.country.isin(world_countries)].groupby(['country']).head(5)"
   ]
  },
  {
   "cell_type": "code",
   "execution_count": 25,
   "metadata": {},
   "outputs": [
    {
     "data": {
      "text/html": [
       "<div>\n",
       "<style scoped>\n",
       "    .dataframe tbody tr th:only-of-type {\n",
       "        vertical-align: middle;\n",
       "    }\n",
       "\n",
       "    .dataframe tbody tr th {\n",
       "        vertical-align: top;\n",
       "    }\n",
       "\n",
       "    .dataframe thead th {\n",
       "        text-align: right;\n",
       "    }\n",
       "</style>\n",
       "<table border=\"1\" class=\"dataframe\">\n",
       "  <thead>\n",
       "    <tr style=\"text-align: right;\">\n",
       "      <th></th>\n",
       "      <th>city</th>\n",
       "      <th>city_ascii</th>\n",
       "      <th>lat</th>\n",
       "      <th>lng</th>\n",
       "      <th>country</th>\n",
       "      <th>iso2</th>\n",
       "      <th>iso3</th>\n",
       "      <th>admin_name</th>\n",
       "      <th>capital</th>\n",
       "      <th>population</th>\n",
       "      <th>id</th>\n",
       "    </tr>\n",
       "  </thead>\n",
       "  <tbody>\n",
       "    <tr>\n",
       "      <th>8250</th>\n",
       "      <td>Washington</td>\n",
       "      <td>Washington</td>\n",
       "      <td>38.9047</td>\n",
       "      <td>-77.0163</td>\n",
       "      <td>United States</td>\n",
       "      <td>US</td>\n",
       "      <td>USA</td>\n",
       "      <td>District of Columbia</td>\n",
       "      <td>primary</td>\n",
       "      <td>5191844.0</td>\n",
       "      <td>1840006060</td>\n",
       "    </tr>\n",
       "    <tr>\n",
       "      <th>11083</th>\n",
       "      <td>Atlanta</td>\n",
       "      <td>Atlanta</td>\n",
       "      <td>33.7627</td>\n",
       "      <td>-84.4231</td>\n",
       "      <td>United States</td>\n",
       "      <td>US</td>\n",
       "      <td>USA</td>\n",
       "      <td>Georgia</td>\n",
       "      <td>admin</td>\n",
       "      <td>5080712.0</td>\n",
       "      <td>1840013660</td>\n",
       "    </tr>\n",
       "    <tr>\n",
       "      <th>11680</th>\n",
       "      <td>Boston</td>\n",
       "      <td>Boston</td>\n",
       "      <td>42.3189</td>\n",
       "      <td>-71.0838</td>\n",
       "      <td>United States</td>\n",
       "      <td>US</td>\n",
       "      <td>USA</td>\n",
       "      <td>Massachusetts</td>\n",
       "      <td>admin</td>\n",
       "      <td>4556916.0</td>\n",
       "      <td>1840000455</td>\n",
       "    </tr>\n",
       "    <tr>\n",
       "      <th>11506</th>\n",
       "      <td>Phoenix</td>\n",
       "      <td>Phoenix</td>\n",
       "      <td>33.5722</td>\n",
       "      <td>-112.0891</td>\n",
       "      <td>United States</td>\n",
       "      <td>US</td>\n",
       "      <td>USA</td>\n",
       "      <td>Arizona</td>\n",
       "      <td>admin</td>\n",
       "      <td>4054083.0</td>\n",
       "      <td>1840020568</td>\n",
       "    </tr>\n",
       "    <tr>\n",
       "      <th>10479</th>\n",
       "      <td>Denver</td>\n",
       "      <td>Denver</td>\n",
       "      <td>39.7621</td>\n",
       "      <td>-104.8759</td>\n",
       "      <td>United States</td>\n",
       "      <td>US</td>\n",
       "      <td>USA</td>\n",
       "      <td>Colorado</td>\n",
       "      <td>admin</td>\n",
       "      <td>2741534.0</td>\n",
       "      <td>1840018789</td>\n",
       "    </tr>\n",
       "  </tbody>\n",
       "</table>\n",
       "</div>"
      ],
      "text/plain": [
       "             city  city_ascii      lat       lng        country iso2 iso3  \\\n",
       "8250   Washington  Washington  38.9047  -77.0163  United States   US  USA   \n",
       "11083     Atlanta     Atlanta  33.7627  -84.4231  United States   US  USA   \n",
       "11680      Boston      Boston  42.3189  -71.0838  United States   US  USA   \n",
       "11506     Phoenix     Phoenix  33.5722 -112.0891  United States   US  USA   \n",
       "10479      Denver      Denver  39.7621 -104.8759  United States   US  USA   \n",
       "\n",
       "                 admin_name  capital  population          id  \n",
       "8250   District of Columbia  primary   5191844.0  1840006060  \n",
       "11083               Georgia    admin   5080712.0  1840013660  \n",
       "11680         Massachusetts    admin   4556916.0  1840000455  \n",
       "11506               Arizona    admin   4054083.0  1840020568  \n",
       "10479              Colorado    admin   2741534.0  1840018789  "
      ]
     },
     "execution_count": 25,
     "metadata": {},
     "output_type": "execute_result"
    }
   ],
   "source": [
    "df[df.country.isin(['United States'])].sort_values(\"population\", ascending=False).head()"
   ]
  },
  {
   "cell_type": "code",
   "execution_count": 26,
   "metadata": {},
   "outputs": [
    {
     "data": {
      "text/html": [
       "<div>\n",
       "<style scoped>\n",
       "    .dataframe tbody tr th:only-of-type {\n",
       "        vertical-align: middle;\n",
       "    }\n",
       "\n",
       "    .dataframe tbody tr th {\n",
       "        vertical-align: top;\n",
       "    }\n",
       "\n",
       "    .dataframe thead th {\n",
       "        text-align: right;\n",
       "    }\n",
       "</style>\n",
       "<table border=\"1\" class=\"dataframe\">\n",
       "  <thead>\n",
       "    <tr style=\"text-align: right;\">\n",
       "      <th></th>\n",
       "      <th>city</th>\n",
       "      <th>city_ascii</th>\n",
       "      <th>lat</th>\n",
       "      <th>lng</th>\n",
       "      <th>country</th>\n",
       "      <th>iso2</th>\n",
       "      <th>iso3</th>\n",
       "      <th>admin_name</th>\n",
       "      <th>capital</th>\n",
       "      <th>population</th>\n",
       "      <th>id</th>\n",
       "    </tr>\n",
       "  </thead>\n",
       "  <tbody>\n",
       "    <tr>\n",
       "      <th>4245</th>\n",
       "      <td>Sydney</td>\n",
       "      <td>Sydney</td>\n",
       "      <td>-33.9200</td>\n",
       "      <td>151.1852</td>\n",
       "      <td>Australia</td>\n",
       "      <td>AU</td>\n",
       "      <td>AUS</td>\n",
       "      <td>New South Wales</td>\n",
       "      <td>admin</td>\n",
       "      <td>4630000.0</td>\n",
       "      <td>1036074917</td>\n",
       "    </tr>\n",
       "    <tr>\n",
       "      <th>4381</th>\n",
       "      <td>Melbourne</td>\n",
       "      <td>Melbourne</td>\n",
       "      <td>-37.8200</td>\n",
       "      <td>144.9750</td>\n",
       "      <td>Australia</td>\n",
       "      <td>AU</td>\n",
       "      <td>AUS</td>\n",
       "      <td>Victoria</td>\n",
       "      <td>admin</td>\n",
       "      <td>4170000.0</td>\n",
       "      <td>1036533631</td>\n",
       "    </tr>\n",
       "    <tr>\n",
       "      <th>4420</th>\n",
       "      <td>Brisbane</td>\n",
       "      <td>Brisbane</td>\n",
       "      <td>-27.4550</td>\n",
       "      <td>153.0351</td>\n",
       "      <td>Australia</td>\n",
       "      <td>AU</td>\n",
       "      <td>AUS</td>\n",
       "      <td>Queensland</td>\n",
       "      <td>admin</td>\n",
       "      <td>1860000.0</td>\n",
       "      <td>1036192929</td>\n",
       "    </tr>\n",
       "    <tr>\n",
       "      <th>4299</th>\n",
       "      <td>Perth</td>\n",
       "      <td>Perth</td>\n",
       "      <td>-31.9550</td>\n",
       "      <td>115.8400</td>\n",
       "      <td>Australia</td>\n",
       "      <td>AU</td>\n",
       "      <td>AUS</td>\n",
       "      <td>Western Australia</td>\n",
       "      <td>admin</td>\n",
       "      <td>1532000.0</td>\n",
       "      <td>1036178956</td>\n",
       "    </tr>\n",
       "    <tr>\n",
       "      <th>4293</th>\n",
       "      <td>Adelaide</td>\n",
       "      <td>Adelaide</td>\n",
       "      <td>-34.9350</td>\n",
       "      <td>138.6000</td>\n",
       "      <td>Australia</td>\n",
       "      <td>AU</td>\n",
       "      <td>AUS</td>\n",
       "      <td>South Australia</td>\n",
       "      <td>admin</td>\n",
       "      <td>1145000.0</td>\n",
       "      <td>1036538171</td>\n",
       "    </tr>\n",
       "    <tr>\n",
       "      <th>5096</th>\n",
       "      <td>São Paulo</td>\n",
       "      <td>Sao Paulo</td>\n",
       "      <td>-23.5587</td>\n",
       "      <td>-46.6250</td>\n",
       "      <td>Brazil</td>\n",
       "      <td>BR</td>\n",
       "      <td>BRA</td>\n",
       "      <td>São Paulo</td>\n",
       "      <td>admin</td>\n",
       "      <td>18845000.0</td>\n",
       "      <td>1076532519</td>\n",
       "    </tr>\n",
       "    <tr>\n",
       "      <th>5044</th>\n",
       "      <td>Rio de Janeiro</td>\n",
       "      <td>Rio de Janeiro</td>\n",
       "      <td>-22.9250</td>\n",
       "      <td>-43.2250</td>\n",
       "      <td>Brazil</td>\n",
       "      <td>BR</td>\n",
       "      <td>BRA</td>\n",
       "      <td>Rio de Janeiro</td>\n",
       "      <td>admin</td>\n",
       "      <td>11748000.0</td>\n",
       "      <td>1076887657</td>\n",
       "    </tr>\n",
       "    <tr>\n",
       "      <th>4915</th>\n",
       "      <td>Belo Horizonte</td>\n",
       "      <td>Belo Horizonte</td>\n",
       "      <td>-19.9150</td>\n",
       "      <td>-43.9150</td>\n",
       "      <td>Brazil</td>\n",
       "      <td>BR</td>\n",
       "      <td>BRA</td>\n",
       "      <td>Minas Gerais</td>\n",
       "      <td>admin</td>\n",
       "      <td>5575000.0</td>\n",
       "      <td>1076967355</td>\n",
       "    </tr>\n",
       "    <tr>\n",
       "      <th>4821</th>\n",
       "      <td>Porto Alegre</td>\n",
       "      <td>Porto Alegre</td>\n",
       "      <td>-30.0500</td>\n",
       "      <td>-51.2000</td>\n",
       "      <td>Brazil</td>\n",
       "      <td>BR</td>\n",
       "      <td>BRA</td>\n",
       "      <td>Rio Grande do Sul</td>\n",
       "      <td>admin</td>\n",
       "      <td>3917000.0</td>\n",
       "      <td>1076658221</td>\n",
       "    </tr>\n",
       "    <tr>\n",
       "      <th>4778</th>\n",
       "      <td>Brasília</td>\n",
       "      <td>Brasilia</td>\n",
       "      <td>-15.7833</td>\n",
       "      <td>-47.9161</td>\n",
       "      <td>Brazil</td>\n",
       "      <td>BR</td>\n",
       "      <td>BRA</td>\n",
       "      <td>Distrito Federal</td>\n",
       "      <td>primary</td>\n",
       "      <td>3716996.0</td>\n",
       "      <td>1076144436</td>\n",
       "    </tr>\n",
       "  </tbody>\n",
       "</table>\n",
       "</div>"
      ],
      "text/plain": [
       "                city      city_ascii      lat       lng    country iso2 iso3  \\\n",
       "4245          Sydney          Sydney -33.9200  151.1852  Australia   AU  AUS   \n",
       "4381       Melbourne       Melbourne -37.8200  144.9750  Australia   AU  AUS   \n",
       "4420        Brisbane        Brisbane -27.4550  153.0351  Australia   AU  AUS   \n",
       "4299           Perth           Perth -31.9550  115.8400  Australia   AU  AUS   \n",
       "4293        Adelaide        Adelaide -34.9350  138.6000  Australia   AU  AUS   \n",
       "5096       São Paulo       Sao Paulo -23.5587  -46.6250     Brazil   BR  BRA   \n",
       "5044  Rio de Janeiro  Rio de Janeiro -22.9250  -43.2250     Brazil   BR  BRA   \n",
       "4915  Belo Horizonte  Belo Horizonte -19.9150  -43.9150     Brazil   BR  BRA   \n",
       "4821    Porto Alegre    Porto Alegre -30.0500  -51.2000     Brazil   BR  BRA   \n",
       "4778        Brasília        Brasilia -15.7833  -47.9161     Brazil   BR  BRA   \n",
       "\n",
       "             admin_name  capital  population          id  \n",
       "4245    New South Wales    admin   4630000.0  1036074917  \n",
       "4381           Victoria    admin   4170000.0  1036533631  \n",
       "4420         Queensland    admin   1860000.0  1036192929  \n",
       "4299  Western Australia    admin   1532000.0  1036178956  \n",
       "4293    South Australia    admin   1145000.0  1036538171  \n",
       "5096          São Paulo    admin  18845000.0  1076532519  \n",
       "5044     Rio de Janeiro    admin  11748000.0  1076887657  \n",
       "4915       Minas Gerais    admin   5575000.0  1076967355  \n",
       "4821  Rio Grande do Sul    admin   3917000.0  1076658221  \n",
       "4778   Distrito Federal  primary   3716996.0  1076144436  "
      ]
     },
     "execution_count": 26,
     "metadata": {},
     "output_type": "execute_result"
    }
   ],
   "source": [
    "world_cities.head(10)"
   ]
  },
  {
   "cell_type": "code",
   "execution_count": 27,
   "metadata": {},
   "outputs": [],
   "source": [
    "world_cities['latr'] = world_cities['lat'].apply(radians)\n",
    "world_cities['lngr'] = world_cities['lng'].apply(radians)"
   ]
  },
  {
   "cell_type": "code",
   "execution_count": 28,
   "metadata": {},
   "outputs": [
    {
     "data": {
      "text/plain": [
       "(60, 60)"
      ]
     },
     "execution_count": 28,
     "metadata": {},
     "output_type": "execute_result"
    }
   ],
   "source": [
    "D = pairwise_distances(world_cities[['latr', 'lngr']], metric=\"haversine\") * 6371000/1000  # multiply by Earth radius to get kilometers\n",
    "D.shape"
   ]
  },
  {
   "cell_type": "code",
   "execution_count": 29,
   "metadata": {},
   "outputs": [
    {
     "data": {
      "text/plain": [
       "Text(0.5, 1.0, 'Distance Matrix for the 60 Selected World Cities')"
      ]
     },
     "execution_count": 29,
     "metadata": {},
     "output_type": "execute_result"
    },
    {
     "data": {
      "image/png": "[encoded data removed]",
      "text/plain": [
       "<Figure size 432x288 with 2 Axes>"
      ]
     },
     "metadata": {
      "needs_background": "light"
     },
     "output_type": "display_data"
    }
   ],
   "source": [
    "plt.imshow(D, zorder=2, cmap='Blues', interpolation='None')\n",
    "plt.xticks([])\n",
    "plt.yticks([])\n",
    "plt.colorbar()\n",
    "plt.title(\"Distance Matrix for the 60 Selected World Cities\")"
   ]
  },
  {
   "cell_type": "code",
   "execution_count": 30,
   "metadata": {},
   "outputs": [],
   "source": [
    "world_cities_distances = pd.DataFrame(D, index=world_cities.city, columns=world_cities.city).round(0)"
   ]
  },
  {
   "cell_type": "code",
   "execution_count": 31,
   "metadata": {},
   "outputs": [
    {
     "data": {
      "text/html": [
       "<div>\n",
       "<style scoped>\n",
       "    .dataframe tbody tr th:only-of-type {\n",
       "        vertical-align: middle;\n",
       "    }\n",
       "\n",
       "    .dataframe tbody tr th {\n",
       "        vertical-align: top;\n",
       "    }\n",
       "\n",
       "    .dataframe thead th {\n",
       "        text-align: right;\n",
       "    }\n",
       "</style>\n",
       "<table border=\"1\" class=\"dataframe\">\n",
       "  <thead>\n",
       "    <tr style=\"text-align: right;\">\n",
       "      <th>city</th>\n",
       "      <th>Sydney</th>\n",
       "      <th>Melbourne</th>\n",
       "      <th>Brisbane</th>\n",
       "      <th>Perth</th>\n",
       "      <th>Adelaide</th>\n",
       "      <th>São Paulo</th>\n",
       "      <th>Rio de Janeiro</th>\n",
       "      <th>Belo Horizonte</th>\n",
       "      <th>Porto Alegre</th>\n",
       "      <th>Brasília</th>\n",
       "      <th>...</th>\n",
       "      <th>Birmingham</th>\n",
       "      <th>Manchester</th>\n",
       "      <th>Leeds</th>\n",
       "      <th>Sheffield</th>\n",
       "      <th>Glasgow</th>\n",
       "      <th>Washington</th>\n",
       "      <th>Atlanta</th>\n",
       "      <th>Boston</th>\n",
       "      <th>Phoenix</th>\n",
       "      <th>Denver</th>\n",
       "    </tr>\n",
       "    <tr>\n",
       "      <th>city</th>\n",
       "      <th></th>\n",
       "      <th></th>\n",
       "      <th></th>\n",
       "      <th></th>\n",
       "      <th></th>\n",
       "      <th></th>\n",
       "      <th></th>\n",
       "      <th></th>\n",
       "      <th></th>\n",
       "      <th></th>\n",
       "      <th></th>\n",
       "      <th></th>\n",
       "      <th></th>\n",
       "      <th></th>\n",
       "      <th></th>\n",
       "      <th></th>\n",
       "      <th></th>\n",
       "      <th></th>\n",
       "      <th></th>\n",
       "      <th></th>\n",
       "      <th></th>\n",
       "    </tr>\n",
       "  </thead>\n",
       "  <tbody>\n",
       "    <tr>\n",
       "      <th>Sydney</th>\n",
       "      <td>0.0</td>\n",
       "      <td>708.0</td>\n",
       "      <td>740.0</td>\n",
       "      <td>3290.0</td>\n",
       "      <td>1159.0</td>\n",
       "      <td>13352.0</td>\n",
       "      <td>13513.0</td>\n",
       "      <td>13819.0</td>\n",
       "      <td>12523.0</td>\n",
       "      <td>14129.0</td>\n",
       "      <td>...</td>\n",
       "      <td>17046.0</td>\n",
       "      <td>17000.0</td>\n",
       "      <td>16942.0</td>\n",
       "      <td>16967.0</td>\n",
       "      <td>16934.0</td>\n",
       "      <td>15716.0</td>\n",
       "      <td>14946.0</td>\n",
       "      <td>16243.0</td>\n",
       "      <td>12557.0</td>\n",
       "      <td>13421.0</td>\n",
       "    </tr>\n",
       "    <tr>\n",
       "      <th>Melbourne</th>\n",
       "      <td>708.0</td>\n",
       "      <td>0.0</td>\n",
       "      <td>1376.0</td>\n",
       "      <td>2724.0</td>\n",
       "      <td>654.0</td>\n",
       "      <td>13083.0</td>\n",
       "      <td>13206.0</td>\n",
       "      <td>13528.0</td>\n",
       "      <td>12283.0</td>\n",
       "      <td>13904.0</td>\n",
       "      <td>...</td>\n",
       "      <td>16990.0</td>\n",
       "      <td>16971.0</td>\n",
       "      <td>16916.0</td>\n",
       "      <td>16930.0</td>\n",
       "      <td>16976.0</td>\n",
       "      <td>16385.0</td>\n",
       "      <td>15588.0</td>\n",
       "      <td>16930.0</td>\n",
       "      <td>13244.0</td>\n",
       "      <td>14118.0</td>\n",
       "    </tr>\n",
       "    <tr>\n",
       "      <th>Brisbane</th>\n",
       "      <td>740.0</td>\n",
       "      <td>1376.0</td>\n",
       "      <td>0.0</td>\n",
       "      <td>3609.0</td>\n",
       "      <td>1603.0</td>\n",
       "      <td>13963.0</td>\n",
       "      <td>14147.0</td>\n",
       "      <td>14441.0</td>\n",
       "      <td>13121.0</td>\n",
       "      <td>14703.0</td>\n",
       "      <td>...</td>\n",
       "      <td>16546.0</td>\n",
       "      <td>16481.0</td>\n",
       "      <td>16424.0</td>\n",
       "      <td>16457.0</td>\n",
       "      <td>16372.0</td>\n",
       "      <td>15249.0</td>\n",
       "      <td>14541.0</td>\n",
       "      <td>15722.0</td>\n",
       "      <td>12068.0</td>\n",
       "      <td>12894.0</td>\n",
       "    </tr>\n",
       "    <tr>\n",
       "      <th>Perth</th>\n",
       "      <td>3290.0</td>\n",
       "      <td>2724.0</td>\n",
       "      <td>3609.0</td>\n",
       "      <td>0.0</td>\n",
       "      <td>2133.0</td>\n",
       "      <td>13567.0</td>\n",
       "      <td>13519.0</td>\n",
       "      <td>13857.0</td>\n",
       "      <td>12986.0</td>\n",
       "      <td>14432.0</td>\n",
       "      <td>...</td>\n",
       "      <td>14604.0</td>\n",
       "      <td>14626.0</td>\n",
       "      <td>14582.0</td>\n",
       "      <td>14576.0</td>\n",
       "      <td>14744.0</td>\n",
       "      <td>18619.0</td>\n",
       "      <td>18115.0</td>\n",
       "      <td>18711.0</td>\n",
       "      <td>15570.0</td>\n",
       "      <td>16278.0</td>\n",
       "    </tr>\n",
       "    <tr>\n",
       "      <th>Adelaide</th>\n",
       "      <td>1159.0</td>\n",
       "      <td>654.0</td>\n",
       "      <td>1603.0</td>\n",
       "      <td>2133.0</td>\n",
       "      <td>0.0</td>\n",
       "      <td>13488.0</td>\n",
       "      <td>13578.0</td>\n",
       "      <td>13910.0</td>\n",
       "      <td>12716.0</td>\n",
       "      <td>14334.0</td>\n",
       "      <td>...</td>\n",
       "      <td>16356.0</td>\n",
       "      <td>16343.0</td>\n",
       "      <td>16290.0</td>\n",
       "      <td>16301.0</td>\n",
       "      <td>16369.0</td>\n",
       "      <td>16839.0</td>\n",
       "      <td>16094.0</td>\n",
       "      <td>17325.0</td>\n",
       "      <td>13661.0</td>\n",
       "      <td>14496.0</td>\n",
       "    </tr>\n",
       "  </tbody>\n",
       "</table>\n",
       "<p>5 rows × 60 columns</p>\n",
       "</div>"
      ],
      "text/plain": [
       "city       Sydney  Melbourne  Brisbane   Perth  Adelaide  São Paulo  \\\n",
       "city                                                                  \n",
       "Sydney        0.0      708.0     740.0  3290.0    1159.0    13352.0   \n",
       "Melbourne   708.0        0.0    1376.0  2724.0     654.0    13083.0   \n",
       "Brisbane    740.0     1376.0       0.0  3609.0    1603.0    13963.0   \n",
       "Perth      3290.0     2724.0    3609.0     0.0    2133.0    13567.0   \n",
       "Adelaide   1159.0      654.0    1603.0  2133.0       0.0    13488.0   \n",
       "\n",
       "city       Rio de Janeiro  Belo Horizonte  Porto Alegre  Brasília  ...  \\\n",
       "city                                                               ...   \n",
       "Sydney            13513.0         13819.0       12523.0   14129.0  ...   \n",
       "Melbourne         13206.0         13528.0       12283.0   13904.0  ...   \n",
       "Brisbane          14147.0         14441.0       13121.0   14703.0  ...   \n",
       "Perth             13519.0         13857.0       12986.0   14432.0  ...   \n",
       "Adelaide          13578.0         13910.0       12716.0   14334.0  ...   \n",
       "\n",
       "city       Birmingham  Manchester    Leeds  Sheffield  Glasgow  Washington  \\\n",
       "city                                                                         \n",
       "Sydney        17046.0     17000.0  16942.0    16967.0  16934.0     15716.0   \n",
       "Melbourne     16990.0     16971.0  16916.0    16930.0  16976.0     16385.0   \n",
       "Brisbane      16546.0     16481.0  16424.0    16457.0  16372.0     15249.0   \n",
       "Perth         14604.0     14626.0  14582.0    14576.0  14744.0     18619.0   \n",
       "Adelaide      16356.0     16343.0  16290.0    16301.0  16369.0     16839.0   \n",
       "\n",
       "city       Atlanta   Boston  Phoenix   Denver  \n",
       "city                                           \n",
       "Sydney     14946.0  16243.0  12557.0  13421.0  \n",
       "Melbourne  15588.0  16930.0  13244.0  14118.0  \n",
       "Brisbane   14541.0  15722.0  12068.0  12894.0  \n",
       "Perth      18115.0  18711.0  15570.0  16278.0  \n",
       "Adelaide   16094.0  17325.0  13661.0  14496.0  \n",
       "\n",
       "[5 rows x 60 columns]"
      ]
     },
     "execution_count": 31,
     "metadata": {},
     "output_type": "execute_result"
    }
   ],
   "source": [
    "world_cities_distances.head()"
   ]
  },
  {
   "cell_type": "code",
   "execution_count": 32,
   "metadata": {},
   "outputs": [],
   "source": [
    "world_results = pd.DataFrame(data=world_cities.city, columns=['city'])"
   ]
  },
  {
   "cell_type": "code",
   "execution_count": 33,
   "metadata": {},
   "outputs": [
    {
     "name": "stdout",
     "output_type": "stream",
     "text": [
      "breaking at iteration 65 with stress 2134296579.945724\n",
      "breaking at iteration 154 with stress 2134068409.553594\n",
      "breaking at iteration 86 with stress 2135597070.8634744\n",
      "breaking at iteration 237 with stress 2134068409.5367002\n"
     ]
    }
   ],
   "source": [
    "\n",
    "mds_results =  MDS(verbose=1, dissimilarity='precomputed').fit_transform(world_cities_distances.values)\n",
    "\n",
    "world_results['mds_x'] = mds_results[:,0]\n",
    "world_results['mds_y'] = mds_results[:,1]"
   ]
  },
  {
   "cell_type": "markdown",
   "metadata": {},
   "source": []
  },
  {
   "cell_type": "code",
   "execution_count": 34,
   "metadata": {},
   "outputs": [
    {
     "data": {
      "application/vnd.plotly.v1+json": {
       "config": {
        "plotlyServerURL": "https://plot.ly"
       },
       "data": [
        {
         "hovertemplate": "mds_x=%{x}<br>mds_y=%{y}<br>city=%{text}<extra></extra>",
         "legendgroup": "",
         "marker": {
          "color": "#636efa",
          "symbol": "circle"
         },
         "mode": "markers+text",
         "name": "",
         "orientation": "v",
         "showlegend": false,
         "text": [
          "Sydney",
          "Melbourne",
          "Brisbane",
          "Perth",
          "Adelaide",
          "São Paulo",
          "Rio de Janeiro",
          "Belo Horizonte",
          "Porto Alegre",
          "Brasília",
          "Shanghai",
          "Beijing",
          "Guangzhou",
          "Shenzhen",
          "Wuhan",
          "Paris",
          "Lyon",
          "Marseille",
          "Lille",
          "Nice",
          "Berlin",
          "Stuttgart",
          "Frankfurt",
          "Mannheim",
          "Hamburg",
          "Athens",
          "Thessaloniki",
          "Piraeus",
          "Patra",
          "Iraklio",
          "Mumbai",
          "Delhi",
          "Kolkata",
          "Chennai",
          "Bangalore",
          "Rome",
          "Milan",
          "Naples",
          "Turin",
          "Florence",
          "Johannesburg",
          "Cape Town",
          "Pretoria",
          "Pietermaritzburg",
          "Bloemfontein",
          "Madrid",
          "Barcelona",
          "Seville",
          "Bilbao",
          "Valencia",
          "Birmingham",
          "Manchester",
          "Leeds",
          "Sheffield",
          "Glasgow",
          "Washington",
          "Atlanta",
          "Boston",
          "Phoenix",
          "Denver"
         ],
         "type": "scatter",
         "x": [
          -2244.3124188329252,
          -1996.190839206741,
          -3163.537818137387,
          -3748.6194174498914,
          -2740.2554797773337,
          8523.202677299547,
          8252.078434932435,
          8184.85131844596,
          9008.387025006325,
          8279.607559334914,
          -7669.464493934686,
          -7209.521906881034,
          -7101.36244983343,
          -7141.102911973459,
          -7214.507757401892,
          -305.07561509130255,
          -231.46979879072885,
          -90.46245264306933,
          -479.543178962684,
          -242.0108760199728,
          -1181.8366149433907,
          -708.6248646463719,
          -764.4389566150279,
          -713.0035621451134,
          -1060.1688747039332,
          -1130.9037545598228,
          -1204.6284849257966,
          -1126.4758293440366,
          -988.2986802637419,
          -1089.6090415036233,
          -4036.0579376904457,
          -4646.90217303717,
          -5304.712207799219,
          -4420.838479506644,
          -4198.410966850689,
          -489.7442944035895,
          -486.73846042069505,
          -557.8168501520361,
          -361.1047981762729,
          -517.9797180182264,
          2639.648345199069,
          3860.8151103735786,
          2595.336284492014,
          2635.7924544786065,
          2962.9405004703244,
          674.943218759765,
          247.05725434458012,
          1049.8964630547605,
          412.3025203754587,
          549.8929728578244,
          -316.4293563699015,
          -374.9999366072828,
          -437.8125641019356,
          -407.33661189604464,
          -442.55219901507695,
          5122.262562162311,
          6108.837968464094,
          4430.59342448227,
          7092.679614069909,
          5913.736924028878
         ],
         "xaxis": "x",
         "y": [
          12334.05681814699,
          12163.222591688726,
          11985.468135662957,
          9889.110872845411,
          11574.77256167428,
          1307.852582677053,
          1317.9786511406191,
          936.8538418172343,
          2080.0918132364413,
          339.3215020855155,
          2523.621839939018,
          1307.4240832805592,
          3544.7589594513775,
          3646.6572179259115,
          2538.8089989325213,
          -3443.245811701292,
          -3113.21856703864,
          -2910.9823025666637,
          -3526.613064653526,
          -2844.9022134240035,
          -3192.75703001879,
          -3124.598530888167,
          -3241.0935081767616,
          -3208.642726574374,
          -3406.4035012693216,
          -1634.4234257385542,
          -1913.633304785908,
          -1632.5791148138817,
          -1739.8170689870894,
          -1323.101850775263,
          2596.826183830437,
          1644.39140262129,
          2828.37565193951,
          3623.879662564155,
          3514.9877801943476,
          -2452.641398265246,
          -2882.07571866988,
          -2286.2576243079307,
          -2924.8429538393666,
          -2659.267830470998,
          5051.713716123486,
          5278.413114433172,
          5018.401258971697,
          5501.42665546295,
          5233.651281020089,
          -3228.742902094716,
          -2953.7576735083385,
          -3166.6190570562426,
          -3363.7262113561774,
          -2973.2727502381567,
          -3866.02196921446,
          -3941.7554095331034,
          -3932.209790986134,
          -3901.0604595644927,
          -4167.288240517889,
          -5540.940496475697,
          -5276.231516649346,
          -5652.968827414595,
          -5943.609564256095,
          -6412.764761834659
         ],
         "yaxis": "y"
        }
       ],
       "layout": {
        "height": 800,
        "legend": {
         "tracegroupgap": 0
        },
        "template": {
         "data": {
          "bar": [
           {
            "error_x": {
             "color": "#2a3f5f"
            },
            "error_y": {
             "color": "#2a3f5f"
            },
            "marker": {
             "line": {
              "color": "#E5ECF6",
              "width": 0.5
             },
             "pattern": {
              "fillmode": "overlay",
              "size": 10,
              "solidity": 0.2
             }
            },
            "type": "bar"
           }
          ],
          "barpolar": [
           {
            "marker": {
             "line": {
              "color": "#E5ECF6",
              "width": 0.5
             },
             "pattern": {
              "fillmode": "overlay",
              "size": 10,
              "solidity": 0.2
             }
            },
            "type": "barpolar"
           }
          ],
          "carpet": [
           {
            "aaxis": {
             "endlinecolor": "#2a3f5f",
             "gridcolor": "white",
             "linecolor": "white",
             "minorgridcolor": "white",
             "startlinecolor": "#2a3f5f"
            },
            "baxis": {
             "endlinecolor": "#2a3f5f",
             "gridcolor": "white",
             "linecolor": "white",
             "minorgridcolor": "white",
             "startlinecolor": "#2a3f5f"
            },
            "type": "carpet"
           }
          ],
          "choropleth": [
           {
            "colorbar": {
             "outlinewidth": 0,
             "ticks": ""
            },
            "type": "choropleth"
           }
          ],
          "contour": [
           {
            "colorbar": {
             "outlinewidth": 0,
             "ticks": ""
            },
            "colorscale": [
             [
              0,
              "#0d0887"
             ],
             [
              0.1111111111111111,
              "#46039f"
             ],
             [
              0.2222222222222222,
              "#7201a8"
             ],
             [
              0.3333333333333333,
              "#9c179e"
             ],
             [
              0.4444444444444444,
              "#bd3786"
             ],
             [
              0.5555555555555556,
              "#d8576b"
             ],
             [
              0.6666666666666666,
              "#ed7953"
             ],
             [
              0.7777777777777778,
              "#fb9f3a"
             ],
             [
              0.8888888888888888,
              "#fdca26"
             ],
             [
              1,
              "#f0f921"
             ]
            ],
            "type": "contour"
           }
          ],
          "contourcarpet": [
           {
            "colorbar": {
             "outlinewidth": 0,
             "ticks": ""
            },
            "type": "contourcarpet"
           }
          ],
          "heatmap": [
           {
            "colorbar": {
             "outlinewidth": 0,
             "ticks": ""
            },
            "colorscale": [
             [
              0,
              "#0d0887"
             ],
             [
              0.1111111111111111,
              "#46039f"
             ],
             [
              0.2222222222222222,
              "#7201a8"
             ],
             [
              0.3333333333333333,
              "#9c179e"
             ],
             [
              0.4444444444444444,
              "#bd3786"
             ],
             [
              0.5555555555555556,
              "#d8576b"
             ],
             [
              0.6666666666666666,
              "#ed7953"
             ],
             [
              0.7777777777777778,
              "#fb9f3a"
             ],
             [
              0.8888888888888888,
              "#fdca26"
             ],
             [
              1,
              "#f0f921"
             ]
            ],
            "type": "heatmap"
           }
          ],
          "heatmapgl": [
           {
            "colorbar": {
             "outlinewidth": 0,
             "ticks": ""
            },
            "colorscale": [
             [
              0,
              "#0d0887"
             ],
             [
              0.1111111111111111,
              "#46039f"
             ],
             [
              0.2222222222222222,
              "#7201a8"
             ],
             [
              0.3333333333333333,
              "#9c179e"
             ],
             [
              0.4444444444444444,
              "#bd3786"
             ],
             [
              0.5555555555555556,
              "#d8576b"
             ],
             [
              0.6666666666666666,
              "#ed7953"
             ],
             [
              0.7777777777777778,
              "#fb9f3a"
             ],
             [
              0.8888888888888888,
              "#fdca26"
             ],
             [
              1,
              "#f0f921"
             ]
            ],
            "type": "heatmapgl"
           }
          ],
          "histogram": [
           {
            "marker": {
             "pattern": {
              "fillmode": "overlay",
              "size": 10,
              "solidity": 0.2
             }
            },
            "type": "histogram"
           }
          ],
          "histogram2d": [
           {
            "colorbar": {
             "outlinewidth": 0,
             "ticks": ""
            },
            "colorscale": [
             [
              0,
              "#0d0887"
             ],
             [
              0.1111111111111111,
              "#46039f"
             ],
             [
              0.2222222222222222,
              "#7201a8"
             ],
             [
              0.3333333333333333,
              "#9c179e"
             ],
             [
              0.4444444444444444,
              "#bd3786"
             ],
             [
              0.5555555555555556,
              "#d8576b"
             ],
             [
              0.6666666666666666,
              "#ed7953"
             ],
             [
              0.7777777777777778,
              "#fb9f3a"
             ],
             [
              0.8888888888888888,
              "#fdca26"
             ],
             [
              1,
              "#f0f921"
             ]
            ],
            "type": "histogram2d"
           }
          ],
          "histogram2dcontour": [
           {
            "colorbar": {
             "outlinewidth": 0,
             "ticks": ""
            },
            "colorscale": [
             [
              0,
              "#0d0887"
             ],
             [
              0.1111111111111111,
              "#46039f"
             ],
             [
              0.2222222222222222,
              "#7201a8"
             ],
             [
              0.3333333333333333,
              "#9c179e"
             ],
             [
              0.4444444444444444,
              "#bd3786"
             ],
             [
              0.5555555555555556,
              "#d8576b"
             ],
             [
              0.6666666666666666,
              "#ed7953"
             ],
             [
              0.7777777777777778,
              "#fb9f3a"
             ],
             [
              0.8888888888888888,
              "#fdca26"
             ],
             [
              1,
              "#f0f921"
             ]
            ],
            "type": "histogram2dcontour"
           }
          ],
          "mesh3d": [
           {
            "colorbar": {
             "outlinewidth": 0,
             "ticks": ""
            },
            "type": "mesh3d"
           }
          ],
          "parcoords": [
           {
            "line": {
             "colorbar": {
              "outlinewidth": 0,
              "ticks": ""
             }
            },
            "type": "parcoords"
           }
          ],
          "pie": [
           {
            "automargin": true,
            "type": "pie"
           }
          ],
          "scatter": [
           {
            "marker": {
             "colorbar": {
              "outlinewidth": 0,
              "ticks": ""
             }
            },
            "type": "scatter"
           }
          ],
          "scatter3d": [
           {
            "line": {
             "colorbar": {
              "outlinewidth": 0,
              "ticks": ""
             }
            },
            "marker": {
             "colorbar": {
              "outlinewidth": 0,
              "ticks": ""
             }
            },
            "type": "scatter3d"
           }
          ],
          "scattercarpet": [
           {
            "marker": {
             "colorbar": {
              "outlinewidth": 0,
              "ticks": ""
             }
            },
            "type": "scattercarpet"
           }
          ],
          "scattergeo": [
           {
            "marker": {
             "colorbar": {
              "outlinewidth": 0,
              "ticks": ""
             }
            },
            "type": "scattergeo"
           }
          ],
          "scattergl": [
           {
            "marker": {
             "colorbar": {
              "outlinewidth": 0,
              "ticks": ""
             }
            },
            "type": "scattergl"
           }
          ],
          "scattermapbox": [
           {
            "marker": {
             "colorbar": {
              "outlinewidth": 0,
              "ticks": ""
             }
            },
            "type": "scattermapbox"
           }
          ],
          "scatterpolar": [
           {
            "marker": {
             "colorbar": {
              "outlinewidth": 0,
              "ticks": ""
             }
            },
            "type": "scatterpolar"
           }
          ],
          "scatterpolargl": [
           {
            "marker": {
             "colorbar": {
              "outlinewidth": 0,
              "ticks": ""
             }
            },
            "type": "scatterpolargl"
           }
          ],
          "scatterternary": [
           {
            "marker": {
             "colorbar": {
              "outlinewidth": 0,
              "ticks": ""
             }
            },
            "type": "scatterternary"
           }
          ],
          "surface": [
           {
            "colorbar": {
             "outlinewidth": 0,
             "ticks": ""
            },
            "colorscale": [
             [
              0,
              "#0d0887"
             ],
             [
              0.1111111111111111,
              "#46039f"
             ],
             [
              0.2222222222222222,
              "#7201a8"
             ],
             [
              0.3333333333333333,
              "#9c179e"
             ],
             [
              0.4444444444444444,
              "#bd3786"
             ],
             [
              0.5555555555555556,
              "#d8576b"
             ],
             [
              0.6666666666666666,
              "#ed7953"
             ],
             [
              0.7777777777777778,
              "#fb9f3a"
             ],
             [
              0.8888888888888888,
              "#fdca26"
             ],
             [
              1,
              "#f0f921"
             ]
            ],
            "type": "surface"
           }
          ],
          "table": [
           {
            "cells": {
             "fill": {
              "color": "#EBF0F8"
             },
             "line": {
              "color": "white"
             }
            },
            "header": {
             "fill": {
              "color": "#C8D4E3"
             },
             "line": {
              "color": "white"
             }
            },
            "type": "table"
           }
          ]
         },
         "layout": {
          "annotationdefaults": {
           "arrowcolor": "#2a3f5f",
           "arrowhead": 0,
           "arrowwidth": 1
          },
          "autotypenumbers": "strict",
          "coloraxis": {
           "colorbar": {
            "outlinewidth": 0,
            "ticks": ""
           }
          },
          "colorscale": {
           "diverging": [
            [
             0,
             "#8e0152"
            ],
            [
             0.1,
             "#c51b7d"
            ],
            [
             0.2,
             "#de77ae"
            ],
            [
             0.3,
             "#f1b6da"
            ],
            [
             0.4,
             "#fde0ef"
            ],
            [
             0.5,
             "#f7f7f7"
            ],
            [
             0.6,
             "#e6f5d0"
            ],
            [
             0.7,
             "#b8e186"
            ],
            [
             0.8,
             "#7fbc41"
            ],
            [
             0.9,
             "#4d9221"
            ],
            [
             1,
             "#276419"
            ]
           ],
           "sequential": [
            [
             0,
             "#0d0887"
            ],
            [
             0.1111111111111111,
             "#46039f"
            ],
            [
             0.2222222222222222,
             "#7201a8"
            ],
            [
             0.3333333333333333,
             "#9c179e"
            ],
            [
             0.4444444444444444,
             "#bd3786"
            ],
            [
             0.5555555555555556,
             "#d8576b"
            ],
            [
             0.6666666666666666,
             "#ed7953"
            ],
            [
             0.7777777777777778,
             "#fb9f3a"
            ],
            [
             0.8888888888888888,
             "#fdca26"
            ],
            [
             1,
             "#f0f921"
            ]
           ],
           "sequentialminus": [
            [
             0,
             "#0d0887"
            ],
            [
             0.1111111111111111,
             "#46039f"
            ],
            [
             0.2222222222222222,
             "#7201a8"
            ],
            [
             0.3333333333333333,
             "#9c179e"
            ],
            [
             0.4444444444444444,
             "#bd3786"
            ],
            [
             0.5555555555555556,
             "#d8576b"
            ],
            [
             0.6666666666666666,
             "#ed7953"
            ],
            [
             0.7777777777777778,
             "#fb9f3a"
            ],
            [
             0.8888888888888888,
             "#fdca26"
            ],
            [
             1,
             "#f0f921"
            ]
           ]
          },
          "colorway": [
           "#636efa",
           "#EF553B",
           "#00cc96",
           "#ab63fa",
           "#FFA15A",
           "#19d3f3",
           "#FF6692",
           "#B6E880",
           "#FF97FF",
           "#FECB52"
          ],
          "font": {
           "color": "#2a3f5f"
          },
          "geo": {
           "bgcolor": "white",
           "lakecolor": "white",
           "landcolor": "#E5ECF6",
           "showlakes": true,
           "showland": true,
           "subunitcolor": "white"
          },
          "hoverlabel": {
           "align": "left"
          },
          "hovermode": "closest",
          "mapbox": {
           "style": "light"
          },
          "paper_bgcolor": "white",
          "plot_bgcolor": "#E5ECF6",
          "polar": {
           "angularaxis": {
            "gridcolor": "white",
            "linecolor": "white",
            "ticks": ""
           },
           "bgcolor": "#E5ECF6",
           "radialaxis": {
            "gridcolor": "white",
            "linecolor": "white",
            "ticks": ""
           }
          },
          "scene": {
           "xaxis": {
            "backgroundcolor": "#E5ECF6",
            "gridcolor": "white",
            "gridwidth": 2,
            "linecolor": "white",
            "showbackground": true,
            "ticks": "",
            "zerolinecolor": "white"
           },
           "yaxis": {
            "backgroundcolor": "#E5ECF6",
            "gridcolor": "white",
            "gridwidth": 2,
            "linecolor": "white",
            "showbackground": true,
            "ticks": "",
            "zerolinecolor": "white"
           },
           "zaxis": {
            "backgroundcolor": "#E5ECF6",
            "gridcolor": "white",
            "gridwidth": 2,
            "linecolor": "white",
            "showbackground": true,
            "ticks": "",
            "zerolinecolor": "white"
           }
          },
          "shapedefaults": {
           "line": {
            "color": "#2a3f5f"
           }
          },
          "ternary": {
           "aaxis": {
            "gridcolor": "white",
            "linecolor": "white",
            "ticks": ""
           },
           "baxis": {
            "gridcolor": "white",
            "linecolor": "white",
            "ticks": ""
           },
           "bgcolor": "#E5ECF6",
           "caxis": {
            "gridcolor": "white",
            "linecolor": "white",
            "ticks": ""
           }
          },
          "title": {
           "x": 0.05
          },
          "xaxis": {
           "automargin": true,
           "gridcolor": "white",
           "linecolor": "white",
           "ticks": "",
           "title": {
            "standoff": 15
           },
           "zerolinecolor": "white",
           "zerolinewidth": 2
          },
          "yaxis": {
           "automargin": true,
           "gridcolor": "white",
           "linecolor": "white",
           "ticks": "",
           "title": {
            "standoff": 15
           },
           "zerolinecolor": "white",
           "zerolinewidth": 2
          }
         }
        },
        "title": {
         "text": "MDS Projection of World Cities (Linear Projection)"
        },
        "width": 800,
        "xaxis": {
         "anchor": "y",
         "domain": [
          0,
          1
         ],
         "showticklabels": false,
         "title": {
          "text": "mds_x"
         }
        },
        "yaxis": {
         "anchor": "x",
         "domain": [
          0,
          1
         ],
         "showticklabels": false,
         "title": {
          "text": "mds_y"
         }
        }
       }
      }
     },
     "metadata": {},
     "output_type": "display_data"
    }
   ],
   "source": [
    "fig = px.scatter(world_results, x=\"mds_x\", y=\"mds_y\",\n",
    "                text=\"city\", \n",
    "                width=800, height=800, \n",
    "                title=\"MDS Projection of World Cities (Linear Projection)\")\n",
    "\n",
    "\n",
    "fig.update_xaxes(\n",
    "    showticklabels=False\n",
    ")\n",
    "fig.update_yaxes(\n",
    "    showticklabels=False\n",
    ")\n",
    "\n",
    "fig"
   ]
  },
  {
   "cell_type": "markdown",
   "metadata": {},
   "source": [
    "Points to make: \n",
    "\n",
    "1. The size of a cluster on the 2D map is proportional to the size of the cluster(country or continent) on the surface of the earth\n",
    "2. The relative position of the clusters on the map is the same as the relative positions of the clusters in the high dimensional data \n",
    "3. MDS tries its best to represent faithfully distances from far away points.  \n",
    "4. MDS is not that good in representing the **local** structure of the data (=which city is closer to which)\n"
   ]
  },
  {
   "cell_type": "code",
   "execution_count": 35,
   "metadata": {},
   "outputs": [],
   "source": [
    "map_distances_world = pdist(world_results[['mds_x', 'mds_y']].values)\n",
    "HD_distances_world = squareform(world_cities_distances.values)"
   ]
  },
  {
   "cell_type": "markdown",
   "metadata": {},
   "source": [
    "The Shepard diagram reveals a lot more deviations from the ideal diagonal line. So for some city pairs the distance on the map is not proportional to the distance on the surface of the earth and the difference can be significant. For the vast majority of the city pairs though, the MDS projection does a good job. "
   ]
  },
  {
   "cell_type": "code",
   "execution_count": 36,
   "metadata": {},
   "outputs": [
    {
     "data": {
      "text/plain": [
       "Text(0.5, 1.0, 'Shepard Diagram for MDS')"
      ]
     },
     "execution_count": 36,
     "metadata": {},
     "output_type": "execute_result"
    },
    {
     "data": {
      "image/png": "[encoded data removed]",
      "text/plain": [
       "<Figure size 432x432 with 1 Axes>"
      ]
     },
     "metadata": {
      "needs_background": "light"
     },
     "output_type": "display_data"
    }
   ],
   "source": [
    "fig, ax = plt.subplots(figsize=(6,6))\n",
    "\n",
    "ax.scatter(HD_distances_world, map_distances_world, s=1, alpha=0.4)\n",
    "\n",
    "ax.set_aspect(\"equal\")\n",
    "ax.set_xlabel(\"Distance on the surface of the earth\")\n",
    "ax.set_ylabel(\"Projected 2D distance\")\n",
    "ax.plot([0,21000], [0, 21000], color='grey', ls=\"--\")\n",
    "ax.set_title(\"Shepard Diagram for MDS\")"
   ]
  },
  {
   "cell_type": "markdown",
   "metadata": {},
   "source": [
    "## Non-Linear projection (t-SNE)"
   ]
  },
  {
   "cell_type": "markdown",
   "metadata": {},
   "source": [
    "The non-linear projections are harder to interpret compared to MDS or PCA. This because distances on the 2D map are no longer proportional to distances on the surface of the earth. In other workds, t-SNE distorts space. It expands high density areas in and condenses low density ones to show local structure(=clusters) at different scales. For the non-linear projections, cluster membership and representing local neibhorhood relations is more important than showing the global structure of the data correctly. "
   ]
  },
  {
   "cell_type": "code",
   "execution_count": 37,
   "metadata": {},
   "outputs": [
    {
     "name": "stdout",
     "output_type": "stream",
     "text": [
      "[t-SNE] Computing 59 nearest neighbors...\n",
      "[t-SNE] Indexed 60 samples in 0.000s...\n",
      "[t-SNE] Computed neighbors for 60 samples in 0.001s...\n",
      "[t-SNE] Computed conditional probabilities for sample 60 / 60\n",
      "[t-SNE] Mean sigma: 47.833030\n",
      "[t-SNE] KL divergence after 250 iterations with early exaggeration: 52.911415\n",
      "[t-SNE] KL divergence after 1000 iterations: 0.227968\n"
     ]
    }
   ],
   "source": [
    "tsne_results = TSNE(n_components=2, verbose=1, perplexity=30,\n",
    "                metric=\"precomputed\").fit_transform(world_cities_distances.values)\n",
    "\n",
    "world_results['tsne30_x'] = tsne_results[:,0]\n",
    "world_results['tsne30_y'] = tsne_results[:,1]"
   ]
  },
  {
   "cell_type": "code",
   "execution_count": 38,
   "metadata": {},
   "outputs": [
    {
     "data": {
      "application/vnd.plotly.v1+json": {
       "config": {
        "plotlyServerURL": "https://plot.ly"
       },
       "data": [
        {
         "hovertemplate": "tsne30_x=%{x}<br>tsne30_y=%{y}<br>city=%{text}<extra></extra>",
         "legendgroup": "",
         "marker": {
          "color": "#636efa",
          "symbol": "circle"
         },
         "mode": "markers+text",
         "name": "",
         "orientation": "v",
         "showlegend": false,
         "text": [
          "Sydney",
          "Melbourne",
          "Brisbane",
          "Perth",
          "Adelaide",
          "São Paulo",
          "Rio de Janeiro",
          "Belo Horizonte",
          "Porto Alegre",
          "Brasília",
          "Shanghai",
          "Beijing",
          "Guangzhou",
          "Shenzhen",
          "Wuhan",
          "Paris",
          "Lyon",
          "Marseille",
          "Lille",
          "Nice",
          "Berlin",
          "Stuttgart",
          "Frankfurt",
          "Mannheim",
          "Hamburg",
          "Athens",
          "Thessaloniki",
          "Piraeus",
          "Patra",
          "Iraklio",
          "Mumbai",
          "Delhi",
          "Kolkata",
          "Chennai",
          "Bangalore",
          "Rome",
          "Milan",
          "Naples",
          "Turin",
          "Florence",
          "Johannesburg",
          "Cape Town",
          "Pretoria",
          "Pietermaritzburg",
          "Bloemfontein",
          "Madrid",
          "Barcelona",
          "Seville",
          "Bilbao",
          "Valencia",
          "Birmingham",
          "Manchester",
          "Leeds",
          "Sheffield",
          "Glasgow",
          "Washington",
          "Atlanta",
          "Boston",
          "Phoenix",
          "Denver"
         ],
         "type": "scatter",
         "x": [
          -19.85464859008789,
          -17.151613235473633,
          -22.776981353759766,
          -14.29842758178711,
          -19.724388122558594,
          -12.975122451782227,
          -17.067270278930664,
          -14.034750938415527,
          -8.502854347229004,
          -9.42039680480957,
          -9.125412940979004,
          -7.474003791809082,
          -3.8607163429260254,
          -5.029036045074463,
          -9.9826021194458,
          22.738962173461914,
          10.121943473815918,
          18.332256317138672,
          13.78650951385498,
          22.458389282226562,
          8.551374435424805,
          13.948282241821289,
          9.4790678024292,
          4.947873115539551,
          3.7600955963134766,
          11.477254867553711,
          14.515933990478516,
          19.651199340820312,
          8.164970397949219,
          16.340707778930664,
          2.56974458694458,
          -2.4708001613616943,
          1.0869041681289673,
          -0.3387998938560486,
          4.372848033905029,
          23.857606887817383,
          14.960127830505371,
          18.320480346679688,
          18.44865608215332,
          11.402210235595703,
          -8.023261070251465,
          -16.00685691833496,
          -11.636224746704102,
          -11.43735122680664,
          -15.536089897155762,
          28.130935668945312,
          5.481105804443359,
          27.231781005859375,
          28.093536376953125,
          23.15443229675293,
          20.331985473632812,
          18.21354866027832,
          9.237348556518555,
          13.88815689086914,
          14.984380722045898,
          2.306260347366333,
          0.7617425322532654,
          5.650272846221924,
          -3.405104637145996,
          -3.9619836807250977
         ],
         "xaxis": "x",
         "y": [
          -19.93169593811035,
          -16.213930130004883,
          -16.09844398498535,
          -11.856812477111816,
          -12.064618110656738,
          15.276250839233398,
          16.90813636779785,
          20.614192962646484,
          14.716425895690918,
          19.87351417541504,
          -25.64104461669922,
          -17.03105354309082,
          -25.75881576538086,
          -21.4479923248291,
          -21.12140655517578,
          10.22245979309082,
          6.784192085266113,
          12.21465015411377,
          14.813406944274902,
          4.780703544616699,
          16.412240982055664,
          9.827308654785156,
          11.724268913269043,
          9.342933654785156,
          14.923335075378418,
          -6.984780788421631,
          -2.813284158706665,
          -5.145157337188721,
          -2.851975679397583,
          -9.239911079406738,
          -12.570700645446777,
          -12.115555763244629,
          -21.448999404907227,
          -16.747848510742188,
          -17.171098709106445,
          -0.3307095468044281,
          4.729916095733643,
          0.8008525371551514,
          7.320980548858643,
          1.7919564247131348,
          1.177837610244751,
          5.670383930206299,
          -1.495666265487671,
          4.066224098205566,
          0.8459485769271851,
          6.982577323913574,
          3.567803144454956,
          18.964445114135742,
          12.666125297546387,
          15.368062973022461,
          22.39206886291504,
          17.831693649291992,
          21.775218963623047,
          19.862035751342773,
          25.069242477416992,
          32.845970153808594,
          27.985225677490234,
          29.923860549926758,
          33.861270904541016,
          29.51988410949707
         ],
         "yaxis": "y"
        }
       ],
       "layout": {
        "height": 800,
        "legend": {
         "tracegroupgap": 0
        },
        "template": {
         "data": {
          "bar": [
           {
            "error_x": {
             "color": "#2a3f5f"
            },
            "error_y": {
             "color": "#2a3f5f"
            },
            "marker": {
             "line": {
              "color": "#E5ECF6",
              "width": 0.5
             },
             "pattern": {
              "fillmode": "overlay",
              "size": 10,
              "solidity": 0.2
             }
            },
            "type": "bar"
           }
          ],
          "barpolar": [
           {
            "marker": {
             "line": {
              "color": "#E5ECF6",
              "width": 0.5
             },
             "pattern": {
              "fillmode": "overlay",
              "size": 10,
              "solidity": 0.2
             }
            },
            "type": "barpolar"
           }
          ],
          "carpet": [
           {
            "aaxis": {
             "endlinecolor": "#2a3f5f",
             "gridcolor": "white",
             "linecolor": "white",
             "minorgridcolor": "white",
             "startlinecolor": "#2a3f5f"
            },
            "baxis": {
             "endlinecolor": "#2a3f5f",
             "gridcolor": "white",
             "linecolor": "white",
             "minorgridcolor": "white",
             "startlinecolor": "#2a3f5f"
            },
            "type": "carpet"
           }
          ],
          "choropleth": [
           {
            "colorbar": {
             "outlinewidth": 0,
             "ticks": ""
            },
            "type": "choropleth"
           }
          ],
          "contour": [
           {
            "colorbar": {
             "outlinewidth": 0,
             "ticks": ""
            },
            "colorscale": [
             [
              0,
              "#0d0887"
             ],
             [
              0.1111111111111111,
              "#46039f"
             ],
             [
              0.2222222222222222,
              "#7201a8"
             ],
             [
              0.3333333333333333,
              "#9c179e"
             ],
             [
              0.4444444444444444,
              "#bd3786"
             ],
             [
              0.5555555555555556,
              "#d8576b"
             ],
             [
              0.6666666666666666,
              "#ed7953"
             ],
             [
              0.7777777777777778,
              "#fb9f3a"
             ],
             [
              0.8888888888888888,
              "#fdca26"
             ],
             [
              1,
              "#f0f921"
             ]
            ],
            "type": "contour"
           }
          ],
          "contourcarpet": [
           {
            "colorbar": {
             "outlinewidth": 0,
             "ticks": ""
            },
            "type": "contourcarpet"
           }
          ],
          "heatmap": [
           {
            "colorbar": {
             "outlinewidth": 0,
             "ticks": ""
            },
            "colorscale": [
             [
              0,
              "#0d0887"
             ],
             [
              0.1111111111111111,
              "#46039f"
             ],
             [
              0.2222222222222222,
              "#7201a8"
             ],
             [
              0.3333333333333333,
              "#9c179e"
             ],
             [
              0.4444444444444444,
              "#bd3786"
             ],
             [
              0.5555555555555556,
              "#d8576b"
             ],
             [
              0.6666666666666666,
              "#ed7953"
             ],
             [
              0.7777777777777778,
              "#fb9f3a"
             ],
             [
              0.8888888888888888,
              "#fdca26"
             ],
             [
              1,
              "#f0f921"
             ]
            ],
            "type": "heatmap"
           }
          ],
          "heatmapgl": [
           {
            "colorbar": {
             "outlinewidth": 0,
             "ticks": ""
            },
            "colorscale": [
             [
              0,
              "#0d0887"
             ],
             [
              0.1111111111111111,
              "#46039f"
             ],
             [
              0.2222222222222222,
              "#7201a8"
             ],
             [
              0.3333333333333333,
              "#9c179e"
             ],
             [
              0.4444444444444444,
              "#bd3786"
             ],
             [
              0.5555555555555556,
              "#d8576b"
             ],
             [
              0.6666666666666666,
              "#ed7953"
             ],
             [
              0.7777777777777778,
              "#fb9f3a"
             ],
             [
              0.8888888888888888,
              "#fdca26"
             ],
             [
              1,
              "#f0f921"
             ]
            ],
            "type": "heatmapgl"
           }
          ],
          "histogram": [
           {
            "marker": {
             "pattern": {
              "fillmode": "overlay",
              "size": 10,
              "solidity": 0.2
             }
            },
            "type": "histogram"
           }
          ],
          "histogram2d": [
           {
            "colorbar": {
             "outlinewidth": 0,
             "ticks": ""
            },
            "colorscale": [
             [
              0,
              "#0d0887"
             ],
             [
              0.1111111111111111,
              "#46039f"
             ],
             [
              0.2222222222222222,
              "#7201a8"
             ],
             [
              0.3333333333333333,
              "#9c179e"
             ],
             [
              0.4444444444444444,
              "#bd3786"
             ],
             [
              0.5555555555555556,
              "#d8576b"
             ],
             [
              0.6666666666666666,
              "#ed7953"
             ],
             [
              0.7777777777777778,
              "#fb9f3a"
             ],
             [
              0.8888888888888888,
              "#fdca26"
             ],
             [
              1,
              "#f0f921"
             ]
            ],
            "type": "histogram2d"
           }
          ],
          "histogram2dcontour": [
           {
            "colorbar": {
             "outlinewidth": 0,
             "ticks": ""
            },
            "colorscale": [
             [
              0,
              "#0d0887"
             ],
             [
              0.1111111111111111,
              "#46039f"
             ],
             [
              0.2222222222222222,
              "#7201a8"
             ],
             [
              0.3333333333333333,
              "#9c179e"
             ],
             [
              0.4444444444444444,
              "#bd3786"
             ],
             [
              0.5555555555555556,
              "#d8576b"
             ],
             [
              0.6666666666666666,
              "#ed7953"
             ],
             [
              0.7777777777777778,
              "#fb9f3a"
             ],
             [
              0.8888888888888888,
              "#fdca26"
             ],
             [
              1,
              "#f0f921"
             ]
            ],
            "type": "histogram2dcontour"
           }
          ],
          "mesh3d": [
           {
            "colorbar": {
             "outlinewidth": 0,
             "ticks": ""
            },
            "type": "mesh3d"
           }
          ],
          "parcoords": [
           {
            "line": {
             "colorbar": {
              "outlinewidth": 0,
              "ticks": ""
             }
            },
            "type": "parcoords"
           }
          ],
          "pie": [
           {
            "automargin": true,
            "type": "pie"
           }
          ],
          "scatter": [
           {
            "marker": {
             "colorbar": {
              "outlinewidth": 0,
              "ticks": ""
             }
            },
            "type": "scatter"
           }
          ],
          "scatter3d": [
           {
            "line": {
             "colorbar": {
              "outlinewidth": 0,
              "ticks": ""
             }
            },
            "marker": {
             "colorbar": {
              "outlinewidth": 0,
              "ticks": ""
             }
            },
            "type": "scatter3d"
           }
          ],
          "scattercarpet": [
           {
            "marker": {
             "colorbar": {
              "outlinewidth": 0,
              "ticks": ""
             }
            },
            "type": "scattercarpet"
           }
          ],
          "scattergeo": [
           {
            "marker": {
             "colorbar": {
              "outlinewidth": 0,
              "ticks": ""
             }
            },
            "type": "scattergeo"
           }
          ],
          "scattergl": [
           {
            "marker": {
             "colorbar": {
              "outlinewidth": 0,
              "ticks": ""
             }
            },
            "type": "scattergl"
           }
          ],
          "scattermapbox": [
           {
            "marker": {
             "colorbar": {
              "outlinewidth": 0,
              "ticks": ""
             }
            },
            "type": "scattermapbox"
           }
          ],
          "scatterpolar": [
           {
            "marker": {
             "colorbar": {
              "outlinewidth": 0,
              "ticks": ""
             }
            },
            "type": "scatterpolar"
           }
          ],
          "scatterpolargl": [
           {
            "marker": {
             "colorbar": {
              "outlinewidth": 0,
              "ticks": ""
             }
            },
            "type": "scatterpolargl"
           }
          ],
          "scatterternary": [
           {
            "marker": {
             "colorbar": {
              "outlinewidth": 0,
              "ticks": ""
             }
            },
            "type": "scatterternary"
           }
          ],
          "surface": [
           {
            "colorbar": {
             "outlinewidth": 0,
             "ticks": ""
            },
            "colorscale": [
             [
              0,
              "#0d0887"
             ],
             [
              0.1111111111111111,
              "#46039f"
             ],
             [
              0.2222222222222222,
              "#7201a8"
             ],
             [
              0.3333333333333333,
              "#9c179e"
             ],
             [
              0.4444444444444444,
              "#bd3786"
             ],
             [
              0.5555555555555556,
              "#d8576b"
             ],
             [
              0.6666666666666666,
              "#ed7953"
             ],
             [
              0.7777777777777778,
              "#fb9f3a"
             ],
             [
              0.8888888888888888,
              "#fdca26"
             ],
             [
              1,
              "#f0f921"
             ]
            ],
            "type": "surface"
           }
          ],
          "table": [
           {
            "cells": {
             "fill": {
              "color": "#EBF0F8"
             },
             "line": {
              "color": "white"
             }
            },
            "header": {
             "fill": {
              "color": "#C8D4E3"
             },
             "line": {
              "color": "white"
             }
            },
            "type": "table"
           }
          ]
         },
         "layout": {
          "annotationdefaults": {
           "arrowcolor": "#2a3f5f",
           "arrowhead": 0,
           "arrowwidth": 1
          },
          "autotypenumbers": "strict",
          "coloraxis": {
           "colorbar": {
            "outlinewidth": 0,
            "ticks": ""
           }
          },
          "colorscale": {
           "diverging": [
            [
             0,
             "#8e0152"
            ],
            [
             0.1,
             "#c51b7d"
            ],
            [
             0.2,
             "#de77ae"
            ],
            [
             0.3,
             "#f1b6da"
            ],
            [
             0.4,
             "#fde0ef"
            ],
            [
             0.5,
             "#f7f7f7"
            ],
            [
             0.6,
             "#e6f5d0"
            ],
            [
             0.7,
             "#b8e186"
            ],
            [
             0.8,
             "#7fbc41"
            ],
            [
             0.9,
             "#4d9221"
            ],
            [
             1,
             "#276419"
            ]
           ],
           "sequential": [
            [
             0,
             "#0d0887"
            ],
            [
             0.1111111111111111,
             "#46039f"
            ],
            [
             0.2222222222222222,
             "#7201a8"
            ],
            [
             0.3333333333333333,
             "#9c179e"
            ],
            [
             0.4444444444444444,
             "#bd3786"
            ],
            [
             0.5555555555555556,
             "#d8576b"
            ],
            [
             0.6666666666666666,
             "#ed7953"
            ],
            [
             0.7777777777777778,
             "#fb9f3a"
            ],
            [
             0.8888888888888888,
             "#fdca26"
            ],
            [
             1,
             "#f0f921"
            ]
           ],
           "sequentialminus": [
            [
             0,
             "#0d0887"
            ],
            [
             0.1111111111111111,
             "#46039f"
            ],
            [
             0.2222222222222222,
             "#7201a8"
            ],
            [
             0.3333333333333333,
             "#9c179e"
            ],
            [
             0.4444444444444444,
             "#bd3786"
            ],
            [
             0.5555555555555556,
             "#d8576b"
            ],
            [
             0.6666666666666666,
             "#ed7953"
            ],
            [
             0.7777777777777778,
             "#fb9f3a"
            ],
            [
             0.8888888888888888,
             "#fdca26"
            ],
            [
             1,
             "#f0f921"
            ]
           ]
          },
          "colorway": [
           "#636efa",
           "#EF553B",
           "#00cc96",
           "#ab63fa",
           "#FFA15A",
           "#19d3f3",
           "#FF6692",
           "#B6E880",
           "#FF97FF",
           "#FECB52"
          ],
          "font": {
           "color": "#2a3f5f"
          },
          "geo": {
           "bgcolor": "white",
           "lakecolor": "white",
           "landcolor": "#E5ECF6",
           "showlakes": true,
           "showland": true,
           "subunitcolor": "white"
          },
          "hoverlabel": {
           "align": "left"
          },
          "hovermode": "closest",
          "mapbox": {
           "style": "light"
          },
          "paper_bgcolor": "white",
          "plot_bgcolor": "#E5ECF6",
          "polar": {
           "angularaxis": {
            "gridcolor": "white",
            "linecolor": "white",
            "ticks": ""
           },
           "bgcolor": "#E5ECF6",
           "radialaxis": {
            "gridcolor": "white",
            "linecolor": "white",
            "ticks": ""
           }
          },
          "scene": {
           "xaxis": {
            "backgroundcolor": "#E5ECF6",
            "gridcolor": "white",
            "gridwidth": 2,
            "linecolor": "white",
            "showbackground": true,
            "ticks": "",
            "zerolinecolor": "white"
           },
           "yaxis": {
            "backgroundcolor": "#E5ECF6",
            "gridcolor": "white",
            "gridwidth": 2,
            "linecolor": "white",
            "showbackground": true,
            "ticks": "",
            "zerolinecolor": "white"
           },
           "zaxis": {
            "backgroundcolor": "#E5ECF6",
            "gridcolor": "white",
            "gridwidth": 2,
            "linecolor": "white",
            "showbackground": true,
            "ticks": "",
            "zerolinecolor": "white"
           }
          },
          "shapedefaults": {
           "line": {
            "color": "#2a3f5f"
           }
          },
          "ternary": {
           "aaxis": {
            "gridcolor": "white",
            "linecolor": "white",
            "ticks": ""
           },
           "baxis": {
            "gridcolor": "white",
            "linecolor": "white",
            "ticks": ""
           },
           "bgcolor": "#E5ECF6",
           "caxis": {
            "gridcolor": "white",
            "linecolor": "white",
            "ticks": ""
           }
          },
          "title": {
           "x": 0.05
          },
          "xaxis": {
           "automargin": true,
           "gridcolor": "white",
           "linecolor": "white",
           "ticks": "",
           "title": {
            "standoff": 15
           },
           "zerolinecolor": "white",
           "zerolinewidth": 2
          },
          "yaxis": {
           "automargin": true,
           "gridcolor": "white",
           "linecolor": "white",
           "ticks": "",
           "title": {
            "standoff": 15
           },
           "zerolinecolor": "white",
           "zerolinewidth": 2
          }
         }
        },
        "title": {
         "text": "TNSE Projection of World Cities. Perplexity 30. (Non-Linear Projection)"
        },
        "width": 800,
        "xaxis": {
         "anchor": "y",
         "domain": [
          0,
          1
         ],
         "showticklabels": false,
         "title": {
          "text": "tsne30_x"
         }
        },
        "yaxis": {
         "anchor": "x",
         "domain": [
          0,
          1
         ],
         "showticklabels": false,
         "title": {
          "text": "tsne30_y"
         }
        }
       }
      }
     },
     "metadata": {},
     "output_type": "display_data"
    }
   ],
   "source": [
    "fig = px.scatter(world_results, x=\"tsne30_x\", y=\"tsne30_y\",\n",
    "                text=\"city\", \n",
    "                width=800, height=800, \n",
    "                title=\"TNSE Projection of World Cities. Perplexity 30. (Non-Linear Projection)\")\n",
    "\n",
    "\n",
    "fig.update_xaxes(\n",
    "    showticklabels=False\n",
    ")\n",
    "fig.update_yaxes(\n",
    "    showticklabels=False\n",
    ")\n",
    "\n",
    "fig"
   ]
  },
  {
   "cell_type": "markdown",
   "metadata": {},
   "source": [
    "TSNE is less intuitive than MDS and harde to interpet if you don't know how it works. Things to note: \n",
    " \n",
    "1. Dense areas are expanded and sparse areas are condensed\n",
    "2. Cluster size does not reflect cluster size in the data\n",
    "3. Relative position of clusters may be off\n",
    "\n",
    "t-SNE is sensitive to the perplexity parameter whose range is recomended to be between 5 and 50. Lower perplexity values will emphasize local structure structures at different scales (clusters within clusters). Let's try perplexity = 10 "
   ]
  },
  {
   "cell_type": "code",
   "execution_count": 41,
   "metadata": {},
   "outputs": [],
   "source": [
    "tsne_results = TSNE(n_components=2,  verbose=0, perplexity=10,\n",
    "                metric=\"precomputed\").fit_transform(world_cities_distances.values)\n",
    "\n",
    "world_results['tsne10_x'] = tsne_results[:,0]\n",
    "world_results['tsne10_y'] = tsne_results[:,1]"
   ]
  },
  {
   "cell_type": "code",
   "execution_count": 42,
   "metadata": {},
   "outputs": [
    {
     "data": {
      "application/vnd.plotly.v1+json": {
       "config": {
        "plotlyServerURL": "https://plot.ly"
       },
       "data": [
        {
         "hovertemplate": "tsne10_x=%{x}<br>tsne10_y=%{y}<br>city=%{text}<extra></extra>",
         "legendgroup": "",
         "marker": {
          "color": "#636efa",
          "symbol": "circle"
         },
         "mode": "markers+text",
         "name": "",
         "orientation": "v",
         "showlegend": false,
         "text": [
          "Sydney",
          "Melbourne",
          "Brisbane",
          "Perth",
          "Adelaide",
          "São Paulo",
          "Rio de Janeiro",
          "Belo Horizonte",
          "Porto Alegre",
          "Brasília",
          "Shanghai",
          "Beijing",
          "Guangzhou",
          "Shenzhen",
          "Wuhan",
          "Paris",
          "Lyon",
          "Marseille",
          "Lille",
          "Nice",
          "Berlin",
          "Stuttgart",
          "Frankfurt",
          "Mannheim",
          "Hamburg",
          "Athens",
          "Thessaloniki",
          "Piraeus",
          "Patra",
          "Iraklio",
          "Mumbai",
          "Delhi",
          "Kolkata",
          "Chennai",
          "Bangalore",
          "Rome",
          "Milan",
          "Naples",
          "Turin",
          "Florence",
          "Johannesburg",
          "Cape Town",
          "Pretoria",
          "Pietermaritzburg",
          "Bloemfontein",
          "Madrid",
          "Barcelona",
          "Seville",
          "Bilbao",
          "Valencia",
          "Birmingham",
          "Manchester",
          "Leeds",
          "Sheffield",
          "Glasgow",
          "Washington",
          "Atlanta",
          "Boston",
          "Phoenix",
          "Denver"
         ],
         "type": "scatter",
         "x": [
          -112.26729583740234,
          -114.23800659179688,
          -120.04935455322266,
          -105.4491195678711,
          -106.22579193115234,
          105.43460083007812,
          109.0332260131836,
          99.40054321289062,
          114.45462799072266,
          102.22618865966797,
          -74.52739715576172,
          -64.96186065673828,
          -80.64457702636719,
          -76.85956573486328,
          -70.04584503173828,
          -23.885892868041992,
          4.885127067565918,
          21.236949920654297,
          -29.78110122680664,
          12.293524742126465,
          -30.30172348022461,
          -12.623612403869629,
          -21.060352325439453,
          -13.74722671508789,
          -23.678329467773438,
          30.107196807861328,
          15.823604583740234,
          21.88131332397461,
          24.970134735107422,
          28.351694107055664,
          -55.12368392944336,
          -53.093685150146484,
          -62.24184799194336,
          -62.23176193237305,
          -65.12669372558594,
          18.30792808532715,
          -0.11671669781208038,
          19.288711547851562,
          3.6471946239471436,
          8.86892032623291,
          93.5479965209961,
          107.63158416748047,
          99.7721939086914,
          106.52717590332031,
          99.26416015625,
          47.19667053222656,
          34.28505325317383,
          54.3917350769043,
          39.05825424194336,
          43.53147888183594,
          -41.881797790527344,
          -49.46141815185547,
          -46.407981872558594,
          -53.31343460083008,
          -55.90778350830078,
          52.27129364013672,
          43.854164123535156,
          50.69280242919922,
          47.6746711730957,
          40.829952239990234
         ],
         "xaxis": "x",
         "y": [
          96.7365951538086,
          86.4936294555664,
          93.37189483642578,
          80.98381042480469,
          90.2891845703125,
          -22.12655258178711,
          -13.33213996887207,
          -16.103351593017578,
          -20.544437408447266,
          -7.733580112457275,
          107.6701431274414,
          106.95026397705078,
          99.9115982055664,
          92.75308990478516,
          99.3402328491211,
          -42.3387451171875,
          -29.633283615112305,
          -40.01433181762695,
          -37.390716552734375,
          -40.304161071777344,
          -17.073410034179688,
          -31.132600784301758,
          -26.111555099487305,
          -22.838375091552734,
          -12.880643844604492,
          -82.7656021118164,
          -78.39385986328125,
          -85.50806427001953,
          -75.60002136230469,
          -92.33081817626953,
          76.36075592041016,
          84.9911880493164,
          87.03482818603516,
          70.62860870361328,
          77.67816162109375,
          -52.16050720214844,
          -46.00138854980469,
          -29.053544998168945,
          -38.769657135009766,
          -51.534950256347656,
          -62.64972686767578,
          -53.37913513183594,
          -68.16178131103516,
          -62.940975189208984,
          -56.521697998046875,
          -26.7495059967041,
          -36.1170768737793,
          -32.11248016357422,
          -24.090801239013672,
          -35.305206298828125,
          -43.25557327270508,
          -47.95900344848633,
          -35.082557678222656,
          -40.66622543334961,
          -30.80403709411621,
          26.574596405029297,
          25.667261123657227,
          19.215213775634766,
          38.356300354003906,
          34.9642333984375
         ],
         "yaxis": "y"
        }
       ],
       "layout": {
        "height": 800,
        "legend": {
         "tracegroupgap": 0
        },
        "template": {
         "data": {
          "bar": [
           {
            "error_x": {
             "color": "#2a3f5f"
            },
            "error_y": {
             "color": "#2a3f5f"
            },
            "marker": {
             "line": {
              "color": "#E5ECF6",
              "width": 0.5
             },
             "pattern": {
              "fillmode": "overlay",
              "size": 10,
              "solidity": 0.2
             }
            },
            "type": "bar"
           }
          ],
          "barpolar": [
           {
            "marker": {
             "line": {
              "color": "#E5ECF6",
              "width": 0.5
             },
             "pattern": {
              "fillmode": "overlay",
              "size": 10,
              "solidity": 0.2
             }
            },
            "type": "barpolar"
           }
          ],
          "carpet": [
           {
            "aaxis": {
             "endlinecolor": "#2a3f5f",
             "gridcolor": "white",
             "linecolor": "white",
             "minorgridcolor": "white",
             "startlinecolor": "#2a3f5f"
            },
            "baxis": {
             "endlinecolor": "#2a3f5f",
             "gridcolor": "white",
             "linecolor": "white",
             "minorgridcolor": "white",
             "startlinecolor": "#2a3f5f"
            },
            "type": "carpet"
           }
          ],
          "choropleth": [
           {
            "colorbar": {
             "outlinewidth": 0,
             "ticks": ""
            },
            "type": "choropleth"
           }
          ],
          "contour": [
           {
            "colorbar": {
             "outlinewidth": 0,
             "ticks": ""
            },
            "colorscale": [
             [
              0,
              "#0d0887"
             ],
             [
              0.1111111111111111,
              "#46039f"
             ],
             [
              0.2222222222222222,
              "#7201a8"
             ],
             [
              0.3333333333333333,
              "#9c179e"
             ],
             [
              0.4444444444444444,
              "#bd3786"
             ],
             [
              0.5555555555555556,
              "#d8576b"
             ],
             [
              0.6666666666666666,
              "#ed7953"
             ],
             [
              0.7777777777777778,
              "#fb9f3a"
             ],
             [
              0.8888888888888888,
              "#fdca26"
             ],
             [
              1,
              "#f0f921"
             ]
            ],
            "type": "contour"
           }
          ],
          "contourcarpet": [
           {
            "colorbar": {
             "outlinewidth": 0,
             "ticks": ""
            },
            "type": "contourcarpet"
           }
          ],
          "heatmap": [
           {
            "colorbar": {
             "outlinewidth": 0,
             "ticks": ""
            },
            "colorscale": [
             [
              0,
              "#0d0887"
             ],
             [
              0.1111111111111111,
              "#46039f"
             ],
             [
              0.2222222222222222,
              "#7201a8"
             ],
             [
              0.3333333333333333,
              "#9c179e"
             ],
             [
              0.4444444444444444,
              "#bd3786"
             ],
             [
              0.5555555555555556,
              "#d8576b"
             ],
             [
              0.6666666666666666,
              "#ed7953"
             ],
             [
              0.7777777777777778,
              "#fb9f3a"
             ],
             [
              0.8888888888888888,
              "#fdca26"
             ],
             [
              1,
              "#f0f921"
             ]
            ],
            "type": "heatmap"
           }
          ],
          "heatmapgl": [
           {
            "colorbar": {
             "outlinewidth": 0,
             "ticks": ""
            },
            "colorscale": [
             [
              0,
              "#0d0887"
             ],
             [
              0.1111111111111111,
              "#46039f"
             ],
             [
              0.2222222222222222,
              "#7201a8"
             ],
             [
              0.3333333333333333,
              "#9c179e"
             ],
             [
              0.4444444444444444,
              "#bd3786"
             ],
             [
              0.5555555555555556,
              "#d8576b"
             ],
             [
              0.6666666666666666,
              "#ed7953"
             ],
             [
              0.7777777777777778,
              "#fb9f3a"
             ],
             [
              0.8888888888888888,
              "#fdca26"
             ],
             [
              1,
              "#f0f921"
             ]
            ],
            "type": "heatmapgl"
           }
          ],
          "histogram": [
           {
            "marker": {
             "pattern": {
              "fillmode": "overlay",
              "size": 10,
              "solidity": 0.2
             }
            },
            "type": "histogram"
           }
          ],
          "histogram2d": [
           {
            "colorbar": {
             "outlinewidth": 0,
             "ticks": ""
            },
            "colorscale": [
             [
              0,
              "#0d0887"
             ],
             [
              0.1111111111111111,
              "#46039f"
             ],
             [
              0.2222222222222222,
              "#7201a8"
             ],
             [
              0.3333333333333333,
              "#9c179e"
             ],
             [
              0.4444444444444444,
              "#bd3786"
             ],
             [
              0.5555555555555556,
              "#d8576b"
             ],
             [
              0.6666666666666666,
              "#ed7953"
             ],
             [
              0.7777777777777778,
              "#fb9f3a"
             ],
             [
              0.8888888888888888,
              "#fdca26"
             ],
             [
              1,
              "#f0f921"
             ]
            ],
            "type": "histogram2d"
           }
          ],
          "histogram2dcontour": [
           {
            "colorbar": {
             "outlinewidth": 0,
             "ticks": ""
            },
            "colorscale": [
             [
              0,
              "#0d0887"
             ],
             [
              0.1111111111111111,
              "#46039f"
             ],
             [
              0.2222222222222222,
              "#7201a8"
             ],
             [
              0.3333333333333333,
              "#9c179e"
             ],
             [
              0.4444444444444444,
              "#bd3786"
             ],
             [
              0.5555555555555556,
              "#d8576b"
             ],
             [
              0.6666666666666666,
              "#ed7953"
             ],
             [
              0.7777777777777778,
              "#fb9f3a"
             ],
             [
              0.8888888888888888,
              "#fdca26"
             ],
             [
              1,
              "#f0f921"
             ]
            ],
            "type": "histogram2dcontour"
           }
          ],
          "mesh3d": [
           {
            "colorbar": {
             "outlinewidth": 0,
             "ticks": ""
            },
            "type": "mesh3d"
           }
          ],
          "parcoords": [
           {
            "line": {
             "colorbar": {
              "outlinewidth": 0,
              "ticks": ""
             }
            },
            "type": "parcoords"
           }
          ],
          "pie": [
           {
            "automargin": true,
            "type": "pie"
           }
          ],
          "scatter": [
           {
            "marker": {
             "colorbar": {
              "outlinewidth": 0,
              "ticks": ""
             }
            },
            "type": "scatter"
           }
          ],
          "scatter3d": [
           {
            "line": {
             "colorbar": {
              "outlinewidth": 0,
              "ticks": ""
             }
            },
            "marker": {
             "colorbar": {
              "outlinewidth": 0,
              "ticks": ""
             }
            },
            "type": "scatter3d"
           }
          ],
          "scattercarpet": [
           {
            "marker": {
             "colorbar": {
              "outlinewidth": 0,
              "ticks": ""
             }
            },
            "type": "scattercarpet"
           }
          ],
          "scattergeo": [
           {
            "marker": {
             "colorbar": {
              "outlinewidth": 0,
              "ticks": ""
             }
            },
            "type": "scattergeo"
           }
          ],
          "scattergl": [
           {
            "marker": {
             "colorbar": {
              "outlinewidth": 0,
              "ticks": ""
             }
            },
            "type": "scattergl"
           }
          ],
          "scattermapbox": [
           {
            "marker": {
             "colorbar": {
              "outlinewidth": 0,
              "ticks": ""
             }
            },
            "type": "scattermapbox"
           }
          ],
          "scatterpolar": [
           {
            "marker": {
             "colorbar": {
              "outlinewidth": 0,
              "ticks": ""
             }
            },
            "type": "scatterpolar"
           }
          ],
          "scatterpolargl": [
           {
            "marker": {
             "colorbar": {
              "outlinewidth": 0,
              "ticks": ""
             }
            },
            "type": "scatterpolargl"
           }
          ],
          "scatterternary": [
           {
            "marker": {
             "colorbar": {
              "outlinewidth": 0,
              "ticks": ""
             }
            },
            "type": "scatterternary"
           }
          ],
          "surface": [
           {
            "colorbar": {
             "outlinewidth": 0,
             "ticks": ""
            },
            "colorscale": [
             [
              0,
              "#0d0887"
             ],
             [
              0.1111111111111111,
              "#46039f"
             ],
             [
              0.2222222222222222,
              "#7201a8"
             ],
             [
              0.3333333333333333,
              "#9c179e"
             ],
             [
              0.4444444444444444,
              "#bd3786"
             ],
             [
              0.5555555555555556,
              "#d8576b"
             ],
             [
              0.6666666666666666,
              "#ed7953"
             ],
             [
              0.7777777777777778,
              "#fb9f3a"
             ],
             [
              0.8888888888888888,
              "#fdca26"
             ],
             [
              1,
              "#f0f921"
             ]
            ],
            "type": "surface"
           }
          ],
          "table": [
           {
            "cells": {
             "fill": {
              "color": "#EBF0F8"
             },
             "line": {
              "color": "white"
             }
            },
            "header": {
             "fill": {
              "color": "#C8D4E3"
             },
             "line": {
              "color": "white"
             }
            },
            "type": "table"
           }
          ]
         },
         "layout": {
          "annotationdefaults": {
           "arrowcolor": "#2a3f5f",
           "arrowhead": 0,
           "arrowwidth": 1
          },
          "autotypenumbers": "strict",
          "coloraxis": {
           "colorbar": {
            "outlinewidth": 0,
            "ticks": ""
           }
          },
          "colorscale": {
           "diverging": [
            [
             0,
             "#8e0152"
            ],
            [
             0.1,
             "#c51b7d"
            ],
            [
             0.2,
             "#de77ae"
            ],
            [
             0.3,
             "#f1b6da"
            ],
            [
             0.4,
             "#fde0ef"
            ],
            [
             0.5,
             "#f7f7f7"
            ],
            [
             0.6,
             "#e6f5d0"
            ],
            [
             0.7,
             "#b8e186"
            ],
            [
             0.8,
             "#7fbc41"
            ],
            [
             0.9,
             "#4d9221"
            ],
            [
             1,
             "#276419"
            ]
           ],
           "sequential": [
            [
             0,
             "#0d0887"
            ],
            [
             0.1111111111111111,
             "#46039f"
            ],
            [
             0.2222222222222222,
             "#7201a8"
            ],
            [
             0.3333333333333333,
             "#9c179e"
            ],
            [
             0.4444444444444444,
             "#bd3786"
            ],
            [
             0.5555555555555556,
             "#d8576b"
            ],
            [
             0.6666666666666666,
             "#ed7953"
            ],
            [
             0.7777777777777778,
             "#fb9f3a"
            ],
            [
             0.8888888888888888,
             "#fdca26"
            ],
            [
             1,
             "#f0f921"
            ]
           ],
           "sequentialminus": [
            [
             0,
             "#0d0887"
            ],
            [
             0.1111111111111111,
             "#46039f"
            ],
            [
             0.2222222222222222,
             "#7201a8"
            ],
            [
             0.3333333333333333,
             "#9c179e"
            ],
            [
             0.4444444444444444,
             "#bd3786"
            ],
            [
             0.5555555555555556,
             "#d8576b"
            ],
            [
             0.6666666666666666,
             "#ed7953"
            ],
            [
             0.7777777777777778,
             "#fb9f3a"
            ],
            [
             0.8888888888888888,
             "#fdca26"
            ],
            [
             1,
             "#f0f921"
            ]
           ]
          },
          "colorway": [
           "#636efa",
           "#EF553B",
           "#00cc96",
           "#ab63fa",
           "#FFA15A",
           "#19d3f3",
           "#FF6692",
           "#B6E880",
           "#FF97FF",
           "#FECB52"
          ],
          "font": {
           "color": "#2a3f5f"
          },
          "geo": {
           "bgcolor": "white",
           "lakecolor": "white",
           "landcolor": "#E5ECF6",
           "showlakes": true,
           "showland": true,
           "subunitcolor": "white"
          },
          "hoverlabel": {
           "align": "left"
          },
          "hovermode": "closest",
          "mapbox": {
           "style": "light"
          },
          "paper_bgcolor": "white",
          "plot_bgcolor": "#E5ECF6",
          "polar": {
           "angularaxis": {
            "gridcolor": "white",
            "linecolor": "white",
            "ticks": ""
           },
           "bgcolor": "#E5ECF6",
           "radialaxis": {
            "gridcolor": "white",
            "linecolor": "white",
            "ticks": ""
           }
          },
          "scene": {
           "xaxis": {
            "backgroundcolor": "#E5ECF6",
            "gridcolor": "white",
            "gridwidth": 2,
            "linecolor": "white",
            "showbackground": true,
            "ticks": "",
            "zerolinecolor": "white"
           },
           "yaxis": {
            "backgroundcolor": "#E5ECF6",
            "gridcolor": "white",
            "gridwidth": 2,
            "linecolor": "white",
            "showbackground": true,
            "ticks": "",
            "zerolinecolor": "white"
           },
           "zaxis": {
            "backgroundcolor": "#E5ECF6",
            "gridcolor": "white",
            "gridwidth": 2,
            "linecolor": "white",
            "showbackground": true,
            "ticks": "",
            "zerolinecolor": "white"
           }
          },
          "shapedefaults": {
           "line": {
            "color": "#2a3f5f"
           }
          },
          "ternary": {
           "aaxis": {
            "gridcolor": "white",
            "linecolor": "white",
            "ticks": ""
           },
           "baxis": {
            "gridcolor": "white",
            "linecolor": "white",
            "ticks": ""
           },
           "bgcolor": "#E5ECF6",
           "caxis": {
            "gridcolor": "white",
            "linecolor": "white",
            "ticks": ""
           }
          },
          "title": {
           "x": 0.05
          },
          "xaxis": {
           "automargin": true,
           "gridcolor": "white",
           "linecolor": "white",
           "ticks": "",
           "title": {
            "standoff": 15
           },
           "zerolinecolor": "white",
           "zerolinewidth": 2
          },
          "yaxis": {
           "automargin": true,
           "gridcolor": "white",
           "linecolor": "white",
           "ticks": "",
           "title": {
            "standoff": 15
           },
           "zerolinecolor": "white",
           "zerolinewidth": 2
          }
         }
        },
        "title": {
         "text": "TNSE Projection of World Cities. Perplexity 10. (Non-Linear Projection)"
        },
        "width": 800,
        "xaxis": {
         "anchor": "y",
         "domain": [
          0,
          1
         ],
         "showticklabels": false,
         "title": {
          "text": "tsne10_x"
         }
        },
        "yaxis": {
         "anchor": "x",
         "domain": [
          0,
          1
         ],
         "showticklabels": false,
         "title": {
          "text": "tsne10_y"
         }
        }
       }
      }
     },
     "metadata": {},
     "output_type": "display_data"
    }
   ],
   "source": [
    "fig = px.scatter(world_results, x=\"tsne10_x\", y=\"tsne10_y\",\n",
    "                text=\"city\", \n",
    "                width=800, height=800, \n",
    "                title=\"TNSE Projection of World Cities. Perplexity 10. (Non-Linear Projection)\")\n",
    "\n",
    "\n",
    "fig.update_xaxes(\n",
    "    showticklabels=False\n",
    ")\n",
    "fig.update_yaxes(\n",
    "    showticklabels=False\n",
    ")\n",
    "\n",
    "fig"
   ]
  },
  {
   "cell_type": "markdown",
   "metadata": {},
   "source": [
    "## Suggestions \n",
    "\n",
    "High-dimensional visualization techniques should be part of data exploration to understand the properties of the dataset and answer whether there are any clusters or groupings in the underlying data or whether there are any outliers. It should be stressed that the produced maps cannot be judged independently of the dimensionality reduction method used. Unlike histograms and scatterplots that can communicate information to a more general audience, the techniques described in this presentation are part of an analyst’s toolbox to uncover information, and using them as communication tools can confuse those who are not familiar.\n",
    "\n",
    "We believe that the following steps need to be applied when conducting data reduction techniques to identify patterns in high-dimensional data: \n",
    "\n",
    "1. Find the inherent dimensionality of the dataset by applying PCA and quantifying the proportion of variance explained by each principal component.\n",
    "\n",
    "2. Apply both a linear and a nonlinear method.\n",
    "\n",
    "2. When applying MDS, check the quality of the projection based on the value of the stress function (MDS) or by using a Shepard diagram.\n",
    "\n",
    "3. Use the linear projection to investigate the global structure and identify any outliers.\n",
    "\n",
    "4. Use the nonlinear projection to investigate local structure and clusters.\n",
    "\n",
    "5. When using MDS or t-SNE, apply the same algorithm multiple times to ensure stability.\n",
    "\n",
    "6. When using t-SNE, perform sensitivity analysis to understand how maps change based on algorithm parameters such as perplexity.\n",
    "\n",
    "7. Interactively select points of the map projection and, based on the points to which they correspond in the multidimensional space, understand how the points are arranged on the map. \n",
    "\n"
   ]
  },
  {
   "cell_type": "markdown",
   "metadata": {},
   "source": [
    "Things to note\n",
    "1. Europe has been expanded. The size of the European countries on the map do not reflect reality. However, it is easier to find local strucure and identify which cities belong to which country. \n",
    "2. The relative position of the cluster/continents does not reflect the position of the continents on earth. Also the distance beween the clusters on the map does is not proportional to the distance between the continents on earth. "
   ]
  },
  {
   "cell_type": "code",
   "execution_count": null,
   "metadata": {},
   "outputs": [],
   "source": []
  }
 ],
 "metadata": {
  "kernelspec": {
   "display_name": "Python 3.7.11",
   "language": "python",
   "name": "python3"
  },
  "language_info": {
   "codemirror_mode": {
    "name": "ipython",
    "version": 3
   },
   "file_extension": ".py",
   "mimetype": "text/x-python",
   "name": "python",
   "nbconvert_exporter": "python",
   "pygments_lexer": "ipython3",
   "version": "3.7.11"
  },
  "vscode": {
   "interpreter": {
    "hash": "b994784932eb9a3dfd7b7daddf12a9f1cf30d0b5236952c889e83862dd7cf26d"
   }
  }
 },
 "nbformat": 4,
 "nbformat_minor": 2
}
