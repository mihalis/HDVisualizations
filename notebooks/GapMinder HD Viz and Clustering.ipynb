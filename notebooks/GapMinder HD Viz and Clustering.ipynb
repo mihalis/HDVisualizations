{
 "cells": [
  {
   "cell_type": "markdown",
   "metadata": {},
   "source": [
    "Han's Roshling visualization of life expectancy vs GDP is one of the most popular visualizations in the last twentry years. \n",
    "https://www.youtube.com/watch?v=Z8t4k0Q8e8Y\n",
    "\n",
    "In his video he animates about 120 thousand points. I believe it it was Machromedia flash that what was used back in 2006 to create the beautiful animation. From the viewers perspective, this is way too much information to absorb. Adding filters for selective focus is proably the best way to visualize the data. \n",
    "\n",
    "We will take an alternative approach to this visual. Instead of animating scatterplots we will use \n",
    "* A connected scatterplot to show the trajectory of selected countries \n",
    "* An HD visual that will give us an idea of the entire space of countiries, outliers, and will answer the question which country is similar to which \n",
    "* We will see how clusters, obtained by using spectral clustering, are shown on the HD map "
   ]
  },
  {
   "cell_type": "code",
   "execution_count": 89,
   "metadata": {},
   "outputs": [],
   "source": [
    "import pandas as pd\n",
    "import plotly.express as px\n",
    "import plotly.graph_objects as go"
   ]
  },
  {
   "cell_type": "markdown",
   "metadata": {},
   "source": [
    "The data is a subset of the version that Hans Rosling used. We have information for 1952 countries starting from  1952 "
   ]
  },
  {
   "cell_type": "code",
   "execution_count": 90,
   "metadata": {},
   "outputs": [],
   "source": [
    "df = pd.read_csv(\"../data/gapminder_after1952.csv\")"
   ]
  },
  {
   "cell_type": "code",
   "execution_count": 91,
   "metadata": {},
   "outputs": [
    {
     "data": {
      "text/html": [
       "<div>\n",
       "<style scoped>\n",
       "    .dataframe tbody tr th:only-of-type {\n",
       "        vertical-align: middle;\n",
       "    }\n",
       "\n",
       "    .dataframe tbody tr th {\n",
       "        vertical-align: top;\n",
       "    }\n",
       "\n",
       "    .dataframe thead th {\n",
       "        text-align: right;\n",
       "    }\n",
       "</style>\n",
       "<table border=\"1\" class=\"dataframe\">\n",
       "  <thead>\n",
       "    <tr style=\"text-align: right;\">\n",
       "      <th></th>\n",
       "      <th>country</th>\n",
       "      <th>continent</th>\n",
       "      <th>year</th>\n",
       "      <th>lifeExp</th>\n",
       "      <th>pop</th>\n",
       "      <th>gdpPercap</th>\n",
       "      <th>iso_alpha</th>\n",
       "      <th>iso_num</th>\n",
       "    </tr>\n",
       "  </thead>\n",
       "  <tbody>\n",
       "    <tr>\n",
       "      <th>0</th>\n",
       "      <td>Afghanistan</td>\n",
       "      <td>Asia</td>\n",
       "      <td>1952</td>\n",
       "      <td>28.801</td>\n",
       "      <td>8425333</td>\n",
       "      <td>779.445314</td>\n",
       "      <td>AFG</td>\n",
       "      <td>4</td>\n",
       "    </tr>\n",
       "    <tr>\n",
       "      <th>1</th>\n",
       "      <td>Afghanistan</td>\n",
       "      <td>Asia</td>\n",
       "      <td>1957</td>\n",
       "      <td>30.332</td>\n",
       "      <td>9240934</td>\n",
       "      <td>820.853030</td>\n",
       "      <td>AFG</td>\n",
       "      <td>4</td>\n",
       "    </tr>\n",
       "    <tr>\n",
       "      <th>2</th>\n",
       "      <td>Afghanistan</td>\n",
       "      <td>Asia</td>\n",
       "      <td>1962</td>\n",
       "      <td>31.997</td>\n",
       "      <td>10267083</td>\n",
       "      <td>853.100710</td>\n",
       "      <td>AFG</td>\n",
       "      <td>4</td>\n",
       "    </tr>\n",
       "    <tr>\n",
       "      <th>3</th>\n",
       "      <td>Afghanistan</td>\n",
       "      <td>Asia</td>\n",
       "      <td>1967</td>\n",
       "      <td>34.020</td>\n",
       "      <td>11537966</td>\n",
       "      <td>836.197138</td>\n",
       "      <td>AFG</td>\n",
       "      <td>4</td>\n",
       "    </tr>\n",
       "    <tr>\n",
       "      <th>4</th>\n",
       "      <td>Afghanistan</td>\n",
       "      <td>Asia</td>\n",
       "      <td>1972</td>\n",
       "      <td>36.088</td>\n",
       "      <td>13079460</td>\n",
       "      <td>739.981106</td>\n",
       "      <td>AFG</td>\n",
       "      <td>4</td>\n",
       "    </tr>\n",
       "    <tr>\n",
       "      <th>5</th>\n",
       "      <td>Afghanistan</td>\n",
       "      <td>Asia</td>\n",
       "      <td>1977</td>\n",
       "      <td>38.438</td>\n",
       "      <td>14880372</td>\n",
       "      <td>786.113360</td>\n",
       "      <td>AFG</td>\n",
       "      <td>4</td>\n",
       "    </tr>\n",
       "    <tr>\n",
       "      <th>6</th>\n",
       "      <td>Afghanistan</td>\n",
       "      <td>Asia</td>\n",
       "      <td>1982</td>\n",
       "      <td>39.854</td>\n",
       "      <td>12881816</td>\n",
       "      <td>978.011439</td>\n",
       "      <td>AFG</td>\n",
       "      <td>4</td>\n",
       "    </tr>\n",
       "    <tr>\n",
       "      <th>7</th>\n",
       "      <td>Afghanistan</td>\n",
       "      <td>Asia</td>\n",
       "      <td>1987</td>\n",
       "      <td>40.822</td>\n",
       "      <td>13867957</td>\n",
       "      <td>852.395945</td>\n",
       "      <td>AFG</td>\n",
       "      <td>4</td>\n",
       "    </tr>\n",
       "    <tr>\n",
       "      <th>8</th>\n",
       "      <td>Afghanistan</td>\n",
       "      <td>Asia</td>\n",
       "      <td>1992</td>\n",
       "      <td>41.674</td>\n",
       "      <td>16317921</td>\n",
       "      <td>649.341395</td>\n",
       "      <td>AFG</td>\n",
       "      <td>4</td>\n",
       "    </tr>\n",
       "    <tr>\n",
       "      <th>9</th>\n",
       "      <td>Afghanistan</td>\n",
       "      <td>Asia</td>\n",
       "      <td>1997</td>\n",
       "      <td>41.763</td>\n",
       "      <td>22227415</td>\n",
       "      <td>635.341351</td>\n",
       "      <td>AFG</td>\n",
       "      <td>4</td>\n",
       "    </tr>\n",
       "    <tr>\n",
       "      <th>10</th>\n",
       "      <td>Afghanistan</td>\n",
       "      <td>Asia</td>\n",
       "      <td>2002</td>\n",
       "      <td>42.129</td>\n",
       "      <td>25268405</td>\n",
       "      <td>726.734055</td>\n",
       "      <td>AFG</td>\n",
       "      <td>4</td>\n",
       "    </tr>\n",
       "    <tr>\n",
       "      <th>11</th>\n",
       "      <td>Afghanistan</td>\n",
       "      <td>Asia</td>\n",
       "      <td>2007</td>\n",
       "      <td>43.828</td>\n",
       "      <td>31889923</td>\n",
       "      <td>974.580338</td>\n",
       "      <td>AFG</td>\n",
       "      <td>4</td>\n",
       "    </tr>\n",
       "    <tr>\n",
       "      <th>12</th>\n",
       "      <td>Albania</td>\n",
       "      <td>Europe</td>\n",
       "      <td>1952</td>\n",
       "      <td>55.230</td>\n",
       "      <td>1282697</td>\n",
       "      <td>1601.056136</td>\n",
       "      <td>ALB</td>\n",
       "      <td>8</td>\n",
       "    </tr>\n",
       "    <tr>\n",
       "      <th>13</th>\n",
       "      <td>Albania</td>\n",
       "      <td>Europe</td>\n",
       "      <td>1957</td>\n",
       "      <td>59.280</td>\n",
       "      <td>1476505</td>\n",
       "      <td>1942.284244</td>\n",
       "      <td>ALB</td>\n",
       "      <td>8</td>\n",
       "    </tr>\n",
       "    <tr>\n",
       "      <th>14</th>\n",
       "      <td>Albania</td>\n",
       "      <td>Europe</td>\n",
       "      <td>1962</td>\n",
       "      <td>64.820</td>\n",
       "      <td>1728137</td>\n",
       "      <td>2312.888958</td>\n",
       "      <td>ALB</td>\n",
       "      <td>8</td>\n",
       "    </tr>\n",
       "    <tr>\n",
       "      <th>15</th>\n",
       "      <td>Albania</td>\n",
       "      <td>Europe</td>\n",
       "      <td>1967</td>\n",
       "      <td>66.220</td>\n",
       "      <td>1984060</td>\n",
       "      <td>2760.196931</td>\n",
       "      <td>ALB</td>\n",
       "      <td>8</td>\n",
       "    </tr>\n",
       "    <tr>\n",
       "      <th>16</th>\n",
       "      <td>Albania</td>\n",
       "      <td>Europe</td>\n",
       "      <td>1972</td>\n",
       "      <td>67.690</td>\n",
       "      <td>2263554</td>\n",
       "      <td>3313.422188</td>\n",
       "      <td>ALB</td>\n",
       "      <td>8</td>\n",
       "    </tr>\n",
       "    <tr>\n",
       "      <th>17</th>\n",
       "      <td>Albania</td>\n",
       "      <td>Europe</td>\n",
       "      <td>1977</td>\n",
       "      <td>68.930</td>\n",
       "      <td>2509048</td>\n",
       "      <td>3533.003910</td>\n",
       "      <td>ALB</td>\n",
       "      <td>8</td>\n",
       "    </tr>\n",
       "    <tr>\n",
       "      <th>18</th>\n",
       "      <td>Albania</td>\n",
       "      <td>Europe</td>\n",
       "      <td>1982</td>\n",
       "      <td>70.420</td>\n",
       "      <td>2780097</td>\n",
       "      <td>3630.880722</td>\n",
       "      <td>ALB</td>\n",
       "      <td>8</td>\n",
       "    </tr>\n",
       "    <tr>\n",
       "      <th>19</th>\n",
       "      <td>Albania</td>\n",
       "      <td>Europe</td>\n",
       "      <td>1987</td>\n",
       "      <td>72.000</td>\n",
       "      <td>3075321</td>\n",
       "      <td>3738.932735</td>\n",
       "      <td>ALB</td>\n",
       "      <td>8</td>\n",
       "    </tr>\n",
       "  </tbody>\n",
       "</table>\n",
       "</div>"
      ],
      "text/plain": [
       "        country continent  year  lifeExp       pop    gdpPercap iso_alpha  \\\n",
       "0   Afghanistan      Asia  1952   28.801   8425333   779.445314       AFG   \n",
       "1   Afghanistan      Asia  1957   30.332   9240934   820.853030       AFG   \n",
       "2   Afghanistan      Asia  1962   31.997  10267083   853.100710       AFG   \n",
       "3   Afghanistan      Asia  1967   34.020  11537966   836.197138       AFG   \n",
       "4   Afghanistan      Asia  1972   36.088  13079460   739.981106       AFG   \n",
       "5   Afghanistan      Asia  1977   38.438  14880372   786.113360       AFG   \n",
       "6   Afghanistan      Asia  1982   39.854  12881816   978.011439       AFG   \n",
       "7   Afghanistan      Asia  1987   40.822  13867957   852.395945       AFG   \n",
       "8   Afghanistan      Asia  1992   41.674  16317921   649.341395       AFG   \n",
       "9   Afghanistan      Asia  1997   41.763  22227415   635.341351       AFG   \n",
       "10  Afghanistan      Asia  2002   42.129  25268405   726.734055       AFG   \n",
       "11  Afghanistan      Asia  2007   43.828  31889923   974.580338       AFG   \n",
       "12      Albania    Europe  1952   55.230   1282697  1601.056136       ALB   \n",
       "13      Albania    Europe  1957   59.280   1476505  1942.284244       ALB   \n",
       "14      Albania    Europe  1962   64.820   1728137  2312.888958       ALB   \n",
       "15      Albania    Europe  1967   66.220   1984060  2760.196931       ALB   \n",
       "16      Albania    Europe  1972   67.690   2263554  3313.422188       ALB   \n",
       "17      Albania    Europe  1977   68.930   2509048  3533.003910       ALB   \n",
       "18      Albania    Europe  1982   70.420   2780097  3630.880722       ALB   \n",
       "19      Albania    Europe  1987   72.000   3075321  3738.932735       ALB   \n",
       "\n",
       "    iso_num  \n",
       "0         4  \n",
       "1         4  \n",
       "2         4  \n",
       "3         4  \n",
       "4         4  \n",
       "5         4  \n",
       "6         4  \n",
       "7         4  \n",
       "8         4  \n",
       "9         4  \n",
       "10        4  \n",
       "11        4  \n",
       "12        8  \n",
       "13        8  \n",
       "14        8  \n",
       "15        8  \n",
       "16        8  \n",
       "17        8  \n",
       "18        8  \n",
       "19        8  "
      ]
     },
     "execution_count": 91,
     "metadata": {},
     "output_type": "execute_result"
    }
   ],
   "source": [
    "df.head(20)"
   ]
  },
  {
   "cell_type": "markdown",
   "metadata": {},
   "source": [
    "To add continent information we download an association between country code and continent from https://www.kaggle.com/datasets/andradaolteanu/country-mapping-iso-continent-region?resource=download"
   ]
  },
  {
   "cell_type": "code",
   "execution_count": 92,
   "metadata": {},
   "outputs": [],
   "source": [
    "continents = pd.read_csv(\"../data/continents2.csv\")"
   ]
  },
  {
   "cell_type": "code",
   "execution_count": 93,
   "metadata": {},
   "outputs": [
    {
     "data": {
      "text/html": [
       "<div>\n",
       "<style scoped>\n",
       "    .dataframe tbody tr th:only-of-type {\n",
       "        vertical-align: middle;\n",
       "    }\n",
       "\n",
       "    .dataframe tbody tr th {\n",
       "        vertical-align: top;\n",
       "    }\n",
       "\n",
       "    .dataframe thead th {\n",
       "        text-align: right;\n",
       "    }\n",
       "</style>\n",
       "<table border=\"1\" class=\"dataframe\">\n",
       "  <thead>\n",
       "    <tr style=\"text-align: right;\">\n",
       "      <th></th>\n",
       "      <th>name</th>\n",
       "      <th>alpha-2</th>\n",
       "      <th>alpha-3</th>\n",
       "      <th>country-code</th>\n",
       "      <th>iso_3166-2</th>\n",
       "      <th>region</th>\n",
       "      <th>sub-region</th>\n",
       "      <th>intermediate-region</th>\n",
       "      <th>region-code</th>\n",
       "      <th>sub-region-code</th>\n",
       "      <th>intermediate-region-code</th>\n",
       "    </tr>\n",
       "  </thead>\n",
       "  <tbody>\n",
       "    <tr>\n",
       "      <th>0</th>\n",
       "      <td>Afghanistan</td>\n",
       "      <td>AF</td>\n",
       "      <td>AFG</td>\n",
       "      <td>4</td>\n",
       "      <td>ISO 3166-2:AF</td>\n",
       "      <td>Asia</td>\n",
       "      <td>Southern Asia</td>\n",
       "      <td>NaN</td>\n",
       "      <td>142.0</td>\n",
       "      <td>34.0</td>\n",
       "      <td>NaN</td>\n",
       "    </tr>\n",
       "    <tr>\n",
       "      <th>1</th>\n",
       "      <td>Åland Islands</td>\n",
       "      <td>AX</td>\n",
       "      <td>ALA</td>\n",
       "      <td>248</td>\n",
       "      <td>ISO 3166-2:AX</td>\n",
       "      <td>Europe</td>\n",
       "      <td>Northern Europe</td>\n",
       "      <td>NaN</td>\n",
       "      <td>150.0</td>\n",
       "      <td>154.0</td>\n",
       "      <td>NaN</td>\n",
       "    </tr>\n",
       "    <tr>\n",
       "      <th>2</th>\n",
       "      <td>Albania</td>\n",
       "      <td>AL</td>\n",
       "      <td>ALB</td>\n",
       "      <td>8</td>\n",
       "      <td>ISO 3166-2:AL</td>\n",
       "      <td>Europe</td>\n",
       "      <td>Southern Europe</td>\n",
       "      <td>NaN</td>\n",
       "      <td>150.0</td>\n",
       "      <td>39.0</td>\n",
       "      <td>NaN</td>\n",
       "    </tr>\n",
       "    <tr>\n",
       "      <th>3</th>\n",
       "      <td>Algeria</td>\n",
       "      <td>DZ</td>\n",
       "      <td>DZA</td>\n",
       "      <td>12</td>\n",
       "      <td>ISO 3166-2:DZ</td>\n",
       "      <td>Africa</td>\n",
       "      <td>Northern Africa</td>\n",
       "      <td>NaN</td>\n",
       "      <td>2.0</td>\n",
       "      <td>15.0</td>\n",
       "      <td>NaN</td>\n",
       "    </tr>\n",
       "    <tr>\n",
       "      <th>4</th>\n",
       "      <td>American Samoa</td>\n",
       "      <td>AS</td>\n",
       "      <td>ASM</td>\n",
       "      <td>16</td>\n",
       "      <td>ISO 3166-2:AS</td>\n",
       "      <td>Oceania</td>\n",
       "      <td>Polynesia</td>\n",
       "      <td>NaN</td>\n",
       "      <td>9.0</td>\n",
       "      <td>61.0</td>\n",
       "      <td>NaN</td>\n",
       "    </tr>\n",
       "  </tbody>\n",
       "</table>\n",
       "</div>"
      ],
      "text/plain": [
       "             name alpha-2 alpha-3  country-code     iso_3166-2   region  \\\n",
       "0     Afghanistan      AF     AFG             4  ISO 3166-2:AF     Asia   \n",
       "1   Åland Islands      AX     ALA           248  ISO 3166-2:AX   Europe   \n",
       "2         Albania      AL     ALB             8  ISO 3166-2:AL   Europe   \n",
       "3         Algeria      DZ     DZA            12  ISO 3166-2:DZ   Africa   \n",
       "4  American Samoa      AS     ASM            16  ISO 3166-2:AS  Oceania   \n",
       "\n",
       "        sub-region intermediate-region  region-code  sub-region-code  \\\n",
       "0    Southern Asia                 NaN        142.0             34.0   \n",
       "1  Northern Europe                 NaN        150.0            154.0   \n",
       "2  Southern Europe                 NaN        150.0             39.0   \n",
       "3  Northern Africa                 NaN          2.0             15.0   \n",
       "4        Polynesia                 NaN          9.0             61.0   \n",
       "\n",
       "   intermediate-region-code  \n",
       "0                       NaN  \n",
       "1                       NaN  \n",
       "2                       NaN  \n",
       "3                       NaN  \n",
       "4                       NaN  "
      ]
     },
     "execution_count": 93,
     "metadata": {},
     "output_type": "execute_result"
    }
   ],
   "source": [
    "continents.head()"
   ]
  },
  {
   "cell_type": "code",
   "execution_count": 94,
   "metadata": {},
   "outputs": [],
   "source": [
    "continents = (continents[['name', 'alpha-3', 'region', 'sub-region']]\n",
    "              .rename(columns={\"alpha-3\":\"iso_alpha\", \"sub-region\":\"subcontinent\",\n",
    "                           \"name\":\"country\", \"region\":\"continent\"})\n",
    ")"
   ]
  },
  {
   "cell_type": "code",
   "execution_count": 95,
   "metadata": {},
   "outputs": [
    {
     "data": {
      "text/html": [
       "<div>\n",
       "<style scoped>\n",
       "    .dataframe tbody tr th:only-of-type {\n",
       "        vertical-align: middle;\n",
       "    }\n",
       "\n",
       "    .dataframe tbody tr th {\n",
       "        vertical-align: top;\n",
       "    }\n",
       "\n",
       "    .dataframe thead th {\n",
       "        text-align: right;\n",
       "    }\n",
       "</style>\n",
       "<table border=\"1\" class=\"dataframe\">\n",
       "  <thead>\n",
       "    <tr style=\"text-align: right;\">\n",
       "      <th></th>\n",
       "      <th>country</th>\n",
       "      <th>iso_alpha</th>\n",
       "      <th>continent</th>\n",
       "      <th>subcontinent</th>\n",
       "    </tr>\n",
       "  </thead>\n",
       "  <tbody>\n",
       "    <tr>\n",
       "      <th>0</th>\n",
       "      <td>Afghanistan</td>\n",
       "      <td>AFG</td>\n",
       "      <td>Asia</td>\n",
       "      <td>Southern Asia</td>\n",
       "    </tr>\n",
       "    <tr>\n",
       "      <th>1</th>\n",
       "      <td>Åland Islands</td>\n",
       "      <td>ALA</td>\n",
       "      <td>Europe</td>\n",
       "      <td>Northern Europe</td>\n",
       "    </tr>\n",
       "    <tr>\n",
       "      <th>2</th>\n",
       "      <td>Albania</td>\n",
       "      <td>ALB</td>\n",
       "      <td>Europe</td>\n",
       "      <td>Southern Europe</td>\n",
       "    </tr>\n",
       "    <tr>\n",
       "      <th>3</th>\n",
       "      <td>Algeria</td>\n",
       "      <td>DZA</td>\n",
       "      <td>Africa</td>\n",
       "      <td>Northern Africa</td>\n",
       "    </tr>\n",
       "    <tr>\n",
       "      <th>4</th>\n",
       "      <td>American Samoa</td>\n",
       "      <td>ASM</td>\n",
       "      <td>Oceania</td>\n",
       "      <td>Polynesia</td>\n",
       "    </tr>\n",
       "  </tbody>\n",
       "</table>\n",
       "</div>"
      ],
      "text/plain": [
       "          country iso_alpha continent     subcontinent\n",
       "0     Afghanistan       AFG      Asia    Southern Asia\n",
       "1   Åland Islands       ALA    Europe  Northern Europe\n",
       "2         Albania       ALB    Europe  Southern Europe\n",
       "3         Algeria       DZA    Africa  Northern Africa\n",
       "4  American Samoa       ASM   Oceania        Polynesia"
      ]
     },
     "execution_count": 95,
     "metadata": {},
     "output_type": "execute_result"
    }
   ],
   "source": [
    "continents.head()"
   ]
  },
  {
   "cell_type": "code",
   "execution_count": 96,
   "metadata": {},
   "outputs": [
    {
     "data": {
      "text/plain": [
       "Sub-Saharan Africa                 53\n",
       "Latin America and the Caribbean    52\n",
       "Western Asia                       18\n",
       "Southern Europe                    16\n",
       "Northern Europe                    16\n",
       "South-eastern Asia                 11\n",
       "Polynesia                          10\n",
       "Eastern Europe                     10\n",
       "Southern Asia                       9\n",
       "Western Europe                      9\n",
       "Eastern Asia                        8\n",
       "Micronesia                          8\n",
       "Northern Africa                     7\n",
       "Australia and New Zealand           6\n",
       "Melanesia                           5\n",
       "Northern America                    5\n",
       "Central Asia                        5\n",
       "Name: subcontinent, dtype: int64"
      ]
     },
     "execution_count": 96,
     "metadata": {},
     "output_type": "execute_result"
    }
   ],
   "source": [
    "continents['subcontinent'].value_counts()"
   ]
  },
  {
   "cell_type": "code",
   "execution_count": 97,
   "metadata": {},
   "outputs": [
    {
     "data": {
      "text/plain": [
       "(141,)"
      ]
     },
     "execution_count": 97,
     "metadata": {},
     "output_type": "execute_result"
    }
   ],
   "source": [
    "df.country.unique().shape"
   ]
  },
  {
   "cell_type": "markdown",
   "metadata": {},
   "source": [
    "In our data we have 141 countries. We have data starting from 1952 and ending at 2007. There are no missing values which is important for the HD and clustering applications. "
   ]
  },
  {
   "cell_type": "code",
   "execution_count": 98,
   "metadata": {},
   "outputs": [
    {
     "data": {
      "text/html": [
       "<div>\n",
       "<style scoped>\n",
       "    .dataframe tbody tr th:only-of-type {\n",
       "        vertical-align: middle;\n",
       "    }\n",
       "\n",
       "    .dataframe tbody tr th {\n",
       "        vertical-align: top;\n",
       "    }\n",
       "\n",
       "    .dataframe thead th {\n",
       "        text-align: right;\n",
       "    }\n",
       "</style>\n",
       "<table border=\"1\" class=\"dataframe\">\n",
       "  <thead>\n",
       "    <tr style=\"text-align: right;\">\n",
       "      <th></th>\n",
       "      <th>index</th>\n",
       "      <th>year</th>\n",
       "    </tr>\n",
       "  </thead>\n",
       "  <tbody>\n",
       "    <tr>\n",
       "      <th>0</th>\n",
       "      <td>1952</td>\n",
       "      <td>141</td>\n",
       "    </tr>\n",
       "    <tr>\n",
       "      <th>1</th>\n",
       "      <td>1957</td>\n",
       "      <td>141</td>\n",
       "    </tr>\n",
       "    <tr>\n",
       "      <th>2</th>\n",
       "      <td>1962</td>\n",
       "      <td>141</td>\n",
       "    </tr>\n",
       "    <tr>\n",
       "      <th>3</th>\n",
       "      <td>1967</td>\n",
       "      <td>141</td>\n",
       "    </tr>\n",
       "    <tr>\n",
       "      <th>4</th>\n",
       "      <td>1972</td>\n",
       "      <td>141</td>\n",
       "    </tr>\n",
       "    <tr>\n",
       "      <th>5</th>\n",
       "      <td>1977</td>\n",
       "      <td>141</td>\n",
       "    </tr>\n",
       "    <tr>\n",
       "      <th>6</th>\n",
       "      <td>1982</td>\n",
       "      <td>141</td>\n",
       "    </tr>\n",
       "    <tr>\n",
       "      <th>7</th>\n",
       "      <td>1987</td>\n",
       "      <td>141</td>\n",
       "    </tr>\n",
       "    <tr>\n",
       "      <th>8</th>\n",
       "      <td>1992</td>\n",
       "      <td>141</td>\n",
       "    </tr>\n",
       "    <tr>\n",
       "      <th>9</th>\n",
       "      <td>1997</td>\n",
       "      <td>141</td>\n",
       "    </tr>\n",
       "    <tr>\n",
       "      <th>10</th>\n",
       "      <td>2002</td>\n",
       "      <td>141</td>\n",
       "    </tr>\n",
       "    <tr>\n",
       "      <th>11</th>\n",
       "      <td>2007</td>\n",
       "      <td>141</td>\n",
       "    </tr>\n",
       "  </tbody>\n",
       "</table>\n",
       "</div>"
      ],
      "text/plain": [
       "    index  year\n",
       "0    1952   141\n",
       "1    1957   141\n",
       "2    1962   141\n",
       "3    1967   141\n",
       "4    1972   141\n",
       "5    1977   141\n",
       "6    1982   141\n",
       "7    1987   141\n",
       "8    1992   141\n",
       "9    1997   141\n",
       "10   2002   141\n",
       "11   2007   141"
      ]
     },
     "execution_count": 98,
     "metadata": {},
     "output_type": "execute_result"
    }
   ],
   "source": [
    "df.year.value_counts().reset_index()"
   ]
  },
  {
   "cell_type": "code",
   "execution_count": 99,
   "metadata": {},
   "outputs": [
    {
     "data": {
      "text/html": [
       "<div>\n",
       "<style scoped>\n",
       "    .dataframe tbody tr th:only-of-type {\n",
       "        vertical-align: middle;\n",
       "    }\n",
       "\n",
       "    .dataframe tbody tr th {\n",
       "        vertical-align: top;\n",
       "    }\n",
       "\n",
       "    .dataframe thead th {\n",
       "        text-align: right;\n",
       "    }\n",
       "</style>\n",
       "<table border=\"1\" class=\"dataframe\">\n",
       "  <thead>\n",
       "    <tr style=\"text-align: right;\">\n",
       "      <th></th>\n",
       "      <th>country</th>\n",
       "      <th>continent</th>\n",
       "      <th>year</th>\n",
       "      <th>lifeExp</th>\n",
       "      <th>pop</th>\n",
       "      <th>gdpPercap</th>\n",
       "      <th>iso_alpha</th>\n",
       "      <th>iso_num</th>\n",
       "    </tr>\n",
       "  </thead>\n",
       "  <tbody>\n",
       "    <tr>\n",
       "      <th>0</th>\n",
       "      <td>Afghanistan</td>\n",
       "      <td>Asia</td>\n",
       "      <td>1952</td>\n",
       "      <td>28.801</td>\n",
       "      <td>8425333</td>\n",
       "      <td>779.445314</td>\n",
       "      <td>AFG</td>\n",
       "      <td>4</td>\n",
       "    </tr>\n",
       "    <tr>\n",
       "      <th>1</th>\n",
       "      <td>Afghanistan</td>\n",
       "      <td>Asia</td>\n",
       "      <td>1957</td>\n",
       "      <td>30.332</td>\n",
       "      <td>9240934</td>\n",
       "      <td>820.853030</td>\n",
       "      <td>AFG</td>\n",
       "      <td>4</td>\n",
       "    </tr>\n",
       "    <tr>\n",
       "      <th>2</th>\n",
       "      <td>Afghanistan</td>\n",
       "      <td>Asia</td>\n",
       "      <td>1962</td>\n",
       "      <td>31.997</td>\n",
       "      <td>10267083</td>\n",
       "      <td>853.100710</td>\n",
       "      <td>AFG</td>\n",
       "      <td>4</td>\n",
       "    </tr>\n",
       "    <tr>\n",
       "      <th>3</th>\n",
       "      <td>Afghanistan</td>\n",
       "      <td>Asia</td>\n",
       "      <td>1967</td>\n",
       "      <td>34.020</td>\n",
       "      <td>11537966</td>\n",
       "      <td>836.197138</td>\n",
       "      <td>AFG</td>\n",
       "      <td>4</td>\n",
       "    </tr>\n",
       "    <tr>\n",
       "      <th>4</th>\n",
       "      <td>Afghanistan</td>\n",
       "      <td>Asia</td>\n",
       "      <td>1972</td>\n",
       "      <td>36.088</td>\n",
       "      <td>13079460</td>\n",
       "      <td>739.981106</td>\n",
       "      <td>AFG</td>\n",
       "      <td>4</td>\n",
       "    </tr>\n",
       "  </tbody>\n",
       "</table>\n",
       "</div>"
      ],
      "text/plain": [
       "       country continent  year  lifeExp       pop   gdpPercap iso_alpha  \\\n",
       "0  Afghanistan      Asia  1952   28.801   8425333  779.445314       AFG   \n",
       "1  Afghanistan      Asia  1957   30.332   9240934  820.853030       AFG   \n",
       "2  Afghanistan      Asia  1962   31.997  10267083  853.100710       AFG   \n",
       "3  Afghanistan      Asia  1967   34.020  11537966  836.197138       AFG   \n",
       "4  Afghanistan      Asia  1972   36.088  13079460  739.981106       AFG   \n",
       "\n",
       "   iso_num  \n",
       "0        4  \n",
       "1        4  \n",
       "2        4  \n",
       "3        4  \n",
       "4        4  "
      ]
     },
     "execution_count": 99,
     "metadata": {},
     "output_type": "execute_result"
    }
   ],
   "source": [
    "df.head()"
   ]
  },
  {
   "cell_type": "code",
   "execution_count": 100,
   "metadata": {},
   "outputs": [],
   "source": [
    "df = df.merge(continents[['iso_alpha', 'subcontinent']], on='iso_alpha')"
   ]
  },
  {
   "cell_type": "markdown",
   "metadata": {},
   "source": [
    "### EDA on the dataset is always informative  "
   ]
  },
  {
   "cell_type": "code",
   "execution_count": 101,
   "metadata": {},
   "outputs": [
    {
     "data": {
      "application/vnd.plotly.v1+json": {
       "config": {
        "plotlyServerURL": "https://plot.ly"
       },
       "data": [
        {
         "histnorm": "percent",
         "name": "Europe",
         "type": "histogram",
         "x": [
          55.23,
          59.28,
          64.82,
          66.22,
          67.69,
          68.93,
          70.42,
          72,
          71.581,
          72.95,
          75.651,
          76.423,
          66.8,
          67.48,
          69.54,
          70.14,
          70.63,
          72.17,
          73.18,
          74.94,
          76.04,
          77.51,
          78.98,
          79.829,
          68,
          69.24,
          70.25,
          70.94,
          71.44,
          72.8,
          73.93,
          75.35,
          76.46,
          77.53,
          78.32,
          79.441,
          53.82,
          58.45,
          61.93,
          64.79,
          67.45,
          69.86,
          70.69,
          71.14,
          72.178,
          73.244,
          74.09,
          74.852,
          59.6,
          66.61,
          69.51,
          70.42,
          70.9,
          70.81,
          71.08,
          71.34,
          71.19,
          70.32,
          72.14,
          73.005,
          61.21,
          64.77,
          67.13,
          68.5,
          69.61,
          70.64,
          70.46,
          71.52,
          72.527,
          73.68,
          74.876,
          75.748,
          66.87,
          69.03,
          69.9,
          70.38,
          70.29,
          70.71,
          70.96,
          71.58,
          72.4,
          74.01,
          75.51,
          76.486,
          70.78,
          71.81,
          72.35,
          72.96,
          73.47,
          74.69,
          74.63,
          74.8,
          75.33,
          76.11,
          77.18,
          78.332,
          66.55,
          67.49,
          68.75,
          69.83,
          70.87,
          72.52,
          74.55,
          74.83,
          75.7,
          77.13,
          78.37,
          79.313,
          67.41,
          68.93,
          70.51,
          71.55,
          72.38,
          73.83,
          74.89,
          76.34,
          77.46,
          78.64,
          79.59,
          80.657,
          67.5,
          69.1,
          70.3,
          70.8,
          71,
          72.5,
          73.8,
          74.847,
          76.07,
          77.34,
          78.67,
          79.406,
          65.86,
          67.86,
          69.51,
          71,
          72.34,
          73.68,
          75.24,
          76.67,
          77.03,
          77.869,
          78.256,
          79.483,
          64.03,
          66.41,
          67.96,
          69.5,
          69.76,
          69.95,
          69.39,
          69.58,
          69.17,
          71.04,
          72.59,
          73.338,
          72.49,
          73.47,
          73.68,
          73.73,
          74.46,
          76.11,
          76.99,
          77.23,
          78.77,
          78.95,
          80.5,
          81.757,
          66.91,
          68.9,
          70.29,
          71.08,
          71.28,
          72.03,
          73.1,
          74.36,
          75.467,
          76.122,
          77.783,
          78.885,
          65.94,
          67.81,
          69.24,
          71.06,
          72.19,
          73.48,
          74.98,
          76.42,
          77.44,
          78.82,
          80.24,
          80.546,
          59.164,
          61.448,
          63.728,
          67.178,
          70.636,
          73.066,
          74.101,
          74.865,
          75.435,
          75.445,
          73.981,
          74.543,
          72.13,
          72.99,
          73.23,
          73.82,
          73.75,
          75.24,
          76.05,
          76.83,
          77.42,
          78.03,
          78.53,
          79.762,
          72.67,
          73.44,
          73.47,
          74.08,
          74.34,
          75.37,
          75.97,
          75.89,
          77.32,
          78.32,
          79.05,
          80.196,
          61.31,
          65.77,
          67.64,
          69.61,
          70.85,
          70.67,
          71.32,
          70.98,
          70.99,
          72.75,
          74.67,
          75.563,
          59.82,
          61.51,
          64.39,
          66.6,
          69.26,
          70.41,
          72.77,
          74.06,
          74.86,
          75.97,
          77.29,
          78.098,
          61.05,
          64.1,
          66.8,
          66.8,
          69.21,
          69.46,
          69.66,
          69.53,
          69.36,
          69.72,
          71.322,
          72.476,
          57.996,
          61.685,
          64.531,
          66.914,
          68.7,
          70.3,
          70.162,
          71.218,
          71.659,
          72.232,
          73.213,
          74.002,
          64.36,
          67.45,
          70.33,
          70.98,
          70.35,
          70.45,
          70.8,
          71.08,
          71.38,
          72.71,
          73.8,
          74.663,
          65.57,
          67.85,
          69.15,
          69.18,
          69.82,
          70.97,
          71.063,
          72.25,
          73.64,
          75.13,
          76.66,
          77.926,
          64.94,
          66.66,
          69.69,
          71.44,
          73.06,
          74.39,
          76.3,
          76.9,
          77.57,
          78.77,
          79.78,
          80.941,
          71.86,
          72.49,
          73.37,
          74.16,
          74.72,
          75.44,
          76.42,
          77.19,
          78.16,
          79.39,
          80.04,
          80.884,
          69.62,
          70.56,
          71.32,
          72.77,
          73.78,
          75.39,
          76.21,
          77.41,
          78.03,
          79.37,
          80.62,
          81.701,
          43.585,
          48.079,
          52.098,
          54.336,
          57.005,
          59.507,
          61.036,
          63.108,
          66.146,
          68.835,
          70.845,
          71.777,
          69.18,
          70.42,
          70.76,
          71.36,
          72.01,
          72.76,
          74.04,
          75.007,
          76.42,
          77.218,
          78.471,
          79.425
         ],
         "xaxis": "x",
         "yaxis": "y"
        },
        {
         "histnorm": "percent",
         "name": "Africa",
         "type": "histogram",
         "x": [
          43.077,
          45.685,
          48.303,
          51.407,
          54.518,
          58.014,
          61.368,
          65.799,
          67.744,
          69.152,
          70.994,
          72.301,
          30.015,
          31.999,
          34,
          35.985,
          37.928,
          39.483,
          39.942,
          39.906,
          40.647,
          40.963,
          41.003,
          42.731,
          38.223,
          40.358,
          42.618,
          44.885,
          47.014,
          49.19,
          50.904,
          52.337,
          53.919,
          54.777,
          54.406,
          56.728,
          47.622,
          49.618,
          51.52,
          53.298,
          56.024,
          59.319,
          61.484,
          63.622,
          62.745,
          52.556,
          46.634,
          50.728,
          31.975,
          34.906,
          37.814,
          40.697,
          43.591,
          46.137,
          48.122,
          49.557,
          50.26,
          50.324,
          50.65,
          52.295,
          39.031,
          40.533,
          42.045,
          43.548,
          44.057,
          45.91,
          47.471,
          48.211,
          44.736,
          45.326,
          47.36,
          49.58,
          38.523,
          40.428,
          42.643,
          44.799,
          47.049,
          49.355,
          52.961,
          54.985,
          54.314,
          52.199,
          49.856,
          50.43,
          35.463,
          37.464,
          39.475,
          41.478,
          43.457,
          46.775,
          48.295,
          50.485,
          49.396,
          46.066,
          43.308,
          44.741,
          38.092,
          39.881,
          41.716,
          43.601,
          45.569,
          47.383,
          49.517,
          51.051,
          51.724,
          51.573,
          50.525,
          50.651,
          40.715,
          42.46,
          44.467,
          46.472,
          48.944,
          50.939,
          52.933,
          54.926,
          57.939,
          60.66,
          62.974,
          65.152,
          39.143,
          40.652,
          42.122,
          44.056,
          45.989,
          47.804,
          47.784,
          47.412,
          45.548,
          42.587,
          44.966,
          46.462,
          42.111,
          45.053,
          48.435,
          52.04,
          54.907,
          55.625,
          56.695,
          57.47,
          56.433,
          52.962,
          52.97,
          55.322,
          40.477,
          42.469,
          44.93,
          47.35,
          49.801,
          52.374,
          53.983,
          54.655,
          52.044,
          47.991,
          46.832,
          48.328,
          34.812,
          37.328,
          39.693,
          42.074,
          44.366,
          46.519,
          48.812,
          50.04,
          51.604,
          53.157,
          53.373,
          54.791,
          41.893,
          44.444,
          46.992,
          49.293,
          51.137,
          53.319,
          56.006,
          59.797,
          63.674,
          67.217,
          69.806,
          71.338,
          34.482,
          35.983,
          37.485,
          38.987,
          40.516,
          42.024,
          43.662,
          45.664,
          47.545,
          48.245,
          49.348,
          51.579,
          35.928,
          38.047,
          40.158,
          42.189,
          44.142,
          44.535,
          43.89,
          46.453,
          49.991,
          53.378,
          55.24,
          58.04,
          34.078,
          36.667,
          40.059,
          42.115,
          43.515,
          44.51,
          44.916,
          46.684,
          48.091,
          49.402,
          50.725,
          52.947,
          37.003,
          38.999,
          40.489,
          44.598,
          48.69,
          52.79,
          56.564,
          60.19,
          61.366,
          60.461,
          56.761,
          56.735,
          30,
          32.065,
          33.896,
          35.857,
          38.308,
          41.842,
          45.58,
          49.265,
          52.644,
          55.861,
          58.041,
          59.448,
          43.149,
          44.779,
          46.452,
          48.072,
          49.875,
          51.756,
          53.744,
          55.729,
          57.501,
          58.556,
          58.453,
          60.022,
          33.609,
          34.558,
          35.753,
          37.197,
          38.842,
          40.762,
          42.891,
          45.552,
          48.576,
          51.455,
          53.676,
          56.007,
          32.5,
          33.489,
          34.488,
          35.492,
          36.486,
          37.465,
          39.327,
          41.245,
          43.266,
          44.873,
          45.504,
          46.388,
          42.27,
          44.686,
          47.949,
          50.654,
          53.559,
          56.155,
          58.766,
          59.339,
          59.285,
          54.407,
          50.992,
          54.11,
          42.138,
          45.047,
          47.747,
          48.492,
          49.767,
          52.208,
          55.078,
          57.18,
          59.685,
          55.558,
          44.593,
          42.592,
          38.48,
          39.486,
          40.502,
          41.536,
          42.614,
          43.764,
          44.852,
          46.027,
          40.802,
          42.221,
          43.753,
          45.678,
          42.723,
          45.289,
          47.808,
          50.227,
          52.773,
          57.442,
          62.155,
          66.234,
          68.755,
          71.555,
          72.737,
          73.952,
          36.681,
          38.865,
          40.848,
          42.881,
          44.851,
          46.881,
          48.969,
          49.35,
          52.214,
          54.978,
          57.286,
          59.443,
          36.256,
          37.207,
          38.41,
          39.487,
          41.766,
          43.767,
          45.642,
          47.457,
          49.42,
          47.495,
          45.009,
          48.303,
          33.685,
          35.307,
          36.936,
          38.487,
          39.977,
          41.714,
          43.916,
          46.364,
          48.388,
          49.903,
          51.818,
          54.467,
          40.543,
          42.338,
          44.248,
          46.289,
          48.437,
          50.852,
          53.599,
          56.145,
          58.333,
          60.43,
          62.247,
          64.164,
          50.986,
          58.089,
          60.246,
          61.557,
          62.944,
          64.93,
          66.711,
          68.74,
          69.745,
          70.736,
          71.954,
          72.801,
          42.873,
          45.423,
          47.924,
          50.335,
          52.862,
          55.73,
          59.65,
          62.677,
          65.393,
          67.66,
          69.615,
          71.164,
          31.286,
          33.779,
          36.161,
          38.113,
          40.328,
          42.495,
          42.795,
          42.861,
          44.284,
          46.344,
          44.026,
          42.082,
          41.725,
          45.226,
          48.386,
          51.159,
          53.867,
          56.437,
          58.968,
          60.835,
          61.999,
          58.909,
          51.479,
          52.906,
          37.444,
          38.598,
          39.487,
          40.118,
          40.546,
          41.291,
          42.598,
          44.555,
          47.391,
          51.313,
          54.496,
          56.867,
          36.324,
          37.802,
          39.36,
          41.04,
          42.821,
          44.514,
          45.826,
          46.886,
          47.472,
          47.464,
          46.608,
          46.859,
          52.724,
          55.09,
          57.666,
          60.542,
          64.274,
          67.064,
          69.885,
          71.913,
          73.615,
          74.772,
          75.744,
          76.442,
          40,
          41.5,
          43,
          44.1,
          44.6,
          45,
          46.218,
          44.02,
          23.599,
          36.087,
          43.413,
          46.242,
          46.471,
          48.945,
          51.893,
          54.425,
          56.48,
          58.55,
          60.351,
          61.728,
          62.742,
          63.306,
          64.337,
          65.528,
          37.278,
          39.329,
          41.454,
          43.563,
          45.815,
          48.879,
          52.379,
          55.769,
          58.196,
          60.187,
          61.6,
          63.062,
          30.331,
          31.57,
          32.767,
          34.113,
          35.4,
          36.788,
          38.445,
          40.006,
          38.333,
          39.897,
          41.012,
          42.568,
          32.978,
          34.977,
          36.981,
          38.977,
          40.973,
          41.974,
          42.955,
          44.501,
          39.658,
          43.795,
          45.936,
          48.159,
          45.009,
          47.985,
          49.951,
          51.927,
          53.696,
          55.527,
          58.161,
          60.834,
          61.888,
          60.236,
          53.365,
          49.339,
          38.635,
          39.624,
          40.87,
          42.858,
          45.083,
          47.8,
          50.338,
          51.744,
          53.556,
          55.373,
          56.369,
          58.556,
          41.407,
          43.424,
          44.992,
          46.633,
          49.552,
          52.537,
          55.561,
          57.678,
          58.474,
          54.289,
          43.869,
          39.613,
          41.215,
          42.974,
          44.246,
          45.757,
          47.62,
          49.919,
          50.608,
          51.535,
          50.44,
          48.466,
          49.651,
          52.517,
          38.596,
          41.208,
          43.922,
          46.769,
          49.759,
          52.887,
          55.471,
          56.941,
          58.061,
          58.39,
          57.561,
          58.42,
          44.6,
          47.1,
          49.579,
          52.053,
          55.602,
          59.837,
          64.048,
          66.894,
          70.001,
          71.973,
          73.042,
          73.923,
          39.978,
          42.571,
          45.344,
          48.051,
          51.016,
          50.35,
          49.849,
          51.509,
          48.825,
          44.578,
          47.813,
          51.542,
          42.038,
          44.077,
          46.023,
          47.768,
          50.107,
          51.386,
          51.821,
          50.821,
          46.1,
          40.238,
          39.193,
          42.384,
          48.451,
          50.469,
          52.358,
          53.995,
          55.635,
          57.674,
          60.363,
          62.351,
          60.377,
          46.809,
          39.989,
          43.487
         ],
         "xaxis": "x2",
         "yaxis": "y2"
        },
        {
         "histnorm": "percent",
         "name": "Asia",
         "type": "histogram",
         "x": [
          28.801,
          30.332,
          31.997,
          34.02,
          36.088,
          38.438,
          39.854,
          40.822,
          41.674,
          41.763,
          42.129,
          43.828,
          50.939,
          53.832,
          56.923,
          59.923,
          63.3,
          65.593,
          69.052,
          70.75,
          72.601,
          73.925,
          74.795,
          75.635,
          37.484,
          39.348,
          41.216,
          43.453,
          45.252,
          46.923,
          50.009,
          52.819,
          56.018,
          59.412,
          62.013,
          64.062,
          39.417,
          41.366,
          43.415,
          45.415,
          40.317,
          31.22,
          50.957,
          53.914,
          55.803,
          56.534,
          56.752,
          59.723,
          44,
          50.54896,
          44.50136,
          58.38112,
          63.11888,
          63.96736,
          65.525,
          67.274,
          68.69,
          70.426,
          72.028,
          72.961,
          60.96,
          64.75,
          67.65,
          70,
          72,
          73.6,
          75.45,
          76.2,
          77.601,
          80,
          81.495,
          82.208,
          37.373,
          40.249,
          43.605,
          47.193,
          50.651,
          54.208,
          56.596,
          58.553,
          60.223,
          61.765,
          62.879,
          64.698,
          37.468,
          39.918,
          42.518,
          45.964,
          49.203,
          52.702,
          56.159,
          60.137,
          62.681,
          66.041,
          68.588,
          70.65,
          44.869,
          47.181,
          49.325,
          52.469,
          55.234,
          57.702,
          59.62,
          63.04,
          65.742,
          68.042,
          69.451,
          70.964,
          45.32,
          48.437,
          51.457,
          54.459,
          56.95,
          60.413,
          62.038,
          65.044,
          59.461,
          58.811,
          57.046,
          59.545,
          65.39,
          67.84,
          69.39,
          70.75,
          71.63,
          73.06,
          74.45,
          75.6,
          76.93,
          78.269,
          79.696,
          80.745,
          63.03,
          65.5,
          68.73,
          71.43,
          73.42,
          75.38,
          77.11,
          78.67,
          79.36,
          80.69,
          82,
          82.603,
          43.158,
          45.669,
          48.126,
          51.629,
          56.528,
          61.134,
          63.739,
          65.869,
          68.015,
          69.772,
          71.263,
          72.535,
          50.056,
          54.081,
          56.656,
          59.942,
          63.983,
          67.159,
          69.1,
          70.647,
          69.978,
          67.727,
          66.662,
          67.297,
          47.453,
          52.681,
          55.292,
          57.716,
          62.612,
          64.766,
          67.123,
          69.81,
          72.244,
          74.647,
          77.045,
          78.623,
          55.928,
          59.489,
          62.094,
          63.87,
          65.421,
          66.099,
          66.983,
          67.926,
          69.292,
          70.265,
          71.028,
          71.993,
          48.463,
          52.102,
          55.737,
          59.371,
          63.01,
          65.256,
          68,
          69.5,
          70.693,
          71.938,
          73.044,
          74.241,
          42.244,
          45.248,
          48.251,
          51.253,
          53.754,
          55.491,
          57.489,
          60.222,
          61.271,
          63.625,
          65.033,
          66.803,
          36.319,
          41.905,
          45.108,
          49.379,
          53.07,
          56.059,
          58.056,
          58.339,
          59.32,
          60.328,
          59.908,
          62.069,
          36.157,
          37.686,
          39.393,
          41.472,
          43.971,
          46.748,
          49.594,
          52.537,
          55.727,
          59.426,
          61.34,
          63.785,
          37.578,
          40.08,
          43.165,
          46.988,
          52.143,
          57.367,
          62.728,
          67.734,
          71.197,
          72.499,
          74.193,
          75.64,
          43.436,
          45.557,
          47.67,
          49.8,
          51.929,
          54.043,
          56.158,
          58.245,
          60.838,
          61.818,
          63.61,
          65.483,
          47.752,
          51.334,
          54.757,
          56.393,
          58.065,
          60.06,
          62.082,
          64.151,
          66.458,
          68.564,
          70.303,
          71.688,
          39.875,
          42.868,
          45.914,
          49.901,
          53.886,
          58.69,
          63.012,
          66.295,
          68.768,
          70.533,
          71.626,
          72.777,
          60.396,
          63.179,
          65.798,
          67.946,
          69.521,
          70.795,
          71.76,
          73.56,
          75.788,
          77.158,
          78.77,
          79.972,
          57.593,
          61.456,
          62.192,
          64.266,
          65.042,
          65.949,
          68.757,
          69.011,
          70.379,
          70.457,
          70.815,
          72.396,
          45.883,
          48.284,
          50.305,
          53.655,
          57.296,
          61.195,
          64.59,
          66.974,
          69.249,
          71.527,
          73.053,
          74.143,
          58.5,
          62.4,
          65.2,
          67.5,
          69.39,
          70.59,
          72.16,
          73.4,
          74.26,
          75.25,
          76.99,
          78.4,
          50.848,
          53.63,
          56.061,
          58.285,
          60.405,
          62.494,
          64.597,
          66.084,
          67.298,
          67.521,
          68.564,
          70.616,
          40.412,
          42.887,
          45.363,
          47.838,
          50.254,
          55.764,
          58.816,
          62.82,
          67.662,
          70.672,
          73.017,
          74.249,
          43.16,
          45.671,
          48.127,
          51.631,
          56.532,
          60.765,
          64.406,
          67.046,
          69.718,
          71.096,
          72.37,
          73.422,
          32.548,
          33.97,
          35.18,
          36.984,
          39.848,
          44.175,
          49.113,
          52.922,
          55.599,
          58.02,
          60.308,
          62.698
         ],
         "xaxis": "x3",
         "yaxis": "y3"
        },
        {
         "histnorm": "percent",
         "name": "Americas",
         "type": "histogram",
         "x": [
          62.485,
          64.399,
          65.142,
          65.634,
          67.065,
          68.481,
          69.942,
          70.774,
          71.868,
          73.275,
          74.34,
          75.32,
          40.414,
          41.89,
          43.428,
          45.032,
          46.714,
          50.023,
          53.859,
          57.251,
          59.957,
          62.05,
          63.883,
          65.554,
          50.917,
          53.285,
          55.665,
          57.632,
          59.504,
          61.489,
          63.336,
          65.205,
          67.057,
          69.388,
          71.006,
          72.39,
          68.75,
          69.96,
          71.3,
          72.13,
          72.88,
          74.21,
          75.76,
          76.86,
          77.95,
          78.61,
          79.77,
          80.653,
          54.745,
          56.074,
          57.924,
          60.523,
          63.441,
          67.052,
          70.565,
          72.492,
          74.126,
          75.816,
          77.86,
          78.553,
          50.643,
          55.118,
          57.863,
          59.963,
          61.623,
          63.837,
          66.653,
          67.768,
          68.421,
          70.313,
          71.682,
          72.889,
          57.206,
          60.026,
          62.842,
          65.424,
          67.849,
          70.75,
          73.45,
          74.752,
          75.713,
          77.26,
          78.123,
          78.782,
          59.421,
          62.325,
          65.246,
          68.29,
          70.723,
          72.649,
          73.717,
          74.174,
          74.414,
          76.151,
          77.158,
          78.273,
          45.928,
          49.828,
          53.459,
          56.751,
          59.631,
          61.788,
          63.727,
          66.046,
          68.457,
          69.957,
          70.847,
          72.235,
          48.357,
          51.356,
          54.64,
          56.678,
          58.796,
          61.31,
          64.342,
          67.231,
          69.613,
          72.312,
          74.173,
          74.994,
          45.262,
          48.57,
          52.307,
          55.855,
          58.207,
          56.696,
          56.604,
          63.154,
          66.798,
          69.535,
          70.734,
          71.878,
          42.023,
          44.142,
          46.954,
          50.016,
          53.738,
          56.029,
          58.137,
          60.782,
          63.373,
          66.322,
          68.978,
          70.259,
          37.579,
          40.696,
          43.59,
          46.243,
          48.042,
          49.923,
          51.461,
          53.636,
          55.089,
          56.671,
          58.137,
          60.916,
          41.912,
          44.665,
          48.041,
          50.924,
          53.884,
          57.402,
          60.909,
          64.492,
          66.399,
          67.659,
          68.565,
          70.198,
          58.53,
          62.61,
          65.61,
          67.51,
          69,
          70.11,
          71.21,
          71.77,
          71.766,
          72.262,
          72.047,
          72.567,
          50.789,
          55.19,
          58.299,
          60.11,
          62.361,
          65.032,
          67.405,
          69.498,
          71.455,
          73.67,
          74.902,
          76.195,
          42.314,
          45.432,
          48.632,
          51.884,
          55.151,
          57.47,
          59.298,
          62.008,
          65.843,
          68.426,
          70.836,
          72.899,
          55.191,
          59.201,
          61.817,
          64.071,
          66.216,
          68.681,
          70.472,
          71.523,
          72.462,
          73.738,
          74.712,
          75.537,
          62.649,
          63.196,
          64.361,
          64.951,
          65.815,
          66.353,
          66.874,
          67.378,
          68.225,
          69.4,
          70.755,
          71.752,
          43.902,
          46.263,
          49.096,
          51.445,
          55.448,
          58.447,
          61.406,
          64.134,
          66.458,
          68.386,
          69.906,
          71.421,
          64.28,
          68.54,
          69.62,
          71.1,
          72.16,
          73.44,
          73.75,
          74.63,
          73.911,
          74.917,
          77.778,
          78.746,
          59.1,
          61.8,
          64.9,
          65.4,
          65.9,
          68.3,
          68.832,
          69.582,
          69.862,
          69.465,
          68.976,
          69.819,
          68.44,
          69.49,
          70.21,
          70.76,
          71.34,
          73.38,
          74.65,
          75.02,
          76.09,
          76.81,
          77.31,
          78.242,
          66.071,
          67.044,
          68.253,
          68.468,
          68.673,
          69.481,
          70.805,
          71.918,
          72.752,
          74.223,
          75.307,
          76.384,
          55.088,
          57.907,
          60.77,
          63.479,
          65.712,
          67.456,
          68.557,
          70.19,
          71.15,
          72.146,
          72.766,
          73.747
         ],
         "xaxis": "x4",
         "yaxis": "y4"
        },
        {
         "histnorm": "percent",
         "name": "Oceania",
         "type": "histogram",
         "x": [
          69.12,
          70.33,
          70.93,
          71.1,
          71.93,
          73.49,
          74.74,
          76.32,
          77.56,
          78.83,
          80.37,
          81.235,
          69.39,
          70.26,
          71.24,
          71.52,
          71.89,
          72.22,
          73.84,
          74.32,
          76.33,
          77.55,
          79.11,
          80.204
         ],
         "xaxis": "x5",
         "yaxis": "y5"
        }
       ],
       "layout": {
        "annotations": [
         {
          "font": {
           "size": 16
          },
          "showarrow": false,
          "text": "Europe",
          "x": 0.225,
          "xanchor": "center",
          "xref": "paper",
          "y": 1,
          "yanchor": "bottom",
          "yref": "paper"
         },
         {
          "font": {
           "size": 16
          },
          "showarrow": false,
          "text": "Africa",
          "x": 0.775,
          "xanchor": "center",
          "xref": "paper",
          "y": 1,
          "yanchor": "bottom",
          "yref": "paper"
         },
         {
          "font": {
           "size": 16
          },
          "showarrow": false,
          "text": "Asia",
          "x": 0.225,
          "xanchor": "center",
          "xref": "paper",
          "y": 0.6111111111111112,
          "yanchor": "bottom",
          "yref": "paper"
         },
         {
          "font": {
           "size": 16
          },
          "showarrow": false,
          "text": "Americas",
          "x": 0.775,
          "xanchor": "center",
          "xref": "paper",
          "y": 0.6111111111111112,
          "yanchor": "bottom",
          "yref": "paper"
         },
         {
          "font": {
           "size": 16
          },
          "showarrow": false,
          "text": "Oceania",
          "x": 0.225,
          "xanchor": "center",
          "xref": "paper",
          "y": 0.22222222222222224,
          "yanchor": "bottom",
          "yref": "paper"
         }
        ],
        "bargap": 0.05,
        "height": 600,
        "showlegend": false,
        "template": {
         "data": {
          "bar": [
           {
            "error_x": {
             "color": "#2a3f5f"
            },
            "error_y": {
             "color": "#2a3f5f"
            },
            "marker": {
             "line": {
              "color": "#E5ECF6",
              "width": 0.5
             },
             "pattern": {
              "fillmode": "overlay",
              "size": 10,
              "solidity": 0.2
             }
            },
            "type": "bar"
           }
          ],
          "barpolar": [
           {
            "marker": {
             "line": {
              "color": "#E5ECF6",
              "width": 0.5
             },
             "pattern": {
              "fillmode": "overlay",
              "size": 10,
              "solidity": 0.2
             }
            },
            "type": "barpolar"
           }
          ],
          "carpet": [
           {
            "aaxis": {
             "endlinecolor": "#2a3f5f",
             "gridcolor": "white",
             "linecolor": "white",
             "minorgridcolor": "white",
             "startlinecolor": "#2a3f5f"
            },
            "baxis": {
             "endlinecolor": "#2a3f5f",
             "gridcolor": "white",
             "linecolor": "white",
             "minorgridcolor": "white",
             "startlinecolor": "#2a3f5f"
            },
            "type": "carpet"
           }
          ],
          "choropleth": [
           {
            "colorbar": {
             "outlinewidth": 0,
             "ticks": ""
            },
            "type": "choropleth"
           }
          ],
          "contour": [
           {
            "colorbar": {
             "outlinewidth": 0,
             "ticks": ""
            },
            "colorscale": [
             [
              0,
              "#0d0887"
             ],
             [
              0.1111111111111111,
              "#46039f"
             ],
             [
              0.2222222222222222,
              "#7201a8"
             ],
             [
              0.3333333333333333,
              "#9c179e"
             ],
             [
              0.4444444444444444,
              "#bd3786"
             ],
             [
              0.5555555555555556,
              "#d8576b"
             ],
             [
              0.6666666666666666,
              "#ed7953"
             ],
             [
              0.7777777777777778,
              "#fb9f3a"
             ],
             [
              0.8888888888888888,
              "#fdca26"
             ],
             [
              1,
              "#f0f921"
             ]
            ],
            "type": "contour"
           }
          ],
          "contourcarpet": [
           {
            "colorbar": {
             "outlinewidth": 0,
             "ticks": ""
            },
            "type": "contourcarpet"
           }
          ],
          "heatmap": [
           {
            "colorbar": {
             "outlinewidth": 0,
             "ticks": ""
            },
            "colorscale": [
             [
              0,
              "#0d0887"
             ],
             [
              0.1111111111111111,
              "#46039f"
             ],
             [
              0.2222222222222222,
              "#7201a8"
             ],
             [
              0.3333333333333333,
              "#9c179e"
             ],
             [
              0.4444444444444444,
              "#bd3786"
             ],
             [
              0.5555555555555556,
              "#d8576b"
             ],
             [
              0.6666666666666666,
              "#ed7953"
             ],
             [
              0.7777777777777778,
              "#fb9f3a"
             ],
             [
              0.8888888888888888,
              "#fdca26"
             ],
             [
              1,
              "#f0f921"
             ]
            ],
            "type": "heatmap"
           }
          ],
          "heatmapgl": [
           {
            "colorbar": {
             "outlinewidth": 0,
             "ticks": ""
            },
            "colorscale": [
             [
              0,
              "#0d0887"
             ],
             [
              0.1111111111111111,
              "#46039f"
             ],
             [
              0.2222222222222222,
              "#7201a8"
             ],
             [
              0.3333333333333333,
              "#9c179e"
             ],
             [
              0.4444444444444444,
              "#bd3786"
             ],
             [
              0.5555555555555556,
              "#d8576b"
             ],
             [
              0.6666666666666666,
              "#ed7953"
             ],
             [
              0.7777777777777778,
              "#fb9f3a"
             ],
             [
              0.8888888888888888,
              "#fdca26"
             ],
             [
              1,
              "#f0f921"
             ]
            ],
            "type": "heatmapgl"
           }
          ],
          "histogram": [
           {
            "marker": {
             "pattern": {
              "fillmode": "overlay",
              "size": 10,
              "solidity": 0.2
             }
            },
            "type": "histogram"
           }
          ],
          "histogram2d": [
           {
            "colorbar": {
             "outlinewidth": 0,
             "ticks": ""
            },
            "colorscale": [
             [
              0,
              "#0d0887"
             ],
             [
              0.1111111111111111,
              "#46039f"
             ],
             [
              0.2222222222222222,
              "#7201a8"
             ],
             [
              0.3333333333333333,
              "#9c179e"
             ],
             [
              0.4444444444444444,
              "#bd3786"
             ],
             [
              0.5555555555555556,
              "#d8576b"
             ],
             [
              0.6666666666666666,
              "#ed7953"
             ],
             [
              0.7777777777777778,
              "#fb9f3a"
             ],
             [
              0.8888888888888888,
              "#fdca26"
             ],
             [
              1,
              "#f0f921"
             ]
            ],
            "type": "histogram2d"
           }
          ],
          "histogram2dcontour": [
           {
            "colorbar": {
             "outlinewidth": 0,
             "ticks": ""
            },
            "colorscale": [
             [
              0,
              "#0d0887"
             ],
             [
              0.1111111111111111,
              "#46039f"
             ],
             [
              0.2222222222222222,
              "#7201a8"
             ],
             [
              0.3333333333333333,
              "#9c179e"
             ],
             [
              0.4444444444444444,
              "#bd3786"
             ],
             [
              0.5555555555555556,
              "#d8576b"
             ],
             [
              0.6666666666666666,
              "#ed7953"
             ],
             [
              0.7777777777777778,
              "#fb9f3a"
             ],
             [
              0.8888888888888888,
              "#fdca26"
             ],
             [
              1,
              "#f0f921"
             ]
            ],
            "type": "histogram2dcontour"
           }
          ],
          "mesh3d": [
           {
            "colorbar": {
             "outlinewidth": 0,
             "ticks": ""
            },
            "type": "mesh3d"
           }
          ],
          "parcoords": [
           {
            "line": {
             "colorbar": {
              "outlinewidth": 0,
              "ticks": ""
             }
            },
            "type": "parcoords"
           }
          ],
          "pie": [
           {
            "automargin": true,
            "type": "pie"
           }
          ],
          "scatter": [
           {
            "fillpattern": {
             "fillmode": "overlay",
             "size": 10,
             "solidity": 0.2
            },
            "type": "scatter"
           }
          ],
          "scatter3d": [
           {
            "line": {
             "colorbar": {
              "outlinewidth": 0,
              "ticks": ""
             }
            },
            "marker": {
             "colorbar": {
              "outlinewidth": 0,
              "ticks": ""
             }
            },
            "type": "scatter3d"
           }
          ],
          "scattercarpet": [
           {
            "marker": {
             "colorbar": {
              "outlinewidth": 0,
              "ticks": ""
             }
            },
            "type": "scattercarpet"
           }
          ],
          "scattergeo": [
           {
            "marker": {
             "colorbar": {
              "outlinewidth": 0,
              "ticks": ""
             }
            },
            "type": "scattergeo"
           }
          ],
          "scattergl": [
           {
            "marker": {
             "colorbar": {
              "outlinewidth": 0,
              "ticks": ""
             }
            },
            "type": "scattergl"
           }
          ],
          "scattermapbox": [
           {
            "marker": {
             "colorbar": {
              "outlinewidth": 0,
              "ticks": ""
             }
            },
            "type": "scattermapbox"
           }
          ],
          "scatterpolar": [
           {
            "marker": {
             "colorbar": {
              "outlinewidth": 0,
              "ticks": ""
             }
            },
            "type": "scatterpolar"
           }
          ],
          "scatterpolargl": [
           {
            "marker": {
             "colorbar": {
              "outlinewidth": 0,
              "ticks": ""
             }
            },
            "type": "scatterpolargl"
           }
          ],
          "scatterternary": [
           {
            "marker": {
             "colorbar": {
              "outlinewidth": 0,
              "ticks": ""
             }
            },
            "type": "scatterternary"
           }
          ],
          "surface": [
           {
            "colorbar": {
             "outlinewidth": 0,
             "ticks": ""
            },
            "colorscale": [
             [
              0,
              "#0d0887"
             ],
             [
              0.1111111111111111,
              "#46039f"
             ],
             [
              0.2222222222222222,
              "#7201a8"
             ],
             [
              0.3333333333333333,
              "#9c179e"
             ],
             [
              0.4444444444444444,
              "#bd3786"
             ],
             [
              0.5555555555555556,
              "#d8576b"
             ],
             [
              0.6666666666666666,
              "#ed7953"
             ],
             [
              0.7777777777777778,
              "#fb9f3a"
             ],
             [
              0.8888888888888888,
              "#fdca26"
             ],
             [
              1,
              "#f0f921"
             ]
            ],
            "type": "surface"
           }
          ],
          "table": [
           {
            "cells": {
             "fill": {
              "color": "#EBF0F8"
             },
             "line": {
              "color": "white"
             }
            },
            "header": {
             "fill": {
              "color": "#C8D4E3"
             },
             "line": {
              "color": "white"
             }
            },
            "type": "table"
           }
          ]
         },
         "layout": {
          "annotationdefaults": {
           "arrowcolor": "#2a3f5f",
           "arrowhead": 0,
           "arrowwidth": 1
          },
          "autotypenumbers": "strict",
          "coloraxis": {
           "colorbar": {
            "outlinewidth": 0,
            "ticks": ""
           }
          },
          "colorscale": {
           "diverging": [
            [
             0,
             "#8e0152"
            ],
            [
             0.1,
             "#c51b7d"
            ],
            [
             0.2,
             "#de77ae"
            ],
            [
             0.3,
             "#f1b6da"
            ],
            [
             0.4,
             "#fde0ef"
            ],
            [
             0.5,
             "#f7f7f7"
            ],
            [
             0.6,
             "#e6f5d0"
            ],
            [
             0.7,
             "#b8e186"
            ],
            [
             0.8,
             "#7fbc41"
            ],
            [
             0.9,
             "#4d9221"
            ],
            [
             1,
             "#276419"
            ]
           ],
           "sequential": [
            [
             0,
             "#0d0887"
            ],
            [
             0.1111111111111111,
             "#46039f"
            ],
            [
             0.2222222222222222,
             "#7201a8"
            ],
            [
             0.3333333333333333,
             "#9c179e"
            ],
            [
             0.4444444444444444,
             "#bd3786"
            ],
            [
             0.5555555555555556,
             "#d8576b"
            ],
            [
             0.6666666666666666,
             "#ed7953"
            ],
            [
             0.7777777777777778,
             "#fb9f3a"
            ],
            [
             0.8888888888888888,
             "#fdca26"
            ],
            [
             1,
             "#f0f921"
            ]
           ],
           "sequentialminus": [
            [
             0,
             "#0d0887"
            ],
            [
             0.1111111111111111,
             "#46039f"
            ],
            [
             0.2222222222222222,
             "#7201a8"
            ],
            [
             0.3333333333333333,
             "#9c179e"
            ],
            [
             0.4444444444444444,
             "#bd3786"
            ],
            [
             0.5555555555555556,
             "#d8576b"
            ],
            [
             0.6666666666666666,
             "#ed7953"
            ],
            [
             0.7777777777777778,
             "#fb9f3a"
            ],
            [
             0.8888888888888888,
             "#fdca26"
            ],
            [
             1,
             "#f0f921"
            ]
           ]
          },
          "colorway": [
           "#636efa",
           "#EF553B",
           "#00cc96",
           "#ab63fa",
           "#FFA15A",
           "#19d3f3",
           "#FF6692",
           "#B6E880",
           "#FF97FF",
           "#FECB52"
          ],
          "font": {
           "color": "#2a3f5f"
          },
          "geo": {
           "bgcolor": "white",
           "lakecolor": "white",
           "landcolor": "#E5ECF6",
           "showlakes": true,
           "showland": true,
           "subunitcolor": "white"
          },
          "hoverlabel": {
           "align": "left"
          },
          "hovermode": "closest",
          "mapbox": {
           "style": "light"
          },
          "paper_bgcolor": "white",
          "plot_bgcolor": "#E5ECF6",
          "polar": {
           "angularaxis": {
            "gridcolor": "white",
            "linecolor": "white",
            "ticks": ""
           },
           "bgcolor": "#E5ECF6",
           "radialaxis": {
            "gridcolor": "white",
            "linecolor": "white",
            "ticks": ""
           }
          },
          "scene": {
           "xaxis": {
            "backgroundcolor": "#E5ECF6",
            "gridcolor": "white",
            "gridwidth": 2,
            "linecolor": "white",
            "showbackground": true,
            "ticks": "",
            "zerolinecolor": "white"
           },
           "yaxis": {
            "backgroundcolor": "#E5ECF6",
            "gridcolor": "white",
            "gridwidth": 2,
            "linecolor": "white",
            "showbackground": true,
            "ticks": "",
            "zerolinecolor": "white"
           },
           "zaxis": {
            "backgroundcolor": "#E5ECF6",
            "gridcolor": "white",
            "gridwidth": 2,
            "linecolor": "white",
            "showbackground": true,
            "ticks": "",
            "zerolinecolor": "white"
           }
          },
          "shapedefaults": {
           "line": {
            "color": "#2a3f5f"
           }
          },
          "ternary": {
           "aaxis": {
            "gridcolor": "white",
            "linecolor": "white",
            "ticks": ""
           },
           "baxis": {
            "gridcolor": "white",
            "linecolor": "white",
            "ticks": ""
           },
           "bgcolor": "#E5ECF6",
           "caxis": {
            "gridcolor": "white",
            "linecolor": "white",
            "ticks": ""
           }
          },
          "title": {
           "x": 0.05
          },
          "xaxis": {
           "automargin": true,
           "gridcolor": "white",
           "linecolor": "white",
           "ticks": "",
           "title": {
            "standoff": 15
           },
           "zerolinecolor": "white",
           "zerolinewidth": 2
          },
          "yaxis": {
           "automargin": true,
           "gridcolor": "white",
           "linecolor": "white",
           "ticks": "",
           "title": {
            "standoff": 15
           },
           "zerolinecolor": "white",
           "zerolinewidth": 2
          }
         }
        },
        "title": {
         "text": "Life Expectancy By Continet"
        },
        "width": 1000,
        "xaxis": {
         "anchor": "y",
         "domain": [
          0,
          0.45
         ],
         "matches": "x5",
         "showticklabels": false
        },
        "xaxis2": {
         "anchor": "y2",
         "domain": [
          0.55,
          1
         ],
         "matches": "x6",
         "showticklabels": false
        },
        "xaxis3": {
         "anchor": "y3",
         "domain": [
          0,
          0.45
         ],
         "matches": "x5",
         "showticklabels": false
        },
        "xaxis4": {
         "anchor": "y4",
         "domain": [
          0.55,
          1
         ],
         "matches": "x6",
         "showticklabels": false
        },
        "xaxis5": {
         "anchor": "y5",
         "domain": [
          0,
          0.45
         ]
        },
        "xaxis6": {
         "anchor": "y6",
         "domain": [
          0.55,
          1
         ]
        },
        "yaxis": {
         "anchor": "x",
         "domain": [
          0.7777777777777778,
          1
         ]
        },
        "yaxis2": {
         "anchor": "x2",
         "domain": [
          0.7777777777777778,
          1
         ],
         "matches": "y",
         "showticklabels": false
        },
        "yaxis3": {
         "anchor": "x3",
         "domain": [
          0.3888888888888889,
          0.6111111111111112
         ]
        },
        "yaxis4": {
         "anchor": "x4",
         "domain": [
          0.3888888888888889,
          0.6111111111111112
         ],
         "matches": "y3",
         "showticklabels": false
        },
        "yaxis5": {
         "anchor": "x5",
         "domain": [
          0,
          0.22222222222222224
         ]
        },
        "yaxis6": {
         "anchor": "x6",
         "domain": [
          0,
          0.22222222222222224
         ],
         "matches": "y5",
         "showticklabels": false
        }
       }
      }
     },
     "metadata": {},
     "output_type": "display_data"
    }
   ],
   "source": [
    "\n",
    "#info on how to construct these histograms here \n",
    "#https://plotly.com/python/histograms/\n",
    "#https://plotly.com/python/subplots/\n",
    "\n",
    "fig = go.Figure()\n",
    "\n",
    "\n",
    "from plotly.subplots import make_subplots\n",
    "\n",
    "\n",
    "fig = make_subplots(rows=3, cols=2, shared_xaxes=True, shared_yaxes=True,\n",
    "    subplot_titles=(\"Europe\", \"Africa\", \"Asia\", \"Americas\", \"Oceania\"))\n",
    "\n",
    "start_bin = 0\n",
    "end_bin = 90\n",
    "bin_size = 5 \n",
    "variable = \"lifeExp\"\n",
    "\n",
    "trace0 = go.Histogram(x=df[df.continent == 'Europe'][variable], \n",
    "                histnorm='percent', \n",
    "                name=\"Europe\",\n",
    "                #xbins=dict(start=start_bin, end=end_bin, size=bin_size)\n",
    "                )\n",
    "              \n",
    "trace1 = go.Histogram(x=df[df.continent == 'Africa'][variable], \n",
    "                histnorm='percent', \n",
    "                name=\"Africa\",\n",
    "                #xbins=dict(start=start_bin, end=end_bin, size=bin_size)\n",
    "                )\n",
    "              \n",
    "\n",
    "trace2 = go.Histogram(x=df[df.continent == 'Asia'][variable], \n",
    "                histnorm='percent', \n",
    "                name=\"Asia\",\n",
    "                #xbins=dict(start=start_bin, end=end_bin, size=bin_size)\n",
    "                )\n",
    "              \n",
    "trace3 = go.Histogram(x=df[df.continent == 'Americas'][variable], \n",
    "                histnorm='percent', \n",
    "                name=\"Americas\",\n",
    "                #xbins=dict(start=start_bin, end=end_bin, size=bin_size)\n",
    "                )\n",
    "              \n",
    "\n",
    "trace4 = go.Histogram(x=df[df.continent == 'Oceania'][variable], \n",
    "                histnorm='percent', \n",
    "                name=\"Oceania\",\n",
    "                #xbins=dict(start=start_bin, end=end_bin, size=bin_size)\n",
    "                )\n",
    "              \n",
    "\n",
    "fig.append_trace(trace0, 1, 1)\n",
    "fig.append_trace(trace1, 1, 2)\n",
    "fig.append_trace(trace2, 2, 1)\n",
    "fig.append_trace(trace3, 2, 2)\n",
    "fig.append_trace(trace4, 3, 1)\n",
    "\n",
    "# fig.update_yaxes(title_text=\"Percent\", range=[0, 50], row=1, col=1)\n",
    "# fig.update_yaxes(title_text=\"Percent\", range=[0, 50], row=2, col=1)\n",
    "# fig.update_yaxes(title_text=\"Percent\", range=[0, 50], row=3, col=1)\n",
    "\n",
    "fig.update_layout(bargap=0.05)\n",
    "\n",
    "fig.update_layout(height=600, width=1000, title_text=\"Life Expectancy By Continet\")\n",
    "fig.update_layout(showlegend=False)\n",
    "\n",
    "fig.show()"
   ]
  },
  {
   "cell_type": "markdown",
   "metadata": {},
   "source": [
    "Let's visualize the trajectories of some countries. "
   ]
  },
  {
   "cell_type": "code",
   "execution_count": 102,
   "metadata": {},
   "outputs": [],
   "source": [
    "tmp = df.query(\"country in ['Norway',   'China', 'Saudi Arabia']\")"
   ]
  },
  {
   "cell_type": "markdown",
   "metadata": {},
   "source": [
    "One should improve the chart below by providing better labels and titles"
   ]
  },
  {
   "cell_type": "code",
   "execution_count": 103,
   "metadata": {},
   "outputs": [
    {
     "data": {
      "application/vnd.plotly.v1+json": {
       "config": {
        "plotlyServerURL": "https://plot.ly"
       },
       "data": [
        {
         "hovertemplate": "country=China<br>gdpPercap=%{x}<br>lifeExp=%{y}<extra></extra>",
         "legendgroup": "China",
         "line": {
          "color": "#636efa",
          "dash": "solid"
         },
         "marker": {
          "symbol": "circle"
         },
         "mode": "lines",
         "name": "China",
         "orientation": "v",
         "showlegend": true,
         "textposition": "bottom right",
         "type": "scatter",
         "x": [
          400.448611,
          575.9870009,
          487.6740183,
          612.7056934,
          676.9000921,
          741.2374699,
          962.4213805,
          1378.904018,
          1655.784158,
          2289.234136,
          3119.280896,
          4959.114854
         ],
         "xaxis": "x",
         "y": [
          44,
          50.54896,
          44.50136,
          58.38112,
          63.11888,
          63.96736,
          65.525,
          67.274,
          68.69,
          70.426,
          72.028,
          72.961
         ],
         "yaxis": "y"
        },
        {
         "hovertemplate": "country=Norway<br>gdpPercap=%{x}<br>lifeExp=%{y}<extra></extra>",
         "legendgroup": "Norway",
         "line": {
          "color": "#EF553B",
          "dash": "solid"
         },
         "marker": {
          "symbol": "circle"
         },
         "mode": "lines",
         "name": "Norway",
         "orientation": "v",
         "showlegend": true,
         "textposition": "bottom right",
         "type": "scatter",
         "x": [
          10095.42172,
          11653.97304,
          13450.40151,
          16361.87647,
          18965.05551,
          23311.34939,
          26298.63531,
          31540.9748,
          33965.66115,
          41283.16433,
          44683.97525,
          49357.19017
         ],
         "xaxis": "x",
         "y": [
          72.67,
          73.44,
          73.47,
          74.08,
          74.34,
          75.37,
          75.97,
          75.89,
          77.32,
          78.32,
          79.05,
          80.196
         ],
         "yaxis": "y"
        },
        {
         "hovertemplate": "country=Saudi Arabia<br>gdpPercap=%{x}<br>lifeExp=%{y}<extra></extra>",
         "legendgroup": "Saudi Arabia",
         "line": {
          "color": "#00cc96",
          "dash": "solid"
         },
         "marker": {
          "symbol": "circle"
         },
         "mode": "lines",
         "name": "Saudi Arabia",
         "orientation": "v",
         "showlegend": true,
         "textposition": "bottom right",
         "type": "scatter",
         "x": [
          6459.554823,
          8157.591248,
          11626.41975,
          16903.04886,
          24837.42865,
          34167.7626,
          33693.17525,
          21198.26136,
          24841.61777,
          20586.69019,
          19014.54118,
          21654.83194
         ],
         "xaxis": "x",
         "y": [
          39.875,
          42.868,
          45.914,
          49.901,
          53.886,
          58.69,
          63.012,
          66.295,
          68.768,
          70.533,
          71.626,
          72.777
         ],
         "yaxis": "y"
        }
       ],
       "layout": {
        "height": 600,
        "legend": {
         "title": {
          "text": "country"
         },
         "tracegroupgap": 0
        },
        "margin": {
         "t": 60
        },
        "template": {
         "data": {
          "bar": [
           {
            "error_x": {
             "color": "#2a3f5f"
            },
            "error_y": {
             "color": "#2a3f5f"
            },
            "marker": {
             "line": {
              "color": "#E5ECF6",
              "width": 0.5
             },
             "pattern": {
              "fillmode": "overlay",
              "size": 10,
              "solidity": 0.2
             }
            },
            "type": "bar"
           }
          ],
          "barpolar": [
           {
            "marker": {
             "line": {
              "color": "#E5ECF6",
              "width": 0.5
             },
             "pattern": {
              "fillmode": "overlay",
              "size": 10,
              "solidity": 0.2
             }
            },
            "type": "barpolar"
           }
          ],
          "carpet": [
           {
            "aaxis": {
             "endlinecolor": "#2a3f5f",
             "gridcolor": "white",
             "linecolor": "white",
             "minorgridcolor": "white",
             "startlinecolor": "#2a3f5f"
            },
            "baxis": {
             "endlinecolor": "#2a3f5f",
             "gridcolor": "white",
             "linecolor": "white",
             "minorgridcolor": "white",
             "startlinecolor": "#2a3f5f"
            },
            "type": "carpet"
           }
          ],
          "choropleth": [
           {
            "colorbar": {
             "outlinewidth": 0,
             "ticks": ""
            },
            "type": "choropleth"
           }
          ],
          "contour": [
           {
            "colorbar": {
             "outlinewidth": 0,
             "ticks": ""
            },
            "colorscale": [
             [
              0,
              "#0d0887"
             ],
             [
              0.1111111111111111,
              "#46039f"
             ],
             [
              0.2222222222222222,
              "#7201a8"
             ],
             [
              0.3333333333333333,
              "#9c179e"
             ],
             [
              0.4444444444444444,
              "#bd3786"
             ],
             [
              0.5555555555555556,
              "#d8576b"
             ],
             [
              0.6666666666666666,
              "#ed7953"
             ],
             [
              0.7777777777777778,
              "#fb9f3a"
             ],
             [
              0.8888888888888888,
              "#fdca26"
             ],
             [
              1,
              "#f0f921"
             ]
            ],
            "type": "contour"
           }
          ],
          "contourcarpet": [
           {
            "colorbar": {
             "outlinewidth": 0,
             "ticks": ""
            },
            "type": "contourcarpet"
           }
          ],
          "heatmap": [
           {
            "colorbar": {
             "outlinewidth": 0,
             "ticks": ""
            },
            "colorscale": [
             [
              0,
              "#0d0887"
             ],
             [
              0.1111111111111111,
              "#46039f"
             ],
             [
              0.2222222222222222,
              "#7201a8"
             ],
             [
              0.3333333333333333,
              "#9c179e"
             ],
             [
              0.4444444444444444,
              "#bd3786"
             ],
             [
              0.5555555555555556,
              "#d8576b"
             ],
             [
              0.6666666666666666,
              "#ed7953"
             ],
             [
              0.7777777777777778,
              "#fb9f3a"
             ],
             [
              0.8888888888888888,
              "#fdca26"
             ],
             [
              1,
              "#f0f921"
             ]
            ],
            "type": "heatmap"
           }
          ],
          "heatmapgl": [
           {
            "colorbar": {
             "outlinewidth": 0,
             "ticks": ""
            },
            "colorscale": [
             [
              0,
              "#0d0887"
             ],
             [
              0.1111111111111111,
              "#46039f"
             ],
             [
              0.2222222222222222,
              "#7201a8"
             ],
             [
              0.3333333333333333,
              "#9c179e"
             ],
             [
              0.4444444444444444,
              "#bd3786"
             ],
             [
              0.5555555555555556,
              "#d8576b"
             ],
             [
              0.6666666666666666,
              "#ed7953"
             ],
             [
              0.7777777777777778,
              "#fb9f3a"
             ],
             [
              0.8888888888888888,
              "#fdca26"
             ],
             [
              1,
              "#f0f921"
             ]
            ],
            "type": "heatmapgl"
           }
          ],
          "histogram": [
           {
            "marker": {
             "pattern": {
              "fillmode": "overlay",
              "size": 10,
              "solidity": 0.2
             }
            },
            "type": "histogram"
           }
          ],
          "histogram2d": [
           {
            "colorbar": {
             "outlinewidth": 0,
             "ticks": ""
            },
            "colorscale": [
             [
              0,
              "#0d0887"
             ],
             [
              0.1111111111111111,
              "#46039f"
             ],
             [
              0.2222222222222222,
              "#7201a8"
             ],
             [
              0.3333333333333333,
              "#9c179e"
             ],
             [
              0.4444444444444444,
              "#bd3786"
             ],
             [
              0.5555555555555556,
              "#d8576b"
             ],
             [
              0.6666666666666666,
              "#ed7953"
             ],
             [
              0.7777777777777778,
              "#fb9f3a"
             ],
             [
              0.8888888888888888,
              "#fdca26"
             ],
             [
              1,
              "#f0f921"
             ]
            ],
            "type": "histogram2d"
           }
          ],
          "histogram2dcontour": [
           {
            "colorbar": {
             "outlinewidth": 0,
             "ticks": ""
            },
            "colorscale": [
             [
              0,
              "#0d0887"
             ],
             [
              0.1111111111111111,
              "#46039f"
             ],
             [
              0.2222222222222222,
              "#7201a8"
             ],
             [
              0.3333333333333333,
              "#9c179e"
             ],
             [
              0.4444444444444444,
              "#bd3786"
             ],
             [
              0.5555555555555556,
              "#d8576b"
             ],
             [
              0.6666666666666666,
              "#ed7953"
             ],
             [
              0.7777777777777778,
              "#fb9f3a"
             ],
             [
              0.8888888888888888,
              "#fdca26"
             ],
             [
              1,
              "#f0f921"
             ]
            ],
            "type": "histogram2dcontour"
           }
          ],
          "mesh3d": [
           {
            "colorbar": {
             "outlinewidth": 0,
             "ticks": ""
            },
            "type": "mesh3d"
           }
          ],
          "parcoords": [
           {
            "line": {
             "colorbar": {
              "outlinewidth": 0,
              "ticks": ""
             }
            },
            "type": "parcoords"
           }
          ],
          "pie": [
           {
            "automargin": true,
            "type": "pie"
           }
          ],
          "scatter": [
           {
            "fillpattern": {
             "fillmode": "overlay",
             "size": 10,
             "solidity": 0.2
            },
            "type": "scatter"
           }
          ],
          "scatter3d": [
           {
            "line": {
             "colorbar": {
              "outlinewidth": 0,
              "ticks": ""
             }
            },
            "marker": {
             "colorbar": {
              "outlinewidth": 0,
              "ticks": ""
             }
            },
            "type": "scatter3d"
           }
          ],
          "scattercarpet": [
           {
            "marker": {
             "colorbar": {
              "outlinewidth": 0,
              "ticks": ""
             }
            },
            "type": "scattercarpet"
           }
          ],
          "scattergeo": [
           {
            "marker": {
             "colorbar": {
              "outlinewidth": 0,
              "ticks": ""
             }
            },
            "type": "scattergeo"
           }
          ],
          "scattergl": [
           {
            "marker": {
             "colorbar": {
              "outlinewidth": 0,
              "ticks": ""
             }
            },
            "type": "scattergl"
           }
          ],
          "scattermapbox": [
           {
            "marker": {
             "colorbar": {
              "outlinewidth": 0,
              "ticks": ""
             }
            },
            "type": "scattermapbox"
           }
          ],
          "scatterpolar": [
           {
            "marker": {
             "colorbar": {
              "outlinewidth": 0,
              "ticks": ""
             }
            },
            "type": "scatterpolar"
           }
          ],
          "scatterpolargl": [
           {
            "marker": {
             "colorbar": {
              "outlinewidth": 0,
              "ticks": ""
             }
            },
            "type": "scatterpolargl"
           }
          ],
          "scatterternary": [
           {
            "marker": {
             "colorbar": {
              "outlinewidth": 0,
              "ticks": ""
             }
            },
            "type": "scatterternary"
           }
          ],
          "surface": [
           {
            "colorbar": {
             "outlinewidth": 0,
             "ticks": ""
            },
            "colorscale": [
             [
              0,
              "#0d0887"
             ],
             [
              0.1111111111111111,
              "#46039f"
             ],
             [
              0.2222222222222222,
              "#7201a8"
             ],
             [
              0.3333333333333333,
              "#9c179e"
             ],
             [
              0.4444444444444444,
              "#bd3786"
             ],
             [
              0.5555555555555556,
              "#d8576b"
             ],
             [
              0.6666666666666666,
              "#ed7953"
             ],
             [
              0.7777777777777778,
              "#fb9f3a"
             ],
             [
              0.8888888888888888,
              "#fdca26"
             ],
             [
              1,
              "#f0f921"
             ]
            ],
            "type": "surface"
           }
          ],
          "table": [
           {
            "cells": {
             "fill": {
              "color": "#EBF0F8"
             },
             "line": {
              "color": "white"
             }
            },
            "header": {
             "fill": {
              "color": "#C8D4E3"
             },
             "line": {
              "color": "white"
             }
            },
            "type": "table"
           }
          ]
         },
         "layout": {
          "annotationdefaults": {
           "arrowcolor": "#2a3f5f",
           "arrowhead": 0,
           "arrowwidth": 1
          },
          "autotypenumbers": "strict",
          "coloraxis": {
           "colorbar": {
            "outlinewidth": 0,
            "ticks": ""
           }
          },
          "colorscale": {
           "diverging": [
            [
             0,
             "#8e0152"
            ],
            [
             0.1,
             "#c51b7d"
            ],
            [
             0.2,
             "#de77ae"
            ],
            [
             0.3,
             "#f1b6da"
            ],
            [
             0.4,
             "#fde0ef"
            ],
            [
             0.5,
             "#f7f7f7"
            ],
            [
             0.6,
             "#e6f5d0"
            ],
            [
             0.7,
             "#b8e186"
            ],
            [
             0.8,
             "#7fbc41"
            ],
            [
             0.9,
             "#4d9221"
            ],
            [
             1,
             "#276419"
            ]
           ],
           "sequential": [
            [
             0,
             "#0d0887"
            ],
            [
             0.1111111111111111,
             "#46039f"
            ],
            [
             0.2222222222222222,
             "#7201a8"
            ],
            [
             0.3333333333333333,
             "#9c179e"
            ],
            [
             0.4444444444444444,
             "#bd3786"
            ],
            [
             0.5555555555555556,
             "#d8576b"
            ],
            [
             0.6666666666666666,
             "#ed7953"
            ],
            [
             0.7777777777777778,
             "#fb9f3a"
            ],
            [
             0.8888888888888888,
             "#fdca26"
            ],
            [
             1,
             "#f0f921"
            ]
           ],
           "sequentialminus": [
            [
             0,
             "#0d0887"
            ],
            [
             0.1111111111111111,
             "#46039f"
            ],
            [
             0.2222222222222222,
             "#7201a8"
            ],
            [
             0.3333333333333333,
             "#9c179e"
            ],
            [
             0.4444444444444444,
             "#bd3786"
            ],
            [
             0.5555555555555556,
             "#d8576b"
            ],
            [
             0.6666666666666666,
             "#ed7953"
            ],
            [
             0.7777777777777778,
             "#fb9f3a"
            ],
            [
             0.8888888888888888,
             "#fdca26"
            ],
            [
             1,
             "#f0f921"
            ]
           ]
          },
          "colorway": [
           "#636efa",
           "#EF553B",
           "#00cc96",
           "#ab63fa",
           "#FFA15A",
           "#19d3f3",
           "#FF6692",
           "#B6E880",
           "#FF97FF",
           "#FECB52"
          ],
          "font": {
           "color": "#2a3f5f"
          },
          "geo": {
           "bgcolor": "white",
           "lakecolor": "white",
           "landcolor": "#E5ECF6",
           "showlakes": true,
           "showland": true,
           "subunitcolor": "white"
          },
          "hoverlabel": {
           "align": "left"
          },
          "hovermode": "closest",
          "mapbox": {
           "style": "light"
          },
          "paper_bgcolor": "white",
          "plot_bgcolor": "#E5ECF6",
          "polar": {
           "angularaxis": {
            "gridcolor": "white",
            "linecolor": "white",
            "ticks": ""
           },
           "bgcolor": "#E5ECF6",
           "radialaxis": {
            "gridcolor": "white",
            "linecolor": "white",
            "ticks": ""
           }
          },
          "scene": {
           "xaxis": {
            "backgroundcolor": "#E5ECF6",
            "gridcolor": "white",
            "gridwidth": 2,
            "linecolor": "white",
            "showbackground": true,
            "ticks": "",
            "zerolinecolor": "white"
           },
           "yaxis": {
            "backgroundcolor": "#E5ECF6",
            "gridcolor": "white",
            "gridwidth": 2,
            "linecolor": "white",
            "showbackground": true,
            "ticks": "",
            "zerolinecolor": "white"
           },
           "zaxis": {
            "backgroundcolor": "#E5ECF6",
            "gridcolor": "white",
            "gridwidth": 2,
            "linecolor": "white",
            "showbackground": true,
            "ticks": "",
            "zerolinecolor": "white"
           }
          },
          "shapedefaults": {
           "line": {
            "color": "#2a3f5f"
           }
          },
          "ternary": {
           "aaxis": {
            "gridcolor": "white",
            "linecolor": "white",
            "ticks": ""
           },
           "baxis": {
            "gridcolor": "white",
            "linecolor": "white",
            "ticks": ""
           },
           "bgcolor": "#E5ECF6",
           "caxis": {
            "gridcolor": "white",
            "linecolor": "white",
            "ticks": ""
           }
          },
          "title": {
           "x": 0.05
          },
          "xaxis": {
           "automargin": true,
           "gridcolor": "white",
           "linecolor": "white",
           "ticks": "",
           "title": {
            "standoff": 15
           },
           "zerolinecolor": "white",
           "zerolinewidth": 2
          },
          "yaxis": {
           "automargin": true,
           "gridcolor": "white",
           "linecolor": "white",
           "ticks": "",
           "title": {
            "standoff": 15
           },
           "zerolinecolor": "white",
           "zerolinewidth": 2
          }
         }
        },
        "title": {
         "text": "Trajectories of Selected Countries"
        },
        "width": 1000,
        "xaxis": {
         "anchor": "y",
         "domain": [
          0,
          1
         ],
         "title": {
          "text": "gdpPercap"
         },
         "type": "log"
        },
        "yaxis": {
         "anchor": "x",
         "domain": [
          0,
          1
         ],
         "title": {
          "text": "lifeExp"
         }
        }
       }
      }
     },
     "metadata": {},
     "output_type": "display_data"
    }
   ],
   "source": [
    "# visuals constructed based on info \n",
    "# https://plotly.com/python/line-and-scatter/\n",
    "# https://plotly.com/python/marker-style/ \n",
    "\n",
    "tmp = df.query(\"country in ['Norway',   'China', 'Saudi Arabia']\")\n",
    "\n",
    "fig = px.line(tmp, x=\"gdpPercap\", y=\"lifeExp\", \n",
    "              color=\"country\", \n",
    "              log_x=True, \n",
    "              #text=\"year\",\n",
    "              )\n",
    "\n",
    "fig.update_traces(textposition=\"bottom right\")\n",
    "fig.update_layout(height=600, width=1000, title_text=\"Trajectories of Selected Countries\")\n",
    "fig.show()"
   ]
  },
  {
   "cell_type": "markdown",
   "metadata": {},
   "source": [
    "I am calculating below the average life expectancy and GDP per capita for all five continents and visualize those trajectories"
   ]
  },
  {
   "cell_type": "code",
   "execution_count": 104,
   "metadata": {},
   "outputs": [
    {
     "data": {
      "application/vnd.plotly.v1+json": {
       "config": {
        "plotlyServerURL": "https://plot.ly"
       },
       "data": [
        {
         "hovertemplate": "continent=Africa<br>gdpPercap=%{x}<br>lifeExp=%{y}<extra></extra>",
         "legendgroup": "Africa",
         "line": {
          "color": "#636efa",
          "dash": "solid"
         },
         "marker": {
          "symbol": "circle"
         },
         "mode": "lines",
         "name": "Africa",
         "orientation": "v",
         "showlegend": true,
         "textposition": "bottom right",
         "type": "scatter",
         "x": [
          1252.5724658211539,
          1385.2360622557692,
          1598.0788248461538,
          2050.3638008576922,
          2339.615674198077,
          2585.9385084634614,
          2481.592959753846,
          2282.6689912596153,
          2281.8103332442306,
          2378.759555101923,
          2599.385158890385,
          3089.0326047365384
         ],
         "xaxis": "x",
         "y": [
          39.1355,
          41.26634615384615,
          43.319442307692306,
          45.334538461538465,
          47.45094230769231,
          49.580423076923076,
          51.592865384615386,
          53.344788461538464,
          53.62957692307692,
          53.59826923076923,
          53.325230769230764,
          54.80603846153846
         ],
         "yaxis": "y"
        },
        {
         "hovertemplate": "continent=Americas<br>gdpPercap=%{x}<br>lifeExp=%{y}<extra></extra>",
         "legendgroup": "Americas",
         "line": {
          "color": "#EF553B",
          "dash": "solid"
         },
         "marker": {
          "symbol": "circle"
         },
         "mode": "lines",
         "name": "Americas",
         "orientation": "v",
         "showlegend": true,
         "textposition": "bottom right",
         "type": "scatter",
         "x": [
          4079.0625522,
          4616.04373316,
          4901.5418704,
          5668.25349604,
          6491.334139039999,
          7352.007126280001,
          7506.73708808,
          7793.40026112,
          8044.93440552,
          8889.30086256,
          9287.67710732,
          11003.03162536
         ],
         "xaxis": "x",
         "y": [
          53.27984000000001,
          55.960280000000004,
          58.39876,
          60.41092,
          62.39492,
          64.39156,
          66.22884,
          68.09072,
          69.56836,
          71.15048,
          72.42204,
          73.60812
         ],
         "yaxis": "y"
        },
        {
         "hovertemplate": "continent=Asia<br>gdpPercap=%{x}<br>lifeExp=%{y}<extra></extra>",
         "legendgroup": "Asia",
         "line": {
          "color": "#00cc96",
          "dash": "solid"
         },
         "marker": {
          "symbol": "circle"
         },
         "mode": "lines",
         "name": "Asia",
         "orientation": "v",
         "showlegend": true,
         "textposition": "bottom right",
         "type": "scatter",
         "x": [
          1970.894351040625,
          2421.001691190625,
          2925.34643305,
          3629.80743965625,
          5026.20625255625,
          6182.746422428125,
          6686.63826459375,
          6967.282649221875,
          7818.026830784375,
          8882.014336975,
          9394.839919596876,
          11384.4655292
         ],
         "xaxis": "x",
         "y": [
          46.0253125,
          49.0462175,
          51.28488625,
          54.35237875,
          56.99449625,
          59.3064175,
          62.34634375,
          64.55984375,
          66.2668125,
          67.76628125,
          68.9941875,
          70.51412499999999
         ],
         "yaxis": "y"
        },
        {
         "hovertemplate": "continent=Europe<br>gdpPercap=%{x}<br>lifeExp=%{y}<extra></extra>",
         "legendgroup": "Europe",
         "line": {
          "color": "#ab63fa",
          "dash": "solid"
         },
         "marker": {
          "symbol": "circle"
         },
         "mode": "lines",
         "name": "Europe",
         "orientation": "v",
         "showlegend": true,
         "textposition": "bottom right",
         "type": "scatter",
         "x": [
          5661.05743476,
          6963.0128159333335,
          8365.4868143,
          10143.823756533333,
          12479.575246466668,
          14283.9791096,
          15617.896551233334,
          17214.310726633335,
          17061.5680842,
          19076.781801600002,
          21711.73242243333,
          25054.481635933334
         ],
         "xaxis": "x",
         "y": [
          64.4085,
          66.70306666666667,
          68.53923333333334,
          69.7376,
          70.77503333333334,
          71.93776666666666,
          72.8064,
          73.64216666666667,
          74.4401,
          75.50516666666667,
          76.7006,
          77.6486
         ],
         "yaxis": "y"
        },
        {
         "hovertemplate": "continent=Oceania<br>gdpPercap=%{x}<br>lifeExp=%{y}<extra></extra>",
         "legendgroup": "Oceania",
         "line": {
          "color": "#FFA15A",
          "dash": "solid"
         },
         "marker": {
          "symbol": "circle"
         },
         "mode": "lines",
         "name": "Oceania",
         "orientation": "v",
         "showlegend": true,
         "textposition": "bottom right",
         "type": "scatter",
         "x": [
          10298.08565,
          11598.522455,
          12696.452430000001,
          14495.021789999999,
          16417.33338,
          17283.957605,
          18554.70984,
          20448.040159999997,
          20894.045885,
          24024.175170000002,
          26938.77804,
          29810.188275
         ],
         "xaxis": "x",
         "y": [
          69.255,
          70.295,
          71.08500000000001,
          71.31,
          71.91,
          72.85499999999999,
          74.28999999999999,
          75.32,
          76.945,
          78.19,
          79.74000000000001,
          80.7195
         ],
         "yaxis": "y"
        }
       ],
       "layout": {
        "legend": {
         "title": {
          "text": "continent"
         },
         "tracegroupgap": 0
        },
        "margin": {
         "t": 60
        },
        "template": {
         "data": {
          "bar": [
           {
            "error_x": {
             "color": "#2a3f5f"
            },
            "error_y": {
             "color": "#2a3f5f"
            },
            "marker": {
             "line": {
              "color": "#E5ECF6",
              "width": 0.5
             },
             "pattern": {
              "fillmode": "overlay",
              "size": 10,
              "solidity": 0.2
             }
            },
            "type": "bar"
           }
          ],
          "barpolar": [
           {
            "marker": {
             "line": {
              "color": "#E5ECF6",
              "width": 0.5
             },
             "pattern": {
              "fillmode": "overlay",
              "size": 10,
              "solidity": 0.2
             }
            },
            "type": "barpolar"
           }
          ],
          "carpet": [
           {
            "aaxis": {
             "endlinecolor": "#2a3f5f",
             "gridcolor": "white",
             "linecolor": "white",
             "minorgridcolor": "white",
             "startlinecolor": "#2a3f5f"
            },
            "baxis": {
             "endlinecolor": "#2a3f5f",
             "gridcolor": "white",
             "linecolor": "white",
             "minorgridcolor": "white",
             "startlinecolor": "#2a3f5f"
            },
            "type": "carpet"
           }
          ],
          "choropleth": [
           {
            "colorbar": {
             "outlinewidth": 0,
             "ticks": ""
            },
            "type": "choropleth"
           }
          ],
          "contour": [
           {
            "colorbar": {
             "outlinewidth": 0,
             "ticks": ""
            },
            "colorscale": [
             [
              0,
              "#0d0887"
             ],
             [
              0.1111111111111111,
              "#46039f"
             ],
             [
              0.2222222222222222,
              "#7201a8"
             ],
             [
              0.3333333333333333,
              "#9c179e"
             ],
             [
              0.4444444444444444,
              "#bd3786"
             ],
             [
              0.5555555555555556,
              "#d8576b"
             ],
             [
              0.6666666666666666,
              "#ed7953"
             ],
             [
              0.7777777777777778,
              "#fb9f3a"
             ],
             [
              0.8888888888888888,
              "#fdca26"
             ],
             [
              1,
              "#f0f921"
             ]
            ],
            "type": "contour"
           }
          ],
          "contourcarpet": [
           {
            "colorbar": {
             "outlinewidth": 0,
             "ticks": ""
            },
            "type": "contourcarpet"
           }
          ],
          "heatmap": [
           {
            "colorbar": {
             "outlinewidth": 0,
             "ticks": ""
            },
            "colorscale": [
             [
              0,
              "#0d0887"
             ],
             [
              0.1111111111111111,
              "#46039f"
             ],
             [
              0.2222222222222222,
              "#7201a8"
             ],
             [
              0.3333333333333333,
              "#9c179e"
             ],
             [
              0.4444444444444444,
              "#bd3786"
             ],
             [
              0.5555555555555556,
              "#d8576b"
             ],
             [
              0.6666666666666666,
              "#ed7953"
             ],
             [
              0.7777777777777778,
              "#fb9f3a"
             ],
             [
              0.8888888888888888,
              "#fdca26"
             ],
             [
              1,
              "#f0f921"
             ]
            ],
            "type": "heatmap"
           }
          ],
          "heatmapgl": [
           {
            "colorbar": {
             "outlinewidth": 0,
             "ticks": ""
            },
            "colorscale": [
             [
              0,
              "#0d0887"
             ],
             [
              0.1111111111111111,
              "#46039f"
             ],
             [
              0.2222222222222222,
              "#7201a8"
             ],
             [
              0.3333333333333333,
              "#9c179e"
             ],
             [
              0.4444444444444444,
              "#bd3786"
             ],
             [
              0.5555555555555556,
              "#d8576b"
             ],
             [
              0.6666666666666666,
              "#ed7953"
             ],
             [
              0.7777777777777778,
              "#fb9f3a"
             ],
             [
              0.8888888888888888,
              "#fdca26"
             ],
             [
              1,
              "#f0f921"
             ]
            ],
            "type": "heatmapgl"
           }
          ],
          "histogram": [
           {
            "marker": {
             "pattern": {
              "fillmode": "overlay",
              "size": 10,
              "solidity": 0.2
             }
            },
            "type": "histogram"
           }
          ],
          "histogram2d": [
           {
            "colorbar": {
             "outlinewidth": 0,
             "ticks": ""
            },
            "colorscale": [
             [
              0,
              "#0d0887"
             ],
             [
              0.1111111111111111,
              "#46039f"
             ],
             [
              0.2222222222222222,
              "#7201a8"
             ],
             [
              0.3333333333333333,
              "#9c179e"
             ],
             [
              0.4444444444444444,
              "#bd3786"
             ],
             [
              0.5555555555555556,
              "#d8576b"
             ],
             [
              0.6666666666666666,
              "#ed7953"
             ],
             [
              0.7777777777777778,
              "#fb9f3a"
             ],
             [
              0.8888888888888888,
              "#fdca26"
             ],
             [
              1,
              "#f0f921"
             ]
            ],
            "type": "histogram2d"
           }
          ],
          "histogram2dcontour": [
           {
            "colorbar": {
             "outlinewidth": 0,
             "ticks": ""
            },
            "colorscale": [
             [
              0,
              "#0d0887"
             ],
             [
              0.1111111111111111,
              "#46039f"
             ],
             [
              0.2222222222222222,
              "#7201a8"
             ],
             [
              0.3333333333333333,
              "#9c179e"
             ],
             [
              0.4444444444444444,
              "#bd3786"
             ],
             [
              0.5555555555555556,
              "#d8576b"
             ],
             [
              0.6666666666666666,
              "#ed7953"
             ],
             [
              0.7777777777777778,
              "#fb9f3a"
             ],
             [
              0.8888888888888888,
              "#fdca26"
             ],
             [
              1,
              "#f0f921"
             ]
            ],
            "type": "histogram2dcontour"
           }
          ],
          "mesh3d": [
           {
            "colorbar": {
             "outlinewidth": 0,
             "ticks": ""
            },
            "type": "mesh3d"
           }
          ],
          "parcoords": [
           {
            "line": {
             "colorbar": {
              "outlinewidth": 0,
              "ticks": ""
             }
            },
            "type": "parcoords"
           }
          ],
          "pie": [
           {
            "automargin": true,
            "type": "pie"
           }
          ],
          "scatter": [
           {
            "fillpattern": {
             "fillmode": "overlay",
             "size": 10,
             "solidity": 0.2
            },
            "type": "scatter"
           }
          ],
          "scatter3d": [
           {
            "line": {
             "colorbar": {
              "outlinewidth": 0,
              "ticks": ""
             }
            },
            "marker": {
             "colorbar": {
              "outlinewidth": 0,
              "ticks": ""
             }
            },
            "type": "scatter3d"
           }
          ],
          "scattercarpet": [
           {
            "marker": {
             "colorbar": {
              "outlinewidth": 0,
              "ticks": ""
             }
            },
            "type": "scattercarpet"
           }
          ],
          "scattergeo": [
           {
            "marker": {
             "colorbar": {
              "outlinewidth": 0,
              "ticks": ""
             }
            },
            "type": "scattergeo"
           }
          ],
          "scattergl": [
           {
            "marker": {
             "colorbar": {
              "outlinewidth": 0,
              "ticks": ""
             }
            },
            "type": "scattergl"
           }
          ],
          "scattermapbox": [
           {
            "marker": {
             "colorbar": {
              "outlinewidth": 0,
              "ticks": ""
             }
            },
            "type": "scattermapbox"
           }
          ],
          "scatterpolar": [
           {
            "marker": {
             "colorbar": {
              "outlinewidth": 0,
              "ticks": ""
             }
            },
            "type": "scatterpolar"
           }
          ],
          "scatterpolargl": [
           {
            "marker": {
             "colorbar": {
              "outlinewidth": 0,
              "ticks": ""
             }
            },
            "type": "scatterpolargl"
           }
          ],
          "scatterternary": [
           {
            "marker": {
             "colorbar": {
              "outlinewidth": 0,
              "ticks": ""
             }
            },
            "type": "scatterternary"
           }
          ],
          "surface": [
           {
            "colorbar": {
             "outlinewidth": 0,
             "ticks": ""
            },
            "colorscale": [
             [
              0,
              "#0d0887"
             ],
             [
              0.1111111111111111,
              "#46039f"
             ],
             [
              0.2222222222222222,
              "#7201a8"
             ],
             [
              0.3333333333333333,
              "#9c179e"
             ],
             [
              0.4444444444444444,
              "#bd3786"
             ],
             [
              0.5555555555555556,
              "#d8576b"
             ],
             [
              0.6666666666666666,
              "#ed7953"
             ],
             [
              0.7777777777777778,
              "#fb9f3a"
             ],
             [
              0.8888888888888888,
              "#fdca26"
             ],
             [
              1,
              "#f0f921"
             ]
            ],
            "type": "surface"
           }
          ],
          "table": [
           {
            "cells": {
             "fill": {
              "color": "#EBF0F8"
             },
             "line": {
              "color": "white"
             }
            },
            "header": {
             "fill": {
              "color": "#C8D4E3"
             },
             "line": {
              "color": "white"
             }
            },
            "type": "table"
           }
          ]
         },
         "layout": {
          "annotationdefaults": {
           "arrowcolor": "#2a3f5f",
           "arrowhead": 0,
           "arrowwidth": 1
          },
          "autotypenumbers": "strict",
          "coloraxis": {
           "colorbar": {
            "outlinewidth": 0,
            "ticks": ""
           }
          },
          "colorscale": {
           "diverging": [
            [
             0,
             "#8e0152"
            ],
            [
             0.1,
             "#c51b7d"
            ],
            [
             0.2,
             "#de77ae"
            ],
            [
             0.3,
             "#f1b6da"
            ],
            [
             0.4,
             "#fde0ef"
            ],
            [
             0.5,
             "#f7f7f7"
            ],
            [
             0.6,
             "#e6f5d0"
            ],
            [
             0.7,
             "#b8e186"
            ],
            [
             0.8,
             "#7fbc41"
            ],
            [
             0.9,
             "#4d9221"
            ],
            [
             1,
             "#276419"
            ]
           ],
           "sequential": [
            [
             0,
             "#0d0887"
            ],
            [
             0.1111111111111111,
             "#46039f"
            ],
            [
             0.2222222222222222,
             "#7201a8"
            ],
            [
             0.3333333333333333,
             "#9c179e"
            ],
            [
             0.4444444444444444,
             "#bd3786"
            ],
            [
             0.5555555555555556,
             "#d8576b"
            ],
            [
             0.6666666666666666,
             "#ed7953"
            ],
            [
             0.7777777777777778,
             "#fb9f3a"
            ],
            [
             0.8888888888888888,
             "#fdca26"
            ],
            [
             1,
             "#f0f921"
            ]
           ],
           "sequentialminus": [
            [
             0,
             "#0d0887"
            ],
            [
             0.1111111111111111,
             "#46039f"
            ],
            [
             0.2222222222222222,
             "#7201a8"
            ],
            [
             0.3333333333333333,
             "#9c179e"
            ],
            [
             0.4444444444444444,
             "#bd3786"
            ],
            [
             0.5555555555555556,
             "#d8576b"
            ],
            [
             0.6666666666666666,
             "#ed7953"
            ],
            [
             0.7777777777777778,
             "#fb9f3a"
            ],
            [
             0.8888888888888888,
             "#fdca26"
            ],
            [
             1,
             "#f0f921"
            ]
           ]
          },
          "colorway": [
           "#636efa",
           "#EF553B",
           "#00cc96",
           "#ab63fa",
           "#FFA15A",
           "#19d3f3",
           "#FF6692",
           "#B6E880",
           "#FF97FF",
           "#FECB52"
          ],
          "font": {
           "color": "#2a3f5f"
          },
          "geo": {
           "bgcolor": "white",
           "lakecolor": "white",
           "landcolor": "#E5ECF6",
           "showlakes": true,
           "showland": true,
           "subunitcolor": "white"
          },
          "hoverlabel": {
           "align": "left"
          },
          "hovermode": "closest",
          "mapbox": {
           "style": "light"
          },
          "paper_bgcolor": "white",
          "plot_bgcolor": "#E5ECF6",
          "polar": {
           "angularaxis": {
            "gridcolor": "white",
            "linecolor": "white",
            "ticks": ""
           },
           "bgcolor": "#E5ECF6",
           "radialaxis": {
            "gridcolor": "white",
            "linecolor": "white",
            "ticks": ""
           }
          },
          "scene": {
           "xaxis": {
            "backgroundcolor": "#E5ECF6",
            "gridcolor": "white",
            "gridwidth": 2,
            "linecolor": "white",
            "showbackground": true,
            "ticks": "",
            "zerolinecolor": "white"
           },
           "yaxis": {
            "backgroundcolor": "#E5ECF6",
            "gridcolor": "white",
            "gridwidth": 2,
            "linecolor": "white",
            "showbackground": true,
            "ticks": "",
            "zerolinecolor": "white"
           },
           "zaxis": {
            "backgroundcolor": "#E5ECF6",
            "gridcolor": "white",
            "gridwidth": 2,
            "linecolor": "white",
            "showbackground": true,
            "ticks": "",
            "zerolinecolor": "white"
           }
          },
          "shapedefaults": {
           "line": {
            "color": "#2a3f5f"
           }
          },
          "ternary": {
           "aaxis": {
            "gridcolor": "white",
            "linecolor": "white",
            "ticks": ""
           },
           "baxis": {
            "gridcolor": "white",
            "linecolor": "white",
            "ticks": ""
           },
           "bgcolor": "#E5ECF6",
           "caxis": {
            "gridcolor": "white",
            "linecolor": "white",
            "ticks": ""
           }
          },
          "title": {
           "x": 0.05
          },
          "xaxis": {
           "automargin": true,
           "gridcolor": "white",
           "linecolor": "white",
           "ticks": "",
           "title": {
            "standoff": 15
           },
           "zerolinecolor": "white",
           "zerolinewidth": 2
          },
          "yaxis": {
           "automargin": true,
           "gridcolor": "white",
           "linecolor": "white",
           "ticks": "",
           "title": {
            "standoff": 15
           },
           "zerolinecolor": "white",
           "zerolinewidth": 2
          }
         }
        },
        "title": {
         "text": "Trajectories of Continent Centroids"
        },
        "xaxis": {
         "anchor": "y",
         "domain": [
          0,
          1
         ],
         "title": {
          "text": "gdpPercap"
         },
         "type": "log"
        },
        "yaxis": {
         "anchor": "x",
         "domain": [
          0,
          1
         ],
         "title": {
          "text": "lifeExp"
         }
        }
       }
      }
     },
     "metadata": {},
     "output_type": "display_data"
    }
   ],
   "source": [
    "tmp = (df[['year', 'continent', 'lifeExp', 'gdpPercap']]\n",
    "       .groupby(['year', 'continent']).mean().reset_index()\n",
    ") \n",
    "\n",
    "\n",
    "fig = px.line(tmp, x=\"gdpPercap\", y=\"lifeExp\", \n",
    "              color=\"continent\", \n",
    "              log_x=True, \n",
    "              #text=\"year\",\n",
    "              )\n",
    "\n",
    "fig.update_traces(textposition=\"bottom right\")\n",
    "fig.update_layout(title_text=\"Trajectories of Continent Centroids\")\n",
    "fig.show()"
   ]
  },
  {
   "cell_type": "markdown",
   "metadata": {},
   "source": [
    "But within each continent there is significant variability. I am showing bewlow the trajectories of subcontinents. "
   ]
  },
  {
   "cell_type": "code",
   "execution_count": 105,
   "metadata": {},
   "outputs": [
    {
     "data": {
      "application/vnd.plotly.v1+json": {
       "config": {
        "plotlyServerURL": "https://plot.ly"
       },
       "data": [
        {
         "hovertemplate": "subcontinent=Australia and New Zealand<br>gdpPercap=%{x}<br>lifeExp=%{y}<extra></extra>",
         "legendgroup": "Australia and New Zealand",
         "line": {
          "color": "#636efa",
          "dash": "solid"
         },
         "marker": {
          "symbol": "circle"
         },
         "mode": "lines",
         "name": "Australia and New Zealand",
         "orientation": "v",
         "showlegend": true,
         "textposition": "bottom right",
         "type": "scatter",
         "x": [
          10298.08565,
          11598.522455,
          12696.452430000001,
          14495.021789999999,
          16417.33338,
          17283.957605,
          18554.70984,
          20448.040159999997,
          20894.045885,
          24024.175170000002,
          26938.77804,
          29810.188275
         ],
         "xaxis": "x",
         "y": [
          69.255,
          70.295,
          71.08500000000001,
          71.31,
          71.91,
          72.85499999999999,
          74.28999999999999,
          75.32,
          76.945,
          78.19,
          79.74000000000001,
          80.7195
         ],
         "yaxis": "y"
        },
        {
         "hovertemplate": "subcontinent=Eastern Asia<br>gdpPercap=%{x}<br>lifeExp=%{y}<extra></extra>",
         "legendgroup": "Eastern Asia",
         "line": {
          "color": "#EF553B",
          "dash": "solid"
         },
         "marker": {
          "symbol": "circle"
         },
         "mode": "lines",
         "name": "Eastern Asia",
         "orientation": "v",
         "showlegend": true,
         "textposition": "bottom right",
         "type": "scatter",
         "x": [
          1540.6015602142857,
          2000.2871304857144,
          2542.034674614286,
          3528.7322394857147,
          5141.1969460142855,
          6363.615641414285,
          7723.3547529285715,
          9975.067110285714,
          12295.669203,
          14182.40131,
          15455.685271428572,
          19013.630843571427
         ],
         "xaxis": "x",
         "y": [
          52.32042857142857,
          56.45842285714286,
          58.04005142857143,
          62.31744571428572,
          65.46826857142857,
          67.27905142857142,
          69.13671428571429,
          70.889,
          71.91485714285714,
          73.19500000000001,
          74.4647142857143,
          75.55642857142857
         ],
         "yaxis": "y"
        },
        {
         "hovertemplate": "subcontinent=Eastern Europe<br>gdpPercap=%{x}<br>lifeExp=%{y}<extra></extra>",
         "legendgroup": "Eastern Europe",
         "line": {
          "color": "#00cc96",
          "dash": "solid"
         },
         "marker": {
          "symbol": "circle"
         },
         "mode": "lines",
         "name": "Eastern Europe",
         "orientation": "v",
         "showlegend": true,
         "textposition": "bottom right",
         "type": "scatter",
         "x": [
          4472.117117166667,
          5346.0134800000005,
          6582.737028833333,
          7957.335679666667,
          9261.1155215,
          10645.740193666667,
          10925.466960666667,
          11392.1117085,
          9161.838680166666,
          10560.6736145,
          12277.216839333334,
          16066.626735
         ],
         "xaxis": "x",
         "y": [
          62.870000000000005,
          66.56166666666667,
          68.69,
          69.615,
          70.22666666666667,
          70.34166666666667,
          70.535,
          70.68166666666667,
          70.74833333333333,
          71.75833333333334,
          73.33866666666667,
          74.25516666666667
         ],
         "yaxis": "y"
        },
        {
         "hovertemplate": "subcontinent=Latin America and the Caribbean<br>gdpPercap=%{x}<br>lifeExp=%{y}<extra></extra>",
         "legendgroup": "Latin America and the Caribbean",
         "line": {
          "color": "#ab63fa",
          "dash": "solid"
         },
         "marker": {
          "symbol": "circle"
         },
         "mode": "lines",
         "name": "Latin America and the Caribbean",
         "orientation": "v",
         "showlegend": true,
         "textposition": "bottom right",
         "type": "scatter",
         "x": [
          3331.257417608696,
          3828.870267347826,
          4039.2571891304347,
          4613.016687,
          5282.9020293913045,
          5984.202737695653,
          6076.525040086956,
          6014.093090782609,
          6207.675810347826,
          6848.2679410434785,
          6946.341872304348,
          8513.256631913044
         ],
         "xaxis": "x",
         "y": [
          51.94808695652174,
          54.76334782608696,
          57.32430434782609,
          59.4514347826087,
          61.55013043478261,
          63.57386956521739,
          65.44830434782608,
          67.40817391304347,
          68.92039130434783,
          70.58008695652174,
          71.89004347826086,
          73.10034782608696
         ],
         "yaxis": "y"
        },
        {
         "hovertemplate": "subcontinent=Northern Africa<br>gdpPercap=%{x}<br>lifeExp=%{y}<extra></extra>",
         "legendgroup": "Northern Africa",
         "line": {
          "color": "#FFA15A",
          "dash": "solid"
         },
         "marker": {
          "symbol": "circle"
         },
         "mode": "lines",
         "name": "Northern Africa",
         "orientation": "v",
         "showlegend": true,
         "textposition": "bottom right",
         "type": "scatter",
         "x": [
          1838.00817,
          2121.4579243333333,
          2697.9056698333334,
          4861.004461166667,
          5593.550477833333,
          6223.601218,
          5795.260471999999,
          4901.782415833333,
          4538.512467,
          4654.839023333334,
          5092.018636,
          6229.590165500001
         ],
         "xaxis": "x",
         "y": [
          42.30016666666666,
          44.594166666666666,
          46.91266666666667,
          49.36216666666667,
          51.99583333333334,
          55.357,
          58.9275,
          62.19083333333333,
          64.85383333333333,
          67.155,
          68.7605,
          70.20566666666666
         ],
         "yaxis": "y"
        },
        {
         "hovertemplate": "subcontinent=Northern America<br>gdpPercap=%{x}<br>lifeExp=%{y}<extra></extra>",
         "legendgroup": "Northern America",
         "line": {
          "color": "#19d3f3",
          "dash": "solid"
         },
         "marker": {
          "symbol": "circle"
         },
         "mode": "lines",
         "name": "Northern America",
         "orientation": "v",
         "showlegend": true,
         "textposition": "bottom right",
         "type": "scatter",
         "x": [
          12678.8216,
          13668.53859,
          14817.815705,
          17803.4768,
          20388.3034,
          23081.757595000003,
          23954.17564,
          28255.432719999997,
          29173.40825,
          32361.17946,
          36213.032309999995,
          39635.44405
         ],
         "xaxis": "x",
         "y": [
          68.595,
          69.725,
          70.755,
          71.445,
          72.11,
          73.79499999999999,
          75.20500000000001,
          75.94,
          77.02000000000001,
          77.71000000000001,
          78.53999999999999,
          79.4475
         ],
         "yaxis": "y"
        },
        {
         "hovertemplate": "subcontinent=Northern Europe<br>gdpPercap=%{x}<br>lifeExp=%{y}<extra></extra>",
         "legendgroup": "Northern Europe",
         "line": {
          "color": "#FF6692",
          "dash": "solid"
         },
         "marker": {
          "symbol": "circle"
         },
         "mode": "lines",
         "name": "Northern Europe",
         "orientation": "v",
         "showlegend": true,
         "textposition": "bottom right",
         "type": "scatter",
         "x": [
          8171.092563,
          9476.740462285714,
          11170.561849285714,
          13371.048066142857,
          15892.302312285714,
          18061.44157,
          20186.795439999998,
          23406.564654285718,
          24329.69756,
          28390.804762857144,
          32730.849621428573,
          37394.64121142857
         ],
         "xaxis": "x",
         "y": [
          70.06285714285714,
          71.14571428571428,
          71.81,
          72.45714285714286,
          73.02142857142857,
          74.13142857142857,
          75.10000000000001,
          75.61528571428572,
          76.73814285714286,
          77.60571428571428,
          78.77057142857143,
          79.82742857142857
         ],
         "yaxis": "y"
        },
        {
         "hovertemplate": "subcontinent=South-eastern Asia<br>gdpPercap=%{x}<br>lifeExp=%{y}<extra></extra>",
         "legendgroup": "South-eastern Asia",
         "line": {
          "color": "#B6E880",
          "dash": "solid"
         },
         "marker": {
          "symbol": "circle"
         },
         "mode": "lines",
         "name": "South-eastern Asia",
         "orientation": "v",
         "showlegend": true,
         "textposition": "bottom right",
         "type": "scatter",
         "x": [
          1028.8958707,
          1164.2397143375001,
          1358.7030523625,
          1579.592050125,
          2193.7271956,
          2795.581416475,
          3544.8243587125003,
          4115.2092762625,
          5418.186473275,
          7212.0080255,
          7617.4734374125,
          9860.464929625
         ],
         "xaxis": "x",
         "y": [
          45.134375,
          48.290125,
          51.094625,
          53.823875,
          55.480625,
          56.79375,
          61.303375,
          63.563125,
          65.712875,
          67.3445,
          68.61825,
          70.401
         ],
         "yaxis": "y"
        },
        {
         "hovertemplate": "subcontinent=Southern Asia<br>gdpPercap=%{x}<br>lifeExp=%{y}<extra></extra>",
         "legendgroup": "Southern Asia",
         "line": {
          "color": "#FF97FF",
          "dash": "solid"
         },
         "marker": {
          "symbol": "circle"
         },
         "mode": "lines",
         "name": "Southern Asia",
         "orientation": "v",
         "showlegend": true,
         "textposition": "bottom right",
         "type": "scatter",
         "x": [
          1051.3680191571427,
          1111.4823733285714,
          1273.6186825428574,
          1559.8929214714285,
          2092.312643842857,
          2480.961754142857,
          1989.8477371142856,
          1940.1221792857143,
          2130.074371842857,
          2436.462720742857,
          2716.5647855428574,
          3441.594541771429
         ],
         "xaxis": "x",
         "y": [
          40.81614285714286,
          43.115571428571435,
          45.05685714285715,
          47.52471428571429,
          49.73814285714286,
          52.001571428571424,
          54.36971428571428,
          56.43242857142857,
          58.65728571428571,
          60.38328571428571,
          61.74814285714285,
          63.60228571428571
         ],
         "yaxis": "y"
        },
        {
         "hovertemplate": "subcontinent=Southern Europe<br>gdpPercap=%{x}<br>lifeExp=%{y}<extra></extra>",
         "legendgroup": "Southern Europe",
         "line": {
          "color": "#FECB52",
          "dash": "solid"
         },
         "marker": {
          "symbol": "circle"
         },
         "mode": "lines",
         "name": "Southern Europe",
         "orientation": "v",
         "showlegend": true,
         "textposition": "bottom right",
         "type": "scatter",
         "x": [
          3150.23614718,
          4166.4462734,
          5252.4560833000005,
          6808.8423228,
          9067.6751849,
          10808.141594,
          12273.5635059,
          13228.9610132,
          11840.061065400001,
          13088.5109146,
          15199.3597319,
          17825.008251400002
         ],
         "xaxis": "x",
         "y": [
          60.955,
          63.732299999999995,
          66.4119,
          68.2882,
          70.0756,
          71.5726,
          72.6186,
          73.7043,
          74.392,
          75.411,
          76.4037,
          77.2562
         ],
         "yaxis": "y"
        },
        {
         "hovertemplate": "subcontinent=Sub-Saharan Africa<br>gdpPercap=%{x}<br>lifeExp=%{y}<extra></extra>",
         "legendgroup": "Sub-Saharan Africa",
         "line": {
          "color": "#636efa",
          "dash": "solid"
         },
         "marker": {
          "symbol": "circle"
         },
         "mode": "lines",
         "name": "Sub-Saharan Africa",
         "orientation": "v",
         "showlegend": true,
         "textposition": "bottom right",
         "type": "scatter",
         "x": [
          1176.2112870152173,
          1289.207123723913,
          1454.6231494130436,
          1683.7584973391306,
          1915.1893954630434,
          2111.4607637413046,
          2049.3754581565217,
          1941.045501097826,
          1987.4578810152175,
          2081.8796244630435,
          2274.259053180435,
          2679.394662028261
         ],
         "xaxis": "x",
         "y": [
          38.72271739130434,
          40.83228260869566,
          42.850760869565214,
          44.80919565217391,
          46.85813043478261,
          48.82695652173913,
          50.63617391304348,
          52.19095652173913,
          52.165543478260865,
          51.83,
          51.3119347826087,
          52.79739130434782
         ],
         "yaxis": "y"
        },
        {
         "hovertemplate": "subcontinent=Western Asia<br>gdpPercap=%{x}<br>lifeExp=%{y}<extra></extra>",
         "legendgroup": "Western Asia",
         "line": {
          "color": "#EF553B",
          "dash": "solid"
         },
         "marker": {
          "symbol": "circle"
         },
         "mode": "lines",
         "name": "Western Asia",
         "orientation": "v",
         "showlegend": true,
         "textposition": "bottom right",
         "type": "scatter",
         "x": [
          3514.7969265545457,
          4417.682193972727,
          5304.977986054545,
          6429.371084390909,
          8736.810160727273,
          10712.755885727272,
          11078.433501,
          10155.82629309091,
          10139.046367818182,
          10617.979661727273,
          10817.947749727273,
          12426.443289454544
         ],
         "xaxis": "x",
         "y": [
          45.76036363636364,
          48.56536363636364,
          51.16172727272727,
          54.01145454545454,
          57.32172727272727,
          60.72709090909091,
          63.74063636363637,
          66.29709090909091,
          67.9069090909091,
          69.41381818181819,
          70.56572727272727,
          71.90090909090908
         ],
         "yaxis": "y"
        },
        {
         "hovertemplate": "subcontinent=Western Europe<br>gdpPercap=%{x}<br>lifeExp=%{y}<extra></extra>",
         "legendgroup": "Western Europe",
         "line": {
          "color": "#00cc96",
          "dash": "solid"
         },
         "marker": {
          "symbol": "circle"
         },
         "mode": "lines",
         "name": "Western Europe",
         "orientation": "v",
         "showlegend": true,
         "textposition": "bottom right",
         "type": "scatter",
         "x": [
          8721.651657833334,
          11098.983895166666,
          13071.136428333333,
          15343.097090000001,
          18907.83330833333,
          20977.383811666667,
          22449.922548333332,
          24475.340858333333,
          27081.5281,
          28786.20666,
          31678.506875000003,
          34460.640215
         ],
         "xaxis": "x",
         "y": [
          68.57666666666667,
          69.71666666666667,
          70.85833333333333,
          71.67,
          72.16333333333334,
          73.655,
          74.67666666666666,
          75.95283333333333,
          76.91333333333334,
          78.07000000000001,
          79.11833333333334,
          80.13266666666667
         ],
         "yaxis": "y"
        }
       ],
       "layout": {
        "height": 600,
        "legend": {
         "title": {
          "text": "subcontinent"
         },
         "tracegroupgap": 0
        },
        "template": {
         "data": {
          "bar": [
           {
            "error_x": {
             "color": "#2a3f5f"
            },
            "error_y": {
             "color": "#2a3f5f"
            },
            "marker": {
             "line": {
              "color": "#E5ECF6",
              "width": 0.5
             },
             "pattern": {
              "fillmode": "overlay",
              "size": 10,
              "solidity": 0.2
             }
            },
            "type": "bar"
           }
          ],
          "barpolar": [
           {
            "marker": {
             "line": {
              "color": "#E5ECF6",
              "width": 0.5
             },
             "pattern": {
              "fillmode": "overlay",
              "size": 10,
              "solidity": 0.2
             }
            },
            "type": "barpolar"
           }
          ],
          "carpet": [
           {
            "aaxis": {
             "endlinecolor": "#2a3f5f",
             "gridcolor": "white",
             "linecolor": "white",
             "minorgridcolor": "white",
             "startlinecolor": "#2a3f5f"
            },
            "baxis": {
             "endlinecolor": "#2a3f5f",
             "gridcolor": "white",
             "linecolor": "white",
             "minorgridcolor": "white",
             "startlinecolor": "#2a3f5f"
            },
            "type": "carpet"
           }
          ],
          "choropleth": [
           {
            "colorbar": {
             "outlinewidth": 0,
             "ticks": ""
            },
            "type": "choropleth"
           }
          ],
          "contour": [
           {
            "colorbar": {
             "outlinewidth": 0,
             "ticks": ""
            },
            "colorscale": [
             [
              0,
              "#0d0887"
             ],
             [
              0.1111111111111111,
              "#46039f"
             ],
             [
              0.2222222222222222,
              "#7201a8"
             ],
             [
              0.3333333333333333,
              "#9c179e"
             ],
             [
              0.4444444444444444,
              "#bd3786"
             ],
             [
              0.5555555555555556,
              "#d8576b"
             ],
             [
              0.6666666666666666,
              "#ed7953"
             ],
             [
              0.7777777777777778,
              "#fb9f3a"
             ],
             [
              0.8888888888888888,
              "#fdca26"
             ],
             [
              1,
              "#f0f921"
             ]
            ],
            "type": "contour"
           }
          ],
          "contourcarpet": [
           {
            "colorbar": {
             "outlinewidth": 0,
             "ticks": ""
            },
            "type": "contourcarpet"
           }
          ],
          "heatmap": [
           {
            "colorbar": {
             "outlinewidth": 0,
             "ticks": ""
            },
            "colorscale": [
             [
              0,
              "#0d0887"
             ],
             [
              0.1111111111111111,
              "#46039f"
             ],
             [
              0.2222222222222222,
              "#7201a8"
             ],
             [
              0.3333333333333333,
              "#9c179e"
             ],
             [
              0.4444444444444444,
              "#bd3786"
             ],
             [
              0.5555555555555556,
              "#d8576b"
             ],
             [
              0.6666666666666666,
              "#ed7953"
             ],
             [
              0.7777777777777778,
              "#fb9f3a"
             ],
             [
              0.8888888888888888,
              "#fdca26"
             ],
             [
              1,
              "#f0f921"
             ]
            ],
            "type": "heatmap"
           }
          ],
          "heatmapgl": [
           {
            "colorbar": {
             "outlinewidth": 0,
             "ticks": ""
            },
            "colorscale": [
             [
              0,
              "#0d0887"
             ],
             [
              0.1111111111111111,
              "#46039f"
             ],
             [
              0.2222222222222222,
              "#7201a8"
             ],
             [
              0.3333333333333333,
              "#9c179e"
             ],
             [
              0.4444444444444444,
              "#bd3786"
             ],
             [
              0.5555555555555556,
              "#d8576b"
             ],
             [
              0.6666666666666666,
              "#ed7953"
             ],
             [
              0.7777777777777778,
              "#fb9f3a"
             ],
             [
              0.8888888888888888,
              "#fdca26"
             ],
             [
              1,
              "#f0f921"
             ]
            ],
            "type": "heatmapgl"
           }
          ],
          "histogram": [
           {
            "marker": {
             "pattern": {
              "fillmode": "overlay",
              "size": 10,
              "solidity": 0.2
             }
            },
            "type": "histogram"
           }
          ],
          "histogram2d": [
           {
            "colorbar": {
             "outlinewidth": 0,
             "ticks": ""
            },
            "colorscale": [
             [
              0,
              "#0d0887"
             ],
             [
              0.1111111111111111,
              "#46039f"
             ],
             [
              0.2222222222222222,
              "#7201a8"
             ],
             [
              0.3333333333333333,
              "#9c179e"
             ],
             [
              0.4444444444444444,
              "#bd3786"
             ],
             [
              0.5555555555555556,
              "#d8576b"
             ],
             [
              0.6666666666666666,
              "#ed7953"
             ],
             [
              0.7777777777777778,
              "#fb9f3a"
             ],
             [
              0.8888888888888888,
              "#fdca26"
             ],
             [
              1,
              "#f0f921"
             ]
            ],
            "type": "histogram2d"
           }
          ],
          "histogram2dcontour": [
           {
            "colorbar": {
             "outlinewidth": 0,
             "ticks": ""
            },
            "colorscale": [
             [
              0,
              "#0d0887"
             ],
             [
              0.1111111111111111,
              "#46039f"
             ],
             [
              0.2222222222222222,
              "#7201a8"
             ],
             [
              0.3333333333333333,
              "#9c179e"
             ],
             [
              0.4444444444444444,
              "#bd3786"
             ],
             [
              0.5555555555555556,
              "#d8576b"
             ],
             [
              0.6666666666666666,
              "#ed7953"
             ],
             [
              0.7777777777777778,
              "#fb9f3a"
             ],
             [
              0.8888888888888888,
              "#fdca26"
             ],
             [
              1,
              "#f0f921"
             ]
            ],
            "type": "histogram2dcontour"
           }
          ],
          "mesh3d": [
           {
            "colorbar": {
             "outlinewidth": 0,
             "ticks": ""
            },
            "type": "mesh3d"
           }
          ],
          "parcoords": [
           {
            "line": {
             "colorbar": {
              "outlinewidth": 0,
              "ticks": ""
             }
            },
            "type": "parcoords"
           }
          ],
          "pie": [
           {
            "automargin": true,
            "type": "pie"
           }
          ],
          "scatter": [
           {
            "fillpattern": {
             "fillmode": "overlay",
             "size": 10,
             "solidity": 0.2
            },
            "type": "scatter"
           }
          ],
          "scatter3d": [
           {
            "line": {
             "colorbar": {
              "outlinewidth": 0,
              "ticks": ""
             }
            },
            "marker": {
             "colorbar": {
              "outlinewidth": 0,
              "ticks": ""
             }
            },
            "type": "scatter3d"
           }
          ],
          "scattercarpet": [
           {
            "marker": {
             "colorbar": {
              "outlinewidth": 0,
              "ticks": ""
             }
            },
            "type": "scattercarpet"
           }
          ],
          "scattergeo": [
           {
            "marker": {
             "colorbar": {
              "outlinewidth": 0,
              "ticks": ""
             }
            },
            "type": "scattergeo"
           }
          ],
          "scattergl": [
           {
            "marker": {
             "colorbar": {
              "outlinewidth": 0,
              "ticks": ""
             }
            },
            "type": "scattergl"
           }
          ],
          "scattermapbox": [
           {
            "marker": {
             "colorbar": {
              "outlinewidth": 0,
              "ticks": ""
             }
            },
            "type": "scattermapbox"
           }
          ],
          "scatterpolar": [
           {
            "marker": {
             "colorbar": {
              "outlinewidth": 0,
              "ticks": ""
             }
            },
            "type": "scatterpolar"
           }
          ],
          "scatterpolargl": [
           {
            "marker": {
             "colorbar": {
              "outlinewidth": 0,
              "ticks": ""
             }
            },
            "type": "scatterpolargl"
           }
          ],
          "scatterternary": [
           {
            "marker": {
             "colorbar": {
              "outlinewidth": 0,
              "ticks": ""
             }
            },
            "type": "scatterternary"
           }
          ],
          "surface": [
           {
            "colorbar": {
             "outlinewidth": 0,
             "ticks": ""
            },
            "colorscale": [
             [
              0,
              "#0d0887"
             ],
             [
              0.1111111111111111,
              "#46039f"
             ],
             [
              0.2222222222222222,
              "#7201a8"
             ],
             [
              0.3333333333333333,
              "#9c179e"
             ],
             [
              0.4444444444444444,
              "#bd3786"
             ],
             [
              0.5555555555555556,
              "#d8576b"
             ],
             [
              0.6666666666666666,
              "#ed7953"
             ],
             [
              0.7777777777777778,
              "#fb9f3a"
             ],
             [
              0.8888888888888888,
              "#fdca26"
             ],
             [
              1,
              "#f0f921"
             ]
            ],
            "type": "surface"
           }
          ],
          "table": [
           {
            "cells": {
             "fill": {
              "color": "#EBF0F8"
             },
             "line": {
              "color": "white"
             }
            },
            "header": {
             "fill": {
              "color": "#C8D4E3"
             },
             "line": {
              "color": "white"
             }
            },
            "type": "table"
           }
          ]
         },
         "layout": {
          "annotationdefaults": {
           "arrowcolor": "#2a3f5f",
           "arrowhead": 0,
           "arrowwidth": 1
          },
          "autotypenumbers": "strict",
          "coloraxis": {
           "colorbar": {
            "outlinewidth": 0,
            "ticks": ""
           }
          },
          "colorscale": {
           "diverging": [
            [
             0,
             "#8e0152"
            ],
            [
             0.1,
             "#c51b7d"
            ],
            [
             0.2,
             "#de77ae"
            ],
            [
             0.3,
             "#f1b6da"
            ],
            [
             0.4,
             "#fde0ef"
            ],
            [
             0.5,
             "#f7f7f7"
            ],
            [
             0.6,
             "#e6f5d0"
            ],
            [
             0.7,
             "#b8e186"
            ],
            [
             0.8,
             "#7fbc41"
            ],
            [
             0.9,
             "#4d9221"
            ],
            [
             1,
             "#276419"
            ]
           ],
           "sequential": [
            [
             0,
             "#0d0887"
            ],
            [
             0.1111111111111111,
             "#46039f"
            ],
            [
             0.2222222222222222,
             "#7201a8"
            ],
            [
             0.3333333333333333,
             "#9c179e"
            ],
            [
             0.4444444444444444,
             "#bd3786"
            ],
            [
             0.5555555555555556,
             "#d8576b"
            ],
            [
             0.6666666666666666,
             "#ed7953"
            ],
            [
             0.7777777777777778,
             "#fb9f3a"
            ],
            [
             0.8888888888888888,
             "#fdca26"
            ],
            [
             1,
             "#f0f921"
            ]
           ],
           "sequentialminus": [
            [
             0,
             "#0d0887"
            ],
            [
             0.1111111111111111,
             "#46039f"
            ],
            [
             0.2222222222222222,
             "#7201a8"
            ],
            [
             0.3333333333333333,
             "#9c179e"
            ],
            [
             0.4444444444444444,
             "#bd3786"
            ],
            [
             0.5555555555555556,
             "#d8576b"
            ],
            [
             0.6666666666666666,
             "#ed7953"
            ],
            [
             0.7777777777777778,
             "#fb9f3a"
            ],
            [
             0.8888888888888888,
             "#fdca26"
            ],
            [
             1,
             "#f0f921"
            ]
           ]
          },
          "colorway": [
           "#636efa",
           "#EF553B",
           "#00cc96",
           "#ab63fa",
           "#FFA15A",
           "#19d3f3",
           "#FF6692",
           "#B6E880",
           "#FF97FF",
           "#FECB52"
          ],
          "font": {
           "color": "#2a3f5f"
          },
          "geo": {
           "bgcolor": "white",
           "lakecolor": "white",
           "landcolor": "#E5ECF6",
           "showlakes": true,
           "showland": true,
           "subunitcolor": "white"
          },
          "hoverlabel": {
           "align": "left"
          },
          "hovermode": "closest",
          "mapbox": {
           "style": "light"
          },
          "paper_bgcolor": "white",
          "plot_bgcolor": "#E5ECF6",
          "polar": {
           "angularaxis": {
            "gridcolor": "white",
            "linecolor": "white",
            "ticks": ""
           },
           "bgcolor": "#E5ECF6",
           "radialaxis": {
            "gridcolor": "white",
            "linecolor": "white",
            "ticks": ""
           }
          },
          "scene": {
           "xaxis": {
            "backgroundcolor": "#E5ECF6",
            "gridcolor": "white",
            "gridwidth": 2,
            "linecolor": "white",
            "showbackground": true,
            "ticks": "",
            "zerolinecolor": "white"
           },
           "yaxis": {
            "backgroundcolor": "#E5ECF6",
            "gridcolor": "white",
            "gridwidth": 2,
            "linecolor": "white",
            "showbackground": true,
            "ticks": "",
            "zerolinecolor": "white"
           },
           "zaxis": {
            "backgroundcolor": "#E5ECF6",
            "gridcolor": "white",
            "gridwidth": 2,
            "linecolor": "white",
            "showbackground": true,
            "ticks": "",
            "zerolinecolor": "white"
           }
          },
          "shapedefaults": {
           "line": {
            "color": "#2a3f5f"
           }
          },
          "ternary": {
           "aaxis": {
            "gridcolor": "white",
            "linecolor": "white",
            "ticks": ""
           },
           "baxis": {
            "gridcolor": "white",
            "linecolor": "white",
            "ticks": ""
           },
           "bgcolor": "#E5ECF6",
           "caxis": {
            "gridcolor": "white",
            "linecolor": "white",
            "ticks": ""
           }
          },
          "title": {
           "x": 0.05
          },
          "xaxis": {
           "automargin": true,
           "gridcolor": "white",
           "linecolor": "white",
           "ticks": "",
           "title": {
            "standoff": 15
           },
           "zerolinecolor": "white",
           "zerolinewidth": 2
          },
          "yaxis": {
           "automargin": true,
           "gridcolor": "white",
           "linecolor": "white",
           "ticks": "",
           "title": {
            "standoff": 15
           },
           "zerolinecolor": "white",
           "zerolinewidth": 2
          }
         }
        },
        "title": {
         "text": "Cluster Trajectories. Each line represents the average gpb per capita and life by year"
        },
        "width": 800,
        "xaxis": {
         "anchor": "y",
         "domain": [
          0,
          1
         ],
         "title": {
          "text": "gdpPercap"
         },
         "type": "log"
        },
        "yaxis": {
         "anchor": "x",
         "domain": [
          0,
          1
         ],
         "title": {
          "text": "lifeExp"
         }
        }
       }
      }
     },
     "metadata": {},
     "output_type": "display_data"
    }
   ],
   "source": [
    "subcontinent_centroids = df[['year', 'subcontinent', 'lifeExp',\n",
    "                         'gdpPercap']].groupby(['subcontinent', 'year']).mean().reset_index()\n",
    "\n",
    "fig = px.line(subcontinent_centroids, x=\"gdpPercap\", y=\"lifeExp\", color=\"subcontinent\",  log_x=True, \n",
    "             title=\"Cluster Trajectories. Each line represents the average gpb per capita and life by year\",\n",
    "             width=800, height=600)\n",
    "\n",
    "fig.update_traces(textposition=\"bottom right\")\n",
    "\n",
    "fig.show()"
   ]
  },
  {
   "cell_type": "markdown",
   "metadata": {},
   "source": [
    "## Prepare the dataset for HD visualization and cluster Analyses "
   ]
  },
  {
   "cell_type": "markdown",
   "metadata": {},
   "source": [
    "We need to reformat the dataset so that \n",
    "* Each country or feature is a line. So we need to pivot the dataset so that the life expectancy and GPD per capita for a particular year become columns. This can be easily done by unstacking the data. \n",
    "* Scale the data. This is because we have two variables that that have different domains or scales. If we don't scale the data the GDP per capita will dominate the distance calculations. By scaling the data each variable/column has an equal weight in the distance calculations "
   ]
  },
  {
   "cell_type": "code",
   "execution_count": 106,
   "metadata": {},
   "outputs": [
    {
     "data": {
      "text/html": [
       "<div>\n",
       "<style scoped>\n",
       "    .dataframe tbody tr th:only-of-type {\n",
       "        vertical-align: middle;\n",
       "    }\n",
       "\n",
       "    .dataframe tbody tr th {\n",
       "        vertical-align: top;\n",
       "    }\n",
       "\n",
       "    .dataframe thead tr th {\n",
       "        text-align: left;\n",
       "    }\n",
       "\n",
       "    .dataframe thead tr:last-of-type th {\n",
       "        text-align: right;\n",
       "    }\n",
       "</style>\n",
       "<table border=\"1\" class=\"dataframe\">\n",
       "  <thead>\n",
       "    <tr>\n",
       "      <th></th>\n",
       "      <th colspan=\"12\" halign=\"left\">lifeExp</th>\n",
       "    </tr>\n",
       "    <tr>\n",
       "      <th>year</th>\n",
       "      <th>1952</th>\n",
       "      <th>1957</th>\n",
       "      <th>1962</th>\n",
       "      <th>1967</th>\n",
       "      <th>1972</th>\n",
       "      <th>1977</th>\n",
       "      <th>1982</th>\n",
       "      <th>1987</th>\n",
       "      <th>1992</th>\n",
       "      <th>1997</th>\n",
       "      <th>2002</th>\n",
       "      <th>2007</th>\n",
       "    </tr>\n",
       "    <tr>\n",
       "      <th>country</th>\n",
       "      <th></th>\n",
       "      <th></th>\n",
       "      <th></th>\n",
       "      <th></th>\n",
       "      <th></th>\n",
       "      <th></th>\n",
       "      <th></th>\n",
       "      <th></th>\n",
       "      <th></th>\n",
       "      <th></th>\n",
       "      <th></th>\n",
       "      <th></th>\n",
       "    </tr>\n",
       "  </thead>\n",
       "  <tbody>\n",
       "    <tr>\n",
       "      <th>Afghanistan</th>\n",
       "      <td>29.0</td>\n",
       "      <td>30.0</td>\n",
       "      <td>32.0</td>\n",
       "      <td>34.0</td>\n",
       "      <td>36.0</td>\n",
       "      <td>38.0</td>\n",
       "      <td>40.0</td>\n",
       "      <td>41.0</td>\n",
       "      <td>42.0</td>\n",
       "      <td>42.0</td>\n",
       "      <td>42.0</td>\n",
       "      <td>44.0</td>\n",
       "    </tr>\n",
       "    <tr>\n",
       "      <th>Albania</th>\n",
       "      <td>55.0</td>\n",
       "      <td>59.0</td>\n",
       "      <td>65.0</td>\n",
       "      <td>66.0</td>\n",
       "      <td>68.0</td>\n",
       "      <td>69.0</td>\n",
       "      <td>70.0</td>\n",
       "      <td>72.0</td>\n",
       "      <td>72.0</td>\n",
       "      <td>73.0</td>\n",
       "      <td>76.0</td>\n",
       "      <td>76.0</td>\n",
       "    </tr>\n",
       "    <tr>\n",
       "      <th>Algeria</th>\n",
       "      <td>43.0</td>\n",
       "      <td>46.0</td>\n",
       "      <td>48.0</td>\n",
       "      <td>51.0</td>\n",
       "      <td>55.0</td>\n",
       "      <td>58.0</td>\n",
       "      <td>61.0</td>\n",
       "      <td>66.0</td>\n",
       "      <td>68.0</td>\n",
       "      <td>69.0</td>\n",
       "      <td>71.0</td>\n",
       "      <td>72.0</td>\n",
       "    </tr>\n",
       "    <tr>\n",
       "      <th>Angola</th>\n",
       "      <td>30.0</td>\n",
       "      <td>32.0</td>\n",
       "      <td>34.0</td>\n",
       "      <td>36.0</td>\n",
       "      <td>38.0</td>\n",
       "      <td>39.0</td>\n",
       "      <td>40.0</td>\n",
       "      <td>40.0</td>\n",
       "      <td>41.0</td>\n",
       "      <td>41.0</td>\n",
       "      <td>41.0</td>\n",
       "      <td>43.0</td>\n",
       "    </tr>\n",
       "    <tr>\n",
       "      <th>Argentina</th>\n",
       "      <td>62.0</td>\n",
       "      <td>64.0</td>\n",
       "      <td>65.0</td>\n",
       "      <td>66.0</td>\n",
       "      <td>67.0</td>\n",
       "      <td>68.0</td>\n",
       "      <td>70.0</td>\n",
       "      <td>71.0</td>\n",
       "      <td>72.0</td>\n",
       "      <td>73.0</td>\n",
       "      <td>74.0</td>\n",
       "      <td>75.0</td>\n",
       "    </tr>\n",
       "  </tbody>\n",
       "</table>\n",
       "</div>"
      ],
      "text/plain": [
       "            lifeExp                                                        \\\n",
       "year           1952  1957  1962  1967  1972  1977  1982  1987  1992  1997   \n",
       "country                                                                     \n",
       "Afghanistan    29.0  30.0  32.0  34.0  36.0  38.0  40.0  41.0  42.0  42.0   \n",
       "Albania        55.0  59.0  65.0  66.0  68.0  69.0  70.0  72.0  72.0  73.0   \n",
       "Algeria        43.0  46.0  48.0  51.0  55.0  58.0  61.0  66.0  68.0  69.0   \n",
       "Angola         30.0  32.0  34.0  36.0  38.0  39.0  40.0  40.0  41.0  41.0   \n",
       "Argentina      62.0  64.0  65.0  66.0  67.0  68.0  70.0  71.0  72.0  73.0   \n",
       "\n",
       "                         \n",
       "year         2002  2007  \n",
       "country                  \n",
       "Afghanistan  42.0  44.0  \n",
       "Albania      76.0  76.0  \n",
       "Algeria      71.0  72.0  \n",
       "Angola       41.0  43.0  \n",
       "Argentina    74.0  75.0  "
      ]
     },
     "execution_count": 106,
     "metadata": {},
     "output_type": "execute_result"
    }
   ],
   "source": [
    "lifeExp = df[['country', 'year', 'lifeExp']].set_index(['country', 'year']).unstack().round(0)\n",
    "lifeExp.head()"
   ]
  },
  {
   "cell_type": "code",
   "execution_count": 107,
   "metadata": {},
   "outputs": [
    {
     "data": {
      "text/html": [
       "<div>\n",
       "<style scoped>\n",
       "    .dataframe tbody tr th:only-of-type {\n",
       "        vertical-align: middle;\n",
       "    }\n",
       "\n",
       "    .dataframe tbody tr th {\n",
       "        vertical-align: top;\n",
       "    }\n",
       "\n",
       "    .dataframe thead tr th {\n",
       "        text-align: left;\n",
       "    }\n",
       "\n",
       "    .dataframe thead tr:last-of-type th {\n",
       "        text-align: right;\n",
       "    }\n",
       "</style>\n",
       "<table border=\"1\" class=\"dataframe\">\n",
       "  <thead>\n",
       "    <tr>\n",
       "      <th></th>\n",
       "      <th colspan=\"12\" halign=\"left\">gdpPercap</th>\n",
       "    </tr>\n",
       "    <tr>\n",
       "      <th>year</th>\n",
       "      <th>1952</th>\n",
       "      <th>1957</th>\n",
       "      <th>1962</th>\n",
       "      <th>1967</th>\n",
       "      <th>1972</th>\n",
       "      <th>1977</th>\n",
       "      <th>1982</th>\n",
       "      <th>1987</th>\n",
       "      <th>1992</th>\n",
       "      <th>1997</th>\n",
       "      <th>2002</th>\n",
       "      <th>2007</th>\n",
       "    </tr>\n",
       "    <tr>\n",
       "      <th>country</th>\n",
       "      <th></th>\n",
       "      <th></th>\n",
       "      <th></th>\n",
       "      <th></th>\n",
       "      <th></th>\n",
       "      <th></th>\n",
       "      <th></th>\n",
       "      <th></th>\n",
       "      <th></th>\n",
       "      <th></th>\n",
       "      <th></th>\n",
       "      <th></th>\n",
       "    </tr>\n",
       "  </thead>\n",
       "  <tbody>\n",
       "    <tr>\n",
       "      <th>Afghanistan</th>\n",
       "      <td>779.0</td>\n",
       "      <td>821.0</td>\n",
       "      <td>853.0</td>\n",
       "      <td>836.0</td>\n",
       "      <td>740.0</td>\n",
       "      <td>786.0</td>\n",
       "      <td>978.0</td>\n",
       "      <td>852.0</td>\n",
       "      <td>649.0</td>\n",
       "      <td>635.0</td>\n",
       "      <td>727.0</td>\n",
       "      <td>975.0</td>\n",
       "    </tr>\n",
       "    <tr>\n",
       "      <th>Albania</th>\n",
       "      <td>1601.0</td>\n",
       "      <td>1942.0</td>\n",
       "      <td>2313.0</td>\n",
       "      <td>2760.0</td>\n",
       "      <td>3313.0</td>\n",
       "      <td>3533.0</td>\n",
       "      <td>3631.0</td>\n",
       "      <td>3739.0</td>\n",
       "      <td>2497.0</td>\n",
       "      <td>3193.0</td>\n",
       "      <td>4604.0</td>\n",
       "      <td>5937.0</td>\n",
       "    </tr>\n",
       "    <tr>\n",
       "      <th>Algeria</th>\n",
       "      <td>2449.0</td>\n",
       "      <td>3014.0</td>\n",
       "      <td>2551.0</td>\n",
       "      <td>3247.0</td>\n",
       "      <td>4183.0</td>\n",
       "      <td>4910.0</td>\n",
       "      <td>5745.0</td>\n",
       "      <td>5681.0</td>\n",
       "      <td>5023.0</td>\n",
       "      <td>4797.0</td>\n",
       "      <td>5288.0</td>\n",
       "      <td>6223.0</td>\n",
       "    </tr>\n",
       "    <tr>\n",
       "      <th>Angola</th>\n",
       "      <td>3521.0</td>\n",
       "      <td>3828.0</td>\n",
       "      <td>4269.0</td>\n",
       "      <td>5523.0</td>\n",
       "      <td>5473.0</td>\n",
       "      <td>3009.0</td>\n",
       "      <td>2757.0</td>\n",
       "      <td>2430.0</td>\n",
       "      <td>2628.0</td>\n",
       "      <td>2277.0</td>\n",
       "      <td>2773.0</td>\n",
       "      <td>4797.0</td>\n",
       "    </tr>\n",
       "    <tr>\n",
       "      <th>Argentina</th>\n",
       "      <td>5911.0</td>\n",
       "      <td>6857.0</td>\n",
       "      <td>7133.0</td>\n",
       "      <td>8053.0</td>\n",
       "      <td>9443.0</td>\n",
       "      <td>10079.0</td>\n",
       "      <td>8998.0</td>\n",
       "      <td>9140.0</td>\n",
       "      <td>9308.0</td>\n",
       "      <td>10967.0</td>\n",
       "      <td>8798.0</td>\n",
       "      <td>12779.0</td>\n",
       "    </tr>\n",
       "  </tbody>\n",
       "</table>\n",
       "</div>"
      ],
      "text/plain": [
       "            gdpPercap                                                   \\\n",
       "year             1952    1957    1962    1967    1972     1977    1982   \n",
       "country                                                                  \n",
       "Afghanistan     779.0   821.0   853.0   836.0   740.0    786.0   978.0   \n",
       "Albania        1601.0  1942.0  2313.0  2760.0  3313.0   3533.0  3631.0   \n",
       "Algeria        2449.0  3014.0  2551.0  3247.0  4183.0   4910.0  5745.0   \n",
       "Angola         3521.0  3828.0  4269.0  5523.0  5473.0   3009.0  2757.0   \n",
       "Argentina      5911.0  6857.0  7133.0  8053.0  9443.0  10079.0  8998.0   \n",
       "\n",
       "                                                       \n",
       "year           1987    1992     1997    2002     2007  \n",
       "country                                                \n",
       "Afghanistan   852.0   649.0    635.0   727.0    975.0  \n",
       "Albania      3739.0  2497.0   3193.0  4604.0   5937.0  \n",
       "Algeria      5681.0  5023.0   4797.0  5288.0   6223.0  \n",
       "Angola       2430.0  2628.0   2277.0  2773.0   4797.0  \n",
       "Argentina    9140.0  9308.0  10967.0  8798.0  12779.0  "
      ]
     },
     "execution_count": 107,
     "metadata": {},
     "output_type": "execute_result"
    }
   ],
   "source": [
    "gdpPercap = df[['country', 'year', 'gdpPercap']].set_index(['country', 'year']).unstack().round(0)\n",
    "gdpPercap.head()"
   ]
  },
  {
   "cell_type": "markdown",
   "metadata": {},
   "source": [
    "The two datasets above need to be concatenated to produce our input dataset "
   ]
  },
  {
   "cell_type": "code",
   "execution_count": 108,
   "metadata": {},
   "outputs": [
    {
     "data": {
      "text/html": [
       "<div>\n",
       "<style scoped>\n",
       "    .dataframe tbody tr th:only-of-type {\n",
       "        vertical-align: middle;\n",
       "    }\n",
       "\n",
       "    .dataframe tbody tr th {\n",
       "        vertical-align: top;\n",
       "    }\n",
       "\n",
       "    .dataframe thead tr th {\n",
       "        text-align: left;\n",
       "    }\n",
       "\n",
       "    .dataframe thead tr:last-of-type th {\n",
       "        text-align: right;\n",
       "    }\n",
       "</style>\n",
       "<table border=\"1\" class=\"dataframe\">\n",
       "  <thead>\n",
       "    <tr>\n",
       "      <th></th>\n",
       "      <th colspan=\"10\" halign=\"left\">lifeExp</th>\n",
       "      <th>...</th>\n",
       "      <th colspan=\"10\" halign=\"left\">gdpPercap</th>\n",
       "    </tr>\n",
       "    <tr>\n",
       "      <th>year</th>\n",
       "      <th>1952</th>\n",
       "      <th>1957</th>\n",
       "      <th>1962</th>\n",
       "      <th>1967</th>\n",
       "      <th>1972</th>\n",
       "      <th>1977</th>\n",
       "      <th>1982</th>\n",
       "      <th>1987</th>\n",
       "      <th>1992</th>\n",
       "      <th>1997</th>\n",
       "      <th>...</th>\n",
       "      <th>1962</th>\n",
       "      <th>1967</th>\n",
       "      <th>1972</th>\n",
       "      <th>1977</th>\n",
       "      <th>1982</th>\n",
       "      <th>1987</th>\n",
       "      <th>1992</th>\n",
       "      <th>1997</th>\n",
       "      <th>2002</th>\n",
       "      <th>2007</th>\n",
       "    </tr>\n",
       "    <tr>\n",
       "      <th>country</th>\n",
       "      <th></th>\n",
       "      <th></th>\n",
       "      <th></th>\n",
       "      <th></th>\n",
       "      <th></th>\n",
       "      <th></th>\n",
       "      <th></th>\n",
       "      <th></th>\n",
       "      <th></th>\n",
       "      <th></th>\n",
       "      <th></th>\n",
       "      <th></th>\n",
       "      <th></th>\n",
       "      <th></th>\n",
       "      <th></th>\n",
       "      <th></th>\n",
       "      <th></th>\n",
       "      <th></th>\n",
       "      <th></th>\n",
       "      <th></th>\n",
       "      <th></th>\n",
       "    </tr>\n",
       "  </thead>\n",
       "  <tbody>\n",
       "    <tr>\n",
       "      <th>Afghanistan</th>\n",
       "      <td>29.0</td>\n",
       "      <td>30.0</td>\n",
       "      <td>32.0</td>\n",
       "      <td>34.0</td>\n",
       "      <td>36.0</td>\n",
       "      <td>38.0</td>\n",
       "      <td>40.0</td>\n",
       "      <td>41.0</td>\n",
       "      <td>42.0</td>\n",
       "      <td>42.0</td>\n",
       "      <td>...</td>\n",
       "      <td>853.0</td>\n",
       "      <td>836.0</td>\n",
       "      <td>740.0</td>\n",
       "      <td>786.0</td>\n",
       "      <td>978.0</td>\n",
       "      <td>852.0</td>\n",
       "      <td>649.0</td>\n",
       "      <td>635.0</td>\n",
       "      <td>727.0</td>\n",
       "      <td>975.0</td>\n",
       "    </tr>\n",
       "    <tr>\n",
       "      <th>Albania</th>\n",
       "      <td>55.0</td>\n",
       "      <td>59.0</td>\n",
       "      <td>65.0</td>\n",
       "      <td>66.0</td>\n",
       "      <td>68.0</td>\n",
       "      <td>69.0</td>\n",
       "      <td>70.0</td>\n",
       "      <td>72.0</td>\n",
       "      <td>72.0</td>\n",
       "      <td>73.0</td>\n",
       "      <td>...</td>\n",
       "      <td>2313.0</td>\n",
       "      <td>2760.0</td>\n",
       "      <td>3313.0</td>\n",
       "      <td>3533.0</td>\n",
       "      <td>3631.0</td>\n",
       "      <td>3739.0</td>\n",
       "      <td>2497.0</td>\n",
       "      <td>3193.0</td>\n",
       "      <td>4604.0</td>\n",
       "      <td>5937.0</td>\n",
       "    </tr>\n",
       "    <tr>\n",
       "      <th>Algeria</th>\n",
       "      <td>43.0</td>\n",
       "      <td>46.0</td>\n",
       "      <td>48.0</td>\n",
       "      <td>51.0</td>\n",
       "      <td>55.0</td>\n",
       "      <td>58.0</td>\n",
       "      <td>61.0</td>\n",
       "      <td>66.0</td>\n",
       "      <td>68.0</td>\n",
       "      <td>69.0</td>\n",
       "      <td>...</td>\n",
       "      <td>2551.0</td>\n",
       "      <td>3247.0</td>\n",
       "      <td>4183.0</td>\n",
       "      <td>4910.0</td>\n",
       "      <td>5745.0</td>\n",
       "      <td>5681.0</td>\n",
       "      <td>5023.0</td>\n",
       "      <td>4797.0</td>\n",
       "      <td>5288.0</td>\n",
       "      <td>6223.0</td>\n",
       "    </tr>\n",
       "    <tr>\n",
       "      <th>Angola</th>\n",
       "      <td>30.0</td>\n",
       "      <td>32.0</td>\n",
       "      <td>34.0</td>\n",
       "      <td>36.0</td>\n",
       "      <td>38.0</td>\n",
       "      <td>39.0</td>\n",
       "      <td>40.0</td>\n",
       "      <td>40.0</td>\n",
       "      <td>41.0</td>\n",
       "      <td>41.0</td>\n",
       "      <td>...</td>\n",
       "      <td>4269.0</td>\n",
       "      <td>5523.0</td>\n",
       "      <td>5473.0</td>\n",
       "      <td>3009.0</td>\n",
       "      <td>2757.0</td>\n",
       "      <td>2430.0</td>\n",
       "      <td>2628.0</td>\n",
       "      <td>2277.0</td>\n",
       "      <td>2773.0</td>\n",
       "      <td>4797.0</td>\n",
       "    </tr>\n",
       "    <tr>\n",
       "      <th>Argentina</th>\n",
       "      <td>62.0</td>\n",
       "      <td>64.0</td>\n",
       "      <td>65.0</td>\n",
       "      <td>66.0</td>\n",
       "      <td>67.0</td>\n",
       "      <td>68.0</td>\n",
       "      <td>70.0</td>\n",
       "      <td>71.0</td>\n",
       "      <td>72.0</td>\n",
       "      <td>73.0</td>\n",
       "      <td>...</td>\n",
       "      <td>7133.0</td>\n",
       "      <td>8053.0</td>\n",
       "      <td>9443.0</td>\n",
       "      <td>10079.0</td>\n",
       "      <td>8998.0</td>\n",
       "      <td>9140.0</td>\n",
       "      <td>9308.0</td>\n",
       "      <td>10967.0</td>\n",
       "      <td>8798.0</td>\n",
       "      <td>12779.0</td>\n",
       "    </tr>\n",
       "  </tbody>\n",
       "</table>\n",
       "<p>5 rows × 24 columns</p>\n",
       "</div>"
      ],
      "text/plain": [
       "            lifeExp                                                        \\\n",
       "year           1952  1957  1962  1967  1972  1977  1982  1987  1992  1997   \n",
       "country                                                                     \n",
       "Afghanistan    29.0  30.0  32.0  34.0  36.0  38.0  40.0  41.0  42.0  42.0   \n",
       "Albania        55.0  59.0  65.0  66.0  68.0  69.0  70.0  72.0  72.0  73.0   \n",
       "Algeria        43.0  46.0  48.0  51.0  55.0  58.0  61.0  66.0  68.0  69.0   \n",
       "Angola         30.0  32.0  34.0  36.0  38.0  39.0  40.0  40.0  41.0  41.0   \n",
       "Argentina      62.0  64.0  65.0  66.0  67.0  68.0  70.0  71.0  72.0  73.0   \n",
       "\n",
       "             ... gdpPercap                                                   \\\n",
       "year         ...      1962    1967    1972     1977    1982    1987    1992   \n",
       "country      ...                                                              \n",
       "Afghanistan  ...     853.0   836.0   740.0    786.0   978.0   852.0   649.0   \n",
       "Albania      ...    2313.0  2760.0  3313.0   3533.0  3631.0  3739.0  2497.0   \n",
       "Algeria      ...    2551.0  3247.0  4183.0   4910.0  5745.0  5681.0  5023.0   \n",
       "Angola       ...    4269.0  5523.0  5473.0   3009.0  2757.0  2430.0  2628.0   \n",
       "Argentina    ...    7133.0  8053.0  9443.0  10079.0  8998.0  9140.0  9308.0   \n",
       "\n",
       "                                       \n",
       "year            1997    2002     2007  \n",
       "country                                \n",
       "Afghanistan    635.0   727.0    975.0  \n",
       "Albania       3193.0  4604.0   5937.0  \n",
       "Algeria       4797.0  5288.0   6223.0  \n",
       "Angola        2277.0  2773.0   4797.0  \n",
       "Argentina    10967.0  8798.0  12779.0  \n",
       "\n",
       "[5 rows x 24 columns]"
      ]
     },
     "execution_count": 108,
     "metadata": {},
     "output_type": "execute_result"
    }
   ],
   "source": [
    "df2 = pd.concat([lifeExp,gdpPercap], axis=1) \n",
    "df2.head()"
   ]
  },
  {
   "cell_type": "markdown",
   "metadata": {},
   "source": [
    "As stated above, the new dataset has variables with different scales. It needs to be standardized or normalized. This can be easily done using the standard scaler object in scikit learn"
   ]
  },
  {
   "cell_type": "code",
   "execution_count": 109,
   "metadata": {},
   "outputs": [],
   "source": [
    "from sklearn.preprocessing import StandardScaler"
   ]
  },
  {
   "cell_type": "code",
   "execution_count": 110,
   "metadata": {},
   "outputs": [],
   "source": [
    "df2_scaled =  StandardScaler().fit(df2.values).transform(df2.values)"
   ]
  },
  {
   "cell_type": "code",
   "execution_count": 111,
   "metadata": {},
   "outputs": [
    {
     "data": {
      "text/plain": [
       "(141, 24)"
      ]
     },
     "execution_count": 111,
     "metadata": {},
     "output_type": "execute_result"
    }
   ],
   "source": [
    "df2_scaled.shape"
   ]
  },
  {
   "cell_type": "markdown",
   "metadata": {},
   "source": [
    "df2_scaled is a numpy array. The number of rows is equal to the number of countries and the number of columns equal to the total number of variables. If we put the scaled values into a dataframe we see that that the standard scaling algorithm replaced each value with its z-score calculated column-wise. "
   ]
  },
  {
   "cell_type": "code",
   "execution_count": 112,
   "metadata": {},
   "outputs": [],
   "source": [
    "df2_scaled = pd.DataFrame(df2_scaled, columns=df2.columns, index=df2.index)"
   ]
  },
  {
   "cell_type": "code",
   "execution_count": 113,
   "metadata": {},
   "outputs": [
    {
     "data": {
      "text/html": [
       "<div>\n",
       "<style scoped>\n",
       "    .dataframe tbody tr th:only-of-type {\n",
       "        vertical-align: middle;\n",
       "    }\n",
       "\n",
       "    .dataframe tbody tr th {\n",
       "        vertical-align: top;\n",
       "    }\n",
       "\n",
       "    .dataframe thead tr th {\n",
       "        text-align: left;\n",
       "    }\n",
       "\n",
       "    .dataframe thead tr:last-of-type th {\n",
       "        text-align: right;\n",
       "    }\n",
       "</style>\n",
       "<table border=\"1\" class=\"dataframe\">\n",
       "  <thead>\n",
       "    <tr>\n",
       "      <th></th>\n",
       "      <th colspan=\"10\" halign=\"left\">lifeExp</th>\n",
       "      <th>...</th>\n",
       "      <th colspan=\"10\" halign=\"left\">gdpPercap</th>\n",
       "    </tr>\n",
       "    <tr>\n",
       "      <th>year</th>\n",
       "      <th>1952</th>\n",
       "      <th>1957</th>\n",
       "      <th>1962</th>\n",
       "      <th>1967</th>\n",
       "      <th>1972</th>\n",
       "      <th>1977</th>\n",
       "      <th>1982</th>\n",
       "      <th>1987</th>\n",
       "      <th>1992</th>\n",
       "      <th>1997</th>\n",
       "      <th>...</th>\n",
       "      <th>1962</th>\n",
       "      <th>1967</th>\n",
       "      <th>1972</th>\n",
       "      <th>1977</th>\n",
       "      <th>1982</th>\n",
       "      <th>1987</th>\n",
       "      <th>1992</th>\n",
       "      <th>1997</th>\n",
       "      <th>2002</th>\n",
       "      <th>2007</th>\n",
       "    </tr>\n",
       "    <tr>\n",
       "      <th>country</th>\n",
       "      <th></th>\n",
       "      <th></th>\n",
       "      <th></th>\n",
       "      <th></th>\n",
       "      <th></th>\n",
       "      <th></th>\n",
       "      <th></th>\n",
       "      <th></th>\n",
       "      <th></th>\n",
       "      <th></th>\n",
       "      <th></th>\n",
       "      <th></th>\n",
       "      <th></th>\n",
       "      <th></th>\n",
       "      <th></th>\n",
       "      <th></th>\n",
       "      <th></th>\n",
       "      <th></th>\n",
       "      <th></th>\n",
       "      <th></th>\n",
       "      <th></th>\n",
       "    </tr>\n",
       "  </thead>\n",
       "  <tbody>\n",
       "    <tr>\n",
       "      <th>Afghanistan</th>\n",
       "      <td>-1.631762</td>\n",
       "      <td>-1.755950</td>\n",
       "      <td>-1.778137</td>\n",
       "      <td>-1.841151</td>\n",
       "      <td>-1.907761</td>\n",
       "      <td>-1.922778</td>\n",
       "      <td>-2.004456</td>\n",
       "      <td>-2.108653</td>\n",
       "      <td>-1.975678</td>\n",
       "      <td>-1.983276</td>\n",
       "      <td>...</td>\n",
       "      <td>-0.799292</td>\n",
       "      <td>-0.823961</td>\n",
       "      <td>-0.865787</td>\n",
       "      <td>-0.865335</td>\n",
       "      <td>-0.853348</td>\n",
       "      <td>-0.851461</td>\n",
       "      <td>-0.837129</td>\n",
       "      <td>-0.838165</td>\n",
       "      <td>-0.823101</td>\n",
       "      <td>-0.836024</td>\n",
       "    </tr>\n",
       "    <tr>\n",
       "      <th>Albania</th>\n",
       "      <td>0.492542</td>\n",
       "      <td>0.621560</td>\n",
       "      <td>0.946154</td>\n",
       "      <td>0.887914</td>\n",
       "      <td>0.918181</td>\n",
       "      <td>0.853721</td>\n",
       "      <td>0.794768</td>\n",
       "      <td>0.841706</td>\n",
       "      <td>0.712362</td>\n",
       "      <td>0.699763</td>\n",
       "      <td>...</td>\n",
       "      <td>-0.437925</td>\n",
       "      <td>-0.438510</td>\n",
       "      <td>-0.445675</td>\n",
       "      <td>-0.479365</td>\n",
       "      <td>-0.498047</td>\n",
       "      <td>-0.495491</td>\n",
       "      <td>-0.625780</td>\n",
       "      <td>-0.577771</td>\n",
       "      <td>-0.469008</td>\n",
       "      <td>-0.439142</td>\n",
       "    </tr>\n",
       "    <tr>\n",
       "      <th>Algeria</th>\n",
       "      <td>-0.487906</td>\n",
       "      <td>-0.444220</td>\n",
       "      <td>-0.457269</td>\n",
       "      <td>-0.391335</td>\n",
       "      <td>-0.229858</td>\n",
       "      <td>-0.131488</td>\n",
       "      <td>-0.044999</td>\n",
       "      <td>0.270669</td>\n",
       "      <td>0.353957</td>\n",
       "      <td>0.353565</td>\n",
       "      <td>...</td>\n",
       "      <td>-0.379018</td>\n",
       "      <td>-0.340946</td>\n",
       "      <td>-0.303624</td>\n",
       "      <td>-0.285888</td>\n",
       "      <td>-0.214931</td>\n",
       "      <td>-0.256040</td>\n",
       "      <td>-0.336892</td>\n",
       "      <td>-0.414490</td>\n",
       "      <td>-0.406537</td>\n",
       "      <td>-0.416266</td>\n",
       "    </tr>\n",
       "    <tr>\n",
       "      <th>Angola</th>\n",
       "      <td>-1.550058</td>\n",
       "      <td>-1.591984</td>\n",
       "      <td>-1.613028</td>\n",
       "      <td>-1.670584</td>\n",
       "      <td>-1.731140</td>\n",
       "      <td>-1.833214</td>\n",
       "      <td>-2.004456</td>\n",
       "      <td>-2.203825</td>\n",
       "      <td>-2.065279</td>\n",
       "      <td>-2.069826</td>\n",
       "      <td>...</td>\n",
       "      <td>0.046207</td>\n",
       "      <td>0.115024</td>\n",
       "      <td>-0.092996</td>\n",
       "      <td>-0.552990</td>\n",
       "      <td>-0.615097</td>\n",
       "      <td>-0.656892</td>\n",
       "      <td>-0.610798</td>\n",
       "      <td>-0.671016</td>\n",
       "      <td>-0.636236</td>\n",
       "      <td>-0.530324</td>\n",
       "    </tr>\n",
       "    <tr>\n",
       "      <th>Argentina</th>\n",
       "      <td>1.064470</td>\n",
       "      <td>1.031475</td>\n",
       "      <td>0.946154</td>\n",
       "      <td>0.887914</td>\n",
       "      <td>0.829870</td>\n",
       "      <td>0.764157</td>\n",
       "      <td>0.794768</td>\n",
       "      <td>0.746533</td>\n",
       "      <td>0.712362</td>\n",
       "      <td>0.699763</td>\n",
       "      <td>...</td>\n",
       "      <td>0.755081</td>\n",
       "      <td>0.621879</td>\n",
       "      <td>0.555214</td>\n",
       "      <td>0.440388</td>\n",
       "      <td>0.220725</td>\n",
       "      <td>0.170458</td>\n",
       "      <td>0.153167</td>\n",
       "      <td>0.213591</td>\n",
       "      <td>-0.085961</td>\n",
       "      <td>0.108110</td>\n",
       "    </tr>\n",
       "  </tbody>\n",
       "</table>\n",
       "<p>5 rows × 24 columns</p>\n",
       "</div>"
      ],
      "text/plain": [
       "              lifeExp                                                    \\\n",
       "year             1952      1957      1962      1967      1972      1977   \n",
       "country                                                                   \n",
       "Afghanistan -1.631762 -1.755950 -1.778137 -1.841151 -1.907761 -1.922778   \n",
       "Albania      0.492542  0.621560  0.946154  0.887914  0.918181  0.853721   \n",
       "Algeria     -0.487906 -0.444220 -0.457269 -0.391335 -0.229858 -0.131488   \n",
       "Angola      -1.550058 -1.591984 -1.613028 -1.670584 -1.731140 -1.833214   \n",
       "Argentina    1.064470  1.031475  0.946154  0.887914  0.829870  0.764157   \n",
       "\n",
       "                                                     ... gdpPercap            \\\n",
       "year             1982      1987      1992      1997  ...      1962      1967   \n",
       "country                                              ...                       \n",
       "Afghanistan -2.004456 -2.108653 -1.975678 -1.983276  ... -0.799292 -0.823961   \n",
       "Albania      0.794768  0.841706  0.712362  0.699763  ... -0.437925 -0.438510   \n",
       "Algeria     -0.044999  0.270669  0.353957  0.353565  ... -0.379018 -0.340946   \n",
       "Angola      -2.004456 -2.203825 -2.065279 -2.069826  ...  0.046207  0.115024   \n",
       "Argentina    0.794768  0.746533  0.712362  0.699763  ...  0.755081  0.621879   \n",
       "\n",
       "                                                                         \\\n",
       "year             1972      1977      1982      1987      1992      1997   \n",
       "country                                                                   \n",
       "Afghanistan -0.865787 -0.865335 -0.853348 -0.851461 -0.837129 -0.838165   \n",
       "Albania     -0.445675 -0.479365 -0.498047 -0.495491 -0.625780 -0.577771   \n",
       "Algeria     -0.303624 -0.285888 -0.214931 -0.256040 -0.336892 -0.414490   \n",
       "Angola      -0.092996 -0.552990 -0.615097 -0.656892 -0.610798 -0.671016   \n",
       "Argentina    0.555214  0.440388  0.220725  0.170458  0.153167  0.213591   \n",
       "\n",
       "                                 \n",
       "year             2002      2007  \n",
       "country                          \n",
       "Afghanistan -0.823101 -0.836024  \n",
       "Albania     -0.469008 -0.439142  \n",
       "Algeria     -0.406537 -0.416266  \n",
       "Angola      -0.636236 -0.530324  \n",
       "Argentina   -0.085961  0.108110  \n",
       "\n",
       "[5 rows x 24 columns]"
      ]
     },
     "execution_count": 113,
     "metadata": {},
     "output_type": "execute_result"
    }
   ],
   "source": [
    "df2_scaled.head()"
   ]
  },
  {
   "cell_type": "markdown",
   "metadata": {},
   "source": [
    "# Project the data using MDS"
   ]
  },
  {
   "cell_type": "code",
   "execution_count": 114,
   "metadata": {},
   "outputs": [],
   "source": [
    "from sklearn.manifold import MDS"
   ]
  },
  {
   "cell_type": "code",
   "execution_count": 115,
   "metadata": {},
   "outputs": [],
   "source": [
    "coords_MDS = MDS(n_components=2).fit_transform(df2_scaled.values)"
   ]
  },
  {
   "cell_type": "code",
   "execution_count": 116,
   "metadata": {},
   "outputs": [
    {
     "data": {
      "text/plain": [
       "array([[-0.70098679,  7.26249124],\n",
       "       [-2.42489374, -1.92400287],\n",
       "       [-0.83010636,  0.52901975],\n",
       "       [ 1.30590571,  6.66382063],\n",
       "       [ 1.23174584, -2.80557549]])"
      ]
     },
     "execution_count": 116,
     "metadata": {},
     "output_type": "execute_result"
    }
   ],
   "source": [
    "coords_MDS[0:5]"
   ]
  },
  {
   "cell_type": "code",
   "execution_count": 117,
   "metadata": {},
   "outputs": [
    {
     "data": {
      "text/plain": [
       "(141, 2)"
      ]
     },
     "execution_count": 117,
     "metadata": {},
     "output_type": "execute_result"
    }
   ],
   "source": [
    "coords_MDS.shape"
   ]
  },
  {
   "cell_type": "markdown",
   "metadata": {},
   "source": [
    "The MDS algorithm produced x,y coordinates for each and every country. Each coordinate pair is the projection of the country to the plane. Let's create a dataset that contains the MDS projections. "
   ]
  },
  {
   "cell_type": "code",
   "execution_count": 118,
   "metadata": {},
   "outputs": [],
   "source": [
    "HDmap = pd.DataFrame(index=df2_scaled.index)\n",
    "\n",
    "HDmap['MDS_x'] = coords_MDS[:,0]\n",
    "HDmap['MDS_y'] = coords_MDS[:,1]"
   ]
  },
  {
   "cell_type": "code",
   "execution_count": 119,
   "metadata": {},
   "outputs": [
    {
     "data": {
      "text/html": [
       "<div>\n",
       "<style scoped>\n",
       "    .dataframe tbody tr th:only-of-type {\n",
       "        vertical-align: middle;\n",
       "    }\n",
       "\n",
       "    .dataframe tbody tr th {\n",
       "        vertical-align: top;\n",
       "    }\n",
       "\n",
       "    .dataframe thead th {\n",
       "        text-align: right;\n",
       "    }\n",
       "</style>\n",
       "<table border=\"1\" class=\"dataframe\">\n",
       "  <thead>\n",
       "    <tr style=\"text-align: right;\">\n",
       "      <th></th>\n",
       "      <th>MDS_x</th>\n",
       "      <th>MDS_y</th>\n",
       "    </tr>\n",
       "    <tr>\n",
       "      <th>country</th>\n",
       "      <th></th>\n",
       "      <th></th>\n",
       "    </tr>\n",
       "  </thead>\n",
       "  <tbody>\n",
       "    <tr>\n",
       "      <th>Afghanistan</th>\n",
       "      <td>-0.700987</td>\n",
       "      <td>7.262491</td>\n",
       "    </tr>\n",
       "    <tr>\n",
       "      <th>Albania</th>\n",
       "      <td>-2.424894</td>\n",
       "      <td>-1.924003</td>\n",
       "    </tr>\n",
       "    <tr>\n",
       "      <th>Algeria</th>\n",
       "      <td>-0.830106</td>\n",
       "      <td>0.529020</td>\n",
       "    </tr>\n",
       "    <tr>\n",
       "      <th>Angola</th>\n",
       "      <td>1.305906</td>\n",
       "      <td>6.663821</td>\n",
       "    </tr>\n",
       "    <tr>\n",
       "      <th>Argentina</th>\n",
       "      <td>1.231746</td>\n",
       "      <td>-2.805575</td>\n",
       "    </tr>\n",
       "    <tr>\n",
       "      <th>...</th>\n",
       "      <td>...</td>\n",
       "      <td>...</td>\n",
       "    </tr>\n",
       "    <tr>\n",
       "      <th>Vietnam</th>\n",
       "      <td>-2.978504</td>\n",
       "      <td>1.481026</td>\n",
       "    </tr>\n",
       "    <tr>\n",
       "      <th>West Bank and Gaza</th>\n",
       "      <td>-1.458950</td>\n",
       "      <td>0.246175</td>\n",
       "    </tr>\n",
       "    <tr>\n",
       "      <th>Yemen, Rep.</th>\n",
       "      <td>-0.879406</td>\n",
       "      <td>4.528705</td>\n",
       "    </tr>\n",
       "    <tr>\n",
       "      <th>Zambia</th>\n",
       "      <td>-2.551803</td>\n",
       "      <td>4.956984</td>\n",
       "    </tr>\n",
       "    <tr>\n",
       "      <th>Zimbabwe</th>\n",
       "      <td>1.156134</td>\n",
       "      <td>3.775709</td>\n",
       "    </tr>\n",
       "  </tbody>\n",
       "</table>\n",
       "<p>141 rows × 2 columns</p>\n",
       "</div>"
      ],
      "text/plain": [
       "                       MDS_x     MDS_y\n",
       "country                               \n",
       "Afghanistan        -0.700987  7.262491\n",
       "Albania            -2.424894 -1.924003\n",
       "Algeria            -0.830106  0.529020\n",
       "Angola              1.305906  6.663821\n",
       "Argentina           1.231746 -2.805575\n",
       "...                      ...       ...\n",
       "Vietnam            -2.978504  1.481026\n",
       "West Bank and Gaza -1.458950  0.246175\n",
       "Yemen, Rep.        -0.879406  4.528705\n",
       "Zambia             -2.551803  4.956984\n",
       "Zimbabwe            1.156134  3.775709\n",
       "\n",
       "[141 rows x 2 columns]"
      ]
     },
     "execution_count": 119,
     "metadata": {},
     "output_type": "execute_result"
    }
   ],
   "source": [
    "HDmap"
   ]
  },
  {
   "cell_type": "markdown",
   "metadata": {},
   "source": [
    "We will visualize this projection as a scatterplot. But it should be interpreted as a map. Before we do so we will add country information."
   ]
  },
  {
   "cell_type": "code",
   "execution_count": 120,
   "metadata": {},
   "outputs": [
    {
     "data": {
      "text/plain": [
       "(141, 2)"
      ]
     },
     "execution_count": 120,
     "metadata": {},
     "output_type": "execute_result"
    }
   ],
   "source": [
    "HDmap.shape"
   ]
  },
  {
   "cell_type": "code",
   "execution_count": 121,
   "metadata": {},
   "outputs": [
    {
     "data": {
      "text/html": [
       "<div>\n",
       "<style scoped>\n",
       "    .dataframe tbody tr th:only-of-type {\n",
       "        vertical-align: middle;\n",
       "    }\n",
       "\n",
       "    .dataframe tbody tr th {\n",
       "        vertical-align: top;\n",
       "    }\n",
       "\n",
       "    .dataframe thead th {\n",
       "        text-align: right;\n",
       "    }\n",
       "</style>\n",
       "<table border=\"1\" class=\"dataframe\">\n",
       "  <thead>\n",
       "    <tr style=\"text-align: right;\">\n",
       "      <th></th>\n",
       "      <th>country</th>\n",
       "      <th>MDS_x</th>\n",
       "      <th>MDS_y</th>\n",
       "      <th>iso_alpha</th>\n",
       "      <th>continent</th>\n",
       "      <th>subcontinent</th>\n",
       "    </tr>\n",
       "  </thead>\n",
       "  <tbody>\n",
       "    <tr>\n",
       "      <th>0</th>\n",
       "      <td>Afghanistan</td>\n",
       "      <td>-0.700987</td>\n",
       "      <td>7.262491</td>\n",
       "      <td>AFG</td>\n",
       "      <td>Asia</td>\n",
       "      <td>Southern Asia</td>\n",
       "    </tr>\n",
       "    <tr>\n",
       "      <th>1</th>\n",
       "      <td>Albania</td>\n",
       "      <td>-2.424894</td>\n",
       "      <td>-1.924003</td>\n",
       "      <td>ALB</td>\n",
       "      <td>Europe</td>\n",
       "      <td>Southern Europe</td>\n",
       "    </tr>\n",
       "    <tr>\n",
       "      <th>2</th>\n",
       "      <td>Algeria</td>\n",
       "      <td>-0.830106</td>\n",
       "      <td>0.529020</td>\n",
       "      <td>DZA</td>\n",
       "      <td>Africa</td>\n",
       "      <td>Northern Africa</td>\n",
       "    </tr>\n",
       "    <tr>\n",
       "      <th>3</th>\n",
       "      <td>Angola</td>\n",
       "      <td>1.305906</td>\n",
       "      <td>6.663821</td>\n",
       "      <td>AGO</td>\n",
       "      <td>Africa</td>\n",
       "      <td>Sub-Saharan Africa</td>\n",
       "    </tr>\n",
       "    <tr>\n",
       "      <th>4</th>\n",
       "      <td>Argentina</td>\n",
       "      <td>1.231746</td>\n",
       "      <td>-2.805575</td>\n",
       "      <td>ARG</td>\n",
       "      <td>Americas</td>\n",
       "      <td>Latin America and the Caribbean</td>\n",
       "    </tr>\n",
       "  </tbody>\n",
       "</table>\n",
       "</div>"
      ],
      "text/plain": [
       "       country     MDS_x     MDS_y iso_alpha continent  \\\n",
       "0  Afghanistan -0.700987  7.262491       AFG      Asia   \n",
       "1      Albania -2.424894 -1.924003       ALB    Europe   \n",
       "2      Algeria -0.830106  0.529020       DZA    Africa   \n",
       "3       Angola  1.305906  6.663821       AGO    Africa   \n",
       "4    Argentina  1.231746 -2.805575       ARG  Americas   \n",
       "\n",
       "                      subcontinent  \n",
       "0                    Southern Asia  \n",
       "1                  Southern Europe  \n",
       "2                  Northern Africa  \n",
       "3               Sub-Saharan Africa  \n",
       "4  Latin America and the Caribbean  "
      ]
     },
     "execution_count": 121,
     "metadata": {},
     "output_type": "execute_result"
    }
   ],
   "source": [
    "HDmap = HDmap.merge(continents, on=\"country\")\n",
    "HDmap.head()"
   ]
  },
  {
   "cell_type": "code",
   "execution_count": 122,
   "metadata": {},
   "outputs": [
    {
     "data": {
      "text/html": [
       "<div>\n",
       "<style scoped>\n",
       "    .dataframe tbody tr th:only-of-type {\n",
       "        vertical-align: middle;\n",
       "    }\n",
       "\n",
       "    .dataframe tbody tr th {\n",
       "        vertical-align: top;\n",
       "    }\n",
       "\n",
       "    .dataframe thead th {\n",
       "        text-align: right;\n",
       "    }\n",
       "</style>\n",
       "<table border=\"1\" class=\"dataframe\">\n",
       "  <thead>\n",
       "    <tr style=\"text-align: right;\">\n",
       "      <th></th>\n",
       "      <th>country</th>\n",
       "      <th>Images File Name</th>\n",
       "      <th>ImageURL</th>\n",
       "    </tr>\n",
       "  </thead>\n",
       "  <tbody>\n",
       "    <tr>\n",
       "      <th>0</th>\n",
       "      <td>Afghanistan</td>\n",
       "      <td>Flag_of_Afghanistan.svg</td>\n",
       "      <td>https://upload.wikimedia.org/wikipedia/commons...</td>\n",
       "    </tr>\n",
       "    <tr>\n",
       "      <th>1</th>\n",
       "      <td>Albania</td>\n",
       "      <td>Flag_of_Albania.svg</td>\n",
       "      <td>https://upload.wikimedia.org/wikipedia/commons...</td>\n",
       "    </tr>\n",
       "    <tr>\n",
       "      <th>2</th>\n",
       "      <td>Algeria</td>\n",
       "      <td>Flag_of_Algeria.svg</td>\n",
       "      <td>https://upload.wikimedia.org/wikipedia/commons...</td>\n",
       "    </tr>\n",
       "    <tr>\n",
       "      <th>3</th>\n",
       "      <td>Andorra</td>\n",
       "      <td>Flag_of_Andorra.svg</td>\n",
       "      <td>https://upload.wikimedia.org/wikipedia/commons...</td>\n",
       "    </tr>\n",
       "    <tr>\n",
       "      <th>4</th>\n",
       "      <td>Angola</td>\n",
       "      <td>Flag_of_Angola.svg</td>\n",
       "      <td>https://upload.wikimedia.org/wikipedia/commons...</td>\n",
       "    </tr>\n",
       "  </tbody>\n",
       "</table>\n",
       "</div>"
      ],
      "text/plain": [
       "       country         Images File Name  \\\n",
       "0  Afghanistan  Flag_of_Afghanistan.svg   \n",
       "1      Albania      Flag_of_Albania.svg   \n",
       "2      Algeria      Flag_of_Algeria.svg   \n",
       "3      Andorra      Flag_of_Andorra.svg   \n",
       "4       Angola       Flag_of_Angola.svg   \n",
       "\n",
       "                                            ImageURL  \n",
       "0  https://upload.wikimedia.org/wikipedia/commons...  \n",
       "1  https://upload.wikimedia.org/wikipedia/commons...  \n",
       "2  https://upload.wikimedia.org/wikipedia/commons...  \n",
       "3  https://upload.wikimedia.org/wikipedia/commons...  \n",
       "4  https://upload.wikimedia.org/wikipedia/commons...  "
      ]
     },
     "execution_count": 122,
     "metadata": {},
     "output_type": "execute_result"
    }
   ],
   "source": [
    "#Country flags obtained from wikipedia\n",
    "flags = pd.read_csv(\"../data/Country_Flags.csv\")\n",
    "flags.head()"
   ]
  },
  {
   "cell_type": "code",
   "execution_count": 123,
   "metadata": {},
   "outputs": [],
   "source": [
    "HDmap = HDmap.merge(flags, on=['country'])"
   ]
  },
  {
   "cell_type": "code",
   "execution_count": 124,
   "metadata": {},
   "outputs": [
    {
     "data": {
      "text/html": [
       "<div>\n",
       "<style scoped>\n",
       "    .dataframe tbody tr th:only-of-type {\n",
       "        vertical-align: middle;\n",
       "    }\n",
       "\n",
       "    .dataframe tbody tr th {\n",
       "        vertical-align: top;\n",
       "    }\n",
       "\n",
       "    .dataframe thead th {\n",
       "        text-align: right;\n",
       "    }\n",
       "</style>\n",
       "<table border=\"1\" class=\"dataframe\">\n",
       "  <thead>\n",
       "    <tr style=\"text-align: right;\">\n",
       "      <th></th>\n",
       "      <th>country</th>\n",
       "      <th>MDS_x</th>\n",
       "      <th>MDS_y</th>\n",
       "      <th>iso_alpha</th>\n",
       "      <th>continent</th>\n",
       "      <th>subcontinent</th>\n",
       "      <th>Images File Name</th>\n",
       "      <th>ImageURL</th>\n",
       "    </tr>\n",
       "  </thead>\n",
       "  <tbody>\n",
       "    <tr>\n",
       "      <th>0</th>\n",
       "      <td>Afghanistan</td>\n",
       "      <td>-0.700987</td>\n",
       "      <td>7.262491</td>\n",
       "      <td>AFG</td>\n",
       "      <td>Asia</td>\n",
       "      <td>Southern Asia</td>\n",
       "      <td>Flag_of_Afghanistan.svg</td>\n",
       "      <td>https://upload.wikimedia.org/wikipedia/commons...</td>\n",
       "    </tr>\n",
       "    <tr>\n",
       "      <th>1</th>\n",
       "      <td>Albania</td>\n",
       "      <td>-2.424894</td>\n",
       "      <td>-1.924003</td>\n",
       "      <td>ALB</td>\n",
       "      <td>Europe</td>\n",
       "      <td>Southern Europe</td>\n",
       "      <td>Flag_of_Albania.svg</td>\n",
       "      <td>https://upload.wikimedia.org/wikipedia/commons...</td>\n",
       "    </tr>\n",
       "    <tr>\n",
       "      <th>2</th>\n",
       "      <td>Algeria</td>\n",
       "      <td>-0.830106</td>\n",
       "      <td>0.529020</td>\n",
       "      <td>DZA</td>\n",
       "      <td>Africa</td>\n",
       "      <td>Northern Africa</td>\n",
       "      <td>Flag_of_Algeria.svg</td>\n",
       "      <td>https://upload.wikimedia.org/wikipedia/commons...</td>\n",
       "    </tr>\n",
       "    <tr>\n",
       "      <th>3</th>\n",
       "      <td>Angola</td>\n",
       "      <td>1.305906</td>\n",
       "      <td>6.663821</td>\n",
       "      <td>AGO</td>\n",
       "      <td>Africa</td>\n",
       "      <td>Sub-Saharan Africa</td>\n",
       "      <td>Flag_of_Angola.svg</td>\n",
       "      <td>https://upload.wikimedia.org/wikipedia/commons...</td>\n",
       "    </tr>\n",
       "    <tr>\n",
       "      <th>4</th>\n",
       "      <td>Argentina</td>\n",
       "      <td>1.231746</td>\n",
       "      <td>-2.805575</td>\n",
       "      <td>ARG</td>\n",
       "      <td>Americas</td>\n",
       "      <td>Latin America and the Caribbean</td>\n",
       "      <td>Flag_of_Argentina.svg</td>\n",
       "      <td>https://upload.wikimedia.org/wikipedia/commons...</td>\n",
       "    </tr>\n",
       "  </tbody>\n",
       "</table>\n",
       "</div>"
      ],
      "text/plain": [
       "       country     MDS_x     MDS_y iso_alpha continent  \\\n",
       "0  Afghanistan -0.700987  7.262491       AFG      Asia   \n",
       "1      Albania -2.424894 -1.924003       ALB    Europe   \n",
       "2      Algeria -0.830106  0.529020       DZA    Africa   \n",
       "3       Angola  1.305906  6.663821       AGO    Africa   \n",
       "4    Argentina  1.231746 -2.805575       ARG  Americas   \n",
       "\n",
       "                      subcontinent         Images File Name  \\\n",
       "0                    Southern Asia  Flag_of_Afghanistan.svg   \n",
       "1                  Southern Europe      Flag_of_Albania.svg   \n",
       "2                  Northern Africa      Flag_of_Algeria.svg   \n",
       "3               Sub-Saharan Africa       Flag_of_Angola.svg   \n",
       "4  Latin America and the Caribbean    Flag_of_Argentina.svg   \n",
       "\n",
       "                                            ImageURL  \n",
       "0  https://upload.wikimedia.org/wikipedia/commons...  \n",
       "1  https://upload.wikimedia.org/wikipedia/commons...  \n",
       "2  https://upload.wikimedia.org/wikipedia/commons...  \n",
       "3  https://upload.wikimedia.org/wikipedia/commons...  \n",
       "4  https://upload.wikimedia.org/wikipedia/commons...  "
      ]
     },
     "execution_count": 124,
     "metadata": {},
     "output_type": "execute_result"
    }
   ],
   "source": [
    "HDmap.head()"
   ]
  },
  {
   "cell_type": "code",
   "execution_count": 125,
   "metadata": {},
   "outputs": [
    {
     "data": {
      "application/vnd.plotly.v1+json": {
       "config": {
        "plotlyServerURL": "https://plot.ly"
       },
       "data": [
        {
         "hovertemplate": "<b>%{hovertext}</b><br><br>continent=Asia<br>MDS_x=%{x}<br>MDS_y=%{y}<extra></extra>",
         "hovertext": [
          "Afghanistan",
          "Bahrain",
          "Bangladesh",
          "Cambodia",
          "China",
          "India",
          "Indonesia",
          "Iran",
          "Iraq",
          "Israel",
          "Japan",
          "Jordan",
          "Lebanon",
          "Malaysia",
          "Mongolia",
          "Myanmar",
          "Nepal",
          "Oman",
          "Pakistan",
          "Philippines",
          "Saudi Arabia",
          "Singapore",
          "Sri Lanka",
          "Syria",
          "Thailand",
          "Turkey",
          "Vietnam"
         ],
         "legendgroup": "Asia",
         "marker": {
          "color": "#636efa",
          "symbol": "circle"
         },
         "mode": "markers",
         "name": "Asia",
         "orientation": "v",
         "showlegend": true,
         "type": "scatter",
         "x": [
          -0.7009867866148075,
          5.381412616625918,
          -2.1757814424634665,
          -2.8888529383008987,
          -3.114618882526172,
          -2.24482270225752,
          -2.503927026270464,
          0.6580211753128854,
          2.3240634427143814,
          1.6614347122549926,
          1.7944375712622629,
          -1.618354567887926,
          0.4783967030289275,
          -1.4457114246821812,
          -1.8617703778273564,
          -2.415032705279322,
          -2.2594945380272238,
          3.1295635510665067,
          -1.893441512784861,
          -2.0376039179202334,
          7.617563767185526,
          -0.2609170059661906,
          -3.0160768293182043,
          -1.782611230429422,
          -2.228412491935682,
          -1.060999398104218,
          -2.9785036119895616
         ],
         "xaxis": "x",
         "y": [
          7.262491236180707,
          -3.54895434394683,
          3.7044691006518953,
          4.259307094052987,
          0.14006530238434214,
          2.6315491425036193,
          2.1635079047994945,
          0.21682605103064412,
          0.7370601874310002,
          -5.185695599621535,
          -6.76471284248533,
          0.473520611147543,
          -1.7597596608510808,
          -1.0650179982640366,
          1.9274174438321112,
          2.784786362028151,
          3.8638732383787944,
          0.013999913349274869,
          2.2267369388143745,
          0.40313885009484085,
          -1.5584467005638145,
          -6.634475091316804,
          -1.1492859647850242,
          0.10642449526154302,
          -0.1395091225536306,
          0.3584027702592029,
          1.4810258768136921
         ],
         "yaxis": "y"
        },
        {
         "hovertemplate": "<b>%{hovertext}</b><br><br>continent=Europe<br>MDS_x=%{x}<br>MDS_y=%{y}<extra></extra>",
         "hovertext": [
          "Albania",
          "Austria",
          "Belgium",
          "Bulgaria",
          "Croatia",
          "Czech Republic",
          "Denmark",
          "Finland",
          "France",
          "Germany",
          "Greece",
          "Hungary",
          "Iceland",
          "Ireland",
          "Italy",
          "Montenegro",
          "Netherlands",
          "Norway",
          "Poland",
          "Portugal",
          "Romania",
          "Serbia",
          "Slovenia",
          "Spain",
          "Sweden",
          "Switzerland",
          "United Kingdom"
         ],
         "legendgroup": "Europe",
         "marker": {
          "color": "#EF553B",
          "symbol": "circle"
         },
         "mode": "markers",
         "name": "Europe",
         "orientation": "v",
         "showlegend": true,
         "type": "scatter",
         "x": [
          -2.424893741606678,
          3.932464579012525,
          4.343284342173853,
          -0.9933173921421068,
          0.5016120973197573,
          2.9530875257550555,
          5.432947909789987,
          3.118320131772693,
          3.7386050154582247,
          4.670190608583677,
          1.3990010818263152,
          1.6032689235361435,
          3.9671141712315743,
          1.205912275893459,
          2.2999511369994017,
          -0.5745764842117247,
          5.097616871880321,
          6.400151546807665,
          0.10654646297053402,
          0.4892807927875464,
          -0.019881436363919588,
          1.136727737381565,
          2.0955399104892445,
          1.112535357263641,
          4.4620153645797,
          9.09219556884936,
          4.865815276789583
         ],
         "xaxis": "x",
         "y": [
          -1.924002865027787,
          -6.5160999429578625,
          -6.255418132348962,
          -2.939486480698396,
          -3.3357588654382506,
          -4.338730145646584,
          -6.764507329992824,
          -5.687168932377306,
          -6.298653282857255,
          -6.427524471942756,
          -5.230787015053924,
          -3.352438556239266,
          -7.2971774269173775,
          -5.869483075532583,
          -5.740440375609593,
          -3.173695801306212,
          -7.181546294996278,
          -8.454991414587731,
          -3.253109171226261,
          -3.9319414736358658,
          -2.542291272223194,
          -2.875911075808271,
          -4.577341996655034,
          -5.434488590571007,
          -6.893302721497674,
          -7.908832365327688,
          -5.984502869705169
         ],
         "yaxis": "y"
        },
        {
         "hovertemplate": "<b>%{hovertext}</b><br><br>continent=Africa<br>MDS_x=%{x}<br>MDS_y=%{y}<extra></extra>",
         "hovertext": [
          "Algeria",
          "Angola",
          "Benin",
          "Botswana",
          "Burkina Faso",
          "Burundi",
          "Cameroon",
          "Central African Republic",
          "Chad",
          "Comoros",
          "Djibouti",
          "Egypt",
          "Equatorial Guinea",
          "Eritrea",
          "Ethiopia",
          "Gabon",
          "Ghana",
          "Guinea",
          "Kenya",
          "Lesotho",
          "Liberia",
          "Libya",
          "Madagascar",
          "Malawi",
          "Mali",
          "Mauritania",
          "Mauritius",
          "Morocco",
          "Mozambique",
          "Namibia",
          "Niger",
          "Nigeria",
          "Rwanda",
          "Sao Tome and Principe",
          "Senegal",
          "Sierra Leone",
          "Somalia",
          "South Africa",
          "Sudan",
          "Tanzania",
          "Togo",
          "Tunisia",
          "Uganda",
          "Zambia",
          "Zimbabwe"
         ],
         "legendgroup": "Africa",
         "marker": {
          "color": "#00cc96",
          "symbol": "circle"
         },
         "mode": "markers",
         "name": "Africa",
         "orientation": "v",
         "showlegend": true,
         "type": "scatter",
         "x": [
          -0.8301063645549545,
          1.3059057138944006,
          -1.4291143105566815,
          -3.139443635471665,
          -1.306498044547856,
          -1.5278499156716643,
          -0.7691052816955684,
          -0.8281791374629741,
          -1.1149262601065768,
          -1.6856107674523246,
          -0.2149637760830787,
          -1.4731918522647653,
          -0.27219663198228233,
          -1.7698563722399183,
          -1.400197869419155,
          3.5036095594346275,
          -1.5987326527568546,
          -1.1239894196743556,
          -1.9624927079793046,
          0.03782015382832477,
          -1.045311142576685,
          -3.6624659630299496,
          -1.3043930343358168,
          -1.326471437998829,
          -1.2655413499164678,
          -1.7493909120447686,
          -1.566002801872381,
          -1.717087013760561,
          -1.0159425358988126,
          -0.044983233870646205,
          -1.0198792951061555,
          -0.6341337695765962,
          0.7022251213195381,
          -2.0833328745707282,
          -1.6486424610551456,
          -0.36882506277519206,
          -0.5508323315666532,
          -2.719371940594707,
          -1.1482155898002293,
          -1.3798933795450787,
          -1.5439656292402806,
          -1.7588950346236472,
          -1.5558968356651257,
          -2.551802942448349,
          1.1561343595874967
         ],
         "xaxis": "x",
         "y": [
          0.5290197544507792,
          6.663820627051101,
          3.95654823668457,
          1.3688891208097935,
          5.1284296194379815,
          5.383127969945023,
          4.073493277217115,
          5.537458558064848,
          4.490345321575283,
          2.890863322808239,
          4.334147348527773,
          1.572097897018791,
          5.6483178936683505,
          4.950470059164756,
          5.317531136606095,
          1.5767798418771195,
          2.991784797175608,
          5.665622937669105,
          2.883562711312599,
          4.003954757814704,
          6.077318798656234,
          -3.930504779943426,
          4.18201390980513,
          5.7399047090451925,
          5.667883415519135,
          2.953518632033564,
          -1.1908276989560007,
          1.2271946111422993,
          6.568164182911524,
          2.276730442819414,
          5.387293439842913,
          5.461997224164473,
          6.772501997038049,
          1.4140753800996613,
          3.3013621687692036,
          7.478549182782142,
          6.245523918993605,
          0.5539048178393707,
          3.88100380491431,
          4.380849907215764,
          3.159063718357974,
          0.19769981891523908,
          4.503795087958968,
          4.956983895136841,
          3.775708858619051
         ],
         "yaxis": "y"
        },
        {
         "hovertemplate": "<b>%{hovertext}</b><br><br>continent=Americas<br>MDS_x=%{x}<br>MDS_y=%{y}<extra></extra>",
         "hovertext": [
          "Argentina",
          "Bolivia",
          "Brazil",
          "Canada",
          "Chile",
          "Colombia",
          "Costa Rica",
          "Cuba",
          "Dominican Republic",
          "Ecuador",
          "El Salvador",
          "Guatemala",
          "Haiti",
          "Honduras",
          "Jamaica",
          "Mexico",
          "Nicaragua",
          "Panama",
          "Paraguay",
          "Peru",
          "Trinidad and Tobago",
          "United States",
          "Uruguay",
          "Venezuela"
         ],
         "legendgroup": "Americas",
         "marker": {
          "color": "#ab63fa",
          "symbol": "circle"
         },
         "mode": "markers",
         "name": "Americas",
         "orientation": "v",
         "showlegend": true,
         "type": "scatter",
         "x": [
          1.2317458432874975,
          -0.9642115631778374,
          -0.5919476144509576,
          5.939003911448256,
          -0.6990674070611301,
          -1.4352255865582741,
          -1.5670332937909184,
          -1.004266368730838,
          -1.9580285463941116,
          -0.3472139470605805,
          -0.5685843656435909,
          -0.8034891731112807,
          -1.2542357997702533,
          -1.4093788408152659,
          -0.6295878036746814,
          0.08103246504102889,
          -0.6369191462987805,
          -1.0854645085207992,
          -2.3785635772433404,
          0.0842614792849198,
          0.08369125411683784,
          7.845986416229554,
          -0.44603071982322534,
          2.505019102783892
         ],
         "xaxis": "x",
         "y": [
          -2.8055754942140223,
          2.527519231164618,
          -0.5147020975735492,
          -6.9727713917135,
          -2.171572786026651,
          -0.7932400192421888,
          -2.745924465272086,
          -3.394413953668473,
          0.07698850088024826,
          -0.6760837450755042,
          0.3562059002117457,
          1.2335573480923938,
          3.4239764487853384,
          1.0636957819610946,
          -2.6181696413246063,
          -1.6400709506881213,
          0.8960367753648582,
          -2.1026212876514956,
          -1.5276402174779782,
          0.429960995543559,
          -2.182048215321596,
          -7.3074417378188175,
          -3.3943267034478546,
          -2.3240385069089267
         ],
         "yaxis": "y"
        },
        {
         "hovertemplate": "<b>%{hovertext}</b><br><br>continent=Oceania<br>MDS_x=%{x}<br>MDS_y=%{y}<extra></extra>",
         "hovertext": [
          "Australia",
          "New Zealand"
         ],
         "legendgroup": "Oceania",
         "marker": {
          "color": "#FFA15A",
          "symbol": "circle"
         },
         "mode": "markers",
         "name": "Oceania",
         "orientation": "v",
         "showlegend": true,
         "type": "scatter",
         "x": [
          4.915885245094587,
          5.020681540211962
         ],
         "xaxis": "x",
         "y": [
          -6.331910751497644,
          -5.33405210339409
         ],
         "yaxis": "y"
        }
       ],
       "layout": {
        "height": 700,
        "images": [
         {
          "layer": "below",
          "opacity": 1,
          "sizex": 0.5,
          "sizey": 1,
          "source": "https://upload.wikimedia.org/wikipedia/commons/9/9a/Flag_of_Afghanistan.svg",
          "x": -0.7009867866148075,
          "xref": "x",
          "y": 7.262491236180707,
          "yref": "y"
         },
         {
          "layer": "below",
          "opacity": 1,
          "sizex": 0.5,
          "sizey": 1,
          "source": "https://upload.wikimedia.org/wikipedia/commons/3/36/Flag_of_Albania.svg",
          "x": -2.424893741606678,
          "xref": "x",
          "y": -1.924002865027787,
          "yref": "y"
         },
         {
          "layer": "below",
          "opacity": 1,
          "sizex": 0.5,
          "sizey": 1,
          "source": "https://upload.wikimedia.org/wikipedia/commons/7/77/Flag_of_Algeria.svg",
          "x": -0.8301063645549545,
          "xref": "x",
          "y": 0.5290197544507792,
          "yref": "y"
         },
         {
          "layer": "below",
          "opacity": 1,
          "sizex": 0.5,
          "sizey": 1,
          "source": "https://upload.wikimedia.org/wikipedia/commons/9/9d/Flag_of_Angola.svg",
          "x": 1.3059057138944006,
          "xref": "x",
          "y": 6.663820627051101,
          "yref": "y"
         },
         {
          "layer": "below",
          "opacity": 1,
          "sizex": 0.5,
          "sizey": 1,
          "source": "https://upload.wikimedia.org/wikipedia/commons/1/1a/Flag_of_Argentina.svg",
          "x": 1.2317458432874975,
          "xref": "x",
          "y": -2.8055754942140223,
          "yref": "y"
         },
         {
          "layer": "below",
          "opacity": 1,
          "sizex": 0.5,
          "sizey": 1,
          "source": "https://upload.wikimedia.org/wikipedia/commons/8/88/Flag_of_Australia_%28converted%29.svg",
          "x": 4.915885245094587,
          "xref": "x",
          "y": -6.331910751497644,
          "yref": "y"
         },
         {
          "layer": "below",
          "opacity": 1,
          "sizex": 0.5,
          "sizey": 1,
          "source": "https://upload.wikimedia.org/wikipedia/commons/4/41/Flag_of_Austria.svg",
          "x": 3.932464579012525,
          "xref": "x",
          "y": -6.5160999429578625,
          "yref": "y"
         },
         {
          "layer": "below",
          "opacity": 1,
          "sizex": 0.5,
          "sizey": 1,
          "source": "https://upload.wikimedia.org/wikipedia/commons/2/2c/Flag_of_Bahrain.svg",
          "x": 5.381412616625918,
          "xref": "x",
          "y": -3.54895434394683,
          "yref": "y"
         },
         {
          "layer": "below",
          "opacity": 1,
          "sizex": 0.5,
          "sizey": 1,
          "source": "https://upload.wikimedia.org/wikipedia/commons/f/f9/Flag_of_Bangladesh.svg",
          "x": -2.1757814424634665,
          "xref": "x",
          "y": 3.7044691006518953,
          "yref": "y"
         },
         {
          "layer": "below",
          "opacity": 1,
          "sizex": 0.5,
          "sizey": 1,
          "source": "https://upload.wikimedia.org/wikipedia/commons/9/92/Flag_of_Belgium_%28civil%29.svg",
          "x": 4.343284342173853,
          "xref": "x",
          "y": -6.255418132348962,
          "yref": "y"
         },
         {
          "layer": "below",
          "opacity": 1,
          "sizex": 0.5,
          "sizey": 1,
          "source": "https://upload.wikimedia.org/wikipedia/commons/0/0a/Flag_of_Benin.svg",
          "x": -1.4291143105566815,
          "xref": "x",
          "y": 3.95654823668457,
          "yref": "y"
         },
         {
          "layer": "below",
          "opacity": 1,
          "sizex": 0.5,
          "sizey": 1,
          "source": "https://upload.wikimedia.org/wikipedia/commons/4/48/Flag_of_Bolivia.svg",
          "x": -0.9642115631778374,
          "xref": "x",
          "y": 2.527519231164618,
          "yref": "y"
         },
         {
          "layer": "below",
          "opacity": 1,
          "sizex": 0.5,
          "sizey": 1,
          "source": "https://upload.wikimedia.org/wikipedia/commons/f/fa/Flag_of_Botswana.svg",
          "x": -3.139443635471665,
          "xref": "x",
          "y": 1.3688891208097935,
          "yref": "y"
         },
         {
          "layer": "below",
          "opacity": 1,
          "sizex": 0.5,
          "sizey": 1,
          "source": "https://upload.wikimedia.org/wikipedia/en/0/05/Flag_of_Brazil.svg",
          "x": -0.5919476144509576,
          "xref": "x",
          "y": -0.5147020975735492,
          "yref": "y"
         },
         {
          "layer": "below",
          "opacity": 1,
          "sizex": 0.5,
          "sizey": 1,
          "source": "https://upload.wikimedia.org/wikipedia/commons/9/9a/Flag_of_Bulgaria.svg",
          "x": -0.9933173921421068,
          "xref": "x",
          "y": -2.939486480698396,
          "yref": "y"
         },
         {
          "layer": "below",
          "opacity": 1,
          "sizex": 0.5,
          "sizey": 1,
          "source": "https://upload.wikimedia.org/wikipedia/commons/3/31/Flag_of_Burkina_Faso.svg",
          "x": -1.306498044547856,
          "xref": "x",
          "y": 5.1284296194379815,
          "yref": "y"
         },
         {
          "layer": "below",
          "opacity": 1,
          "sizex": 0.5,
          "sizey": 1,
          "source": "https://upload.wikimedia.org/wikipedia/commons/5/50/Flag_of_Burundi.svg",
          "x": -1.5278499156716643,
          "xref": "x",
          "y": 5.383127969945023,
          "yref": "y"
         },
         {
          "layer": "below",
          "opacity": 1,
          "sizex": 0.5,
          "sizey": 1,
          "source": "https://upload.wikimedia.org/wikipedia/commons/8/83/Flag_of_Cambodia.svg",
          "x": -2.8888529383008987,
          "xref": "x",
          "y": 4.259307094052987,
          "yref": "y"
         },
         {
          "layer": "below",
          "opacity": 1,
          "sizex": 0.5,
          "sizey": 1,
          "source": "https://upload.wikimedia.org/wikipedia/commons/4/4f/Flag_of_Cameroon.svg",
          "x": -0.7691052816955684,
          "xref": "x",
          "y": 4.073493277217115,
          "yref": "y"
         },
         {
          "layer": "below",
          "opacity": 1,
          "sizex": 0.5,
          "sizey": 1,
          "source": "https://upload.wikimedia.org/wikipedia/en/c/cf/Flag_of_Canada.svg",
          "x": 5.939003911448256,
          "xref": "x",
          "y": -6.9727713917135,
          "yref": "y"
         },
         {
          "layer": "below",
          "opacity": 1,
          "sizex": 0.5,
          "sizey": 1,
          "source": "https://upload.wikimedia.org/wikipedia/commons/6/6f/Flag_of_the_Central_African_Republic.svg",
          "x": -0.8281791374629741,
          "xref": "x",
          "y": 5.537458558064848,
          "yref": "y"
         },
         {
          "layer": "below",
          "opacity": 1,
          "sizex": 0.5,
          "sizey": 1,
          "source": "https://upload.wikimedia.org/wikipedia/commons/4/4b/Flag_of_Chad.svg",
          "x": -1.1149262601065768,
          "xref": "x",
          "y": 4.490345321575283,
          "yref": "y"
         },
         {
          "layer": "below",
          "opacity": 1,
          "sizex": 0.5,
          "sizey": 1,
          "source": "https://upload.wikimedia.org/wikipedia/commons/7/78/Flag_of_Chile.svg",
          "x": -0.6990674070611301,
          "xref": "x",
          "y": -2.171572786026651,
          "yref": "y"
         },
         {
          "layer": "below",
          "opacity": 1,
          "sizex": 0.5,
          "sizey": 1,
          "source": "https://upload.wikimedia.org/wikipedia/commons/f/fa/Flag_of_the_People%27s_Republic_of_China.svg",
          "x": -3.114618882526172,
          "xref": "x",
          "y": 0.14006530238434214,
          "yref": "y"
         },
         {
          "layer": "below",
          "opacity": 1,
          "sizex": 0.5,
          "sizey": 1,
          "source": "https://upload.wikimedia.org/wikipedia/commons/2/21/Flag_of_Colombia.svg",
          "x": -1.4352255865582741,
          "xref": "x",
          "y": -0.7932400192421888,
          "yref": "y"
         },
         {
          "layer": "below",
          "opacity": 1,
          "sizex": 0.5,
          "sizey": 1,
          "source": "https://upload.wikimedia.org/wikipedia/commons/9/94/Flag_of_the_Comoros.svg",
          "x": -1.6856107674523246,
          "xref": "x",
          "y": 2.890863322808239,
          "yref": "y"
         },
         {
          "layer": "below",
          "opacity": 1,
          "sizex": 0.5,
          "sizey": 1,
          "source": "https://upload.wikimedia.org/wikipedia/commons/f/f2/Flag_of_Costa_Rica.svg",
          "x": -1.5670332937909184,
          "xref": "x",
          "y": -2.745924465272086,
          "yref": "y"
         },
         {
          "layer": "below",
          "opacity": 1,
          "sizex": 0.5,
          "sizey": 1,
          "source": "https://upload.wikimedia.org/wikipedia/commons/1/1b/Flag_of_Croatia.svg",
          "x": 0.5016120973197573,
          "xref": "x",
          "y": -3.3357588654382506,
          "yref": "y"
         },
         {
          "layer": "below",
          "opacity": 1,
          "sizex": 0.5,
          "sizey": 1,
          "source": "https://upload.wikimedia.org/wikipedia/commons/b/bd/Flag_of_Cuba.svg",
          "x": -1.004266368730838,
          "xref": "x",
          "y": -3.394413953668473,
          "yref": "y"
         },
         {
          "layer": "below",
          "opacity": 1,
          "sizex": 0.5,
          "sizey": 1,
          "source": "https://upload.wikimedia.org/wikipedia/commons/c/cb/Flag_of_the_Czech_Republic.svg",
          "x": 2.9530875257550555,
          "xref": "x",
          "y": -4.338730145646584,
          "yref": "y"
         },
         {
          "layer": "below",
          "opacity": 1,
          "sizex": 0.5,
          "sizey": 1,
          "source": "https://upload.wikimedia.org/wikipedia/commons/9/9c/Flag_of_Denmark.svg",
          "x": 5.432947909789987,
          "xref": "x",
          "y": -6.764507329992824,
          "yref": "y"
         },
         {
          "layer": "below",
          "opacity": 1,
          "sizex": 0.5,
          "sizey": 1,
          "source": "https://upload.wikimedia.org/wikipedia/commons/3/34/Flag_of_Djibouti.svg",
          "x": -0.2149637760830787,
          "xref": "x",
          "y": 4.334147348527773,
          "yref": "y"
         },
         {
          "layer": "below",
          "opacity": 1,
          "sizex": 0.5,
          "sizey": 1,
          "source": "https://upload.wikimedia.org/wikipedia/commons/9/9f/Flag_of_the_Dominican_Republic.svg",
          "x": -1.9580285463941116,
          "xref": "x",
          "y": 0.07698850088024826,
          "yref": "y"
         },
         {
          "layer": "below",
          "opacity": 1,
          "sizex": 0.5,
          "sizey": 1,
          "source": "https://upload.wikimedia.org/wikipedia/commons/e/e8/Flag_of_Ecuador.svg",
          "x": -0.3472139470605805,
          "xref": "x",
          "y": -0.6760837450755042,
          "yref": "y"
         },
         {
          "layer": "below",
          "opacity": 1,
          "sizex": 0.5,
          "sizey": 1,
          "source": "https://upload.wikimedia.org/wikipedia/commons/f/fe/Flag_of_Egypt.svg",
          "x": -1.4731918522647653,
          "xref": "x",
          "y": 1.572097897018791,
          "yref": "y"
         },
         {
          "layer": "below",
          "opacity": 1,
          "sizex": 0.5,
          "sizey": 1,
          "source": "https://upload.wikimedia.org/wikipedia/commons/3/34/Flag_of_El_Salvador.svg",
          "x": -0.5685843656435909,
          "xref": "x",
          "y": 0.3562059002117457,
          "yref": "y"
         },
         {
          "layer": "below",
          "opacity": 1,
          "sizex": 0.5,
          "sizey": 1,
          "source": "https://upload.wikimedia.org/wikipedia/commons/3/31/Flag_of_Equatorial_Guinea.svg",
          "x": -0.27219663198228233,
          "xref": "x",
          "y": 5.6483178936683505,
          "yref": "y"
         },
         {
          "layer": "below",
          "opacity": 1,
          "sizex": 0.5,
          "sizey": 1,
          "source": "https://upload.wikimedia.org/wikipedia/commons/2/29/Flag_of_Eritrea.svg",
          "x": -1.7698563722399183,
          "xref": "x",
          "y": 4.950470059164756,
          "yref": "y"
         },
         {
          "layer": "below",
          "opacity": 1,
          "sizex": 0.5,
          "sizey": 1,
          "source": "https://upload.wikimedia.org/wikipedia/commons/7/71/Flag_of_Ethiopia.svg",
          "x": -1.400197869419155,
          "xref": "x",
          "y": 5.317531136606095,
          "yref": "y"
         },
         {
          "layer": "below",
          "opacity": 1,
          "sizex": 0.5,
          "sizey": 1,
          "source": "https://upload.wikimedia.org/wikipedia/commons/b/bc/Flag_of_Finland.svg",
          "x": 3.118320131772693,
          "xref": "x",
          "y": -5.687168932377306,
          "yref": "y"
         },
         {
          "layer": "below",
          "opacity": 1,
          "sizex": 0.5,
          "sizey": 1,
          "source": "https://upload.wikimedia.org/wikipedia/en/c/c3/Flag_of_France.svg",
          "x": 3.7386050154582247,
          "xref": "x",
          "y": -6.298653282857255,
          "yref": "y"
         },
         {
          "layer": "below",
          "opacity": 1,
          "sizex": 0.5,
          "sizey": 1,
          "source": "https://upload.wikimedia.org/wikipedia/commons/0/04/Flag_of_Gabon.svg",
          "x": 3.5036095594346275,
          "xref": "x",
          "y": 1.5767798418771195,
          "yref": "y"
         },
         {
          "layer": "below",
          "opacity": 1,
          "sizex": 0.5,
          "sizey": 1,
          "source": "https://upload.wikimedia.org/wikipedia/en/b/ba/Flag_of_Germany.svg",
          "x": 4.670190608583677,
          "xref": "x",
          "y": -6.427524471942756,
          "yref": "y"
         },
         {
          "layer": "below",
          "opacity": 1,
          "sizex": 0.5,
          "sizey": 1,
          "source": "https://upload.wikimedia.org/wikipedia/commons/1/19/Flag_of_Ghana.svg",
          "x": -1.5987326527568546,
          "xref": "x",
          "y": 2.991784797175608,
          "yref": "y"
         },
         {
          "layer": "below",
          "opacity": 1,
          "sizex": 0.5,
          "sizey": 1,
          "source": "https://upload.wikimedia.org/wikipedia/commons/5/5c/Flag_of_Greece.svg",
          "x": 1.3990010818263152,
          "xref": "x",
          "y": -5.230787015053924,
          "yref": "y"
         },
         {
          "layer": "below",
          "opacity": 1,
          "sizex": 0.5,
          "sizey": 1,
          "source": "https://upload.wikimedia.org/wikipedia/commons/e/ec/Flag_of_Guatemala.svg",
          "x": -0.8034891731112807,
          "xref": "x",
          "y": 1.2335573480923938,
          "yref": "y"
         },
         {
          "layer": "below",
          "opacity": 1,
          "sizex": 0.5,
          "sizey": 1,
          "source": "https://upload.wikimedia.org/wikipedia/commons/e/ed/Flag_of_Guinea.svg",
          "x": -1.1239894196743556,
          "xref": "x",
          "y": 5.665622937669105,
          "yref": "y"
         },
         {
          "layer": "below",
          "opacity": 1,
          "sizex": 0.5,
          "sizey": 1,
          "source": "https://upload.wikimedia.org/wikipedia/commons/5/56/Flag_of_Haiti.svg",
          "x": -1.2542357997702533,
          "xref": "x",
          "y": 3.4239764487853384,
          "yref": "y"
         },
         {
          "layer": "below",
          "opacity": 1,
          "sizex": 0.5,
          "sizey": 1,
          "source": "https://upload.wikimedia.org/wikipedia/commons/8/82/Flag_of_Honduras.svg",
          "x": -1.4093788408152659,
          "xref": "x",
          "y": 1.0636957819610946,
          "yref": "y"
         },
         {
          "layer": "below",
          "opacity": 1,
          "sizex": 0.5,
          "sizey": 1,
          "source": "https://upload.wikimedia.org/wikipedia/commons/c/c1/Flag_of_Hungary.svg",
          "x": 1.6032689235361435,
          "xref": "x",
          "y": -3.352438556239266,
          "yref": "y"
         },
         {
          "layer": "below",
          "opacity": 1,
          "sizex": 0.5,
          "sizey": 1,
          "source": "https://upload.wikimedia.org/wikipedia/commons/c/ce/Flag_of_Iceland.svg",
          "x": 3.9671141712315743,
          "xref": "x",
          "y": -7.2971774269173775,
          "yref": "y"
         },
         {
          "layer": "below",
          "opacity": 1,
          "sizex": 0.5,
          "sizey": 1,
          "source": "https://upload.wikimedia.org/wikipedia/en/4/41/Flag_of_India.svg",
          "x": -2.24482270225752,
          "xref": "x",
          "y": 2.6315491425036193,
          "yref": "y"
         },
         {
          "layer": "below",
          "opacity": 1,
          "sizex": 0.5,
          "sizey": 1,
          "source": "https://upload.wikimedia.org/wikipedia/commons/9/9f/Flag_of_Indonesia.svg",
          "x": -2.503927026270464,
          "xref": "x",
          "y": 2.1635079047994945,
          "yref": "y"
         },
         {
          "layer": "below",
          "opacity": 1,
          "sizex": 0.5,
          "sizey": 1,
          "source": "https://upload.wikimedia.org/wikipedia/commons/c/ca/Flag_of_Iran.svg",
          "x": 0.6580211753128854,
          "xref": "x",
          "y": 0.21682605103064412,
          "yref": "y"
         },
         {
          "layer": "below",
          "opacity": 1,
          "sizex": 0.5,
          "sizey": 1,
          "source": "https://upload.wikimedia.org/wikipedia/commons/f/f6/Flag_of_Iraq.svg",
          "x": 2.3240634427143814,
          "xref": "x",
          "y": 0.7370601874310002,
          "yref": "y"
         },
         {
          "layer": "below",
          "opacity": 1,
          "sizex": 0.5,
          "sizey": 1,
          "source": "https://upload.wikimedia.org/wikipedia/commons/4/45/Flag_of_Ireland.svg",
          "x": 1.205912275893459,
          "xref": "x",
          "y": -5.869483075532583,
          "yref": "y"
         },
         {
          "layer": "below",
          "opacity": 1,
          "sizex": 0.5,
          "sizey": 1,
          "source": "https://upload.wikimedia.org/wikipedia/commons/d/d4/Flag_of_Israel.svg",
          "x": 1.6614347122549926,
          "xref": "x",
          "y": -5.185695599621535,
          "yref": "y"
         },
         {
          "layer": "below",
          "opacity": 1,
          "sizex": 0.5,
          "sizey": 1,
          "source": "https://upload.wikimedia.org/wikipedia/en/0/03/Flag_of_Italy.svg",
          "x": 2.2999511369994017,
          "xref": "x",
          "y": -5.740440375609593,
          "yref": "y"
         },
         {
          "layer": "below",
          "opacity": 1,
          "sizex": 0.5,
          "sizey": 1,
          "source": "https://upload.wikimedia.org/wikipedia/commons/0/0a/Flag_of_Jamaica.svg",
          "x": -0.6295878036746814,
          "xref": "x",
          "y": -2.6181696413246063,
          "yref": "y"
         },
         {
          "layer": "below",
          "opacity": 1,
          "sizex": 0.5,
          "sizey": 1,
          "source": "https://upload.wikimedia.org/wikipedia/en/9/9e/Flag_of_Japan.svg",
          "x": 1.7944375712622629,
          "xref": "x",
          "y": -6.76471284248533,
          "yref": "y"
         },
         {
          "layer": "below",
          "opacity": 1,
          "sizex": 0.5,
          "sizey": 1,
          "source": "https://upload.wikimedia.org/wikipedia/commons/c/c0/Flag_of_Jordan.svg",
          "x": -1.618354567887926,
          "xref": "x",
          "y": 0.473520611147543,
          "yref": "y"
         },
         {
          "layer": "below",
          "opacity": 1,
          "sizex": 0.5,
          "sizey": 1,
          "source": "https://upload.wikimedia.org/wikipedia/commons/4/49/Flag_of_Kenya.svg",
          "x": -1.9624927079793046,
          "xref": "x",
          "y": 2.883562711312599,
          "yref": "y"
         },
         {
          "layer": "below",
          "opacity": 1,
          "sizex": 0.5,
          "sizey": 1,
          "source": "https://upload.wikimedia.org/wikipedia/commons/5/59/Flag_of_Lebanon.svg",
          "x": 0.4783967030289275,
          "xref": "x",
          "y": -1.7597596608510808,
          "yref": "y"
         },
         {
          "layer": "below",
          "opacity": 1,
          "sizex": 0.5,
          "sizey": 1,
          "source": "https://upload.wikimedia.org/wikipedia/commons/4/4a/Flag_of_Lesotho.svg",
          "x": 0.03782015382832477,
          "xref": "x",
          "y": 4.003954757814704,
          "yref": "y"
         },
         {
          "layer": "below",
          "opacity": 1,
          "sizex": 0.5,
          "sizey": 1,
          "source": "https://upload.wikimedia.org/wikipedia/commons/b/b8/Flag_of_Liberia.svg",
          "x": -1.045311142576685,
          "xref": "x",
          "y": 6.077318798656234,
          "yref": "y"
         },
         {
          "layer": "below",
          "opacity": 1,
          "sizex": 0.5,
          "sizey": 1,
          "source": "https://upload.wikimedia.org/wikipedia/commons/0/05/Flag_of_Libya.svg",
          "x": -3.6624659630299496,
          "xref": "x",
          "y": -3.930504779943426,
          "yref": "y"
         },
         {
          "layer": "below",
          "opacity": 1,
          "sizex": 0.5,
          "sizey": 1,
          "source": "https://upload.wikimedia.org/wikipedia/commons/b/bc/Flag_of_Madagascar.svg",
          "x": -1.3043930343358168,
          "xref": "x",
          "y": 4.18201390980513,
          "yref": "y"
         },
         {
          "layer": "below",
          "opacity": 1,
          "sizex": 0.5,
          "sizey": 1,
          "source": "https://upload.wikimedia.org/wikipedia/commons/d/d1/Flag_of_Malawi.svg",
          "x": -1.326471437998829,
          "xref": "x",
          "y": 5.7399047090451925,
          "yref": "y"
         },
         {
          "layer": "below",
          "opacity": 1,
          "sizex": 0.5,
          "sizey": 1,
          "source": "https://upload.wikimedia.org/wikipedia/commons/6/66/Flag_of_Malaysia.svg",
          "x": -1.4457114246821812,
          "xref": "x",
          "y": -1.0650179982640366,
          "yref": "y"
         },
         {
          "layer": "below",
          "opacity": 1,
          "sizex": 0.5,
          "sizey": 1,
          "source": "https://upload.wikimedia.org/wikipedia/commons/9/92/Flag_of_Mali.svg",
          "x": -1.2655413499164678,
          "xref": "x",
          "y": 5.667883415519135,
          "yref": "y"
         },
         {
          "layer": "below",
          "opacity": 1,
          "sizex": 0.5,
          "sizey": 1,
          "source": "https://upload.wikimedia.org/wikipedia/commons/4/43/Flag_of_Mauritania.svg",
          "x": -1.7493909120447686,
          "xref": "x",
          "y": 2.953518632033564,
          "yref": "y"
         },
         {
          "layer": "below",
          "opacity": 1,
          "sizex": 0.5,
          "sizey": 1,
          "source": "https://upload.wikimedia.org/wikipedia/commons/7/77/Flag_of_Mauritius.svg",
          "x": -1.566002801872381,
          "xref": "x",
          "y": -1.1908276989560007,
          "yref": "y"
         },
         {
          "layer": "below",
          "opacity": 1,
          "sizex": 0.5,
          "sizey": 1,
          "source": "https://upload.wikimedia.org/wikipedia/commons/f/fc/Flag_of_Mexico.svg",
          "x": 0.08103246504102889,
          "xref": "x",
          "y": -1.6400709506881213,
          "yref": "y"
         },
         {
          "layer": "below",
          "opacity": 1,
          "sizex": 0.5,
          "sizey": 1,
          "source": "https://upload.wikimedia.org/wikipedia/commons/4/4c/Flag_of_Mongolia.svg",
          "x": -1.8617703778273564,
          "xref": "x",
          "y": 1.9274174438321112,
          "yref": "y"
         },
         {
          "layer": "below",
          "opacity": 1,
          "sizex": 0.5,
          "sizey": 1,
          "source": "https://upload.wikimedia.org/wikipedia/commons/6/64/Flag_of_Montenegro.svg",
          "x": -0.5745764842117247,
          "xref": "x",
          "y": -3.173695801306212,
          "yref": "y"
         },
         {
          "layer": "below",
          "opacity": 1,
          "sizex": 0.5,
          "sizey": 1,
          "source": "https://upload.wikimedia.org/wikipedia/commons/2/2c/Flag_of_Morocco.svg",
          "x": -1.717087013760561,
          "xref": "x",
          "y": 1.2271946111422993,
          "yref": "y"
         },
         {
          "layer": "below",
          "opacity": 1,
          "sizex": 0.5,
          "sizey": 1,
          "source": "https://upload.wikimedia.org/wikipedia/commons/d/d0/Flag_of_Mozambique.svg",
          "x": -1.0159425358988126,
          "xref": "x",
          "y": 6.568164182911524,
          "yref": "y"
         },
         {
          "layer": "below",
          "opacity": 1,
          "sizex": 0.5,
          "sizey": 1,
          "source": "https://upload.wikimedia.org/wikipedia/commons/8/8c/Flag_of_Myanmar.svg",
          "x": -2.415032705279322,
          "xref": "x",
          "y": 2.784786362028151,
          "yref": "y"
         },
         {
          "layer": "below",
          "opacity": 1,
          "sizex": 0.5,
          "sizey": 1,
          "source": "https://upload.wikimedia.org/wikipedia/commons/0/00/Flag_of_Namibia.svg",
          "x": -0.044983233870646205,
          "xref": "x",
          "y": 2.276730442819414,
          "yref": "y"
         },
         {
          "layer": "below",
          "opacity": 1,
          "sizex": 0.5,
          "sizey": 1,
          "source": "https://upload.wikimedia.org/wikipedia/commons/9/9b/Flag_of_Nepal.svg",
          "x": -2.2594945380272238,
          "xref": "x",
          "y": 3.8638732383787944,
          "yref": "y"
         },
         {
          "layer": "below",
          "opacity": 1,
          "sizex": 0.5,
          "sizey": 1,
          "source": "https://upload.wikimedia.org/wikipedia/commons/2/20/Flag_of_the_Netherlands.svg",
          "x": 5.097616871880321,
          "xref": "x",
          "y": -7.181546294996278,
          "yref": "y"
         },
         {
          "layer": "below",
          "opacity": 1,
          "sizex": 0.5,
          "sizey": 1,
          "source": "https://upload.wikimedia.org/wikipedia/commons/3/3e/Flag_of_New_Zealand.svg",
          "x": 5.020681540211962,
          "xref": "x",
          "y": -5.33405210339409,
          "yref": "y"
         },
         {
          "layer": "below",
          "opacity": 1,
          "sizex": 0.5,
          "sizey": 1,
          "source": "https://upload.wikimedia.org/wikipedia/commons/1/19/Flag_of_Nicaragua.svg",
          "x": -0.6369191462987805,
          "xref": "x",
          "y": 0.8960367753648582,
          "yref": "y"
         },
         {
          "layer": "below",
          "opacity": 1,
          "sizex": 0.5,
          "sizey": 1,
          "source": "https://upload.wikimedia.org/wikipedia/commons/f/f4/Flag_of_Niger.svg",
          "x": -1.0198792951061555,
          "xref": "x",
          "y": 5.387293439842913,
          "yref": "y"
         },
         {
          "layer": "below",
          "opacity": 1,
          "sizex": 0.5,
          "sizey": 1,
          "source": "https://upload.wikimedia.org/wikipedia/commons/7/79/Flag_of_Nigeria.svg",
          "x": -0.6341337695765962,
          "xref": "x",
          "y": 5.461997224164473,
          "yref": "y"
         },
         {
          "layer": "below",
          "opacity": 1,
          "sizex": 0.5,
          "sizey": 1,
          "source": "https://upload.wikimedia.org/wikipedia/commons/d/d9/Flag_of_Norway.svg",
          "x": 6.400151546807665,
          "xref": "x",
          "y": -8.454991414587731,
          "yref": "y"
         },
         {
          "layer": "below",
          "opacity": 1,
          "sizex": 0.5,
          "sizey": 1,
          "source": "https://upload.wikimedia.org/wikipedia/commons/d/dd/Flag_of_Oman.svg",
          "x": 3.1295635510665067,
          "xref": "x",
          "y": 0.013999913349274869,
          "yref": "y"
         },
         {
          "layer": "below",
          "opacity": 1,
          "sizex": 0.5,
          "sizey": 1,
          "source": "https://upload.wikimedia.org/wikipedia/commons/3/32/Flag_of_Pakistan.svg",
          "x": -1.893441512784861,
          "xref": "x",
          "y": 2.2267369388143745,
          "yref": "y"
         },
         {
          "layer": "below",
          "opacity": 1,
          "sizex": 0.5,
          "sizey": 1,
          "source": "https://upload.wikimedia.org/wikipedia/commons/a/ab/Flag_of_Panama.svg",
          "x": -1.0854645085207992,
          "xref": "x",
          "y": -2.1026212876514956,
          "yref": "y"
         },
         {
          "layer": "below",
          "opacity": 1,
          "sizex": 0.5,
          "sizey": 1,
          "source": "https://upload.wikimedia.org/wikipedia/commons/2/27/Flag_of_Paraguay.svg",
          "x": -2.3785635772433404,
          "xref": "x",
          "y": -1.5276402174779782,
          "yref": "y"
         },
         {
          "layer": "below",
          "opacity": 1,
          "sizex": 0.5,
          "sizey": 1,
          "source": "https://upload.wikimedia.org/wikipedia/commons/c/cf/Flag_of_Peru.svg",
          "x": 0.0842614792849198,
          "xref": "x",
          "y": 0.429960995543559,
          "yref": "y"
         },
         {
          "layer": "below",
          "opacity": 1,
          "sizex": 0.5,
          "sizey": 1,
          "source": "https://upload.wikimedia.org/wikipedia/commons/9/99/Flag_of_the_Philippines.svg",
          "x": -2.0376039179202334,
          "xref": "x",
          "y": 0.40313885009484085,
          "yref": "y"
         },
         {
          "layer": "below",
          "opacity": 1,
          "sizex": 0.5,
          "sizey": 1,
          "source": "https://upload.wikimedia.org/wikipedia/en/1/12/Flag_of_Poland.svg",
          "x": 0.10654646297053402,
          "xref": "x",
          "y": -3.253109171226261,
          "yref": "y"
         },
         {
          "layer": "below",
          "opacity": 1,
          "sizex": 0.5,
          "sizey": 1,
          "source": "https://upload.wikimedia.org/wikipedia/commons/5/5c/Flag_of_Portugal.svg",
          "x": 0.4892807927875464,
          "xref": "x",
          "y": -3.9319414736358658,
          "yref": "y"
         },
         {
          "layer": "below",
          "opacity": 1,
          "sizex": 0.5,
          "sizey": 1,
          "source": "https://upload.wikimedia.org/wikipedia/commons/7/73/Flag_of_Romania.svg",
          "x": -0.019881436363919588,
          "xref": "x",
          "y": -2.542291272223194,
          "yref": "y"
         },
         {
          "layer": "below",
          "opacity": 1,
          "sizex": 0.5,
          "sizey": 1,
          "source": "https://upload.wikimedia.org/wikipedia/commons/1/17/Flag_of_Rwanda.svg",
          "x": 0.7022251213195381,
          "xref": "x",
          "y": 6.772501997038049,
          "yref": "y"
         },
         {
          "layer": "below",
          "opacity": 1,
          "sizex": 0.5,
          "sizey": 1,
          "source": "https://upload.wikimedia.org/wikipedia/commons/4/4f/Flag_of_Sao_Tome_and_Principe.svg",
          "x": -2.0833328745707282,
          "xref": "x",
          "y": 1.4140753800996613,
          "yref": "y"
         },
         {
          "layer": "below",
          "opacity": 1,
          "sizex": 0.5,
          "sizey": 1,
          "source": "https://upload.wikimedia.org/wikipedia/commons/0/0d/Flag_of_Saudi_Arabia.svg",
          "x": 7.617563767185526,
          "xref": "x",
          "y": -1.5584467005638145,
          "yref": "y"
         },
         {
          "layer": "below",
          "opacity": 1,
          "sizex": 0.5,
          "sizey": 1,
          "source": "https://upload.wikimedia.org/wikipedia/commons/f/fd/Flag_of_Senegal.svg",
          "x": -1.6486424610551456,
          "xref": "x",
          "y": 3.3013621687692036,
          "yref": "y"
         },
         {
          "layer": "below",
          "opacity": 1,
          "sizex": 0.5,
          "sizey": 1,
          "source": "https://upload.wikimedia.org/wikipedia/commons/f/ff/Flag_of_Serbia.svg",
          "x": 1.136727737381565,
          "xref": "x",
          "y": -2.875911075808271,
          "yref": "y"
         },
         {
          "layer": "below",
          "opacity": 1,
          "sizex": 0.5,
          "sizey": 1,
          "source": "https://upload.wikimedia.org/wikipedia/commons/1/17/Flag_of_Sierra_Leone.svg",
          "x": -0.36882506277519206,
          "xref": "x",
          "y": 7.478549182782142,
          "yref": "y"
         },
         {
          "layer": "below",
          "opacity": 1,
          "sizex": 0.5,
          "sizey": 1,
          "source": "https://upload.wikimedia.org/wikipedia/commons/4/48/Flag_of_Singapore.svg",
          "x": -0.2609170059661906,
          "xref": "x",
          "y": -6.634475091316804,
          "yref": "y"
         },
         {
          "layer": "below",
          "opacity": 1,
          "sizex": 0.5,
          "sizey": 1,
          "source": "https://upload.wikimedia.org/wikipedia/commons/f/f0/Flag_of_Slovenia.svg",
          "x": 2.0955399104892445,
          "xref": "x",
          "y": -4.577341996655034,
          "yref": "y"
         },
         {
          "layer": "below",
          "opacity": 1,
          "sizex": 0.5,
          "sizey": 1,
          "source": "https://upload.wikimedia.org/wikipedia/commons/a/a0/Flag_of_Somalia.svg",
          "x": -0.5508323315666532,
          "xref": "x",
          "y": 6.245523918993605,
          "yref": "y"
         },
         {
          "layer": "below",
          "opacity": 1,
          "sizex": 0.5,
          "sizey": 1,
          "source": "https://upload.wikimedia.org/wikipedia/commons/a/af/Flag_of_South_Africa.svg",
          "x": -2.719371940594707,
          "xref": "x",
          "y": 0.5539048178393707,
          "yref": "y"
         },
         {
          "layer": "below",
          "opacity": 1,
          "sizex": 0.5,
          "sizey": 1,
          "source": "https://upload.wikimedia.org/wikipedia/en/9/9a/Flag_of_Spain.svg",
          "x": 1.112535357263641,
          "xref": "x",
          "y": -5.434488590571007,
          "yref": "y"
         },
         {
          "layer": "below",
          "opacity": 1,
          "sizex": 0.5,
          "sizey": 1,
          "source": "https://upload.wikimedia.org/wikipedia/commons/1/11/Flag_of_Sri_Lanka.svg",
          "x": -3.0160768293182043,
          "xref": "x",
          "y": -1.1492859647850242,
          "yref": "y"
         },
         {
          "layer": "below",
          "opacity": 1,
          "sizex": 0.5,
          "sizey": 1,
          "source": "https://upload.wikimedia.org/wikipedia/commons/0/01/Flag_of_Sudan.svg",
          "x": -1.1482155898002293,
          "xref": "x",
          "y": 3.88100380491431,
          "yref": "y"
         },
         {
          "layer": "below",
          "opacity": 1,
          "sizex": 0.5,
          "sizey": 1,
          "source": "https://upload.wikimedia.org/wikipedia/en/4/4c/Flag_of_Sweden.svg",
          "x": 4.4620153645797,
          "xref": "x",
          "y": -6.893302721497674,
          "yref": "y"
         },
         {
          "layer": "below",
          "opacity": 1,
          "sizex": 0.5,
          "sizey": 1,
          "source": "https://upload.wikimedia.org/wikipedia/commons/0/08/Flag_of_Switzerland_%28Pantone%29.svg",
          "x": 9.09219556884936,
          "xref": "x",
          "y": -7.908832365327688,
          "yref": "y"
         },
         {
          "layer": "below",
          "opacity": 1,
          "sizex": 0.5,
          "sizey": 1,
          "source": "https://upload.wikimedia.org/wikipedia/commons/5/53/Flag_of_Syria.svg",
          "x": -1.782611230429422,
          "xref": "x",
          "y": 0.10642449526154302,
          "yref": "y"
         },
         {
          "layer": "below",
          "opacity": 1,
          "sizex": 0.5,
          "sizey": 1,
          "source": "https://upload.wikimedia.org/wikipedia/commons/3/38/Flag_of_Tanzania.svg",
          "x": -1.3798933795450787,
          "xref": "x",
          "y": 4.380849907215764,
          "yref": "y"
         },
         {
          "layer": "below",
          "opacity": 1,
          "sizex": 0.5,
          "sizey": 1,
          "source": "https://upload.wikimedia.org/wikipedia/commons/a/a9/Flag_of_Thailand.svg",
          "x": -2.228412491935682,
          "xref": "x",
          "y": -0.1395091225536306,
          "yref": "y"
         },
         {
          "layer": "below",
          "opacity": 1,
          "sizex": 0.5,
          "sizey": 1,
          "source": "https://upload.wikimedia.org/wikipedia/commons/6/68/Flag_of_Togo.svg",
          "x": -1.5439656292402806,
          "xref": "x",
          "y": 3.159063718357974,
          "yref": "y"
         },
         {
          "layer": "below",
          "opacity": 1,
          "sizex": 0.5,
          "sizey": 1,
          "source": "https://upload.wikimedia.org/wikipedia/commons/6/64/Flag_of_Trinidad_and_Tobago.svg",
          "x": 0.08369125411683784,
          "xref": "x",
          "y": -2.182048215321596,
          "yref": "y"
         },
         {
          "layer": "below",
          "opacity": 1,
          "sizex": 0.5,
          "sizey": 1,
          "source": "https://upload.wikimedia.org/wikipedia/commons/c/ce/Flag_of_Tunisia.svg",
          "x": -1.7588950346236472,
          "xref": "x",
          "y": 0.19769981891523908,
          "yref": "y"
         },
         {
          "layer": "below",
          "opacity": 1,
          "sizex": 0.5,
          "sizey": 1,
          "source": "https://upload.wikimedia.org/wikipedia/commons/b/b4/Flag_of_Turkey.svg",
          "x": -1.060999398104218,
          "xref": "x",
          "y": 0.3584027702592029,
          "yref": "y"
         },
         {
          "layer": "below",
          "opacity": 1,
          "sizex": 0.5,
          "sizey": 1,
          "source": "https://upload.wikimedia.org/wikipedia/commons/4/4e/Flag_of_Uganda.svg",
          "x": -1.5558968356651257,
          "xref": "x",
          "y": 4.503795087958968,
          "yref": "y"
         },
         {
          "layer": "below",
          "opacity": 1,
          "sizex": 0.5,
          "sizey": 1,
          "source": "https://upload.wikimedia.org/wikipedia/en/a/ae/Flag_of_the_United_Kingdom.svg",
          "x": 4.865815276789583,
          "xref": "x",
          "y": -5.984502869705169,
          "yref": "y"
         },
         {
          "layer": "below",
          "opacity": 1,
          "sizex": 0.5,
          "sizey": 1,
          "source": "https://upload.wikimedia.org/wikipedia/en/a/a4/Flag_of_the_United_States.svg",
          "x": 7.845986416229554,
          "xref": "x",
          "y": -7.3074417378188175,
          "yref": "y"
         },
         {
          "layer": "below",
          "opacity": 1,
          "sizex": 0.5,
          "sizey": 1,
          "source": "https://upload.wikimedia.org/wikipedia/commons/f/fe/Flag_of_Uruguay.svg",
          "x": -0.44603071982322534,
          "xref": "x",
          "y": -3.3943267034478546,
          "yref": "y"
         },
         {
          "layer": "below",
          "opacity": 1,
          "sizex": 0.5,
          "sizey": 1,
          "source": "https://upload.wikimedia.org/wikipedia/commons/0/06/Flag_of_Venezuela.svg",
          "x": 2.505019102783892,
          "xref": "x",
          "y": -2.3240385069089267,
          "yref": "y"
         },
         {
          "layer": "below",
          "opacity": 1,
          "sizex": 0.5,
          "sizey": 1,
          "source": "https://upload.wikimedia.org/wikipedia/commons/2/21/Flag_of_Vietnam.svg",
          "x": -2.9785036119895616,
          "xref": "x",
          "y": 1.4810258768136921,
          "yref": "y"
         },
         {
          "layer": "below",
          "opacity": 1,
          "sizex": 0.5,
          "sizey": 1,
          "source": "https://upload.wikimedia.org/wikipedia/commons/0/06/Flag_of_Zambia.svg",
          "x": -2.551802942448349,
          "xref": "x",
          "y": 4.956983895136841,
          "yref": "y"
         },
         {
          "layer": "below",
          "opacity": 1,
          "sizex": 0.5,
          "sizey": 1,
          "source": "https://upload.wikimedia.org/wikipedia/commons/6/6a/Flag_of_Zimbabwe.svg",
          "x": 1.1561343595874967,
          "xref": "x",
          "y": 3.775708858619051,
          "yref": "y"
         }
        ],
        "legend": {
         "title": {
          "text": "continent"
         },
         "tracegroupgap": 0
        },
        "margin": {
         "b": 20,
         "l": 20,
         "r": 20,
         "t": 40
        },
        "showlegend": false,
        "template": {
         "data": {
          "bar": [
           {
            "error_x": {
             "color": "#2a3f5f"
            },
            "error_y": {
             "color": "#2a3f5f"
            },
            "marker": {
             "line": {
              "color": "#E5ECF6",
              "width": 0.5
             },
             "pattern": {
              "fillmode": "overlay",
              "size": 10,
              "solidity": 0.2
             }
            },
            "type": "bar"
           }
          ],
          "barpolar": [
           {
            "marker": {
             "line": {
              "color": "#E5ECF6",
              "width": 0.5
             },
             "pattern": {
              "fillmode": "overlay",
              "size": 10,
              "solidity": 0.2
             }
            },
            "type": "barpolar"
           }
          ],
          "carpet": [
           {
            "aaxis": {
             "endlinecolor": "#2a3f5f",
             "gridcolor": "white",
             "linecolor": "white",
             "minorgridcolor": "white",
             "startlinecolor": "#2a3f5f"
            },
            "baxis": {
             "endlinecolor": "#2a3f5f",
             "gridcolor": "white",
             "linecolor": "white",
             "minorgridcolor": "white",
             "startlinecolor": "#2a3f5f"
            },
            "type": "carpet"
           }
          ],
          "choropleth": [
           {
            "colorbar": {
             "outlinewidth": 0,
             "ticks": ""
            },
            "type": "choropleth"
           }
          ],
          "contour": [
           {
            "colorbar": {
             "outlinewidth": 0,
             "ticks": ""
            },
            "colorscale": [
             [
              0,
              "#0d0887"
             ],
             [
              0.1111111111111111,
              "#46039f"
             ],
             [
              0.2222222222222222,
              "#7201a8"
             ],
             [
              0.3333333333333333,
              "#9c179e"
             ],
             [
              0.4444444444444444,
              "#bd3786"
             ],
             [
              0.5555555555555556,
              "#d8576b"
             ],
             [
              0.6666666666666666,
              "#ed7953"
             ],
             [
              0.7777777777777778,
              "#fb9f3a"
             ],
             [
              0.8888888888888888,
              "#fdca26"
             ],
             [
              1,
              "#f0f921"
             ]
            ],
            "type": "contour"
           }
          ],
          "contourcarpet": [
           {
            "colorbar": {
             "outlinewidth": 0,
             "ticks": ""
            },
            "type": "contourcarpet"
           }
          ],
          "heatmap": [
           {
            "colorbar": {
             "outlinewidth": 0,
             "ticks": ""
            },
            "colorscale": [
             [
              0,
              "#0d0887"
             ],
             [
              0.1111111111111111,
              "#46039f"
             ],
             [
              0.2222222222222222,
              "#7201a8"
             ],
             [
              0.3333333333333333,
              "#9c179e"
             ],
             [
              0.4444444444444444,
              "#bd3786"
             ],
             [
              0.5555555555555556,
              "#d8576b"
             ],
             [
              0.6666666666666666,
              "#ed7953"
             ],
             [
              0.7777777777777778,
              "#fb9f3a"
             ],
             [
              0.8888888888888888,
              "#fdca26"
             ],
             [
              1,
              "#f0f921"
             ]
            ],
            "type": "heatmap"
           }
          ],
          "heatmapgl": [
           {
            "colorbar": {
             "outlinewidth": 0,
             "ticks": ""
            },
            "colorscale": [
             [
              0,
              "#0d0887"
             ],
             [
              0.1111111111111111,
              "#46039f"
             ],
             [
              0.2222222222222222,
              "#7201a8"
             ],
             [
              0.3333333333333333,
              "#9c179e"
             ],
             [
              0.4444444444444444,
              "#bd3786"
             ],
             [
              0.5555555555555556,
              "#d8576b"
             ],
             [
              0.6666666666666666,
              "#ed7953"
             ],
             [
              0.7777777777777778,
              "#fb9f3a"
             ],
             [
              0.8888888888888888,
              "#fdca26"
             ],
             [
              1,
              "#f0f921"
             ]
            ],
            "type": "heatmapgl"
           }
          ],
          "histogram": [
           {
            "marker": {
             "pattern": {
              "fillmode": "overlay",
              "size": 10,
              "solidity": 0.2
             }
            },
            "type": "histogram"
           }
          ],
          "histogram2d": [
           {
            "colorbar": {
             "outlinewidth": 0,
             "ticks": ""
            },
            "colorscale": [
             [
              0,
              "#0d0887"
             ],
             [
              0.1111111111111111,
              "#46039f"
             ],
             [
              0.2222222222222222,
              "#7201a8"
             ],
             [
              0.3333333333333333,
              "#9c179e"
             ],
             [
              0.4444444444444444,
              "#bd3786"
             ],
             [
              0.5555555555555556,
              "#d8576b"
             ],
             [
              0.6666666666666666,
              "#ed7953"
             ],
             [
              0.7777777777777778,
              "#fb9f3a"
             ],
             [
              0.8888888888888888,
              "#fdca26"
             ],
             [
              1,
              "#f0f921"
             ]
            ],
            "type": "histogram2d"
           }
          ],
          "histogram2dcontour": [
           {
            "colorbar": {
             "outlinewidth": 0,
             "ticks": ""
            },
            "colorscale": [
             [
              0,
              "#0d0887"
             ],
             [
              0.1111111111111111,
              "#46039f"
             ],
             [
              0.2222222222222222,
              "#7201a8"
             ],
             [
              0.3333333333333333,
              "#9c179e"
             ],
             [
              0.4444444444444444,
              "#bd3786"
             ],
             [
              0.5555555555555556,
              "#d8576b"
             ],
             [
              0.6666666666666666,
              "#ed7953"
             ],
             [
              0.7777777777777778,
              "#fb9f3a"
             ],
             [
              0.8888888888888888,
              "#fdca26"
             ],
             [
              1,
              "#f0f921"
             ]
            ],
            "type": "histogram2dcontour"
           }
          ],
          "mesh3d": [
           {
            "colorbar": {
             "outlinewidth": 0,
             "ticks": ""
            },
            "type": "mesh3d"
           }
          ],
          "parcoords": [
           {
            "line": {
             "colorbar": {
              "outlinewidth": 0,
              "ticks": ""
             }
            },
            "type": "parcoords"
           }
          ],
          "pie": [
           {
            "automargin": true,
            "type": "pie"
           }
          ],
          "scatter": [
           {
            "fillpattern": {
             "fillmode": "overlay",
             "size": 10,
             "solidity": 0.2
            },
            "type": "scatter"
           }
          ],
          "scatter3d": [
           {
            "line": {
             "colorbar": {
              "outlinewidth": 0,
              "ticks": ""
             }
            },
            "marker": {
             "colorbar": {
              "outlinewidth": 0,
              "ticks": ""
             }
            },
            "type": "scatter3d"
           }
          ],
          "scattercarpet": [
           {
            "marker": {
             "colorbar": {
              "outlinewidth": 0,
              "ticks": ""
             }
            },
            "type": "scattercarpet"
           }
          ],
          "scattergeo": [
           {
            "marker": {
             "colorbar": {
              "outlinewidth": 0,
              "ticks": ""
             }
            },
            "type": "scattergeo"
           }
          ],
          "scattergl": [
           {
            "marker": {
             "colorbar": {
              "outlinewidth": 0,
              "ticks": ""
             }
            },
            "type": "scattergl"
           }
          ],
          "scattermapbox": [
           {
            "marker": {
             "colorbar": {
              "outlinewidth": 0,
              "ticks": ""
             }
            },
            "type": "scattermapbox"
           }
          ],
          "scatterpolar": [
           {
            "marker": {
             "colorbar": {
              "outlinewidth": 0,
              "ticks": ""
             }
            },
            "type": "scatterpolar"
           }
          ],
          "scatterpolargl": [
           {
            "marker": {
             "colorbar": {
              "outlinewidth": 0,
              "ticks": ""
             }
            },
            "type": "scatterpolargl"
           }
          ],
          "scatterternary": [
           {
            "marker": {
             "colorbar": {
              "outlinewidth": 0,
              "ticks": ""
             }
            },
            "type": "scatterternary"
           }
          ],
          "surface": [
           {
            "colorbar": {
             "outlinewidth": 0,
             "ticks": ""
            },
            "colorscale": [
             [
              0,
              "#0d0887"
             ],
             [
              0.1111111111111111,
              "#46039f"
             ],
             [
              0.2222222222222222,
              "#7201a8"
             ],
             [
              0.3333333333333333,
              "#9c179e"
             ],
             [
              0.4444444444444444,
              "#bd3786"
             ],
             [
              0.5555555555555556,
              "#d8576b"
             ],
             [
              0.6666666666666666,
              "#ed7953"
             ],
             [
              0.7777777777777778,
              "#fb9f3a"
             ],
             [
              0.8888888888888888,
              "#fdca26"
             ],
             [
              1,
              "#f0f921"
             ]
            ],
            "type": "surface"
           }
          ],
          "table": [
           {
            "cells": {
             "fill": {
              "color": "#EBF0F8"
             },
             "line": {
              "color": "white"
             }
            },
            "header": {
             "fill": {
              "color": "#C8D4E3"
             },
             "line": {
              "color": "white"
             }
            },
            "type": "table"
           }
          ]
         },
         "layout": {
          "annotationdefaults": {
           "arrowcolor": "#2a3f5f",
           "arrowhead": 0,
           "arrowwidth": 1
          },
          "autotypenumbers": "strict",
          "coloraxis": {
           "colorbar": {
            "outlinewidth": 0,
            "ticks": ""
           }
          },
          "colorscale": {
           "diverging": [
            [
             0,
             "#8e0152"
            ],
            [
             0.1,
             "#c51b7d"
            ],
            [
             0.2,
             "#de77ae"
            ],
            [
             0.3,
             "#f1b6da"
            ],
            [
             0.4,
             "#fde0ef"
            ],
            [
             0.5,
             "#f7f7f7"
            ],
            [
             0.6,
             "#e6f5d0"
            ],
            [
             0.7,
             "#b8e186"
            ],
            [
             0.8,
             "#7fbc41"
            ],
            [
             0.9,
             "#4d9221"
            ],
            [
             1,
             "#276419"
            ]
           ],
           "sequential": [
            [
             0,
             "#0d0887"
            ],
            [
             0.1111111111111111,
             "#46039f"
            ],
            [
             0.2222222222222222,
             "#7201a8"
            ],
            [
             0.3333333333333333,
             "#9c179e"
            ],
            [
             0.4444444444444444,
             "#bd3786"
            ],
            [
             0.5555555555555556,
             "#d8576b"
            ],
            [
             0.6666666666666666,
             "#ed7953"
            ],
            [
             0.7777777777777778,
             "#fb9f3a"
            ],
            [
             0.8888888888888888,
             "#fdca26"
            ],
            [
             1,
             "#f0f921"
            ]
           ],
           "sequentialminus": [
            [
             0,
             "#0d0887"
            ],
            [
             0.1111111111111111,
             "#46039f"
            ],
            [
             0.2222222222222222,
             "#7201a8"
            ],
            [
             0.3333333333333333,
             "#9c179e"
            ],
            [
             0.4444444444444444,
             "#bd3786"
            ],
            [
             0.5555555555555556,
             "#d8576b"
            ],
            [
             0.6666666666666666,
             "#ed7953"
            ],
            [
             0.7777777777777778,
             "#fb9f3a"
            ],
            [
             0.8888888888888888,
             "#fdca26"
            ],
            [
             1,
             "#f0f921"
            ]
           ]
          },
          "colorway": [
           "#636efa",
           "#EF553B",
           "#00cc96",
           "#ab63fa",
           "#FFA15A",
           "#19d3f3",
           "#FF6692",
           "#B6E880",
           "#FF97FF",
           "#FECB52"
          ],
          "font": {
           "color": "#2a3f5f"
          },
          "geo": {
           "bgcolor": "white",
           "lakecolor": "white",
           "landcolor": "#E5ECF6",
           "showlakes": true,
           "showland": true,
           "subunitcolor": "white"
          },
          "hoverlabel": {
           "align": "left"
          },
          "hovermode": "closest",
          "mapbox": {
           "style": "light"
          },
          "paper_bgcolor": "white",
          "plot_bgcolor": "#E5ECF6",
          "polar": {
           "angularaxis": {
            "gridcolor": "white",
            "linecolor": "white",
            "ticks": ""
           },
           "bgcolor": "#E5ECF6",
           "radialaxis": {
            "gridcolor": "white",
            "linecolor": "white",
            "ticks": ""
           }
          },
          "scene": {
           "xaxis": {
            "backgroundcolor": "#E5ECF6",
            "gridcolor": "white",
            "gridwidth": 2,
            "linecolor": "white",
            "showbackground": true,
            "ticks": "",
            "zerolinecolor": "white"
           },
           "yaxis": {
            "backgroundcolor": "#E5ECF6",
            "gridcolor": "white",
            "gridwidth": 2,
            "linecolor": "white",
            "showbackground": true,
            "ticks": "",
            "zerolinecolor": "white"
           },
           "zaxis": {
            "backgroundcolor": "#E5ECF6",
            "gridcolor": "white",
            "gridwidth": 2,
            "linecolor": "white",
            "showbackground": true,
            "ticks": "",
            "zerolinecolor": "white"
           }
          },
          "shapedefaults": {
           "line": {
            "color": "#2a3f5f"
           }
          },
          "ternary": {
           "aaxis": {
            "gridcolor": "white",
            "linecolor": "white",
            "ticks": ""
           },
           "baxis": {
            "gridcolor": "white",
            "linecolor": "white",
            "ticks": ""
           },
           "bgcolor": "#E5ECF6",
           "caxis": {
            "gridcolor": "white",
            "linecolor": "white",
            "ticks": ""
           }
          },
          "title": {
           "x": 0.05
          },
          "xaxis": {
           "automargin": true,
           "gridcolor": "white",
           "linecolor": "white",
           "ticks": "",
           "title": {
            "standoff": 15
           },
           "zerolinecolor": "white",
           "zerolinewidth": 2
          },
          "yaxis": {
           "automargin": true,
           "gridcolor": "white",
           "linecolor": "white",
           "ticks": "",
           "title": {
            "standoff": 15
           },
           "zerolinecolor": "white",
           "zerolinewidth": 2
          }
         }
        },
        "title": {
         "text": "MDS projection of the country trajectories"
        },
        "width": 1000,
        "xaxis": {
         "anchor": "y",
         "domain": [
          0,
          1
         ],
         "title": {
          "text": "MDS_x"
         },
         "visible": false
        },
        "yaxis": {
         "anchor": "x",
         "domain": [
          0,
          1
         ],
         "scaleanchor": "x",
         "scaleratio": 1,
         "title": {
          "text": "MDS_y"
         },
         "visible": false
        }
       }
      }
     },
     "metadata": {},
     "output_type": "display_data"
    }
   ],
   "source": [
    "fig = px.scatter(HDmap, x=\"MDS_x\", y=\"MDS_y\", hover_name=\"country\", \n",
    "                  color=\"continent\",\n",
    "                 width=1000, height=700, \n",
    "                 title=\"MDS projection of the country trajectories\")\n",
    "\n",
    "\n",
    "\n",
    "for x, y, img_url in zip(HDmap.MDS_x, HDmap.MDS_y, HDmap[\"ImageURL\"]): \n",
    "  fig.add_layout_image(\n",
    "          x=x,\n",
    "          sizex=0.5,\n",
    "          y=y,\n",
    "          sizey=1,\n",
    "          xref=\"x\",\n",
    "          yref=\"y\",\n",
    "          opacity=1.0,\n",
    "          layer=\"below\",\n",
    "          source=img_url\n",
    "  )\n",
    "\n",
    "fig.update_yaxes(\n",
    "    scaleanchor = \"x\",\n",
    "    scaleratio = 1,\n",
    "  )\n",
    "\n",
    "#legend\n",
    "fig.update_layout(showlegend=False, \n",
    "                 margin=dict(l=20, r=20, t=40, b=20),\n",
    "                 )\n",
    "\n",
    "fig.update_xaxes(visible=False)  \n",
    "fig.update_yaxes(visible=False)\n",
    "\n",
    "\n",
    "fig.show()"
   ]
  },
  {
   "cell_type": "markdown",
   "metadata": {},
   "source": [
    "Countries that are close in the MDS projetion are have similar life expectancy and GDP per capita values over time "
   ]
  },
  {
   "cell_type": "code",
   "execution_count": 126,
   "metadata": {},
   "outputs": [
    {
     "data": {
      "application/vnd.plotly.v1+json": {
       "config": {
        "plotlyServerURL": "https://plot.ly"
       },
       "data": [
        {
         "hovertemplate": "country=Australia<br>gdpPercap=%{x}<br>lifeExp=%{y}<extra></extra>",
         "legendgroup": "Australia",
         "line": {
          "color": "#636efa",
          "dash": "solid"
         },
         "marker": {
          "symbol": "circle"
         },
         "mode": "lines",
         "name": "Australia",
         "orientation": "v",
         "showlegend": true,
         "textposition": "bottom right",
         "type": "scatter",
         "x": [
          10039.59564,
          10949.64959,
          12217.22686,
          14526.12465,
          16788.62948,
          18334.19751,
          19477.00928,
          21888.88903,
          23424.76683,
          26997.93657,
          30687.75473,
          34435.36744
         ],
         "xaxis": "x",
         "y": [
          69.12,
          70.33,
          70.93,
          71.1,
          71.93,
          73.49,
          74.74,
          76.32,
          77.56,
          78.83,
          80.37,
          81.235
         ],
         "yaxis": "y"
        },
        {
         "hovertemplate": "country=Brazil<br>gdpPercap=%{x}<br>lifeExp=%{y}<extra></extra>",
         "legendgroup": "Brazil",
         "line": {
          "color": "#EF553B",
          "dash": "solid"
         },
         "marker": {
          "symbol": "circle"
         },
         "mode": "lines",
         "name": "Brazil",
         "orientation": "v",
         "showlegend": true,
         "textposition": "bottom right",
         "type": "scatter",
         "x": [
          2108.944355,
          2487.365989,
          3336.585802,
          3429.864357,
          4985.711467,
          6660.118654,
          7030.835878,
          7807.095818,
          6950.283021,
          7957.980824,
          8131.212843,
          9065.800825
         ],
         "xaxis": "x",
         "y": [
          50.917,
          53.285,
          55.665,
          57.632,
          59.504,
          61.489,
          63.336,
          65.205,
          67.057,
          69.388,
          71.006,
          72.39
         ],
         "yaxis": "y"
        },
        {
         "hovertemplate": "country=Burkina Faso<br>gdpPercap=%{x}<br>lifeExp=%{y}<extra></extra>",
         "legendgroup": "Burkina Faso",
         "line": {
          "color": "#00cc96",
          "dash": "solid"
         },
         "marker": {
          "symbol": "circle"
         },
         "mode": "lines",
         "name": "Burkina Faso",
         "orientation": "v",
         "showlegend": true,
         "textposition": "bottom right",
         "type": "scatter",
         "x": [
          543.2552413,
          617.1834648,
          722.5120206,
          794.8265597,
          854.7359763,
          743.3870368,
          807.1985855,
          912.0631417,
          931.7527731,
          946.2949618,
          1037.645221,
          1217.032994
         ],
         "xaxis": "x",
         "y": [
          31.975,
          34.906,
          37.814,
          40.697,
          43.591,
          46.137,
          48.122,
          49.557,
          50.26,
          50.324,
          50.65,
          52.295
         ],
         "yaxis": "y"
        },
        {
         "hovertemplate": "country=Ecuador<br>gdpPercap=%{x}<br>lifeExp=%{y}<extra></extra>",
         "legendgroup": "Ecuador",
         "line": {
          "color": "#ab63fa",
          "dash": "solid"
         },
         "marker": {
          "symbol": "circle"
         },
         "mode": "lines",
         "name": "Ecuador",
         "orientation": "v",
         "showlegend": true,
         "textposition": "bottom right",
         "type": "scatter",
         "x": [
          3522.110717,
          3780.546651,
          4086.114078,
          4579.074215,
          5280.99471,
          6679.62326,
          7213.791267,
          6481.776993,
          7103.702595,
          7429.455877,
          5773.044512,
          6873.262326
         ],
         "xaxis": "x",
         "y": [
          48.357,
          51.356,
          54.64,
          56.678,
          58.796,
          61.31,
          64.342,
          67.231,
          69.613,
          72.312,
          74.173,
          74.994
         ],
         "yaxis": "y"
        },
        {
         "hovertemplate": "country=Ethiopia<br>gdpPercap=%{x}<br>lifeExp=%{y}<extra></extra>",
         "legendgroup": "Ethiopia",
         "line": {
          "color": "#FFA15A",
          "dash": "solid"
         },
         "marker": {
          "symbol": "circle"
         },
         "mode": "lines",
         "name": "Ethiopia",
         "orientation": "v",
         "showlegend": true,
         "textposition": "bottom right",
         "type": "scatter",
         "x": [
          362.1462796,
          378.9041632,
          419.4564161,
          516.1186438,
          566.2439442,
          556.8083834,
          577.8607471,
          573.7413142,
          421.3534653,
          515.8894013,
          530.0535319,
          690.8055759
         ],
         "xaxis": "x",
         "y": [
          34.078,
          36.667,
          40.059,
          42.115,
          43.515,
          44.51,
          44.916,
          46.684,
          48.091,
          49.402,
          50.725,
          52.947
         ],
         "yaxis": "y"
        },
        {
         "hovertemplate": "country=Greece<br>gdpPercap=%{x}<br>lifeExp=%{y}<extra></extra>",
         "legendgroup": "Greece",
         "line": {
          "color": "#19d3f3",
          "dash": "solid"
         },
         "marker": {
          "symbol": "circle"
         },
         "mode": "lines",
         "name": "Greece",
         "orientation": "v",
         "showlegend": true,
         "textposition": "bottom right",
         "type": "scatter",
         "x": [
          3530.690067,
          4916.299889,
          6017.190733,
          8513.097016,
          12724.82957,
          14195.52428,
          15268.42089,
          16120.52839,
          17541.49634,
          18747.69814,
          22514.2548,
          27538.41188
         ],
         "xaxis": "x",
         "y": [
          65.86,
          67.86,
          69.51,
          71,
          72.34,
          73.68,
          75.24,
          76.67,
          77.03,
          77.869,
          78.256,
          79.483
         ],
         "yaxis": "y"
        },
        {
         "hovertemplate": "country=Israel<br>gdpPercap=%{x}<br>lifeExp=%{y}<extra></extra>",
         "legendgroup": "Israel",
         "line": {
          "color": "#FF6692",
          "dash": "solid"
         },
         "marker": {
          "symbol": "circle"
         },
         "mode": "lines",
         "name": "Israel",
         "orientation": "v",
         "showlegend": true,
         "textposition": "bottom right",
         "type": "scatter",
         "x": [
          4086.522128,
          5385.278451,
          7105.630706,
          8393.741404,
          12786.93223,
          13306.61921,
          15367.0292,
          17122.47986,
          18051.52254,
          20896.60924,
          21905.59514,
          25523.2771
         ],
         "xaxis": "x",
         "y": [
          65.39,
          67.84,
          69.39,
          70.75,
          71.63,
          73.06,
          74.45,
          75.6,
          76.93,
          78.269,
          79.696,
          80.745
         ],
         "yaxis": "y"
        },
        {
         "hovertemplate": "country=United Kingdom<br>gdpPercap=%{x}<br>lifeExp=%{y}<extra></extra>",
         "legendgroup": "United Kingdom",
         "line": {
          "color": "#B6E880",
          "dash": "solid"
         },
         "marker": {
          "symbol": "circle"
         },
         "mode": "lines",
         "name": "United Kingdom",
         "orientation": "v",
         "showlegend": true,
         "textposition": "bottom right",
         "type": "scatter",
         "x": [
          9979.508487,
          11283.17795,
          12477.17707,
          14142.85089,
          15895.11641,
          17428.74846,
          18232.42452,
          21664.78767,
          22705.09254,
          26074.53136,
          29478.99919,
          33203.26128
         ],
         "xaxis": "x",
         "y": [
          69.18,
          70.42,
          70.76,
          71.36,
          72.01,
          72.76,
          74.04,
          75.007,
          76.42,
          77.218,
          78.471,
          79.425
         ],
         "yaxis": "y"
        }
       ],
       "layout": {
        "legend": {
         "title": {
          "text": "country"
         },
         "tracegroupgap": 0
        },
        "margin": {
         "t": 60
        },
        "template": {
         "data": {
          "bar": [
           {
            "error_x": {
             "color": "#2a3f5f"
            },
            "error_y": {
             "color": "#2a3f5f"
            },
            "marker": {
             "line": {
              "color": "#E5ECF6",
              "width": 0.5
             },
             "pattern": {
              "fillmode": "overlay",
              "size": 10,
              "solidity": 0.2
             }
            },
            "type": "bar"
           }
          ],
          "barpolar": [
           {
            "marker": {
             "line": {
              "color": "#E5ECF6",
              "width": 0.5
             },
             "pattern": {
              "fillmode": "overlay",
              "size": 10,
              "solidity": 0.2
             }
            },
            "type": "barpolar"
           }
          ],
          "carpet": [
           {
            "aaxis": {
             "endlinecolor": "#2a3f5f",
             "gridcolor": "white",
             "linecolor": "white",
             "minorgridcolor": "white",
             "startlinecolor": "#2a3f5f"
            },
            "baxis": {
             "endlinecolor": "#2a3f5f",
             "gridcolor": "white",
             "linecolor": "white",
             "minorgridcolor": "white",
             "startlinecolor": "#2a3f5f"
            },
            "type": "carpet"
           }
          ],
          "choropleth": [
           {
            "colorbar": {
             "outlinewidth": 0,
             "ticks": ""
            },
            "type": "choropleth"
           }
          ],
          "contour": [
           {
            "colorbar": {
             "outlinewidth": 0,
             "ticks": ""
            },
            "colorscale": [
             [
              0,
              "#0d0887"
             ],
             [
              0.1111111111111111,
              "#46039f"
             ],
             [
              0.2222222222222222,
              "#7201a8"
             ],
             [
              0.3333333333333333,
              "#9c179e"
             ],
             [
              0.4444444444444444,
              "#bd3786"
             ],
             [
              0.5555555555555556,
              "#d8576b"
             ],
             [
              0.6666666666666666,
              "#ed7953"
             ],
             [
              0.7777777777777778,
              "#fb9f3a"
             ],
             [
              0.8888888888888888,
              "#fdca26"
             ],
             [
              1,
              "#f0f921"
             ]
            ],
            "type": "contour"
           }
          ],
          "contourcarpet": [
           {
            "colorbar": {
             "outlinewidth": 0,
             "ticks": ""
            },
            "type": "contourcarpet"
           }
          ],
          "heatmap": [
           {
            "colorbar": {
             "outlinewidth": 0,
             "ticks": ""
            },
            "colorscale": [
             [
              0,
              "#0d0887"
             ],
             [
              0.1111111111111111,
              "#46039f"
             ],
             [
              0.2222222222222222,
              "#7201a8"
             ],
             [
              0.3333333333333333,
              "#9c179e"
             ],
             [
              0.4444444444444444,
              "#bd3786"
             ],
             [
              0.5555555555555556,
              "#d8576b"
             ],
             [
              0.6666666666666666,
              "#ed7953"
             ],
             [
              0.7777777777777778,
              "#fb9f3a"
             ],
             [
              0.8888888888888888,
              "#fdca26"
             ],
             [
              1,
              "#f0f921"
             ]
            ],
            "type": "heatmap"
           }
          ],
          "heatmapgl": [
           {
            "colorbar": {
             "outlinewidth": 0,
             "ticks": ""
            },
            "colorscale": [
             [
              0,
              "#0d0887"
             ],
             [
              0.1111111111111111,
              "#46039f"
             ],
             [
              0.2222222222222222,
              "#7201a8"
             ],
             [
              0.3333333333333333,
              "#9c179e"
             ],
             [
              0.4444444444444444,
              "#bd3786"
             ],
             [
              0.5555555555555556,
              "#d8576b"
             ],
             [
              0.6666666666666666,
              "#ed7953"
             ],
             [
              0.7777777777777778,
              "#fb9f3a"
             ],
             [
              0.8888888888888888,
              "#fdca26"
             ],
             [
              1,
              "#f0f921"
             ]
            ],
            "type": "heatmapgl"
           }
          ],
          "histogram": [
           {
            "marker": {
             "pattern": {
              "fillmode": "overlay",
              "size": 10,
              "solidity": 0.2
             }
            },
            "type": "histogram"
           }
          ],
          "histogram2d": [
           {
            "colorbar": {
             "outlinewidth": 0,
             "ticks": ""
            },
            "colorscale": [
             [
              0,
              "#0d0887"
             ],
             [
              0.1111111111111111,
              "#46039f"
             ],
             [
              0.2222222222222222,
              "#7201a8"
             ],
             [
              0.3333333333333333,
              "#9c179e"
             ],
             [
              0.4444444444444444,
              "#bd3786"
             ],
             [
              0.5555555555555556,
              "#d8576b"
             ],
             [
              0.6666666666666666,
              "#ed7953"
             ],
             [
              0.7777777777777778,
              "#fb9f3a"
             ],
             [
              0.8888888888888888,
              "#fdca26"
             ],
             [
              1,
              "#f0f921"
             ]
            ],
            "type": "histogram2d"
           }
          ],
          "histogram2dcontour": [
           {
            "colorbar": {
             "outlinewidth": 0,
             "ticks": ""
            },
            "colorscale": [
             [
              0,
              "#0d0887"
             ],
             [
              0.1111111111111111,
              "#46039f"
             ],
             [
              0.2222222222222222,
              "#7201a8"
             ],
             [
              0.3333333333333333,
              "#9c179e"
             ],
             [
              0.4444444444444444,
              "#bd3786"
             ],
             [
              0.5555555555555556,
              "#d8576b"
             ],
             [
              0.6666666666666666,
              "#ed7953"
             ],
             [
              0.7777777777777778,
              "#fb9f3a"
             ],
             [
              0.8888888888888888,
              "#fdca26"
             ],
             [
              1,
              "#f0f921"
             ]
            ],
            "type": "histogram2dcontour"
           }
          ],
          "mesh3d": [
           {
            "colorbar": {
             "outlinewidth": 0,
             "ticks": ""
            },
            "type": "mesh3d"
           }
          ],
          "parcoords": [
           {
            "line": {
             "colorbar": {
              "outlinewidth": 0,
              "ticks": ""
             }
            },
            "type": "parcoords"
           }
          ],
          "pie": [
           {
            "automargin": true,
            "type": "pie"
           }
          ],
          "scatter": [
           {
            "fillpattern": {
             "fillmode": "overlay",
             "size": 10,
             "solidity": 0.2
            },
            "type": "scatter"
           }
          ],
          "scatter3d": [
           {
            "line": {
             "colorbar": {
              "outlinewidth": 0,
              "ticks": ""
             }
            },
            "marker": {
             "colorbar": {
              "outlinewidth": 0,
              "ticks": ""
             }
            },
            "type": "scatter3d"
           }
          ],
          "scattercarpet": [
           {
            "marker": {
             "colorbar": {
              "outlinewidth": 0,
              "ticks": ""
             }
            },
            "type": "scattercarpet"
           }
          ],
          "scattergeo": [
           {
            "marker": {
             "colorbar": {
              "outlinewidth": 0,
              "ticks": ""
             }
            },
            "type": "scattergeo"
           }
          ],
          "scattergl": [
           {
            "marker": {
             "colorbar": {
              "outlinewidth": 0,
              "ticks": ""
             }
            },
            "type": "scattergl"
           }
          ],
          "scattermapbox": [
           {
            "marker": {
             "colorbar": {
              "outlinewidth": 0,
              "ticks": ""
             }
            },
            "type": "scattermapbox"
           }
          ],
          "scatterpolar": [
           {
            "marker": {
             "colorbar": {
              "outlinewidth": 0,
              "ticks": ""
             }
            },
            "type": "scatterpolar"
           }
          ],
          "scatterpolargl": [
           {
            "marker": {
             "colorbar": {
              "outlinewidth": 0,
              "ticks": ""
             }
            },
            "type": "scatterpolargl"
           }
          ],
          "scatterternary": [
           {
            "marker": {
             "colorbar": {
              "outlinewidth": 0,
              "ticks": ""
             }
            },
            "type": "scatterternary"
           }
          ],
          "surface": [
           {
            "colorbar": {
             "outlinewidth": 0,
             "ticks": ""
            },
            "colorscale": [
             [
              0,
              "#0d0887"
             ],
             [
              0.1111111111111111,
              "#46039f"
             ],
             [
              0.2222222222222222,
              "#7201a8"
             ],
             [
              0.3333333333333333,
              "#9c179e"
             ],
             [
              0.4444444444444444,
              "#bd3786"
             ],
             [
              0.5555555555555556,
              "#d8576b"
             ],
             [
              0.6666666666666666,
              "#ed7953"
             ],
             [
              0.7777777777777778,
              "#fb9f3a"
             ],
             [
              0.8888888888888888,
              "#fdca26"
             ],
             [
              1,
              "#f0f921"
             ]
            ],
            "type": "surface"
           }
          ],
          "table": [
           {
            "cells": {
             "fill": {
              "color": "#EBF0F8"
             },
             "line": {
              "color": "white"
             }
            },
            "header": {
             "fill": {
              "color": "#C8D4E3"
             },
             "line": {
              "color": "white"
             }
            },
            "type": "table"
           }
          ]
         },
         "layout": {
          "annotationdefaults": {
           "arrowcolor": "#2a3f5f",
           "arrowhead": 0,
           "arrowwidth": 1
          },
          "autotypenumbers": "strict",
          "coloraxis": {
           "colorbar": {
            "outlinewidth": 0,
            "ticks": ""
           }
          },
          "colorscale": {
           "diverging": [
            [
             0,
             "#8e0152"
            ],
            [
             0.1,
             "#c51b7d"
            ],
            [
             0.2,
             "#de77ae"
            ],
            [
             0.3,
             "#f1b6da"
            ],
            [
             0.4,
             "#fde0ef"
            ],
            [
             0.5,
             "#f7f7f7"
            ],
            [
             0.6,
             "#e6f5d0"
            ],
            [
             0.7,
             "#b8e186"
            ],
            [
             0.8,
             "#7fbc41"
            ],
            [
             0.9,
             "#4d9221"
            ],
            [
             1,
             "#276419"
            ]
           ],
           "sequential": [
            [
             0,
             "#0d0887"
            ],
            [
             0.1111111111111111,
             "#46039f"
            ],
            [
             0.2222222222222222,
             "#7201a8"
            ],
            [
             0.3333333333333333,
             "#9c179e"
            ],
            [
             0.4444444444444444,
             "#bd3786"
            ],
            [
             0.5555555555555556,
             "#d8576b"
            ],
            [
             0.6666666666666666,
             "#ed7953"
            ],
            [
             0.7777777777777778,
             "#fb9f3a"
            ],
            [
             0.8888888888888888,
             "#fdca26"
            ],
            [
             1,
             "#f0f921"
            ]
           ],
           "sequentialminus": [
            [
             0,
             "#0d0887"
            ],
            [
             0.1111111111111111,
             "#46039f"
            ],
            [
             0.2222222222222222,
             "#7201a8"
            ],
            [
             0.3333333333333333,
             "#9c179e"
            ],
            [
             0.4444444444444444,
             "#bd3786"
            ],
            [
             0.5555555555555556,
             "#d8576b"
            ],
            [
             0.6666666666666666,
             "#ed7953"
            ],
            [
             0.7777777777777778,
             "#fb9f3a"
            ],
            [
             0.8888888888888888,
             "#fdca26"
            ],
            [
             1,
             "#f0f921"
            ]
           ]
          },
          "colorway": [
           "#636efa",
           "#EF553B",
           "#00cc96",
           "#ab63fa",
           "#FFA15A",
           "#19d3f3",
           "#FF6692",
           "#B6E880",
           "#FF97FF",
           "#FECB52"
          ],
          "font": {
           "color": "#2a3f5f"
          },
          "geo": {
           "bgcolor": "white",
           "lakecolor": "white",
           "landcolor": "#E5ECF6",
           "showlakes": true,
           "showland": true,
           "subunitcolor": "white"
          },
          "hoverlabel": {
           "align": "left"
          },
          "hovermode": "closest",
          "mapbox": {
           "style": "light"
          },
          "paper_bgcolor": "white",
          "plot_bgcolor": "#E5ECF6",
          "polar": {
           "angularaxis": {
            "gridcolor": "white",
            "linecolor": "white",
            "ticks": ""
           },
           "bgcolor": "#E5ECF6",
           "radialaxis": {
            "gridcolor": "white",
            "linecolor": "white",
            "ticks": ""
           }
          },
          "scene": {
           "xaxis": {
            "backgroundcolor": "#E5ECF6",
            "gridcolor": "white",
            "gridwidth": 2,
            "linecolor": "white",
            "showbackground": true,
            "ticks": "",
            "zerolinecolor": "white"
           },
           "yaxis": {
            "backgroundcolor": "#E5ECF6",
            "gridcolor": "white",
            "gridwidth": 2,
            "linecolor": "white",
            "showbackground": true,
            "ticks": "",
            "zerolinecolor": "white"
           },
           "zaxis": {
            "backgroundcolor": "#E5ECF6",
            "gridcolor": "white",
            "gridwidth": 2,
            "linecolor": "white",
            "showbackground": true,
            "ticks": "",
            "zerolinecolor": "white"
           }
          },
          "shapedefaults": {
           "line": {
            "color": "#2a3f5f"
           }
          },
          "ternary": {
           "aaxis": {
            "gridcolor": "white",
            "linecolor": "white",
            "ticks": ""
           },
           "baxis": {
            "gridcolor": "white",
            "linecolor": "white",
            "ticks": ""
           },
           "bgcolor": "#E5ECF6",
           "caxis": {
            "gridcolor": "white",
            "linecolor": "white",
            "ticks": ""
           }
          },
          "title": {
           "x": 0.05
          },
          "xaxis": {
           "automargin": true,
           "gridcolor": "white",
           "linecolor": "white",
           "ticks": "",
           "title": {
            "standoff": 15
           },
           "zerolinecolor": "white",
           "zerolinewidth": 2
          },
          "yaxis": {
           "automargin": true,
           "gridcolor": "white",
           "linecolor": "white",
           "ticks": "",
           "title": {
            "standoff": 15
           },
           "zerolinecolor": "white",
           "zerolinewidth": 2
          }
         }
        },
        "title": {
         "text": "Trajectories of Similar Countries from the MDS map"
        },
        "xaxis": {
         "anchor": "y",
         "domain": [
          0,
          1
         ],
         "title": {
          "text": "gdpPercap"
         },
         "type": "log"
        },
        "yaxis": {
         "anchor": "x",
         "domain": [
          0,
          1
         ],
         "title": {
          "text": "lifeExp"
         }
        }
       }
      }
     },
     "metadata": {},
     "output_type": "display_data"
    }
   ],
   "source": [
    "tmp = df.query(\"country in ['Israel', 'Greece', 'Ethiopia', 'Burkina Faso', 'Ecuador', 'Brazil', 'Australia', 'United Kingdom']\")\n",
    "\n",
    "fig = px.line(tmp, x=\"gdpPercap\", y=\"lifeExp\", \n",
    "              color=\"country\", \n",
    "              log_x=True, \n",
    "              #text=\"year\",\n",
    "              )\n",
    "\n",
    "fig.update_traces(textposition=\"bottom right\")\n",
    "fig.update_layout(title_text=\"Trajectories of Similar Countries from the MDS map\")\n",
    "fig.show()"
   ]
  },
  {
   "cell_type": "markdown",
   "metadata": {},
   "source": [
    "### Project the countries using TSNE"
   ]
  },
  {
   "cell_type": "markdown",
   "metadata": {},
   "source": [
    "In this particular application TSNE is not as appropriate as MS. We don't have that many variables and the data are easy to visualize because the first two principal components represent about 90% of the total variability in the data. "
   ]
  },
  {
   "cell_type": "markdown",
   "metadata": {},
   "source": [
    "# How are clusters shown on the HDmap? "
   ]
  },
  {
   "cell_type": "code",
   "execution_count": 127,
   "metadata": {},
   "outputs": [],
   "source": [
    "from sklearn.cluster import KMeans\n",
    "from sklearn.cluster import SpectralClustering"
   ]
  },
  {
   "cell_type": "markdown",
   "metadata": {},
   "source": [
    "Here we will just try spectral or Kmeans clustering. The optimal number of clusters is something to investigate. Here we will just try a few values to investiagate how the clusters of countries are shown on the HD map. "
   ]
  },
  {
   "cell_type": "code",
   "execution_count": 128,
   "metadata": {},
   "outputs": [
    {
     "data": {
      "text/plain": [
       "array([5, 1, 1, 5, 2, 3, 3, 3, 0, 3, 0, 0, 1, 0, 1, 2, 5, 5, 0, 0, 3, 5,\n",
       "       5, 2, 1, 1, 0, 5, 0, 2, 0, 2, 2, 4, 3, 0, 1, 1, 0, 1, 5, 5, 5, 4,\n",
       "       3, 0, 5, 3, 0, 4, 1, 5, 5, 0, 1, 4, 2, 3, 0, 0, 1, 0, 4, 4, 4, 2,\n",
       "       4, 1, 0, 1, 1, 2, 0, 5, 0, 0, 5, 1, 5, 0, 1, 2, 0, 2, 1, 5, 0, 0,\n",
       "       0, 3, 3, 1, 5, 5, 3, 1, 0, 2, 1, 1, 1, 2, 4, 4, 1, 2, 5, 0, 3, 0,\n",
       "       2, 5, 4, 2, 4, 5, 0, 4, 1, 0, 0, 3, 3, 1, 4, 5, 1, 0, 2, 1, 1, 5,\n",
       "       3, 3, 2, 2, 0, 1, 0, 5, 0])"
      ]
     },
     "execution_count": 128,
     "metadata": {},
     "output_type": "execute_result"
    }
   ],
   "source": [
    "clustering = SpectralClustering(n_clusters=6,\n",
    "         assign_labels='discretize',\n",
    "         random_state=0).fit(df2_scaled.values)\n",
    "clustering.labels_\n",
    "\n"
   ]
  },
  {
   "cell_type": "markdown",
   "metadata": {},
   "source": [
    "The algorithm attaches cluster lable to each country. We need to merge this information to the HDmap"
   ]
  },
  {
   "cell_type": "code",
   "execution_count": 129,
   "metadata": {},
   "outputs": [
    {
     "data": {
      "text/html": [
       "<div>\n",
       "<style scoped>\n",
       "    .dataframe tbody tr th:only-of-type {\n",
       "        vertical-align: middle;\n",
       "    }\n",
       "\n",
       "    .dataframe tbody tr th {\n",
       "        vertical-align: top;\n",
       "    }\n",
       "\n",
       "    .dataframe thead th {\n",
       "        text-align: right;\n",
       "    }\n",
       "</style>\n",
       "<table border=\"1\" class=\"dataframe\">\n",
       "  <thead>\n",
       "    <tr style=\"text-align: right;\">\n",
       "      <th></th>\n",
       "      <th>country</th>\n",
       "      <th>MDS_x</th>\n",
       "      <th>MDS_y</th>\n",
       "      <th>iso_alpha</th>\n",
       "      <th>continent</th>\n",
       "      <th>subcontinent</th>\n",
       "      <th>Images File Name</th>\n",
       "      <th>ImageURL</th>\n",
       "      <th>scluster6</th>\n",
       "    </tr>\n",
       "  </thead>\n",
       "  <tbody>\n",
       "    <tr>\n",
       "      <th>0</th>\n",
       "      <td>Afghanistan</td>\n",
       "      <td>-0.700987</td>\n",
       "      <td>7.262491</td>\n",
       "      <td>AFG</td>\n",
       "      <td>Asia</td>\n",
       "      <td>Southern Asia</td>\n",
       "      <td>Flag_of_Afghanistan.svg</td>\n",
       "      <td>https://upload.wikimedia.org/wikipedia/commons...</td>\n",
       "      <td>5</td>\n",
       "    </tr>\n",
       "    <tr>\n",
       "      <th>1</th>\n",
       "      <td>Albania</td>\n",
       "      <td>-2.424894</td>\n",
       "      <td>-1.924003</td>\n",
       "      <td>ALB</td>\n",
       "      <td>Europe</td>\n",
       "      <td>Southern Europe</td>\n",
       "      <td>Flag_of_Albania.svg</td>\n",
       "      <td>https://upload.wikimedia.org/wikipedia/commons...</td>\n",
       "      <td>1</td>\n",
       "    </tr>\n",
       "    <tr>\n",
       "      <th>2</th>\n",
       "      <td>Algeria</td>\n",
       "      <td>-0.830106</td>\n",
       "      <td>0.529020</td>\n",
       "      <td>DZA</td>\n",
       "      <td>Africa</td>\n",
       "      <td>Northern Africa</td>\n",
       "      <td>Flag_of_Algeria.svg</td>\n",
       "      <td>https://upload.wikimedia.org/wikipedia/commons...</td>\n",
       "      <td>1</td>\n",
       "    </tr>\n",
       "    <tr>\n",
       "      <th>3</th>\n",
       "      <td>Angola</td>\n",
       "      <td>1.305906</td>\n",
       "      <td>6.663821</td>\n",
       "      <td>AGO</td>\n",
       "      <td>Africa</td>\n",
       "      <td>Sub-Saharan Africa</td>\n",
       "      <td>Flag_of_Angola.svg</td>\n",
       "      <td>https://upload.wikimedia.org/wikipedia/commons...</td>\n",
       "      <td>5</td>\n",
       "    </tr>\n",
       "    <tr>\n",
       "      <th>4</th>\n",
       "      <td>Argentina</td>\n",
       "      <td>1.231746</td>\n",
       "      <td>-2.805575</td>\n",
       "      <td>ARG</td>\n",
       "      <td>Americas</td>\n",
       "      <td>Latin America and the Caribbean</td>\n",
       "      <td>Flag_of_Argentina.svg</td>\n",
       "      <td>https://upload.wikimedia.org/wikipedia/commons...</td>\n",
       "      <td>2</td>\n",
       "    </tr>\n",
       "  </tbody>\n",
       "</table>\n",
       "</div>"
      ],
      "text/plain": [
       "       country     MDS_x     MDS_y iso_alpha continent  \\\n",
       "0  Afghanistan -0.700987  7.262491       AFG      Asia   \n",
       "1      Albania -2.424894 -1.924003       ALB    Europe   \n",
       "2      Algeria -0.830106  0.529020       DZA    Africa   \n",
       "3       Angola  1.305906  6.663821       AGO    Africa   \n",
       "4    Argentina  1.231746 -2.805575       ARG  Americas   \n",
       "\n",
       "                      subcontinent         Images File Name  \\\n",
       "0                    Southern Asia  Flag_of_Afghanistan.svg   \n",
       "1                  Southern Europe      Flag_of_Albania.svg   \n",
       "2                  Northern Africa      Flag_of_Algeria.svg   \n",
       "3               Sub-Saharan Africa       Flag_of_Angola.svg   \n",
       "4  Latin America and the Caribbean    Flag_of_Argentina.svg   \n",
       "\n",
       "                                            ImageURL scluster6  \n",
       "0  https://upload.wikimedia.org/wikipedia/commons...         5  \n",
       "1  https://upload.wikimedia.org/wikipedia/commons...         1  \n",
       "2  https://upload.wikimedia.org/wikipedia/commons...         1  \n",
       "3  https://upload.wikimedia.org/wikipedia/commons...         5  \n",
       "4  https://upload.wikimedia.org/wikipedia/commons...         2  "
      ]
     },
     "execution_count": 129,
     "metadata": {},
     "output_type": "execute_result"
    }
   ],
   "source": [
    "HDmap = HDmap.merge(pd.DataFrame({\"country\":df2_scaled.index, \"scluster6\":clustering.labels_}), on=\"country\")\n",
    "HDmap['scluster6'] =  HDmap['scluster6'].astype('str')\n",
    "HDmap.head()"
   ]
  },
  {
   "cell_type": "code",
   "execution_count": 130,
   "metadata": {},
   "outputs": [
    {
     "data": {
      "text/plain": [
       "array([2, 3, 0, 2, 3, 1, 1, 1, 4, 1, 4, 4, 3, 4, 0, 3, 2, 2, 4, 4, 1, 2,\n",
       "       4, 3, 0, 0, 4, 2, 4, 3, 4, 3, 3, 5, 1, 4, 0, 0, 0, 0, 2, 2, 2, 5,\n",
       "       1, 0, 2, 1, 4, 5, 0, 2, 2, 4, 0, 5, 3, 1, 4, 4, 0, 0, 5, 5, 5, 3,\n",
       "       5, 0, 4, 0, 0, 3, 4, 2, 0, 4, 2, 0, 2, 4, 0, 3, 4, 3, 0, 2, 4, 4,\n",
       "       4, 1, 1, 0, 2, 2, 1, 0, 4, 3, 3, 0, 0, 3, 3, 3, 3, 3, 2, 0, 1, 4,\n",
       "       3, 2, 5, 3, 5, 2, 0, 5, 0, 4, 4, 1, 1, 0, 3, 4, 0, 4, 3, 0, 0, 4,\n",
       "       1, 1, 3, 3, 0, 0, 4, 2, 4], dtype=int32)"
      ]
     },
     "execution_count": 130,
     "metadata": {},
     "output_type": "execute_result"
    }
   ],
   "source": [
    "#trying kmeans with six clusters is easy\n",
    "kmeans = KMeans(n_clusters = 6, random_state = 0)\n",
    "km2 = kmeans.fit(df2_scaled)\n",
    "km2.labels_"
   ]
  },
  {
   "cell_type": "code",
   "execution_count": 131,
   "metadata": {},
   "outputs": [],
   "source": [
    "HDmap = HDmap.merge(pd.DataFrame({\"country\":df2_scaled.index, \"kmeans6\": km2.labels_}), on=\"country\")\n",
    "HDmap['scluster6'] =  HDmap['scluster6'].astype('str')"
   ]
  },
  {
   "cell_type": "markdown",
   "metadata": {},
   "source": [
    "Differences in the clustering methods can be seen by using a crosstab. The clusters are not identical but there are only small differences in the arrangement of clusters. "
   ]
  },
  {
   "cell_type": "code",
   "execution_count": 132,
   "metadata": {},
   "outputs": [
    {
     "data": {
      "text/html": [
       "<div>\n",
       "<style scoped>\n",
       "    .dataframe tbody tr th:only-of-type {\n",
       "        vertical-align: middle;\n",
       "    }\n",
       "\n",
       "    .dataframe tbody tr th {\n",
       "        vertical-align: top;\n",
       "    }\n",
       "\n",
       "    .dataframe thead th {\n",
       "        text-align: right;\n",
       "    }\n",
       "</style>\n",
       "<table border=\"1\" class=\"dataframe\">\n",
       "  <thead>\n",
       "    <tr style=\"text-align: right;\">\n",
       "      <th>kmeans6</th>\n",
       "      <th>0</th>\n",
       "      <th>1</th>\n",
       "      <th>2</th>\n",
       "      <th>3</th>\n",
       "      <th>4</th>\n",
       "      <th>5</th>\n",
       "    </tr>\n",
       "    <tr>\n",
       "      <th>scluster6</th>\n",
       "      <th></th>\n",
       "      <th></th>\n",
       "      <th></th>\n",
       "      <th></th>\n",
       "      <th></th>\n",
       "      <th></th>\n",
       "    </tr>\n",
       "  </thead>\n",
       "  <tbody>\n",
       "    <tr>\n",
       "      <th>0</th>\n",
       "      <td>7</td>\n",
       "      <td>0</td>\n",
       "      <td>0</td>\n",
       "      <td>0</td>\n",
       "      <td>25</td>\n",
       "      <td>0</td>\n",
       "    </tr>\n",
       "    <tr>\n",
       "      <th>1</th>\n",
       "      <td>23</td>\n",
       "      <td>0</td>\n",
       "      <td>0</td>\n",
       "      <td>2</td>\n",
       "      <td>0</td>\n",
       "      <td>0</td>\n",
       "    </tr>\n",
       "    <tr>\n",
       "      <th>2</th>\n",
       "      <td>0</td>\n",
       "      <td>0</td>\n",
       "      <td>0</td>\n",
       "      <td>18</td>\n",
       "      <td>0</td>\n",
       "      <td>0</td>\n",
       "    </tr>\n",
       "    <tr>\n",
       "      <th>3</th>\n",
       "      <td>0</td>\n",
       "      <td>17</td>\n",
       "      <td>0</td>\n",
       "      <td>0</td>\n",
       "      <td>0</td>\n",
       "      <td>0</td>\n",
       "    </tr>\n",
       "    <tr>\n",
       "      <th>4</th>\n",
       "      <td>0</td>\n",
       "      <td>0</td>\n",
       "      <td>0</td>\n",
       "      <td>1</td>\n",
       "      <td>0</td>\n",
       "      <td>10</td>\n",
       "    </tr>\n",
       "    <tr>\n",
       "      <th>5</th>\n",
       "      <td>0</td>\n",
       "      <td>0</td>\n",
       "      <td>19</td>\n",
       "      <td>0</td>\n",
       "      <td>3</td>\n",
       "      <td>0</td>\n",
       "    </tr>\n",
       "  </tbody>\n",
       "</table>\n",
       "</div>"
      ],
      "text/plain": [
       "kmeans6     0   1   2   3   4   5\n",
       "scluster6                        \n",
       "0           7   0   0   0  25   0\n",
       "1          23   0   0   2   0   0\n",
       "2           0   0   0  18   0   0\n",
       "3           0  17   0   0   0   0\n",
       "4           0   0   0   1   0  10\n",
       "5           0   0  19   0   3   0"
      ]
     },
     "execution_count": 132,
     "metadata": {},
     "output_type": "execute_result"
    }
   ],
   "source": [
    "pd.crosstab(HDmap.scluster6, HDmap.kmeans6)"
   ]
  },
  {
   "cell_type": "code",
   "execution_count": 133,
   "metadata": {},
   "outputs": [
    {
     "data": {
      "text/html": [
       "<div>\n",
       "<style scoped>\n",
       "    .dataframe tbody tr th:only-of-type {\n",
       "        vertical-align: middle;\n",
       "    }\n",
       "\n",
       "    .dataframe tbody tr th {\n",
       "        vertical-align: top;\n",
       "    }\n",
       "\n",
       "    .dataframe thead th {\n",
       "        text-align: right;\n",
       "    }\n",
       "</style>\n",
       "<table border=\"1\" class=\"dataframe\">\n",
       "  <thead>\n",
       "    <tr style=\"text-align: right;\">\n",
       "      <th></th>\n",
       "      <th>country</th>\n",
       "      <th>MDS_x</th>\n",
       "      <th>MDS_y</th>\n",
       "      <th>iso_alpha</th>\n",
       "      <th>continent</th>\n",
       "      <th>subcontinent</th>\n",
       "      <th>Images File Name</th>\n",
       "      <th>ImageURL</th>\n",
       "      <th>scluster6</th>\n",
       "      <th>kmeans6</th>\n",
       "    </tr>\n",
       "  </thead>\n",
       "  <tbody>\n",
       "    <tr>\n",
       "      <th>0</th>\n",
       "      <td>Afghanistan</td>\n",
       "      <td>-0.700987</td>\n",
       "      <td>7.262491</td>\n",
       "      <td>AFG</td>\n",
       "      <td>Asia</td>\n",
       "      <td>Southern Asia</td>\n",
       "      <td>Flag_of_Afghanistan.svg</td>\n",
       "      <td>https://upload.wikimedia.org/wikipedia/commons...</td>\n",
       "      <td>5</td>\n",
       "      <td>2</td>\n",
       "    </tr>\n",
       "    <tr>\n",
       "      <th>1</th>\n",
       "      <td>Albania</td>\n",
       "      <td>-2.424894</td>\n",
       "      <td>-1.924003</td>\n",
       "      <td>ALB</td>\n",
       "      <td>Europe</td>\n",
       "      <td>Southern Europe</td>\n",
       "      <td>Flag_of_Albania.svg</td>\n",
       "      <td>https://upload.wikimedia.org/wikipedia/commons...</td>\n",
       "      <td>1</td>\n",
       "      <td>3</td>\n",
       "    </tr>\n",
       "    <tr>\n",
       "      <th>2</th>\n",
       "      <td>Algeria</td>\n",
       "      <td>-0.830106</td>\n",
       "      <td>0.529020</td>\n",
       "      <td>DZA</td>\n",
       "      <td>Africa</td>\n",
       "      <td>Northern Africa</td>\n",
       "      <td>Flag_of_Algeria.svg</td>\n",
       "      <td>https://upload.wikimedia.org/wikipedia/commons...</td>\n",
       "      <td>1</td>\n",
       "      <td>0</td>\n",
       "    </tr>\n",
       "    <tr>\n",
       "      <th>3</th>\n",
       "      <td>Angola</td>\n",
       "      <td>1.305906</td>\n",
       "      <td>6.663821</td>\n",
       "      <td>AGO</td>\n",
       "      <td>Africa</td>\n",
       "      <td>Sub-Saharan Africa</td>\n",
       "      <td>Flag_of_Angola.svg</td>\n",
       "      <td>https://upload.wikimedia.org/wikipedia/commons...</td>\n",
       "      <td>5</td>\n",
       "      <td>2</td>\n",
       "    </tr>\n",
       "    <tr>\n",
       "      <th>4</th>\n",
       "      <td>Argentina</td>\n",
       "      <td>1.231746</td>\n",
       "      <td>-2.805575</td>\n",
       "      <td>ARG</td>\n",
       "      <td>Americas</td>\n",
       "      <td>Latin America and the Caribbean</td>\n",
       "      <td>Flag_of_Argentina.svg</td>\n",
       "      <td>https://upload.wikimedia.org/wikipedia/commons...</td>\n",
       "      <td>2</td>\n",
       "      <td>3</td>\n",
       "    </tr>\n",
       "  </tbody>\n",
       "</table>\n",
       "</div>"
      ],
      "text/plain": [
       "       country     MDS_x     MDS_y iso_alpha continent  \\\n",
       "0  Afghanistan -0.700987  7.262491       AFG      Asia   \n",
       "1      Albania -2.424894 -1.924003       ALB    Europe   \n",
       "2      Algeria -0.830106  0.529020       DZA    Africa   \n",
       "3       Angola  1.305906  6.663821       AGO    Africa   \n",
       "4    Argentina  1.231746 -2.805575       ARG  Americas   \n",
       "\n",
       "                      subcontinent         Images File Name  \\\n",
       "0                    Southern Asia  Flag_of_Afghanistan.svg   \n",
       "1                  Southern Europe      Flag_of_Albania.svg   \n",
       "2                  Northern Africa      Flag_of_Algeria.svg   \n",
       "3               Sub-Saharan Africa       Flag_of_Angola.svg   \n",
       "4  Latin America and the Caribbean    Flag_of_Argentina.svg   \n",
       "\n",
       "                                            ImageURL scluster6  kmeans6  \n",
       "0  https://upload.wikimedia.org/wikipedia/commons...         5        2  \n",
       "1  https://upload.wikimedia.org/wikipedia/commons...         1        3  \n",
       "2  https://upload.wikimedia.org/wikipedia/commons...         1        0  \n",
       "3  https://upload.wikimedia.org/wikipedia/commons...         5        2  \n",
       "4  https://upload.wikimedia.org/wikipedia/commons...         2        3  "
      ]
     },
     "execution_count": 133,
     "metadata": {},
     "output_type": "execute_result"
    }
   ],
   "source": [
    "HDmap.head()"
   ]
  },
  {
   "cell_type": "code",
   "execution_count": 134,
   "metadata": {},
   "outputs": [
    {
     "data": {
      "application/vnd.plotly.v1+json": {
       "config": {
        "plotlyServerURL": "https://plot.ly"
       },
       "data": [
        {
         "mode": "text",
         "text": [
          "BGD",
          "BEN",
          "BOL",
          "BWA",
          "KHM",
          "CMR",
          "COM",
          "DJI",
          "EGY",
          "GAB",
          "GHA",
          "HTI",
          "IND",
          "IDN",
          "IRQ",
          "KEN",
          "LSO",
          "LBY",
          "MDG",
          "MRT",
          "MNG",
          "MMR",
          "NAM",
          "NPL",
          "PAK",
          "STP",
          "SEN",
          "ZAF",
          "SDN",
          "TGO",
          "VNM",
          "ZWE"
         ],
         "textfont": {
          "color": "#1b9e77",
          "family": "sans serif",
          "size": 12
         },
         "type": "scatter",
         "x": [
          -2.1757814424634665,
          -1.4291143105566815,
          -0.9642115631778374,
          -3.139443635471665,
          -2.8888529383008987,
          -0.7691052816955684,
          -1.6856107674523246,
          -0.2149637760830787,
          -1.4731918522647653,
          3.5036095594346275,
          -1.5987326527568546,
          -1.2542357997702533,
          -2.24482270225752,
          -2.503927026270464,
          2.3240634427143814,
          -1.9624927079793046,
          0.03782015382832477,
          -3.6624659630299496,
          -1.3043930343358168,
          -1.7493909120447686,
          -1.8617703778273564,
          -2.415032705279322,
          -0.044983233870646205,
          -2.2594945380272238,
          -1.893441512784861,
          -2.0833328745707282,
          -1.6486424610551456,
          -2.719371940594707,
          -1.1482155898002293,
          -1.5439656292402806,
          -2.9785036119895616,
          1.1561343595874967
         ],
         "y": [
          3.7044691006518953,
          3.95654823668457,
          2.527519231164618,
          1.3688891208097935,
          4.259307094052987,
          4.073493277217115,
          2.890863322808239,
          4.334147348527773,
          1.572097897018791,
          1.5767798418771195,
          2.991784797175608,
          3.4239764487853384,
          2.6315491425036193,
          2.1635079047994945,
          0.7370601874310002,
          2.883562711312599,
          4.003954757814704,
          -3.930504779943426,
          4.18201390980513,
          2.953518632033564,
          1.9274174438321112,
          2.784786362028151,
          2.276730442819414,
          3.8638732383787944,
          2.2267369388143745,
          1.4140753800996613,
          3.3013621687692036,
          0.5539048178393707,
          3.88100380491431,
          3.159063718357974,
          1.4810258768136921,
          3.775708858619051
         ]
        },
        {
         "mode": "text",
         "text": [
          "ALB",
          "DZA",
          "BRA",
          "CHN",
          "COL",
          "DOM",
          "ECU",
          "SLV",
          "GTM",
          "HND",
          "IRN",
          "JOR",
          "MYS",
          "MUS",
          "MAR",
          "NIC",
          "OMN",
          "PRY",
          "PER",
          "PHL",
          "LKA",
          "SYR",
          "THA",
          "TUN",
          "TUR"
         ],
         "textfont": {
          "color": "#d95f02",
          "family": "sans serif",
          "size": 12
         },
         "type": "scatter",
         "x": [
          -2.424893741606678,
          -0.8301063645549545,
          -0.5919476144509576,
          -3.114618882526172,
          -1.4352255865582741,
          -1.9580285463941116,
          -0.3472139470605805,
          -0.5685843656435909,
          -0.8034891731112807,
          -1.4093788408152659,
          0.6580211753128854,
          -1.618354567887926,
          -1.4457114246821812,
          -1.566002801872381,
          -1.717087013760561,
          -0.6369191462987805,
          3.1295635510665067,
          -2.3785635772433404,
          0.0842614792849198,
          -2.0376039179202334,
          -3.0160768293182043,
          -1.782611230429422,
          -2.228412491935682,
          -1.7588950346236472,
          -1.060999398104218
         ],
         "y": [
          -1.924002865027787,
          0.5290197544507792,
          -0.5147020975735492,
          0.14006530238434214,
          -0.7932400192421888,
          0.07698850088024826,
          -0.6760837450755042,
          0.3562059002117457,
          1.2335573480923938,
          1.0636957819610946,
          0.21682605103064412,
          0.473520611147543,
          -1.0650179982640366,
          -1.1908276989560007,
          1.2271946111422993,
          0.8960367753648582,
          0.013999913349274869,
          -1.5276402174779782,
          0.429960995543559,
          0.40313885009484085,
          -1.1492859647850242,
          0.10642449526154302,
          -0.1395091225536306,
          0.19769981891523908,
          0.3584027702592029
         ]
        },
        {
         "mode": "text",
         "text": [
          "ARG",
          "BGR",
          "CHL",
          "CRI",
          "HRV",
          "CUB",
          "HUN",
          "JAM",
          "LBN",
          "MEX",
          "MNE",
          "PAN",
          "POL",
          "ROU",
          "SRB",
          "TTO",
          "URY",
          "VEN"
         ],
         "textfont": {
          "color": "#7570b3",
          "family": "sans serif",
          "size": 12
         },
         "type": "scatter",
         "x": [
          1.2317458432874975,
          -0.9933173921421068,
          -0.6990674070611301,
          -1.5670332937909184,
          0.5016120973197573,
          -1.004266368730838,
          1.6032689235361435,
          -0.6295878036746814,
          0.4783967030289275,
          0.08103246504102889,
          -0.5745764842117247,
          -1.0854645085207992,
          0.10654646297053402,
          -0.019881436363919588,
          1.136727737381565,
          0.08369125411683784,
          -0.44603071982322534,
          2.505019102783892
         ],
         "y": [
          -2.8055754942140223,
          -2.939486480698396,
          -2.171572786026651,
          -2.745924465272086,
          -3.3357588654382506,
          -3.394413953668473,
          -3.352438556239266,
          -2.6181696413246063,
          -1.7597596608510808,
          -1.6400709506881213,
          -3.173695801306212,
          -2.1026212876514956,
          -3.253109171226261,
          -2.542291272223194,
          -2.875911075808271,
          -2.182048215321596,
          -3.3943267034478546,
          -2.3240385069089267
         ]
        },
        {
         "mode": "text",
         "text": [
          "AUS",
          "AUT",
          "BHR",
          "BEL",
          "CAN",
          "DNK",
          "FRA",
          "DEU",
          "ISL",
          "NLD",
          "NZL",
          "NOR",
          "SAU",
          "SWE",
          "CHE",
          "GBR",
          "USA"
         ],
         "textfont": {
          "color": "#e7298a",
          "family": "sans serif",
          "size": 12
         },
         "type": "scatter",
         "x": [
          4.915885245094587,
          3.932464579012525,
          5.381412616625918,
          4.343284342173853,
          5.939003911448256,
          5.432947909789987,
          3.7386050154582247,
          4.670190608583677,
          3.9671141712315743,
          5.097616871880321,
          5.020681540211962,
          6.400151546807665,
          7.617563767185526,
          4.4620153645797,
          9.09219556884936,
          4.865815276789583,
          7.845986416229554
         ],
         "y": [
          -6.331910751497644,
          -6.5160999429578625,
          -3.54895434394683,
          -6.255418132348962,
          -6.9727713917135,
          -6.764507329992824,
          -6.298653282857255,
          -6.427524471942756,
          -7.2971774269173775,
          -7.181546294996278,
          -5.33405210339409,
          -8.454991414587731,
          -1.5584467005638145,
          -6.893302721497674,
          -7.908832365327688,
          -5.984502869705169,
          -7.3074417378188175
         ]
        },
        {
         "mode": "text",
         "text": [
          "CZE",
          "FIN",
          "GRC",
          "IRL",
          "ISR",
          "ITA",
          "JPN",
          "PRT",
          "SGP",
          "SVN",
          "ESP"
         ],
         "textfont": {
          "color": "#66a61e",
          "family": "sans serif",
          "size": 12
         },
         "type": "scatter",
         "x": [
          2.9530875257550555,
          3.118320131772693,
          1.3990010818263152,
          1.205912275893459,
          1.6614347122549926,
          2.2999511369994017,
          1.7944375712622629,
          0.4892807927875464,
          -0.2609170059661906,
          2.0955399104892445,
          1.112535357263641
         ],
         "y": [
          -4.338730145646584,
          -5.687168932377306,
          -5.230787015053924,
          -5.869483075532583,
          -5.185695599621535,
          -5.740440375609593,
          -6.76471284248533,
          -3.9319414736358658,
          -6.634475091316804,
          -4.577341996655034,
          -5.434488590571007
         ]
        },
        {
         "mode": "text",
         "text": [
          "AFG",
          "AGO",
          "BFA",
          "BDI",
          "CAF",
          "TCD",
          "GNQ",
          "ERI",
          "ETH",
          "GIN",
          "LBR",
          "MWI",
          "MLI",
          "MOZ",
          "NER",
          "NGA",
          "RWA",
          "SLE",
          "SOM",
          "TZA",
          "UGA",
          "ZMB"
         ],
         "textfont": {
          "color": "#e6ab02",
          "family": "sans serif",
          "size": 12
         },
         "type": "scatter",
         "x": [
          -0.7009867866148075,
          1.3059057138944006,
          -1.306498044547856,
          -1.5278499156716643,
          -0.8281791374629741,
          -1.1149262601065768,
          -0.27219663198228233,
          -1.7698563722399183,
          -1.400197869419155,
          -1.1239894196743556,
          -1.045311142576685,
          -1.326471437998829,
          -1.2655413499164678,
          -1.0159425358988126,
          -1.0198792951061555,
          -0.6341337695765962,
          0.7022251213195381,
          -0.36882506277519206,
          -0.5508323315666532,
          -1.3798933795450787,
          -1.5558968356651257,
          -2.551802942448349
         ],
         "y": [
          7.262491236180707,
          6.663820627051101,
          5.1284296194379815,
          5.383127969945023,
          5.537458558064848,
          4.490345321575283,
          5.6483178936683505,
          4.950470059164756,
          5.317531136606095,
          5.665622937669105,
          6.077318798656234,
          5.7399047090451925,
          5.667883415519135,
          6.568164182911524,
          5.387293439842913,
          5.461997224164473,
          6.772501997038049,
          7.478549182782142,
          6.245523918993605,
          4.380849907215764,
          4.503795087958968,
          4.956983895136841
         ]
        }
       ],
       "layout": {
        "height": 600,
        "margin": {
         "b": 20,
         "l": 20,
         "r": 20,
         "t": 40
        },
        "showlegend": false,
        "template": {
         "data": {
          "bar": [
           {
            "error_x": {
             "color": "#2a3f5f"
            },
            "error_y": {
             "color": "#2a3f5f"
            },
            "marker": {
             "line": {
              "color": "#E5ECF6",
              "width": 0.5
             },
             "pattern": {
              "fillmode": "overlay",
              "size": 10,
              "solidity": 0.2
             }
            },
            "type": "bar"
           }
          ],
          "barpolar": [
           {
            "marker": {
             "line": {
              "color": "#E5ECF6",
              "width": 0.5
             },
             "pattern": {
              "fillmode": "overlay",
              "size": 10,
              "solidity": 0.2
             }
            },
            "type": "barpolar"
           }
          ],
          "carpet": [
           {
            "aaxis": {
             "endlinecolor": "#2a3f5f",
             "gridcolor": "white",
             "linecolor": "white",
             "minorgridcolor": "white",
             "startlinecolor": "#2a3f5f"
            },
            "baxis": {
             "endlinecolor": "#2a3f5f",
             "gridcolor": "white",
             "linecolor": "white",
             "minorgridcolor": "white",
             "startlinecolor": "#2a3f5f"
            },
            "type": "carpet"
           }
          ],
          "choropleth": [
           {
            "colorbar": {
             "outlinewidth": 0,
             "ticks": ""
            },
            "type": "choropleth"
           }
          ],
          "contour": [
           {
            "colorbar": {
             "outlinewidth": 0,
             "ticks": ""
            },
            "colorscale": [
             [
              0,
              "#0d0887"
             ],
             [
              0.1111111111111111,
              "#46039f"
             ],
             [
              0.2222222222222222,
              "#7201a8"
             ],
             [
              0.3333333333333333,
              "#9c179e"
             ],
             [
              0.4444444444444444,
              "#bd3786"
             ],
             [
              0.5555555555555556,
              "#d8576b"
             ],
             [
              0.6666666666666666,
              "#ed7953"
             ],
             [
              0.7777777777777778,
              "#fb9f3a"
             ],
             [
              0.8888888888888888,
              "#fdca26"
             ],
             [
              1,
              "#f0f921"
             ]
            ],
            "type": "contour"
           }
          ],
          "contourcarpet": [
           {
            "colorbar": {
             "outlinewidth": 0,
             "ticks": ""
            },
            "type": "contourcarpet"
           }
          ],
          "heatmap": [
           {
            "colorbar": {
             "outlinewidth": 0,
             "ticks": ""
            },
            "colorscale": [
             [
              0,
              "#0d0887"
             ],
             [
              0.1111111111111111,
              "#46039f"
             ],
             [
              0.2222222222222222,
              "#7201a8"
             ],
             [
              0.3333333333333333,
              "#9c179e"
             ],
             [
              0.4444444444444444,
              "#bd3786"
             ],
             [
              0.5555555555555556,
              "#d8576b"
             ],
             [
              0.6666666666666666,
              "#ed7953"
             ],
             [
              0.7777777777777778,
              "#fb9f3a"
             ],
             [
              0.8888888888888888,
              "#fdca26"
             ],
             [
              1,
              "#f0f921"
             ]
            ],
            "type": "heatmap"
           }
          ],
          "heatmapgl": [
           {
            "colorbar": {
             "outlinewidth": 0,
             "ticks": ""
            },
            "colorscale": [
             [
              0,
              "#0d0887"
             ],
             [
              0.1111111111111111,
              "#46039f"
             ],
             [
              0.2222222222222222,
              "#7201a8"
             ],
             [
              0.3333333333333333,
              "#9c179e"
             ],
             [
              0.4444444444444444,
              "#bd3786"
             ],
             [
              0.5555555555555556,
              "#d8576b"
             ],
             [
              0.6666666666666666,
              "#ed7953"
             ],
             [
              0.7777777777777778,
              "#fb9f3a"
             ],
             [
              0.8888888888888888,
              "#fdca26"
             ],
             [
              1,
              "#f0f921"
             ]
            ],
            "type": "heatmapgl"
           }
          ],
          "histogram": [
           {
            "marker": {
             "pattern": {
              "fillmode": "overlay",
              "size": 10,
              "solidity": 0.2
             }
            },
            "type": "histogram"
           }
          ],
          "histogram2d": [
           {
            "colorbar": {
             "outlinewidth": 0,
             "ticks": ""
            },
            "colorscale": [
             [
              0,
              "#0d0887"
             ],
             [
              0.1111111111111111,
              "#46039f"
             ],
             [
              0.2222222222222222,
              "#7201a8"
             ],
             [
              0.3333333333333333,
              "#9c179e"
             ],
             [
              0.4444444444444444,
              "#bd3786"
             ],
             [
              0.5555555555555556,
              "#d8576b"
             ],
             [
              0.6666666666666666,
              "#ed7953"
             ],
             [
              0.7777777777777778,
              "#fb9f3a"
             ],
             [
              0.8888888888888888,
              "#fdca26"
             ],
             [
              1,
              "#f0f921"
             ]
            ],
            "type": "histogram2d"
           }
          ],
          "histogram2dcontour": [
           {
            "colorbar": {
             "outlinewidth": 0,
             "ticks": ""
            },
            "colorscale": [
             [
              0,
              "#0d0887"
             ],
             [
              0.1111111111111111,
              "#46039f"
             ],
             [
              0.2222222222222222,
              "#7201a8"
             ],
             [
              0.3333333333333333,
              "#9c179e"
             ],
             [
              0.4444444444444444,
              "#bd3786"
             ],
             [
              0.5555555555555556,
              "#d8576b"
             ],
             [
              0.6666666666666666,
              "#ed7953"
             ],
             [
              0.7777777777777778,
              "#fb9f3a"
             ],
             [
              0.8888888888888888,
              "#fdca26"
             ],
             [
              1,
              "#f0f921"
             ]
            ],
            "type": "histogram2dcontour"
           }
          ],
          "mesh3d": [
           {
            "colorbar": {
             "outlinewidth": 0,
             "ticks": ""
            },
            "type": "mesh3d"
           }
          ],
          "parcoords": [
           {
            "line": {
             "colorbar": {
              "outlinewidth": 0,
              "ticks": ""
             }
            },
            "type": "parcoords"
           }
          ],
          "pie": [
           {
            "automargin": true,
            "type": "pie"
           }
          ],
          "scatter": [
           {
            "fillpattern": {
             "fillmode": "overlay",
             "size": 10,
             "solidity": 0.2
            },
            "type": "scatter"
           }
          ],
          "scatter3d": [
           {
            "line": {
             "colorbar": {
              "outlinewidth": 0,
              "ticks": ""
             }
            },
            "marker": {
             "colorbar": {
              "outlinewidth": 0,
              "ticks": ""
             }
            },
            "type": "scatter3d"
           }
          ],
          "scattercarpet": [
           {
            "marker": {
             "colorbar": {
              "outlinewidth": 0,
              "ticks": ""
             }
            },
            "type": "scattercarpet"
           }
          ],
          "scattergeo": [
           {
            "marker": {
             "colorbar": {
              "outlinewidth": 0,
              "ticks": ""
             }
            },
            "type": "scattergeo"
           }
          ],
          "scattergl": [
           {
            "marker": {
             "colorbar": {
              "outlinewidth": 0,
              "ticks": ""
             }
            },
            "type": "scattergl"
           }
          ],
          "scattermapbox": [
           {
            "marker": {
             "colorbar": {
              "outlinewidth": 0,
              "ticks": ""
             }
            },
            "type": "scattermapbox"
           }
          ],
          "scatterpolar": [
           {
            "marker": {
             "colorbar": {
              "outlinewidth": 0,
              "ticks": ""
             }
            },
            "type": "scatterpolar"
           }
          ],
          "scatterpolargl": [
           {
            "marker": {
             "colorbar": {
              "outlinewidth": 0,
              "ticks": ""
             }
            },
            "type": "scatterpolargl"
           }
          ],
          "scatterternary": [
           {
            "marker": {
             "colorbar": {
              "outlinewidth": 0,
              "ticks": ""
             }
            },
            "type": "scatterternary"
           }
          ],
          "surface": [
           {
            "colorbar": {
             "outlinewidth": 0,
             "ticks": ""
            },
            "colorscale": [
             [
              0,
              "#0d0887"
             ],
             [
              0.1111111111111111,
              "#46039f"
             ],
             [
              0.2222222222222222,
              "#7201a8"
             ],
             [
              0.3333333333333333,
              "#9c179e"
             ],
             [
              0.4444444444444444,
              "#bd3786"
             ],
             [
              0.5555555555555556,
              "#d8576b"
             ],
             [
              0.6666666666666666,
              "#ed7953"
             ],
             [
              0.7777777777777778,
              "#fb9f3a"
             ],
             [
              0.8888888888888888,
              "#fdca26"
             ],
             [
              1,
              "#f0f921"
             ]
            ],
            "type": "surface"
           }
          ],
          "table": [
           {
            "cells": {
             "fill": {
              "color": "#EBF0F8"
             },
             "line": {
              "color": "white"
             }
            },
            "header": {
             "fill": {
              "color": "#C8D4E3"
             },
             "line": {
              "color": "white"
             }
            },
            "type": "table"
           }
          ]
         },
         "layout": {
          "annotationdefaults": {
           "arrowcolor": "#2a3f5f",
           "arrowhead": 0,
           "arrowwidth": 1
          },
          "autotypenumbers": "strict",
          "coloraxis": {
           "colorbar": {
            "outlinewidth": 0,
            "ticks": ""
           }
          },
          "colorscale": {
           "diverging": [
            [
             0,
             "#8e0152"
            ],
            [
             0.1,
             "#c51b7d"
            ],
            [
             0.2,
             "#de77ae"
            ],
            [
             0.3,
             "#f1b6da"
            ],
            [
             0.4,
             "#fde0ef"
            ],
            [
             0.5,
             "#f7f7f7"
            ],
            [
             0.6,
             "#e6f5d0"
            ],
            [
             0.7,
             "#b8e186"
            ],
            [
             0.8,
             "#7fbc41"
            ],
            [
             0.9,
             "#4d9221"
            ],
            [
             1,
             "#276419"
            ]
           ],
           "sequential": [
            [
             0,
             "#0d0887"
            ],
            [
             0.1111111111111111,
             "#46039f"
            ],
            [
             0.2222222222222222,
             "#7201a8"
            ],
            [
             0.3333333333333333,
             "#9c179e"
            ],
            [
             0.4444444444444444,
             "#bd3786"
            ],
            [
             0.5555555555555556,
             "#d8576b"
            ],
            [
             0.6666666666666666,
             "#ed7953"
            ],
            [
             0.7777777777777778,
             "#fb9f3a"
            ],
            [
             0.8888888888888888,
             "#fdca26"
            ],
            [
             1,
             "#f0f921"
            ]
           ],
           "sequentialminus": [
            [
             0,
             "#0d0887"
            ],
            [
             0.1111111111111111,
             "#46039f"
            ],
            [
             0.2222222222222222,
             "#7201a8"
            ],
            [
             0.3333333333333333,
             "#9c179e"
            ],
            [
             0.4444444444444444,
             "#bd3786"
            ],
            [
             0.5555555555555556,
             "#d8576b"
            ],
            [
             0.6666666666666666,
             "#ed7953"
            ],
            [
             0.7777777777777778,
             "#fb9f3a"
            ],
            [
             0.8888888888888888,
             "#fdca26"
            ],
            [
             1,
             "#f0f921"
            ]
           ]
          },
          "colorway": [
           "#636efa",
           "#EF553B",
           "#00cc96",
           "#ab63fa",
           "#FFA15A",
           "#19d3f3",
           "#FF6692",
           "#B6E880",
           "#FF97FF",
           "#FECB52"
          ],
          "font": {
           "color": "#2a3f5f"
          },
          "geo": {
           "bgcolor": "white",
           "lakecolor": "white",
           "landcolor": "#E5ECF6",
           "showlakes": true,
           "showland": true,
           "subunitcolor": "white"
          },
          "hoverlabel": {
           "align": "left"
          },
          "hovermode": "closest",
          "mapbox": {
           "style": "light"
          },
          "paper_bgcolor": "white",
          "plot_bgcolor": "#E5ECF6",
          "polar": {
           "angularaxis": {
            "gridcolor": "white",
            "linecolor": "white",
            "ticks": ""
           },
           "bgcolor": "#E5ECF6",
           "radialaxis": {
            "gridcolor": "white",
            "linecolor": "white",
            "ticks": ""
           }
          },
          "scene": {
           "xaxis": {
            "backgroundcolor": "#E5ECF6",
            "gridcolor": "white",
            "gridwidth": 2,
            "linecolor": "white",
            "showbackground": true,
            "ticks": "",
            "zerolinecolor": "white"
           },
           "yaxis": {
            "backgroundcolor": "#E5ECF6",
            "gridcolor": "white",
            "gridwidth": 2,
            "linecolor": "white",
            "showbackground": true,
            "ticks": "",
            "zerolinecolor": "white"
           },
           "zaxis": {
            "backgroundcolor": "#E5ECF6",
            "gridcolor": "white",
            "gridwidth": 2,
            "linecolor": "white",
            "showbackground": true,
            "ticks": "",
            "zerolinecolor": "white"
           }
          },
          "shapedefaults": {
           "line": {
            "color": "#2a3f5f"
           }
          },
          "ternary": {
           "aaxis": {
            "gridcolor": "white",
            "linecolor": "white",
            "ticks": ""
           },
           "baxis": {
            "gridcolor": "white",
            "linecolor": "white",
            "ticks": ""
           },
           "bgcolor": "#E5ECF6",
           "caxis": {
            "gridcolor": "white",
            "linecolor": "white",
            "ticks": ""
           }
          },
          "title": {
           "x": 0.05
          },
          "xaxis": {
           "automargin": true,
           "gridcolor": "white",
           "linecolor": "white",
           "ticks": "",
           "title": {
            "standoff": 15
           },
           "zerolinecolor": "white",
           "zerolinewidth": 2
          },
          "yaxis": {
           "automargin": true,
           "gridcolor": "white",
           "linecolor": "white",
           "ticks": "",
           "title": {
            "standoff": 15
           },
           "zerolinecolor": "white",
           "zerolinewidth": 2
          }
         }
        },
        "title": {
         "text": "Countries on the MDS map color-coded by spectral cluster membership"
        },
        "width": 1000,
        "xaxis": {
         "visible": false
        },
        "yaxis": {
         "scaleanchor": "x",
         "scaleratio": 1,
         "visible": false
        }
       }
      }
     },
     "metadata": {},
     "output_type": "display_data"
    }
   ],
   "source": [
    "\n",
    "#colors from colorbrewer \n",
    "#https://colorbrewer2.org/#type=qualitative&scheme=Dark2&n=6\n",
    "cluster_colors = ['#1b9e77','#d95f02','#7570b3','#e7298a','#66a61e','#e6ab02']\n",
    "\n",
    "fig = go.Figure() \n",
    "\n",
    "for cluster_id, cluster in HDmap.groupby(\"scluster6\"): \n",
    "\n",
    "\n",
    "    fig.add_trace(go.Scatter(x=cluster.MDS_x,\n",
    "                             y=cluster.MDS_y,\n",
    "                             mode='text',\n",
    "                            textfont=dict(\n",
    "                                family=\"sans serif\",\n",
    "                                size=12,\n",
    "                                color=cluster_colors[int(cluster_id)]\n",
    "                                ), \n",
    "\n",
    "                             text=cluster.iso_alpha))\n",
    "\n",
    "fig.update_yaxes(\n",
    "    scaleanchor = \"x\",\n",
    "    scaleratio = 1,\n",
    "  )\n",
    "\n",
    "fig.update_xaxes(visible=False)  \n",
    "fig.update_yaxes(visible=False)\n",
    "fig.update_layout(showlegend=False, \n",
    "                 margin=dict(l=20, r=20, t=40, b=20),\n",
    "                 )\n",
    "\n",
    "#plotly setting figure size \n",
    "# https://plotly.com/python/setting-graph-size/\n",
    "fig.update_layout(height=600, width=1000, title_text=\"Countries on the MDS map color-coded by spectral cluster membership\")\n",
    "\n",
    "fig.show()"
   ]
  },
  {
   "cell_type": "code",
   "execution_count": 135,
   "metadata": {},
   "outputs": [
    {
     "data": {
      "application/vnd.plotly.v1+json": {
       "config": {
        "plotlyServerURL": "https://plot.ly"
       },
       "data": [
        {
         "mode": "text",
         "text": [
          "DZA",
          "BRA",
          "CHN",
          "COL",
          "DOM",
          "ECU",
          "EGY",
          "SLV",
          "GAB",
          "GTM",
          "HND",
          "IRN",
          "IRQ",
          "JOR",
          "LBY",
          "MYS",
          "MUS",
          "MAR",
          "NIC",
          "OMN",
          "PER",
          "PHL",
          "STP",
          "ZAF",
          "LKA",
          "SYR",
          "THA",
          "TUN",
          "TUR",
          "VNM"
         ],
         "textfont": {
          "color": "#1b9e77",
          "family": "sans serif",
          "size": 12
         },
         "type": "scatter",
         "x": [
          -0.8301063645549545,
          -0.5919476144509576,
          -3.114618882526172,
          -1.4352255865582741,
          -1.9580285463941116,
          -0.3472139470605805,
          -1.4731918522647653,
          -0.5685843656435909,
          3.5036095594346275,
          -0.8034891731112807,
          -1.4093788408152659,
          0.6580211753128854,
          2.3240634427143814,
          -1.618354567887926,
          -3.6624659630299496,
          -1.4457114246821812,
          -1.566002801872381,
          -1.717087013760561,
          -0.6369191462987805,
          3.1295635510665067,
          0.0842614792849198,
          -2.0376039179202334,
          -2.0833328745707282,
          -2.719371940594707,
          -3.0160768293182043,
          -1.782611230429422,
          -2.228412491935682,
          -1.7588950346236472,
          -1.060999398104218,
          -2.9785036119895616
         ],
         "y": [
          0.5290197544507792,
          -0.5147020975735492,
          0.14006530238434214,
          -0.7932400192421888,
          0.07698850088024826,
          -0.6760837450755042,
          1.572097897018791,
          0.3562059002117457,
          1.5767798418771195,
          1.2335573480923938,
          1.0636957819610946,
          0.21682605103064412,
          0.7370601874310002,
          0.473520611147543,
          -3.930504779943426,
          -1.0650179982640366,
          -1.1908276989560007,
          1.2271946111422993,
          0.8960367753648582,
          0.013999913349274869,
          0.429960995543559,
          0.40313885009484085,
          1.4140753800996613,
          0.5539048178393707,
          -1.1492859647850242,
          0.10642449526154302,
          -0.1395091225536306,
          0.19769981891523908,
          0.3584027702592029,
          1.4810258768136921
         ]
        },
        {
         "mode": "text",
         "text": [
          "AUS",
          "AUT",
          "BHR",
          "BEL",
          "CAN",
          "DNK",
          "FRA",
          "DEU",
          "ISL",
          "NLD",
          "NZL",
          "NOR",
          "SAU",
          "SWE",
          "CHE",
          "GBR",
          "USA"
         ],
         "textfont": {
          "color": "#d95f02",
          "family": "sans serif",
          "size": 12
         },
         "type": "scatter",
         "x": [
          4.915885245094587,
          3.932464579012525,
          5.381412616625918,
          4.343284342173853,
          5.939003911448256,
          5.432947909789987,
          3.7386050154582247,
          4.670190608583677,
          3.9671141712315743,
          5.097616871880321,
          5.020681540211962,
          6.400151546807665,
          7.617563767185526,
          4.4620153645797,
          9.09219556884936,
          4.865815276789583,
          7.845986416229554
         ],
         "y": [
          -6.331910751497644,
          -6.5160999429578625,
          -3.54895434394683,
          -6.255418132348962,
          -6.9727713917135,
          -6.764507329992824,
          -6.298653282857255,
          -6.427524471942756,
          -7.2971774269173775,
          -7.181546294996278,
          -5.33405210339409,
          -8.454991414587731,
          -1.5584467005638145,
          -6.893302721497674,
          -7.908832365327688,
          -5.984502869705169,
          -7.3074417378188175
         ]
        },
        {
         "mode": "text",
         "text": [
          "AFG",
          "AGO",
          "BFA",
          "BDI",
          "CAF",
          "GNQ",
          "ERI",
          "ETH",
          "GIN",
          "LBR",
          "MWI",
          "MLI",
          "MOZ",
          "NER",
          "NGA",
          "RWA",
          "SLE",
          "SOM",
          "ZMB"
         ],
         "textfont": {
          "color": "#7570b3",
          "family": "sans serif",
          "size": 12
         },
         "type": "scatter",
         "x": [
          -0.7009867866148075,
          1.3059057138944006,
          -1.306498044547856,
          -1.5278499156716643,
          -0.8281791374629741,
          -0.27219663198228233,
          -1.7698563722399183,
          -1.400197869419155,
          -1.1239894196743556,
          -1.045311142576685,
          -1.326471437998829,
          -1.2655413499164678,
          -1.0159425358988126,
          -1.0198792951061555,
          -0.6341337695765962,
          0.7022251213195381,
          -0.36882506277519206,
          -0.5508323315666532,
          -2.551802942448349
         ],
         "y": [
          7.262491236180707,
          6.663820627051101,
          5.1284296194379815,
          5.383127969945023,
          5.537458558064848,
          5.6483178936683505,
          4.950470059164756,
          5.317531136606095,
          5.665622937669105,
          6.077318798656234,
          5.7399047090451925,
          5.667883415519135,
          6.568164182911524,
          5.387293439842913,
          5.461997224164473,
          6.772501997038049,
          7.478549182782142,
          6.245523918993605,
          4.956983895136841
         ]
        },
        {
         "mode": "text",
         "text": [
          "ALB",
          "ARG",
          "BGR",
          "CHL",
          "CRI",
          "HRV",
          "CUB",
          "HUN",
          "JAM",
          "LBN",
          "MEX",
          "MNE",
          "PAN",
          "PRY",
          "POL",
          "PRT",
          "ROU",
          "SRB",
          "TTO",
          "URY",
          "VEN"
         ],
         "textfont": {
          "color": "#e7298a",
          "family": "sans serif",
          "size": 12
         },
         "type": "scatter",
         "x": [
          -2.424893741606678,
          1.2317458432874975,
          -0.9933173921421068,
          -0.6990674070611301,
          -1.5670332937909184,
          0.5016120973197573,
          -1.004266368730838,
          1.6032689235361435,
          -0.6295878036746814,
          0.4783967030289275,
          0.08103246504102889,
          -0.5745764842117247,
          -1.0854645085207992,
          -2.3785635772433404,
          0.10654646297053402,
          0.4892807927875464,
          -0.019881436363919588,
          1.136727737381565,
          0.08369125411683784,
          -0.44603071982322534,
          2.505019102783892
         ],
         "y": [
          -1.924002865027787,
          -2.8055754942140223,
          -2.939486480698396,
          -2.171572786026651,
          -2.745924465272086,
          -3.3357588654382506,
          -3.394413953668473,
          -3.352438556239266,
          -2.6181696413246063,
          -1.7597596608510808,
          -1.6400709506881213,
          -3.173695801306212,
          -2.1026212876514956,
          -1.5276402174779782,
          -3.253109171226261,
          -3.9319414736358658,
          -2.542291272223194,
          -2.875911075808271,
          -2.182048215321596,
          -3.3943267034478546,
          -2.3240385069089267
         ]
        },
        {
         "mode": "text",
         "text": [
          "BGD",
          "BEN",
          "BOL",
          "BWA",
          "KHM",
          "CMR",
          "TCD",
          "COM",
          "DJI",
          "GHA",
          "HTI",
          "IND",
          "IDN",
          "KEN",
          "LSO",
          "MDG",
          "MRT",
          "MNG",
          "MMR",
          "NAM",
          "NPL",
          "PAK",
          "SEN",
          "SDN",
          "TZA",
          "TGO",
          "UGA",
          "ZWE"
         ],
         "textfont": {
          "color": "#66a61e",
          "family": "sans serif",
          "size": 12
         },
         "type": "scatter",
         "x": [
          -2.1757814424634665,
          -1.4291143105566815,
          -0.9642115631778374,
          -3.139443635471665,
          -2.8888529383008987,
          -0.7691052816955684,
          -1.1149262601065768,
          -1.6856107674523246,
          -0.2149637760830787,
          -1.5987326527568546,
          -1.2542357997702533,
          -2.24482270225752,
          -2.503927026270464,
          -1.9624927079793046,
          0.03782015382832477,
          -1.3043930343358168,
          -1.7493909120447686,
          -1.8617703778273564,
          -2.415032705279322,
          -0.044983233870646205,
          -2.2594945380272238,
          -1.893441512784861,
          -1.6486424610551456,
          -1.1482155898002293,
          -1.3798933795450787,
          -1.5439656292402806,
          -1.5558968356651257,
          1.1561343595874967
         ],
         "y": [
          3.7044691006518953,
          3.95654823668457,
          2.527519231164618,
          1.3688891208097935,
          4.259307094052987,
          4.073493277217115,
          4.490345321575283,
          2.890863322808239,
          4.334147348527773,
          2.991784797175608,
          3.4239764487853384,
          2.6315491425036193,
          2.1635079047994945,
          2.883562711312599,
          4.003954757814704,
          4.18201390980513,
          2.953518632033564,
          1.9274174438321112,
          2.784786362028151,
          2.276730442819414,
          3.8638732383787944,
          2.2267369388143745,
          3.3013621687692036,
          3.88100380491431,
          4.380849907215764,
          3.159063718357974,
          4.503795087958968,
          3.775708858619051
         ]
        },
        {
         "mode": "text",
         "text": [
          "CZE",
          "FIN",
          "GRC",
          "IRL",
          "ISR",
          "ITA",
          "JPN",
          "SGP",
          "SVN",
          "ESP"
         ],
         "textfont": {
          "color": "#e6ab02",
          "family": "sans serif",
          "size": 12
         },
         "type": "scatter",
         "x": [
          2.9530875257550555,
          3.118320131772693,
          1.3990010818263152,
          1.205912275893459,
          1.6614347122549926,
          2.2999511369994017,
          1.7944375712622629,
          -0.2609170059661906,
          2.0955399104892445,
          1.112535357263641
         ],
         "y": [
          -4.338730145646584,
          -5.687168932377306,
          -5.230787015053924,
          -5.869483075532583,
          -5.185695599621535,
          -5.740440375609593,
          -6.76471284248533,
          -6.634475091316804,
          -4.577341996655034,
          -5.434488590571007
         ]
        }
       ],
       "layout": {
        "height": 600,
        "margin": {
         "b": 20,
         "l": 20,
         "r": 20,
         "t": 40
        },
        "showlegend": false,
        "template": {
         "data": {
          "bar": [
           {
            "error_x": {
             "color": "#2a3f5f"
            },
            "error_y": {
             "color": "#2a3f5f"
            },
            "marker": {
             "line": {
              "color": "#E5ECF6",
              "width": 0.5
             },
             "pattern": {
              "fillmode": "overlay",
              "size": 10,
              "solidity": 0.2
             }
            },
            "type": "bar"
           }
          ],
          "barpolar": [
           {
            "marker": {
             "line": {
              "color": "#E5ECF6",
              "width": 0.5
             },
             "pattern": {
              "fillmode": "overlay",
              "size": 10,
              "solidity": 0.2
             }
            },
            "type": "barpolar"
           }
          ],
          "carpet": [
           {
            "aaxis": {
             "endlinecolor": "#2a3f5f",
             "gridcolor": "white",
             "linecolor": "white",
             "minorgridcolor": "white",
             "startlinecolor": "#2a3f5f"
            },
            "baxis": {
             "endlinecolor": "#2a3f5f",
             "gridcolor": "white",
             "linecolor": "white",
             "minorgridcolor": "white",
             "startlinecolor": "#2a3f5f"
            },
            "type": "carpet"
           }
          ],
          "choropleth": [
           {
            "colorbar": {
             "outlinewidth": 0,
             "ticks": ""
            },
            "type": "choropleth"
           }
          ],
          "contour": [
           {
            "colorbar": {
             "outlinewidth": 0,
             "ticks": ""
            },
            "colorscale": [
             [
              0,
              "#0d0887"
             ],
             [
              0.1111111111111111,
              "#46039f"
             ],
             [
              0.2222222222222222,
              "#7201a8"
             ],
             [
              0.3333333333333333,
              "#9c179e"
             ],
             [
              0.4444444444444444,
              "#bd3786"
             ],
             [
              0.5555555555555556,
              "#d8576b"
             ],
             [
              0.6666666666666666,
              "#ed7953"
             ],
             [
              0.7777777777777778,
              "#fb9f3a"
             ],
             [
              0.8888888888888888,
              "#fdca26"
             ],
             [
              1,
              "#f0f921"
             ]
            ],
            "type": "contour"
           }
          ],
          "contourcarpet": [
           {
            "colorbar": {
             "outlinewidth": 0,
             "ticks": ""
            },
            "type": "contourcarpet"
           }
          ],
          "heatmap": [
           {
            "colorbar": {
             "outlinewidth": 0,
             "ticks": ""
            },
            "colorscale": [
             [
              0,
              "#0d0887"
             ],
             [
              0.1111111111111111,
              "#46039f"
             ],
             [
              0.2222222222222222,
              "#7201a8"
             ],
             [
              0.3333333333333333,
              "#9c179e"
             ],
             [
              0.4444444444444444,
              "#bd3786"
             ],
             [
              0.5555555555555556,
              "#d8576b"
             ],
             [
              0.6666666666666666,
              "#ed7953"
             ],
             [
              0.7777777777777778,
              "#fb9f3a"
             ],
             [
              0.8888888888888888,
              "#fdca26"
             ],
             [
              1,
              "#f0f921"
             ]
            ],
            "type": "heatmap"
           }
          ],
          "heatmapgl": [
           {
            "colorbar": {
             "outlinewidth": 0,
             "ticks": ""
            },
            "colorscale": [
             [
              0,
              "#0d0887"
             ],
             [
              0.1111111111111111,
              "#46039f"
             ],
             [
              0.2222222222222222,
              "#7201a8"
             ],
             [
              0.3333333333333333,
              "#9c179e"
             ],
             [
              0.4444444444444444,
              "#bd3786"
             ],
             [
              0.5555555555555556,
              "#d8576b"
             ],
             [
              0.6666666666666666,
              "#ed7953"
             ],
             [
              0.7777777777777778,
              "#fb9f3a"
             ],
             [
              0.8888888888888888,
              "#fdca26"
             ],
             [
              1,
              "#f0f921"
             ]
            ],
            "type": "heatmapgl"
           }
          ],
          "histogram": [
           {
            "marker": {
             "pattern": {
              "fillmode": "overlay",
              "size": 10,
              "solidity": 0.2
             }
            },
            "type": "histogram"
           }
          ],
          "histogram2d": [
           {
            "colorbar": {
             "outlinewidth": 0,
             "ticks": ""
            },
            "colorscale": [
             [
              0,
              "#0d0887"
             ],
             [
              0.1111111111111111,
              "#46039f"
             ],
             [
              0.2222222222222222,
              "#7201a8"
             ],
             [
              0.3333333333333333,
              "#9c179e"
             ],
             [
              0.4444444444444444,
              "#bd3786"
             ],
             [
              0.5555555555555556,
              "#d8576b"
             ],
             [
              0.6666666666666666,
              "#ed7953"
             ],
             [
              0.7777777777777778,
              "#fb9f3a"
             ],
             [
              0.8888888888888888,
              "#fdca26"
             ],
             [
              1,
              "#f0f921"
             ]
            ],
            "type": "histogram2d"
           }
          ],
          "histogram2dcontour": [
           {
            "colorbar": {
             "outlinewidth": 0,
             "ticks": ""
            },
            "colorscale": [
             [
              0,
              "#0d0887"
             ],
             [
              0.1111111111111111,
              "#46039f"
             ],
             [
              0.2222222222222222,
              "#7201a8"
             ],
             [
              0.3333333333333333,
              "#9c179e"
             ],
             [
              0.4444444444444444,
              "#bd3786"
             ],
             [
              0.5555555555555556,
              "#d8576b"
             ],
             [
              0.6666666666666666,
              "#ed7953"
             ],
             [
              0.7777777777777778,
              "#fb9f3a"
             ],
             [
              0.8888888888888888,
              "#fdca26"
             ],
             [
              1,
              "#f0f921"
             ]
            ],
            "type": "histogram2dcontour"
           }
          ],
          "mesh3d": [
           {
            "colorbar": {
             "outlinewidth": 0,
             "ticks": ""
            },
            "type": "mesh3d"
           }
          ],
          "parcoords": [
           {
            "line": {
             "colorbar": {
              "outlinewidth": 0,
              "ticks": ""
             }
            },
            "type": "parcoords"
           }
          ],
          "pie": [
           {
            "automargin": true,
            "type": "pie"
           }
          ],
          "scatter": [
           {
            "fillpattern": {
             "fillmode": "overlay",
             "size": 10,
             "solidity": 0.2
            },
            "type": "scatter"
           }
          ],
          "scatter3d": [
           {
            "line": {
             "colorbar": {
              "outlinewidth": 0,
              "ticks": ""
             }
            },
            "marker": {
             "colorbar": {
              "outlinewidth": 0,
              "ticks": ""
             }
            },
            "type": "scatter3d"
           }
          ],
          "scattercarpet": [
           {
            "marker": {
             "colorbar": {
              "outlinewidth": 0,
              "ticks": ""
             }
            },
            "type": "scattercarpet"
           }
          ],
          "scattergeo": [
           {
            "marker": {
             "colorbar": {
              "outlinewidth": 0,
              "ticks": ""
             }
            },
            "type": "scattergeo"
           }
          ],
          "scattergl": [
           {
            "marker": {
             "colorbar": {
              "outlinewidth": 0,
              "ticks": ""
             }
            },
            "type": "scattergl"
           }
          ],
          "scattermapbox": [
           {
            "marker": {
             "colorbar": {
              "outlinewidth": 0,
              "ticks": ""
             }
            },
            "type": "scattermapbox"
           }
          ],
          "scatterpolar": [
           {
            "marker": {
             "colorbar": {
              "outlinewidth": 0,
              "ticks": ""
             }
            },
            "type": "scatterpolar"
           }
          ],
          "scatterpolargl": [
           {
            "marker": {
             "colorbar": {
              "outlinewidth": 0,
              "ticks": ""
             }
            },
            "type": "scatterpolargl"
           }
          ],
          "scatterternary": [
           {
            "marker": {
             "colorbar": {
              "outlinewidth": 0,
              "ticks": ""
             }
            },
            "type": "scatterternary"
           }
          ],
          "surface": [
           {
            "colorbar": {
             "outlinewidth": 0,
             "ticks": ""
            },
            "colorscale": [
             [
              0,
              "#0d0887"
             ],
             [
              0.1111111111111111,
              "#46039f"
             ],
             [
              0.2222222222222222,
              "#7201a8"
             ],
             [
              0.3333333333333333,
              "#9c179e"
             ],
             [
              0.4444444444444444,
              "#bd3786"
             ],
             [
              0.5555555555555556,
              "#d8576b"
             ],
             [
              0.6666666666666666,
              "#ed7953"
             ],
             [
              0.7777777777777778,
              "#fb9f3a"
             ],
             [
              0.8888888888888888,
              "#fdca26"
             ],
             [
              1,
              "#f0f921"
             ]
            ],
            "type": "surface"
           }
          ],
          "table": [
           {
            "cells": {
             "fill": {
              "color": "#EBF0F8"
             },
             "line": {
              "color": "white"
             }
            },
            "header": {
             "fill": {
              "color": "#C8D4E3"
             },
             "line": {
              "color": "white"
             }
            },
            "type": "table"
           }
          ]
         },
         "layout": {
          "annotationdefaults": {
           "arrowcolor": "#2a3f5f",
           "arrowhead": 0,
           "arrowwidth": 1
          },
          "autotypenumbers": "strict",
          "coloraxis": {
           "colorbar": {
            "outlinewidth": 0,
            "ticks": ""
           }
          },
          "colorscale": {
           "diverging": [
            [
             0,
             "#8e0152"
            ],
            [
             0.1,
             "#c51b7d"
            ],
            [
             0.2,
             "#de77ae"
            ],
            [
             0.3,
             "#f1b6da"
            ],
            [
             0.4,
             "#fde0ef"
            ],
            [
             0.5,
             "#f7f7f7"
            ],
            [
             0.6,
             "#e6f5d0"
            ],
            [
             0.7,
             "#b8e186"
            ],
            [
             0.8,
             "#7fbc41"
            ],
            [
             0.9,
             "#4d9221"
            ],
            [
             1,
             "#276419"
            ]
           ],
           "sequential": [
            [
             0,
             "#0d0887"
            ],
            [
             0.1111111111111111,
             "#46039f"
            ],
            [
             0.2222222222222222,
             "#7201a8"
            ],
            [
             0.3333333333333333,
             "#9c179e"
            ],
            [
             0.4444444444444444,
             "#bd3786"
            ],
            [
             0.5555555555555556,
             "#d8576b"
            ],
            [
             0.6666666666666666,
             "#ed7953"
            ],
            [
             0.7777777777777778,
             "#fb9f3a"
            ],
            [
             0.8888888888888888,
             "#fdca26"
            ],
            [
             1,
             "#f0f921"
            ]
           ],
           "sequentialminus": [
            [
             0,
             "#0d0887"
            ],
            [
             0.1111111111111111,
             "#46039f"
            ],
            [
             0.2222222222222222,
             "#7201a8"
            ],
            [
             0.3333333333333333,
             "#9c179e"
            ],
            [
             0.4444444444444444,
             "#bd3786"
            ],
            [
             0.5555555555555556,
             "#d8576b"
            ],
            [
             0.6666666666666666,
             "#ed7953"
            ],
            [
             0.7777777777777778,
             "#fb9f3a"
            ],
            [
             0.8888888888888888,
             "#fdca26"
            ],
            [
             1,
             "#f0f921"
            ]
           ]
          },
          "colorway": [
           "#636efa",
           "#EF553B",
           "#00cc96",
           "#ab63fa",
           "#FFA15A",
           "#19d3f3",
           "#FF6692",
           "#B6E880",
           "#FF97FF",
           "#FECB52"
          ],
          "font": {
           "color": "#2a3f5f"
          },
          "geo": {
           "bgcolor": "white",
           "lakecolor": "white",
           "landcolor": "#E5ECF6",
           "showlakes": true,
           "showland": true,
           "subunitcolor": "white"
          },
          "hoverlabel": {
           "align": "left"
          },
          "hovermode": "closest",
          "mapbox": {
           "style": "light"
          },
          "paper_bgcolor": "white",
          "plot_bgcolor": "#E5ECF6",
          "polar": {
           "angularaxis": {
            "gridcolor": "white",
            "linecolor": "white",
            "ticks": ""
           },
           "bgcolor": "#E5ECF6",
           "radialaxis": {
            "gridcolor": "white",
            "linecolor": "white",
            "ticks": ""
           }
          },
          "scene": {
           "xaxis": {
            "backgroundcolor": "#E5ECF6",
            "gridcolor": "white",
            "gridwidth": 2,
            "linecolor": "white",
            "showbackground": true,
            "ticks": "",
            "zerolinecolor": "white"
           },
           "yaxis": {
            "backgroundcolor": "#E5ECF6",
            "gridcolor": "white",
            "gridwidth": 2,
            "linecolor": "white",
            "showbackground": true,
            "ticks": "",
            "zerolinecolor": "white"
           },
           "zaxis": {
            "backgroundcolor": "#E5ECF6",
            "gridcolor": "white",
            "gridwidth": 2,
            "linecolor": "white",
            "showbackground": true,
            "ticks": "",
            "zerolinecolor": "white"
           }
          },
          "shapedefaults": {
           "line": {
            "color": "#2a3f5f"
           }
          },
          "ternary": {
           "aaxis": {
            "gridcolor": "white",
            "linecolor": "white",
            "ticks": ""
           },
           "baxis": {
            "gridcolor": "white",
            "linecolor": "white",
            "ticks": ""
           },
           "bgcolor": "#E5ECF6",
           "caxis": {
            "gridcolor": "white",
            "linecolor": "white",
            "ticks": ""
           }
          },
          "title": {
           "x": 0.05
          },
          "xaxis": {
           "automargin": true,
           "gridcolor": "white",
           "linecolor": "white",
           "ticks": "",
           "title": {
            "standoff": 15
           },
           "zerolinecolor": "white",
           "zerolinewidth": 2
          },
          "yaxis": {
           "automargin": true,
           "gridcolor": "white",
           "linecolor": "white",
           "ticks": "",
           "title": {
            "standoff": 15
           },
           "zerolinecolor": "white",
           "zerolinewidth": 2
          }
         }
        },
        "title": {
         "text": "Countries on the MDS map color-coded by Kmeans cluster membership"
        },
        "width": 1000,
        "xaxis": {
         "visible": false
        },
        "yaxis": {
         "scaleanchor": "x",
         "scaleratio": 1,
         "visible": false
        }
       }
      }
     },
     "metadata": {},
     "output_type": "display_data"
    }
   ],
   "source": [
    "#colors from colorbrewer \n",
    "#https://colorbrewer2.org/#type=qualitative&scheme=Dark2&n=6\n",
    "cluster_colors = ['#1b9e77','#d95f02','#7570b3','#e7298a','#66a61e','#e6ab02']\n",
    "\n",
    "fig = go.Figure() \n",
    "\n",
    "for cluster_id, cluster in HDmap.groupby(\"kmeans6\"): \n",
    "\n",
    "\n",
    "    fig.add_trace(go.Scatter(x=cluster.MDS_x,\n",
    "                             y=cluster.MDS_y,\n",
    "                             mode='text',\n",
    "                            textfont=dict(\n",
    "                                family=\"sans serif\",\n",
    "                                size=12,\n",
    "                                color=cluster_colors[int(cluster_id)]\n",
    "                                ), \n",
    "\n",
    "                             text=cluster.iso_alpha))\n",
    "\n",
    "fig.update_yaxes(\n",
    "    scaleanchor = \"x\",\n",
    "    scaleratio = 1,\n",
    "  )\n",
    "\n",
    "fig.update_xaxes(visible=False)  \n",
    "fig.update_yaxes(visible=False)\n",
    "fig.update_layout(showlegend=False, \n",
    "                 margin=dict(l=20, r=20, t=40, b=20),\n",
    "                 )\n",
    "\n",
    "#plotly setting figure size \n",
    "# https://plotly.com/python/setting-graph-size/\n",
    "fig.update_layout(height=600, width=1000, title_text=\"Countries on the MDS map color-coded by Kmeans cluster membership\")\n",
    "\n",
    "fig.show()"
   ]
  },
  {
   "cell_type": "markdown",
   "metadata": {},
   "source": [
    "Let's show some countries from each cluster"
   ]
  },
  {
   "cell_type": "code",
   "execution_count": 136,
   "metadata": {},
   "outputs": [
    {
     "data": {
      "application/vnd.plotly.v1+json": {
       "config": {
        "plotlyServerURL": "https://plot.ly"
       },
       "data": [
        {
         "hovertemplate": "country=Canada<br>gdpPercap=%{x}<br>lifeExp=%{y}<extra></extra>",
         "legendgroup": "Canada",
         "line": {
          "color": "#636efa",
          "dash": "solid"
         },
         "marker": {
          "symbol": "circle"
         },
         "mode": "lines",
         "name": "Canada",
         "orientation": "v",
         "showlegend": true,
         "textposition": "bottom right",
         "type": "scatter",
         "x": [
          11367.16112,
          12489.95006,
          13462.48555,
          16076.58803,
          18970.57086,
          22090.88306,
          22898.79214,
          26626.51503,
          26342.88426,
          28954.92589,
          33328.96507,
          36319.23501
         ],
         "xaxis": "x",
         "y": [
          68.75,
          69.96,
          71.3,
          72.13,
          72.88,
          74.21,
          75.76,
          76.86,
          77.95,
          78.61,
          79.77,
          80.653
         ],
         "yaxis": "y"
        },
        {
         "hovertemplate": "country=Ethiopia<br>gdpPercap=%{x}<br>lifeExp=%{y}<extra></extra>",
         "legendgroup": "Ethiopia",
         "line": {
          "color": "#EF553B",
          "dash": "solid"
         },
         "marker": {
          "symbol": "circle"
         },
         "mode": "lines",
         "name": "Ethiopia",
         "orientation": "v",
         "showlegend": true,
         "textposition": "bottom right",
         "type": "scatter",
         "x": [
          362.1462796,
          378.9041632,
          419.4564161,
          516.1186438,
          566.2439442,
          556.8083834,
          577.8607471,
          573.7413142,
          421.3534653,
          515.8894013,
          530.0535319,
          690.8055759
         ],
         "xaxis": "x",
         "y": [
          34.078,
          36.667,
          40.059,
          42.115,
          43.515,
          44.51,
          44.916,
          46.684,
          48.091,
          49.402,
          50.725,
          52.947
         ],
         "yaxis": "y"
        },
        {
         "hovertemplate": "country=Jamaica<br>gdpPercap=%{x}<br>lifeExp=%{y}<extra></extra>",
         "legendgroup": "Jamaica",
         "line": {
          "color": "#00cc96",
          "dash": "solid"
         },
         "marker": {
          "symbol": "circle"
         },
         "mode": "lines",
         "name": "Jamaica",
         "orientation": "v",
         "showlegend": true,
         "textposition": "bottom right",
         "type": "scatter",
         "x": [
          2898.530881,
          4756.525781,
          5246.107524,
          6124.703451,
          7433.889293,
          6650.195573,
          6068.05135,
          6351.237495,
          7404.923685,
          7121.924704,
          6994.774861,
          7320.880262
         ],
         "xaxis": "x",
         "y": [
          58.53,
          62.61,
          65.61,
          67.51,
          69,
          70.11,
          71.21,
          71.77,
          71.766,
          72.262,
          72.047,
          72.567
         ],
         "yaxis": "y"
        },
        {
         "hovertemplate": "country=Senegal<br>gdpPercap=%{x}<br>lifeExp=%{y}<extra></extra>",
         "legendgroup": "Senegal",
         "line": {
          "color": "#ab63fa",
          "dash": "solid"
         },
         "marker": {
          "symbol": "circle"
         },
         "mode": "lines",
         "name": "Senegal",
         "orientation": "v",
         "showlegend": true,
         "textposition": "bottom right",
         "type": "scatter",
         "x": [
          1450.356983,
          1567.653006,
          1654.988723,
          1612.404632,
          1597.712056,
          1561.769116,
          1518.479984,
          1441.72072,
          1367.899369,
          1392.368347,
          1519.635262,
          1712.472136
         ],
         "xaxis": "x",
         "y": [
          37.278,
          39.329,
          41.454,
          43.563,
          45.815,
          48.879,
          52.379,
          55.769,
          58.196,
          60.187,
          61.6,
          63.062
         ],
         "yaxis": "y"
        },
        {
         "hovertemplate": "country=Spain<br>gdpPercap=%{x}<br>lifeExp=%{y}<extra></extra>",
         "legendgroup": "Spain",
         "line": {
          "color": "#FFA15A",
          "dash": "solid"
         },
         "marker": {
          "symbol": "circle"
         },
         "mode": "lines",
         "name": "Spain",
         "orientation": "v",
         "showlegend": true,
         "textposition": "bottom right",
         "type": "scatter",
         "x": [
          3834.034742,
          4564.80241,
          5693.843879,
          7993.512294,
          10638.75131,
          13236.92117,
          13926.16997,
          15764.98313,
          18603.06452,
          20445.29896,
          24835.47166,
          28821.0637
         ],
         "xaxis": "x",
         "y": [
          64.94,
          66.66,
          69.69,
          71.44,
          73.06,
          74.39,
          76.3,
          76.9,
          77.57,
          78.77,
          79.78,
          80.941
         ],
         "yaxis": "y"
        },
        {
         "hovertemplate": "country=Thailand<br>gdpPercap=%{x}<br>lifeExp=%{y}<extra></extra>",
         "legendgroup": "Thailand",
         "line": {
          "color": "#19d3f3",
          "dash": "solid"
         },
         "marker": {
          "symbol": "circle"
         },
         "mode": "lines",
         "name": "Thailand",
         "orientation": "v",
         "showlegend": true,
         "textposition": "bottom right",
         "type": "scatter",
         "x": [
          757.7974177,
          793.5774148,
          1002.199172,
          1295.46066,
          1524.358936,
          1961.224635,
          2393.219781,
          2982.653773,
          4616.896545,
          5852.625497,
          5913.187529,
          7458.396327
         ],
         "xaxis": "x",
         "y": [
          50.848,
          53.63,
          56.061,
          58.285,
          60.405,
          62.494,
          64.597,
          66.084,
          67.298,
          67.521,
          68.564,
          70.616
         ],
         "yaxis": "y"
        }
       ],
       "layout": {
        "height": 600,
        "legend": {
         "title": {
          "text": "country"
         },
         "tracegroupgap": 0
        },
        "margin": {
         "t": 60
        },
        "template": {
         "data": {
          "bar": [
           {
            "error_x": {
             "color": "#2a3f5f"
            },
            "error_y": {
             "color": "#2a3f5f"
            },
            "marker": {
             "line": {
              "color": "#E5ECF6",
              "width": 0.5
             },
             "pattern": {
              "fillmode": "overlay",
              "size": 10,
              "solidity": 0.2
             }
            },
            "type": "bar"
           }
          ],
          "barpolar": [
           {
            "marker": {
             "line": {
              "color": "#E5ECF6",
              "width": 0.5
             },
             "pattern": {
              "fillmode": "overlay",
              "size": 10,
              "solidity": 0.2
             }
            },
            "type": "barpolar"
           }
          ],
          "carpet": [
           {
            "aaxis": {
             "endlinecolor": "#2a3f5f",
             "gridcolor": "white",
             "linecolor": "white",
             "minorgridcolor": "white",
             "startlinecolor": "#2a3f5f"
            },
            "baxis": {
             "endlinecolor": "#2a3f5f",
             "gridcolor": "white",
             "linecolor": "white",
             "minorgridcolor": "white",
             "startlinecolor": "#2a3f5f"
            },
            "type": "carpet"
           }
          ],
          "choropleth": [
           {
            "colorbar": {
             "outlinewidth": 0,
             "ticks": ""
            },
            "type": "choropleth"
           }
          ],
          "contour": [
           {
            "colorbar": {
             "outlinewidth": 0,
             "ticks": ""
            },
            "colorscale": [
             [
              0,
              "#0d0887"
             ],
             [
              0.1111111111111111,
              "#46039f"
             ],
             [
              0.2222222222222222,
              "#7201a8"
             ],
             [
              0.3333333333333333,
              "#9c179e"
             ],
             [
              0.4444444444444444,
              "#bd3786"
             ],
             [
              0.5555555555555556,
              "#d8576b"
             ],
             [
              0.6666666666666666,
              "#ed7953"
             ],
             [
              0.7777777777777778,
              "#fb9f3a"
             ],
             [
              0.8888888888888888,
              "#fdca26"
             ],
             [
              1,
              "#f0f921"
             ]
            ],
            "type": "contour"
           }
          ],
          "contourcarpet": [
           {
            "colorbar": {
             "outlinewidth": 0,
             "ticks": ""
            },
            "type": "contourcarpet"
           }
          ],
          "heatmap": [
           {
            "colorbar": {
             "outlinewidth": 0,
             "ticks": ""
            },
            "colorscale": [
             [
              0,
              "#0d0887"
             ],
             [
              0.1111111111111111,
              "#46039f"
             ],
             [
              0.2222222222222222,
              "#7201a8"
             ],
             [
              0.3333333333333333,
              "#9c179e"
             ],
             [
              0.4444444444444444,
              "#bd3786"
             ],
             [
              0.5555555555555556,
              "#d8576b"
             ],
             [
              0.6666666666666666,
              "#ed7953"
             ],
             [
              0.7777777777777778,
              "#fb9f3a"
             ],
             [
              0.8888888888888888,
              "#fdca26"
             ],
             [
              1,
              "#f0f921"
             ]
            ],
            "type": "heatmap"
           }
          ],
          "heatmapgl": [
           {
            "colorbar": {
             "outlinewidth": 0,
             "ticks": ""
            },
            "colorscale": [
             [
              0,
              "#0d0887"
             ],
             [
              0.1111111111111111,
              "#46039f"
             ],
             [
              0.2222222222222222,
              "#7201a8"
             ],
             [
              0.3333333333333333,
              "#9c179e"
             ],
             [
              0.4444444444444444,
              "#bd3786"
             ],
             [
              0.5555555555555556,
              "#d8576b"
             ],
             [
              0.6666666666666666,
              "#ed7953"
             ],
             [
              0.7777777777777778,
              "#fb9f3a"
             ],
             [
              0.8888888888888888,
              "#fdca26"
             ],
             [
              1,
              "#f0f921"
             ]
            ],
            "type": "heatmapgl"
           }
          ],
          "histogram": [
           {
            "marker": {
             "pattern": {
              "fillmode": "overlay",
              "size": 10,
              "solidity": 0.2
             }
            },
            "type": "histogram"
           }
          ],
          "histogram2d": [
           {
            "colorbar": {
             "outlinewidth": 0,
             "ticks": ""
            },
            "colorscale": [
             [
              0,
              "#0d0887"
             ],
             [
              0.1111111111111111,
              "#46039f"
             ],
             [
              0.2222222222222222,
              "#7201a8"
             ],
             [
              0.3333333333333333,
              "#9c179e"
             ],
             [
              0.4444444444444444,
              "#bd3786"
             ],
             [
              0.5555555555555556,
              "#d8576b"
             ],
             [
              0.6666666666666666,
              "#ed7953"
             ],
             [
              0.7777777777777778,
              "#fb9f3a"
             ],
             [
              0.8888888888888888,
              "#fdca26"
             ],
             [
              1,
              "#f0f921"
             ]
            ],
            "type": "histogram2d"
           }
          ],
          "histogram2dcontour": [
           {
            "colorbar": {
             "outlinewidth": 0,
             "ticks": ""
            },
            "colorscale": [
             [
              0,
              "#0d0887"
             ],
             [
              0.1111111111111111,
              "#46039f"
             ],
             [
              0.2222222222222222,
              "#7201a8"
             ],
             [
              0.3333333333333333,
              "#9c179e"
             ],
             [
              0.4444444444444444,
              "#bd3786"
             ],
             [
              0.5555555555555556,
              "#d8576b"
             ],
             [
              0.6666666666666666,
              "#ed7953"
             ],
             [
              0.7777777777777778,
              "#fb9f3a"
             ],
             [
              0.8888888888888888,
              "#fdca26"
             ],
             [
              1,
              "#f0f921"
             ]
            ],
            "type": "histogram2dcontour"
           }
          ],
          "mesh3d": [
           {
            "colorbar": {
             "outlinewidth": 0,
             "ticks": ""
            },
            "type": "mesh3d"
           }
          ],
          "parcoords": [
           {
            "line": {
             "colorbar": {
              "outlinewidth": 0,
              "ticks": ""
             }
            },
            "type": "parcoords"
           }
          ],
          "pie": [
           {
            "automargin": true,
            "type": "pie"
           }
          ],
          "scatter": [
           {
            "fillpattern": {
             "fillmode": "overlay",
             "size": 10,
             "solidity": 0.2
            },
            "type": "scatter"
           }
          ],
          "scatter3d": [
           {
            "line": {
             "colorbar": {
              "outlinewidth": 0,
              "ticks": ""
             }
            },
            "marker": {
             "colorbar": {
              "outlinewidth": 0,
              "ticks": ""
             }
            },
            "type": "scatter3d"
           }
          ],
          "scattercarpet": [
           {
            "marker": {
             "colorbar": {
              "outlinewidth": 0,
              "ticks": ""
             }
            },
            "type": "scattercarpet"
           }
          ],
          "scattergeo": [
           {
            "marker": {
             "colorbar": {
              "outlinewidth": 0,
              "ticks": ""
             }
            },
            "type": "scattergeo"
           }
          ],
          "scattergl": [
           {
            "marker": {
             "colorbar": {
              "outlinewidth": 0,
              "ticks": ""
             }
            },
            "type": "scattergl"
           }
          ],
          "scattermapbox": [
           {
            "marker": {
             "colorbar": {
              "outlinewidth": 0,
              "ticks": ""
             }
            },
            "type": "scattermapbox"
           }
          ],
          "scatterpolar": [
           {
            "marker": {
             "colorbar": {
              "outlinewidth": 0,
              "ticks": ""
             }
            },
            "type": "scatterpolar"
           }
          ],
          "scatterpolargl": [
           {
            "marker": {
             "colorbar": {
              "outlinewidth": 0,
              "ticks": ""
             }
            },
            "type": "scatterpolargl"
           }
          ],
          "scatterternary": [
           {
            "marker": {
             "colorbar": {
              "outlinewidth": 0,
              "ticks": ""
             }
            },
            "type": "scatterternary"
           }
          ],
          "surface": [
           {
            "colorbar": {
             "outlinewidth": 0,
             "ticks": ""
            },
            "colorscale": [
             [
              0,
              "#0d0887"
             ],
             [
              0.1111111111111111,
              "#46039f"
             ],
             [
              0.2222222222222222,
              "#7201a8"
             ],
             [
              0.3333333333333333,
              "#9c179e"
             ],
             [
              0.4444444444444444,
              "#bd3786"
             ],
             [
              0.5555555555555556,
              "#d8576b"
             ],
             [
              0.6666666666666666,
              "#ed7953"
             ],
             [
              0.7777777777777778,
              "#fb9f3a"
             ],
             [
              0.8888888888888888,
              "#fdca26"
             ],
             [
              1,
              "#f0f921"
             ]
            ],
            "type": "surface"
           }
          ],
          "table": [
           {
            "cells": {
             "fill": {
              "color": "#EBF0F8"
             },
             "line": {
              "color": "white"
             }
            },
            "header": {
             "fill": {
              "color": "#C8D4E3"
             },
             "line": {
              "color": "white"
             }
            },
            "type": "table"
           }
          ]
         },
         "layout": {
          "annotationdefaults": {
           "arrowcolor": "#2a3f5f",
           "arrowhead": 0,
           "arrowwidth": 1
          },
          "autotypenumbers": "strict",
          "coloraxis": {
           "colorbar": {
            "outlinewidth": 0,
            "ticks": ""
           }
          },
          "colorscale": {
           "diverging": [
            [
             0,
             "#8e0152"
            ],
            [
             0.1,
             "#c51b7d"
            ],
            [
             0.2,
             "#de77ae"
            ],
            [
             0.3,
             "#f1b6da"
            ],
            [
             0.4,
             "#fde0ef"
            ],
            [
             0.5,
             "#f7f7f7"
            ],
            [
             0.6,
             "#e6f5d0"
            ],
            [
             0.7,
             "#b8e186"
            ],
            [
             0.8,
             "#7fbc41"
            ],
            [
             0.9,
             "#4d9221"
            ],
            [
             1,
             "#276419"
            ]
           ],
           "sequential": [
            [
             0,
             "#0d0887"
            ],
            [
             0.1111111111111111,
             "#46039f"
            ],
            [
             0.2222222222222222,
             "#7201a8"
            ],
            [
             0.3333333333333333,
             "#9c179e"
            ],
            [
             0.4444444444444444,
             "#bd3786"
            ],
            [
             0.5555555555555556,
             "#d8576b"
            ],
            [
             0.6666666666666666,
             "#ed7953"
            ],
            [
             0.7777777777777778,
             "#fb9f3a"
            ],
            [
             0.8888888888888888,
             "#fdca26"
            ],
            [
             1,
             "#f0f921"
            ]
           ],
           "sequentialminus": [
            [
             0,
             "#0d0887"
            ],
            [
             0.1111111111111111,
             "#46039f"
            ],
            [
             0.2222222222222222,
             "#7201a8"
            ],
            [
             0.3333333333333333,
             "#9c179e"
            ],
            [
             0.4444444444444444,
             "#bd3786"
            ],
            [
             0.5555555555555556,
             "#d8576b"
            ],
            [
             0.6666666666666666,
             "#ed7953"
            ],
            [
             0.7777777777777778,
             "#fb9f3a"
            ],
            [
             0.8888888888888888,
             "#fdca26"
            ],
            [
             1,
             "#f0f921"
            ]
           ]
          },
          "colorway": [
           "#636efa",
           "#EF553B",
           "#00cc96",
           "#ab63fa",
           "#FFA15A",
           "#19d3f3",
           "#FF6692",
           "#B6E880",
           "#FF97FF",
           "#FECB52"
          ],
          "font": {
           "color": "#2a3f5f"
          },
          "geo": {
           "bgcolor": "white",
           "lakecolor": "white",
           "landcolor": "#E5ECF6",
           "showlakes": true,
           "showland": true,
           "subunitcolor": "white"
          },
          "hoverlabel": {
           "align": "left"
          },
          "hovermode": "closest",
          "mapbox": {
           "style": "light"
          },
          "paper_bgcolor": "white",
          "plot_bgcolor": "#E5ECF6",
          "polar": {
           "angularaxis": {
            "gridcolor": "white",
            "linecolor": "white",
            "ticks": ""
           },
           "bgcolor": "#E5ECF6",
           "radialaxis": {
            "gridcolor": "white",
            "linecolor": "white",
            "ticks": ""
           }
          },
          "scene": {
           "xaxis": {
            "backgroundcolor": "#E5ECF6",
            "gridcolor": "white",
            "gridwidth": 2,
            "linecolor": "white",
            "showbackground": true,
            "ticks": "",
            "zerolinecolor": "white"
           },
           "yaxis": {
            "backgroundcolor": "#E5ECF6",
            "gridcolor": "white",
            "gridwidth": 2,
            "linecolor": "white",
            "showbackground": true,
            "ticks": "",
            "zerolinecolor": "white"
           },
           "zaxis": {
            "backgroundcolor": "#E5ECF6",
            "gridcolor": "white",
            "gridwidth": 2,
            "linecolor": "white",
            "showbackground": true,
            "ticks": "",
            "zerolinecolor": "white"
           }
          },
          "shapedefaults": {
           "line": {
            "color": "#2a3f5f"
           }
          },
          "ternary": {
           "aaxis": {
            "gridcolor": "white",
            "linecolor": "white",
            "ticks": ""
           },
           "baxis": {
            "gridcolor": "white",
            "linecolor": "white",
            "ticks": ""
           },
           "bgcolor": "#E5ECF6",
           "caxis": {
            "gridcolor": "white",
            "linecolor": "white",
            "ticks": ""
           }
          },
          "title": {
           "x": 0.05
          },
          "xaxis": {
           "automargin": true,
           "gridcolor": "white",
           "linecolor": "white",
           "ticks": "",
           "title": {
            "standoff": 15
           },
           "zerolinecolor": "white",
           "zerolinewidth": 2
          },
          "yaxis": {
           "automargin": true,
           "gridcolor": "white",
           "linecolor": "white",
           "ticks": "",
           "title": {
            "standoff": 15
           },
           "zerolinecolor": "white",
           "zerolinewidth": 2
          }
         }
        },
        "title": {
         "text": "Representative countries from each cluster"
        },
        "width": 1000,
        "xaxis": {
         "anchor": "y",
         "domain": [
          0,
          1
         ],
         "title": {
          "text": "gdpPercap"
         },
         "type": "log"
        },
        "yaxis": {
         "anchor": "x",
         "domain": [
          0,
          1
         ],
         "title": {
          "text": "lifeExp"
         }
        }
       }
      }
     },
     "metadata": {},
     "output_type": "display_data"
    }
   ],
   "source": [
    "tmp = df.query(\"iso_alpha in ['ETH', 'SEN', 'THA', 'JAM',  'ESP', 'CAN']\")\n",
    "\n",
    "fig = px.line(tmp, x=\"gdpPercap\", y=\"lifeExp\", color=\"country\",  log_x=True, width=800, height=400)\n",
    "\n",
    "fig.update_traces(textposition=\"bottom right\")\n",
    "\n",
    "fig.update_layout(height=600, width=1000, title_text=\"Representative countries from each cluster\")\n",
    "\n",
    "fig.show()"
   ]
  },
  {
   "cell_type": "markdown",
   "metadata": {},
   "source": [
    "### Calculate Cluster Centroids "
   ]
  },
  {
   "cell_type": "markdown",
   "metadata": {},
   "source": [
    "We need to add cluster information to calculate the average GDP per capita and life expectancy "
   ]
  },
  {
   "cell_type": "code",
   "execution_count": 137,
   "metadata": {},
   "outputs": [
    {
     "data": {
      "text/html": [
       "<div>\n",
       "<style scoped>\n",
       "    .dataframe tbody tr th:only-of-type {\n",
       "        vertical-align: middle;\n",
       "    }\n",
       "\n",
       "    .dataframe tbody tr th {\n",
       "        vertical-align: top;\n",
       "    }\n",
       "\n",
       "    .dataframe thead th {\n",
       "        text-align: right;\n",
       "    }\n",
       "</style>\n",
       "<table border=\"1\" class=\"dataframe\">\n",
       "  <thead>\n",
       "    <tr style=\"text-align: right;\">\n",
       "      <th></th>\n",
       "      <th>country</th>\n",
       "      <th>continent</th>\n",
       "      <th>year</th>\n",
       "      <th>lifeExp</th>\n",
       "      <th>pop</th>\n",
       "      <th>gdpPercap</th>\n",
       "      <th>iso_alpha</th>\n",
       "      <th>iso_num</th>\n",
       "      <th>subcontinent</th>\n",
       "    </tr>\n",
       "  </thead>\n",
       "  <tbody>\n",
       "    <tr>\n",
       "      <th>0</th>\n",
       "      <td>Afghanistan</td>\n",
       "      <td>Asia</td>\n",
       "      <td>1952</td>\n",
       "      <td>28.801</td>\n",
       "      <td>8425333</td>\n",
       "      <td>779.445314</td>\n",
       "      <td>AFG</td>\n",
       "      <td>4</td>\n",
       "      <td>Southern Asia</td>\n",
       "    </tr>\n",
       "    <tr>\n",
       "      <th>1</th>\n",
       "      <td>Afghanistan</td>\n",
       "      <td>Asia</td>\n",
       "      <td>1957</td>\n",
       "      <td>30.332</td>\n",
       "      <td>9240934</td>\n",
       "      <td>820.853030</td>\n",
       "      <td>AFG</td>\n",
       "      <td>4</td>\n",
       "      <td>Southern Asia</td>\n",
       "    </tr>\n",
       "    <tr>\n",
       "      <th>2</th>\n",
       "      <td>Afghanistan</td>\n",
       "      <td>Asia</td>\n",
       "      <td>1962</td>\n",
       "      <td>31.997</td>\n",
       "      <td>10267083</td>\n",
       "      <td>853.100710</td>\n",
       "      <td>AFG</td>\n",
       "      <td>4</td>\n",
       "      <td>Southern Asia</td>\n",
       "    </tr>\n",
       "    <tr>\n",
       "      <th>3</th>\n",
       "      <td>Afghanistan</td>\n",
       "      <td>Asia</td>\n",
       "      <td>1967</td>\n",
       "      <td>34.020</td>\n",
       "      <td>11537966</td>\n",
       "      <td>836.197138</td>\n",
       "      <td>AFG</td>\n",
       "      <td>4</td>\n",
       "      <td>Southern Asia</td>\n",
       "    </tr>\n",
       "    <tr>\n",
       "      <th>4</th>\n",
       "      <td>Afghanistan</td>\n",
       "      <td>Asia</td>\n",
       "      <td>1972</td>\n",
       "      <td>36.088</td>\n",
       "      <td>13079460</td>\n",
       "      <td>739.981106</td>\n",
       "      <td>AFG</td>\n",
       "      <td>4</td>\n",
       "      <td>Southern Asia</td>\n",
       "    </tr>\n",
       "  </tbody>\n",
       "</table>\n",
       "</div>"
      ],
      "text/plain": [
       "       country continent  year  lifeExp       pop   gdpPercap iso_alpha  \\\n",
       "0  Afghanistan      Asia  1952   28.801   8425333  779.445314       AFG   \n",
       "1  Afghanistan      Asia  1957   30.332   9240934  820.853030       AFG   \n",
       "2  Afghanistan      Asia  1962   31.997  10267083  853.100710       AFG   \n",
       "3  Afghanistan      Asia  1967   34.020  11537966  836.197138       AFG   \n",
       "4  Afghanistan      Asia  1972   36.088  13079460  739.981106       AFG   \n",
       "\n",
       "   iso_num   subcontinent  \n",
       "0        4  Southern Asia  \n",
       "1        4  Southern Asia  \n",
       "2        4  Southern Asia  \n",
       "3        4  Southern Asia  \n",
       "4        4  Southern Asia  "
      ]
     },
     "execution_count": 137,
     "metadata": {},
     "output_type": "execute_result"
    }
   ],
   "source": [
    "df.head()"
   ]
  },
  {
   "cell_type": "code",
   "execution_count": 138,
   "metadata": {},
   "outputs": [
    {
     "data": {
      "text/plain": [
       "Index(['country', 'MDS_x', 'MDS_y', 'iso_alpha', 'continent', 'subcontinent',\n",
       "       'Images File Name', 'ImageURL', 'scluster6', 'kmeans6'],\n",
       "      dtype='object')"
      ]
     },
     "execution_count": 138,
     "metadata": {},
     "output_type": "execute_result"
    }
   ],
   "source": [
    "HDmap.columns"
   ]
  },
  {
   "cell_type": "code",
   "execution_count": 139,
   "metadata": {},
   "outputs": [],
   "source": [
    "df3 = df.merge(HDmap[['country', 'scluster6', 'kmeans6']], on=\"country\")"
   ]
  },
  {
   "cell_type": "code",
   "execution_count": 140,
   "metadata": {},
   "outputs": [
    {
     "data": {
      "text/html": [
       "<div>\n",
       "<style scoped>\n",
       "    .dataframe tbody tr th:only-of-type {\n",
       "        vertical-align: middle;\n",
       "    }\n",
       "\n",
       "    .dataframe tbody tr th {\n",
       "        vertical-align: top;\n",
       "    }\n",
       "\n",
       "    .dataframe thead th {\n",
       "        text-align: right;\n",
       "    }\n",
       "</style>\n",
       "<table border=\"1\" class=\"dataframe\">\n",
       "  <thead>\n",
       "    <tr style=\"text-align: right;\">\n",
       "      <th></th>\n",
       "      <th>country</th>\n",
       "      <th>continent</th>\n",
       "      <th>year</th>\n",
       "      <th>lifeExp</th>\n",
       "      <th>pop</th>\n",
       "      <th>gdpPercap</th>\n",
       "      <th>iso_alpha</th>\n",
       "      <th>iso_num</th>\n",
       "      <th>subcontinent</th>\n",
       "      <th>scluster6</th>\n",
       "      <th>kmeans6</th>\n",
       "    </tr>\n",
       "  </thead>\n",
       "  <tbody>\n",
       "    <tr>\n",
       "      <th>0</th>\n",
       "      <td>Afghanistan</td>\n",
       "      <td>Asia</td>\n",
       "      <td>1952</td>\n",
       "      <td>28.801</td>\n",
       "      <td>8425333</td>\n",
       "      <td>779.445314</td>\n",
       "      <td>AFG</td>\n",
       "      <td>4</td>\n",
       "      <td>Southern Asia</td>\n",
       "      <td>5</td>\n",
       "      <td>2</td>\n",
       "    </tr>\n",
       "    <tr>\n",
       "      <th>1</th>\n",
       "      <td>Afghanistan</td>\n",
       "      <td>Asia</td>\n",
       "      <td>1957</td>\n",
       "      <td>30.332</td>\n",
       "      <td>9240934</td>\n",
       "      <td>820.853030</td>\n",
       "      <td>AFG</td>\n",
       "      <td>4</td>\n",
       "      <td>Southern Asia</td>\n",
       "      <td>5</td>\n",
       "      <td>2</td>\n",
       "    </tr>\n",
       "    <tr>\n",
       "      <th>2</th>\n",
       "      <td>Afghanistan</td>\n",
       "      <td>Asia</td>\n",
       "      <td>1962</td>\n",
       "      <td>31.997</td>\n",
       "      <td>10267083</td>\n",
       "      <td>853.100710</td>\n",
       "      <td>AFG</td>\n",
       "      <td>4</td>\n",
       "      <td>Southern Asia</td>\n",
       "      <td>5</td>\n",
       "      <td>2</td>\n",
       "    </tr>\n",
       "    <tr>\n",
       "      <th>3</th>\n",
       "      <td>Afghanistan</td>\n",
       "      <td>Asia</td>\n",
       "      <td>1967</td>\n",
       "      <td>34.020</td>\n",
       "      <td>11537966</td>\n",
       "      <td>836.197138</td>\n",
       "      <td>AFG</td>\n",
       "      <td>4</td>\n",
       "      <td>Southern Asia</td>\n",
       "      <td>5</td>\n",
       "      <td>2</td>\n",
       "    </tr>\n",
       "    <tr>\n",
       "      <th>4</th>\n",
       "      <td>Afghanistan</td>\n",
       "      <td>Asia</td>\n",
       "      <td>1972</td>\n",
       "      <td>36.088</td>\n",
       "      <td>13079460</td>\n",
       "      <td>739.981106</td>\n",
       "      <td>AFG</td>\n",
       "      <td>4</td>\n",
       "      <td>Southern Asia</td>\n",
       "      <td>5</td>\n",
       "      <td>2</td>\n",
       "    </tr>\n",
       "  </tbody>\n",
       "</table>\n",
       "</div>"
      ],
      "text/plain": [
       "       country continent  year  lifeExp       pop   gdpPercap iso_alpha  \\\n",
       "0  Afghanistan      Asia  1952   28.801   8425333  779.445314       AFG   \n",
       "1  Afghanistan      Asia  1957   30.332   9240934  820.853030       AFG   \n",
       "2  Afghanistan      Asia  1962   31.997  10267083  853.100710       AFG   \n",
       "3  Afghanistan      Asia  1967   34.020  11537966  836.197138       AFG   \n",
       "4  Afghanistan      Asia  1972   36.088  13079460  739.981106       AFG   \n",
       "\n",
       "   iso_num   subcontinent scluster6  kmeans6  \n",
       "0        4  Southern Asia         5        2  \n",
       "1        4  Southern Asia         5        2  \n",
       "2        4  Southern Asia         5        2  \n",
       "3        4  Southern Asia         5        2  \n",
       "4        4  Southern Asia         5        2  "
      ]
     },
     "execution_count": 140,
     "metadata": {},
     "output_type": "execute_result"
    }
   ],
   "source": [
    "df3.head()"
   ]
  },
  {
   "cell_type": "markdown",
   "metadata": {},
   "source": [
    "Calculate the average life expectancy and GDP per capita per year"
   ]
  },
  {
   "cell_type": "code",
   "execution_count": 141,
   "metadata": {},
   "outputs": [],
   "source": [
    "cluster_centroids = df3[['year', 'scluster6', 'lifeExp',\n",
    "                         'gdpPercap']].groupby(['scluster6', 'year']).mean().reset_index()"
   ]
  },
  {
   "cell_type": "code",
   "execution_count": 142,
   "metadata": {},
   "outputs": [
    {
     "data": {
      "text/html": [
       "<div>\n",
       "<style scoped>\n",
       "    .dataframe tbody tr th:only-of-type {\n",
       "        vertical-align: middle;\n",
       "    }\n",
       "\n",
       "    .dataframe tbody tr th {\n",
       "        vertical-align: top;\n",
       "    }\n",
       "\n",
       "    .dataframe thead th {\n",
       "        text-align: right;\n",
       "    }\n",
       "</style>\n",
       "<table border=\"1\" class=\"dataframe\">\n",
       "  <thead>\n",
       "    <tr style=\"text-align: right;\">\n",
       "      <th></th>\n",
       "      <th>scluster6</th>\n",
       "      <th>year</th>\n",
       "      <th>lifeExp</th>\n",
       "      <th>gdpPercap</th>\n",
       "    </tr>\n",
       "  </thead>\n",
       "  <tbody>\n",
       "    <tr>\n",
       "      <th>0</th>\n",
       "      <td>0</td>\n",
       "      <td>1952</td>\n",
       "      <td>40.502594</td>\n",
       "      <td>1422.501842</td>\n",
       "    </tr>\n",
       "    <tr>\n",
       "      <th>1</th>\n",
       "      <td>0</td>\n",
       "      <td>1957</td>\n",
       "      <td>42.894125</td>\n",
       "      <td>1611.693209</td>\n",
       "    </tr>\n",
       "    <tr>\n",
       "      <th>2</th>\n",
       "      <td>0</td>\n",
       "      <td>1962</td>\n",
       "      <td>45.228812</td>\n",
       "      <td>1935.797979</td>\n",
       "    </tr>\n",
       "    <tr>\n",
       "      <th>3</th>\n",
       "      <td>0</td>\n",
       "      <td>1967</td>\n",
       "      <td>47.632219</td>\n",
       "      <td>2515.243130</td>\n",
       "    </tr>\n",
       "    <tr>\n",
       "      <th>4</th>\n",
       "      <td>0</td>\n",
       "      <td>1972</td>\n",
       "      <td>49.779000</td>\n",
       "      <td>2855.862159</td>\n",
       "    </tr>\n",
       "  </tbody>\n",
       "</table>\n",
       "</div>"
      ],
      "text/plain": [
       "  scluster6  year    lifeExp    gdpPercap\n",
       "0         0  1952  40.502594  1422.501842\n",
       "1         0  1957  42.894125  1611.693209\n",
       "2         0  1962  45.228812  1935.797979\n",
       "3         0  1967  47.632219  2515.243130\n",
       "4         0  1972  49.779000  2855.862159"
      ]
     },
     "execution_count": 142,
     "metadata": {},
     "output_type": "execute_result"
    }
   ],
   "source": [
    "cluster_centroids.head()"
   ]
  },
  {
   "cell_type": "code",
   "execution_count": 143,
   "metadata": {},
   "outputs": [
    {
     "data": {
      "application/vnd.plotly.v1+json": {
       "config": {
        "plotlyServerURL": "https://plot.ly"
       },
       "data": [
        {
         "hovertemplate": "scluster6=0<br>gdpPercap=%{x}<br>lifeExp=%{y}<extra></extra>",
         "legendgroup": "0",
         "line": {
          "color": "#636efa",
          "dash": "solid"
         },
         "marker": {
          "symbol": "circle"
         },
         "mode": "lines",
         "name": "0",
         "orientation": "v",
         "showlegend": true,
         "textposition": "bottom right",
         "type": "scatter",
         "x": [
          1422.501841925,
          1611.69320946875,
          1935.7979789,
          2515.24313030625,
          2855.862158621875,
          3454.10770193125,
          3218.15072525625,
          2862.81432505625,
          2607.3318315625,
          2729.30265985625,
          2870.478687865625,
          3352.9132408781247
         ],
         "xaxis": "x",
         "y": [
          40.50259375,
          42.894125,
          45.2288125,
          47.63221875,
          49.778999999999996,
          52.124875,
          55.2874375,
          57.61228125,
          59.13134375,
          59.2773125,
          58.657,
          60.281875
         ],
         "yaxis": "y"
        },
        {
         "hovertemplate": "scluster6=1<br>gdpPercap=%{x}<br>lifeExp=%{y}<extra></extra>",
         "legendgroup": "1",
         "line": {
          "color": "#EF553B",
          "dash": "solid"
         },
         "marker": {
          "symbol": "circle"
         },
         "mode": "lines",
         "name": "1",
         "orientation": "v",
         "showlegend": true,
         "textposition": "bottom right",
         "type": "scatter",
         "x": [
          2008.4436756280002,
          2229.073810108,
          2479.241567172,
          2902.0373182559997,
          3653.020128684,
          4401.114345316,
          4491.57028026,
          4747.0988593600005,
          4898.69386616,
          5577.3878524,
          5838.437841319999,
          6996.36961796
         ],
         "xaxis": "x",
         "y": [
          46.97608,
          50.231838399999994,
          52.7262944,
          55.737764799999994,
          58.5303952,
          60.9157344,
          63.366279999999996,
          65.88212,
          67.959,
          69.75,
          71.29188,
          72.57952
         ],
         "yaxis": "y"
        },
        {
         "hovertemplate": "scluster6=2<br>gdpPercap=%{x}<br>lifeExp=%{y}<extra></extra>",
         "legendgroup": "2",
         "line": {
          "color": "#00cc96",
          "dash": "solid"
         },
         "marker": {
          "symbol": "circle"
         },
         "mode": "lines",
         "name": "2",
         "orientation": "v",
         "showlegend": true,
         "textposition": "bottom right",
         "type": "scatter",
         "x": [
          4023.1503475,
          4943.111869166667,
          5371.788187111111,
          6373.223198777778,
          7529.524925499999,
          8614.519007166666,
          9035.957072777777,
          8969.797363500002,
          7846.573896722223,
          8532.521843,
          9093.906977388888,
          11816.469521444444
         ],
         "xaxis": "x",
         "y": [
          58.82855555555555,
          62.047666666666665,
          64.45533333333333,
          66.20561111111111,
          67.89038888888889,
          69.38816666666668,
          70.4506111111111,
          71.31288888888889,
          71.95505555555556,
          72.96988888888889,
          73.8895,
          74.76916666666666
         ],
         "yaxis": "y"
        },
        {
         "hovertemplate": "scluster6=3<br>gdpPercap=%{x}<br>lifeExp=%{y}<extra></extra>",
         "legendgroup": "3",
         "line": {
          "color": "#ab63fa",
          "dash": "solid"
         },
         "marker": {
          "symbol": "circle"
         },
         "mode": "lines",
         "name": "3",
         "orientation": "v",
         "showlegend": true,
         "textposition": "bottom right",
         "type": "scatter",
         "x": [
          9421.953680999999,
          11183.182713941176,
          12942.678988235293,
          15493.143089411764,
          18677.695755294117,
          21163.36969764706,
          22516.336345294116,
          24283.138244705882,
          25800.186834705884,
          28050.376012352943,
          30919.239399411763,
          34410.90552647059
         ],
         "xaxis": "x",
         "y": [
          66.762,
          68.03941176470589,
          69.13511764705882,
          70.09670588235294,
          71.01211764705882,
          72.58135294117648,
          73.95082352941176,
          75.02347058823528,
          76.28111764705882,
          77.33329411764706,
          78.40776470588236,
          79.41976470588236
         ],
         "yaxis": "y"
        },
        {
         "hovertemplate": "scluster6=4<br>gdpPercap=%{x}<br>lifeExp=%{y}<extra></extra>",
         "legendgroup": "4",
         "line": {
          "color": "#FFA15A",
          "dash": "solid"
         },
         "marker": {
          "symbol": "circle"
         },
         "mode": "lines",
         "name": "4",
         "orientation": "v",
         "showlegend": true,
         "textposition": "bottom right",
         "type": "scatter",
         "x": [
          4337.186083909091,
          5392.1383003636365,
          6871.108907272727,
          8681.056061272728,
          11836.378678636363,
          13620.145124545455,
          15618.331147272727,
          17499.533157272726,
          19157.22725181818,
          22381.567533636364,
          25669.081316363638,
          30204.183154545455
         ],
         "xaxis": "x",
         "y": [
          64.66145454545455,
          66.69354545454546,
          68.62163636363636,
          70.06327272727273,
          71.24372727272727,
          72.49318181818181,
          73.8439090909091,
          74.99090909090908,
          76.01681818181818,
          77.26709090909091,
          78.57772727272727,
          79.54527272727273
         ],
         "yaxis": "y"
        },
        {
         "hovertemplate": "scluster6=5<br>gdpPercap=%{x}<br>lifeExp=%{y}<extra></extra>",
         "legendgroup": "5",
         "line": {
          "color": "#19d3f3",
          "dash": "solid"
         },
         "marker": {
          "symbol": "circle"
         },
         "mode": "lines",
         "name": "5",
         "orientation": "v",
         "showlegend": true,
         "textposition": "bottom right",
         "type": "scatter",
         "x": [
          810.087570309091,
          882.6145657727272,
          960.9954595409091,
          1065.207511140909,
          1108.4780189863636,
          1017.3094168909091,
          954.7609559318182,
          893.1203431181817,
          888.247869631818,
          941.9199664818182,
          1231.2433689045454,
          1637.2062465181816
         ],
         "xaxis": "x",
         "y": [
          35.52222727272727,
          37.282636363636364,
          39.07813636363637,
          40.78927272727273,
          42.521499999999996,
          44.04177272727273,
          45.18568181818182,
          46.405772727272726,
          45.33418181818182,
          46.19527272727273,
          47.12236363636364,
          49.093954545454544
         ],
         "yaxis": "y"
        }
       ],
       "layout": {
        "height": 600,
        "legend": {
         "title": {
          "text": "scluster6"
         },
         "tracegroupgap": 0
        },
        "template": {
         "data": {
          "bar": [
           {
            "error_x": {
             "color": "#2a3f5f"
            },
            "error_y": {
             "color": "#2a3f5f"
            },
            "marker": {
             "line": {
              "color": "#E5ECF6",
              "width": 0.5
             },
             "pattern": {
              "fillmode": "overlay",
              "size": 10,
              "solidity": 0.2
             }
            },
            "type": "bar"
           }
          ],
          "barpolar": [
           {
            "marker": {
             "line": {
              "color": "#E5ECF6",
              "width": 0.5
             },
             "pattern": {
              "fillmode": "overlay",
              "size": 10,
              "solidity": 0.2
             }
            },
            "type": "barpolar"
           }
          ],
          "carpet": [
           {
            "aaxis": {
             "endlinecolor": "#2a3f5f",
             "gridcolor": "white",
             "linecolor": "white",
             "minorgridcolor": "white",
             "startlinecolor": "#2a3f5f"
            },
            "baxis": {
             "endlinecolor": "#2a3f5f",
             "gridcolor": "white",
             "linecolor": "white",
             "minorgridcolor": "white",
             "startlinecolor": "#2a3f5f"
            },
            "type": "carpet"
           }
          ],
          "choropleth": [
           {
            "colorbar": {
             "outlinewidth": 0,
             "ticks": ""
            },
            "type": "choropleth"
           }
          ],
          "contour": [
           {
            "colorbar": {
             "outlinewidth": 0,
             "ticks": ""
            },
            "colorscale": [
             [
              0,
              "#0d0887"
             ],
             [
              0.1111111111111111,
              "#46039f"
             ],
             [
              0.2222222222222222,
              "#7201a8"
             ],
             [
              0.3333333333333333,
              "#9c179e"
             ],
             [
              0.4444444444444444,
              "#bd3786"
             ],
             [
              0.5555555555555556,
              "#d8576b"
             ],
             [
              0.6666666666666666,
              "#ed7953"
             ],
             [
              0.7777777777777778,
              "#fb9f3a"
             ],
             [
              0.8888888888888888,
              "#fdca26"
             ],
             [
              1,
              "#f0f921"
             ]
            ],
            "type": "contour"
           }
          ],
          "contourcarpet": [
           {
            "colorbar": {
             "outlinewidth": 0,
             "ticks": ""
            },
            "type": "contourcarpet"
           }
          ],
          "heatmap": [
           {
            "colorbar": {
             "outlinewidth": 0,
             "ticks": ""
            },
            "colorscale": [
             [
              0,
              "#0d0887"
             ],
             [
              0.1111111111111111,
              "#46039f"
             ],
             [
              0.2222222222222222,
              "#7201a8"
             ],
             [
              0.3333333333333333,
              "#9c179e"
             ],
             [
              0.4444444444444444,
              "#bd3786"
             ],
             [
              0.5555555555555556,
              "#d8576b"
             ],
             [
              0.6666666666666666,
              "#ed7953"
             ],
             [
              0.7777777777777778,
              "#fb9f3a"
             ],
             [
              0.8888888888888888,
              "#fdca26"
             ],
             [
              1,
              "#f0f921"
             ]
            ],
            "type": "heatmap"
           }
          ],
          "heatmapgl": [
           {
            "colorbar": {
             "outlinewidth": 0,
             "ticks": ""
            },
            "colorscale": [
             [
              0,
              "#0d0887"
             ],
             [
              0.1111111111111111,
              "#46039f"
             ],
             [
              0.2222222222222222,
              "#7201a8"
             ],
             [
              0.3333333333333333,
              "#9c179e"
             ],
             [
              0.4444444444444444,
              "#bd3786"
             ],
             [
              0.5555555555555556,
              "#d8576b"
             ],
             [
              0.6666666666666666,
              "#ed7953"
             ],
             [
              0.7777777777777778,
              "#fb9f3a"
             ],
             [
              0.8888888888888888,
              "#fdca26"
             ],
             [
              1,
              "#f0f921"
             ]
            ],
            "type": "heatmapgl"
           }
          ],
          "histogram": [
           {
            "marker": {
             "pattern": {
              "fillmode": "overlay",
              "size": 10,
              "solidity": 0.2
             }
            },
            "type": "histogram"
           }
          ],
          "histogram2d": [
           {
            "colorbar": {
             "outlinewidth": 0,
             "ticks": ""
            },
            "colorscale": [
             [
              0,
              "#0d0887"
             ],
             [
              0.1111111111111111,
              "#46039f"
             ],
             [
              0.2222222222222222,
              "#7201a8"
             ],
             [
              0.3333333333333333,
              "#9c179e"
             ],
             [
              0.4444444444444444,
              "#bd3786"
             ],
             [
              0.5555555555555556,
              "#d8576b"
             ],
             [
              0.6666666666666666,
              "#ed7953"
             ],
             [
              0.7777777777777778,
              "#fb9f3a"
             ],
             [
              0.8888888888888888,
              "#fdca26"
             ],
             [
              1,
              "#f0f921"
             ]
            ],
            "type": "histogram2d"
           }
          ],
          "histogram2dcontour": [
           {
            "colorbar": {
             "outlinewidth": 0,
             "ticks": ""
            },
            "colorscale": [
             [
              0,
              "#0d0887"
             ],
             [
              0.1111111111111111,
              "#46039f"
             ],
             [
              0.2222222222222222,
              "#7201a8"
             ],
             [
              0.3333333333333333,
              "#9c179e"
             ],
             [
              0.4444444444444444,
              "#bd3786"
             ],
             [
              0.5555555555555556,
              "#d8576b"
             ],
             [
              0.6666666666666666,
              "#ed7953"
             ],
             [
              0.7777777777777778,
              "#fb9f3a"
             ],
             [
              0.8888888888888888,
              "#fdca26"
             ],
             [
              1,
              "#f0f921"
             ]
            ],
            "type": "histogram2dcontour"
           }
          ],
          "mesh3d": [
           {
            "colorbar": {
             "outlinewidth": 0,
             "ticks": ""
            },
            "type": "mesh3d"
           }
          ],
          "parcoords": [
           {
            "line": {
             "colorbar": {
              "outlinewidth": 0,
              "ticks": ""
             }
            },
            "type": "parcoords"
           }
          ],
          "pie": [
           {
            "automargin": true,
            "type": "pie"
           }
          ],
          "scatter": [
           {
            "fillpattern": {
             "fillmode": "overlay",
             "size": 10,
             "solidity": 0.2
            },
            "type": "scatter"
           }
          ],
          "scatter3d": [
           {
            "line": {
             "colorbar": {
              "outlinewidth": 0,
              "ticks": ""
             }
            },
            "marker": {
             "colorbar": {
              "outlinewidth": 0,
              "ticks": ""
             }
            },
            "type": "scatter3d"
           }
          ],
          "scattercarpet": [
           {
            "marker": {
             "colorbar": {
              "outlinewidth": 0,
              "ticks": ""
             }
            },
            "type": "scattercarpet"
           }
          ],
          "scattergeo": [
           {
            "marker": {
             "colorbar": {
              "outlinewidth": 0,
              "ticks": ""
             }
            },
            "type": "scattergeo"
           }
          ],
          "scattergl": [
           {
            "marker": {
             "colorbar": {
              "outlinewidth": 0,
              "ticks": ""
             }
            },
            "type": "scattergl"
           }
          ],
          "scattermapbox": [
           {
            "marker": {
             "colorbar": {
              "outlinewidth": 0,
              "ticks": ""
             }
            },
            "type": "scattermapbox"
           }
          ],
          "scatterpolar": [
           {
            "marker": {
             "colorbar": {
              "outlinewidth": 0,
              "ticks": ""
             }
            },
            "type": "scatterpolar"
           }
          ],
          "scatterpolargl": [
           {
            "marker": {
             "colorbar": {
              "outlinewidth": 0,
              "ticks": ""
             }
            },
            "type": "scatterpolargl"
           }
          ],
          "scatterternary": [
           {
            "marker": {
             "colorbar": {
              "outlinewidth": 0,
              "ticks": ""
             }
            },
            "type": "scatterternary"
           }
          ],
          "surface": [
           {
            "colorbar": {
             "outlinewidth": 0,
             "ticks": ""
            },
            "colorscale": [
             [
              0,
              "#0d0887"
             ],
             [
              0.1111111111111111,
              "#46039f"
             ],
             [
              0.2222222222222222,
              "#7201a8"
             ],
             [
              0.3333333333333333,
              "#9c179e"
             ],
             [
              0.4444444444444444,
              "#bd3786"
             ],
             [
              0.5555555555555556,
              "#d8576b"
             ],
             [
              0.6666666666666666,
              "#ed7953"
             ],
             [
              0.7777777777777778,
              "#fb9f3a"
             ],
             [
              0.8888888888888888,
              "#fdca26"
             ],
             [
              1,
              "#f0f921"
             ]
            ],
            "type": "surface"
           }
          ],
          "table": [
           {
            "cells": {
             "fill": {
              "color": "#EBF0F8"
             },
             "line": {
              "color": "white"
             }
            },
            "header": {
             "fill": {
              "color": "#C8D4E3"
             },
             "line": {
              "color": "white"
             }
            },
            "type": "table"
           }
          ]
         },
         "layout": {
          "annotationdefaults": {
           "arrowcolor": "#2a3f5f",
           "arrowhead": 0,
           "arrowwidth": 1
          },
          "autotypenumbers": "strict",
          "coloraxis": {
           "colorbar": {
            "outlinewidth": 0,
            "ticks": ""
           }
          },
          "colorscale": {
           "diverging": [
            [
             0,
             "#8e0152"
            ],
            [
             0.1,
             "#c51b7d"
            ],
            [
             0.2,
             "#de77ae"
            ],
            [
             0.3,
             "#f1b6da"
            ],
            [
             0.4,
             "#fde0ef"
            ],
            [
             0.5,
             "#f7f7f7"
            ],
            [
             0.6,
             "#e6f5d0"
            ],
            [
             0.7,
             "#b8e186"
            ],
            [
             0.8,
             "#7fbc41"
            ],
            [
             0.9,
             "#4d9221"
            ],
            [
             1,
             "#276419"
            ]
           ],
           "sequential": [
            [
             0,
             "#0d0887"
            ],
            [
             0.1111111111111111,
             "#46039f"
            ],
            [
             0.2222222222222222,
             "#7201a8"
            ],
            [
             0.3333333333333333,
             "#9c179e"
            ],
            [
             0.4444444444444444,
             "#bd3786"
            ],
            [
             0.5555555555555556,
             "#d8576b"
            ],
            [
             0.6666666666666666,
             "#ed7953"
            ],
            [
             0.7777777777777778,
             "#fb9f3a"
            ],
            [
             0.8888888888888888,
             "#fdca26"
            ],
            [
             1,
             "#f0f921"
            ]
           ],
           "sequentialminus": [
            [
             0,
             "#0d0887"
            ],
            [
             0.1111111111111111,
             "#46039f"
            ],
            [
             0.2222222222222222,
             "#7201a8"
            ],
            [
             0.3333333333333333,
             "#9c179e"
            ],
            [
             0.4444444444444444,
             "#bd3786"
            ],
            [
             0.5555555555555556,
             "#d8576b"
            ],
            [
             0.6666666666666666,
             "#ed7953"
            ],
            [
             0.7777777777777778,
             "#fb9f3a"
            ],
            [
             0.8888888888888888,
             "#fdca26"
            ],
            [
             1,
             "#f0f921"
            ]
           ]
          },
          "colorway": [
           "#636efa",
           "#EF553B",
           "#00cc96",
           "#ab63fa",
           "#FFA15A",
           "#19d3f3",
           "#FF6692",
           "#B6E880",
           "#FF97FF",
           "#FECB52"
          ],
          "font": {
           "color": "#2a3f5f"
          },
          "geo": {
           "bgcolor": "white",
           "lakecolor": "white",
           "landcolor": "#E5ECF6",
           "showlakes": true,
           "showland": true,
           "subunitcolor": "white"
          },
          "hoverlabel": {
           "align": "left"
          },
          "hovermode": "closest",
          "mapbox": {
           "style": "light"
          },
          "paper_bgcolor": "white",
          "plot_bgcolor": "#E5ECF6",
          "polar": {
           "angularaxis": {
            "gridcolor": "white",
            "linecolor": "white",
            "ticks": ""
           },
           "bgcolor": "#E5ECF6",
           "radialaxis": {
            "gridcolor": "white",
            "linecolor": "white",
            "ticks": ""
           }
          },
          "scene": {
           "xaxis": {
            "backgroundcolor": "#E5ECF6",
            "gridcolor": "white",
            "gridwidth": 2,
            "linecolor": "white",
            "showbackground": true,
            "ticks": "",
            "zerolinecolor": "white"
           },
           "yaxis": {
            "backgroundcolor": "#E5ECF6",
            "gridcolor": "white",
            "gridwidth": 2,
            "linecolor": "white",
            "showbackground": true,
            "ticks": "",
            "zerolinecolor": "white"
           },
           "zaxis": {
            "backgroundcolor": "#E5ECF6",
            "gridcolor": "white",
            "gridwidth": 2,
            "linecolor": "white",
            "showbackground": true,
            "ticks": "",
            "zerolinecolor": "white"
           }
          },
          "shapedefaults": {
           "line": {
            "color": "#2a3f5f"
           }
          },
          "ternary": {
           "aaxis": {
            "gridcolor": "white",
            "linecolor": "white",
            "ticks": ""
           },
           "baxis": {
            "gridcolor": "white",
            "linecolor": "white",
            "ticks": ""
           },
           "bgcolor": "#E5ECF6",
           "caxis": {
            "gridcolor": "white",
            "linecolor": "white",
            "ticks": ""
           }
          },
          "title": {
           "x": 0.05
          },
          "xaxis": {
           "automargin": true,
           "gridcolor": "white",
           "linecolor": "white",
           "ticks": "",
           "title": {
            "standoff": 15
           },
           "zerolinecolor": "white",
           "zerolinewidth": 2
          },
          "yaxis": {
           "automargin": true,
           "gridcolor": "white",
           "linecolor": "white",
           "ticks": "",
           "title": {
            "standoff": 15
           },
           "zerolinecolor": "white",
           "zerolinewidth": 2
          }
         }
        },
        "title": {
         "text": "Cluster Centroid Trajectories. Each line represents the average gpb per capita and life by year"
        },
        "width": 800,
        "xaxis": {
         "anchor": "y",
         "domain": [
          0,
          1
         ],
         "title": {
          "text": "gdpPercap"
         },
         "type": "log"
        },
        "yaxis": {
         "anchor": "x",
         "domain": [
          0,
          1
         ],
         "title": {
          "text": "lifeExp"
         }
        }
       }
      }
     },
     "metadata": {},
     "output_type": "display_data"
    }
   ],
   "source": [
    "\n",
    "fig = px.line(cluster_centroids, x=\"gdpPercap\", y=\"lifeExp\", color=\"scluster6\",  log_x=True, \n",
    "             title=\"Cluster Centroid Trajectories. Each line represents the average gpb per capita and life by year\",\n",
    "             width=800, height=600)\n",
    "\n",
    "fig.update_traces(textposition=\"bottom right\")\n",
    "\n",
    "fig.show()"
   ]
  }
 ],
 "metadata": {
  "kernelspec": {
   "display_name": "Python 3.9.13 ('pydata2022')",
   "language": "python",
   "name": "python3"
  },
  "language_info": {
   "codemirror_mode": {
    "name": "ipython",
    "version": 3
   },
   "file_extension": ".py",
   "mimetype": "text/x-python",
   "name": "python",
   "nbconvert_exporter": "python",
   "pygments_lexer": "ipython3",
   "version": "3.9.13"
  },
  "vscode": {
   "interpreter": {
    "hash": "3a54627159bcb7057256df6659274719a0729110bc0c6d32ac47f50e231c8307"
   }
  }
 },
 "nbformat": 4,
 "nbformat_minor": 4
}
